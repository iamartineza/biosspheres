{
 "cells": [
  {
   "cell_type": "markdown",
   "id": "5b8f3d82-22c4-4725-b770-3e7ddfcf7deb",
   "metadata": {},
   "source": [
    "# Stuying the harmonic expansions of functions"
   ]
  },
  {
   "cell_type": "markdown",
   "id": "bc956f1b-6941-458e-8a98-40b042c67d1c",
   "metadata": {},
   "source": [
    "## Preliminaries"
   ]
  },
  {
   "cell_type": "markdown",
   "id": "4c437ce0-d21a-4043-a301-cec275f7630d",
   "metadata": {},
   "source": [
    "### Spherical coordinate system"
   ]
  },
  {
   "cell_type": "markdown",
   "id": "167790fd-803d-4604-9e36-ee762fcefc93",
   "metadata": {},
   "source": [
    "A vector is written as $\\mathbf{r}=\\left(r,\\varphi,\\theta\\right)^t$, with $r \\in [0,\\infty)$, $\\varphi \\in [0,2\\pi)$ and $\\theta \\in [0,\\pi]$, which in Cartesian coordinates is equivalent to $\\mathbf{r}=r\\left(\\sin \\theta \\cos \\varphi,\\sin \\theta \\sin \\varphi,\\cos \\theta\\right)^t$. The unitary vectors of the spherical coordinate system can be written in Cartesian coordinates as\r\n",
    "$$\\begin{align*}\r\n",
    "    &\\widehat{\\mathbf{e}}_r= (\\sin \\theta \\cos \\varphi , \\sin \\theta \\sin \\varphi , \\cos \\theta )^t, \\\\\r\n",
    "    &\\widehat{\\mathbf{e}}_\\theta=(\\cos \\theta \\cos \\varphi , \\cos \\theta \\sin \\varphi , -\\sin \\theta  )^t, \\\\\r\n",
    "    &\\widehat{\\mathbf{e}}_{\\varphi}=(-\\sin \\varphi , \\cos \\varphi , 0 )^t.\r\n",
    "\\end{align*}$$\r\n",
    "\r\n",
    "Also, the gradient operator in spherical coordinates:\r\n",
    "$$\\begin{align*}\r\n",
    "    \\nabla f&=\\frac{\\partial f}{\\partial r} \\widehat{\\mathbf{e}}_r+\\frac{1}{r} \\frac{\\partial f}{\\partial \\theta} \\widehat{\\mathbf{e}}_\\theta+\\frac{1}{r \\sin \\theta} \\frac{\\partial f}{\\partial \\varphi} \\widehat{\\mathbf{e}}_{\\varphi}\r\n",
    "\\end{align*}$$"
   ]
  },
  {
   "cell_type": "markdown",
   "id": "5d541c13-eee4-4db9-b5e3-3874e2a5aa4f",
   "metadata": {},
   "source": [
    "### Real spherical harmonics"
   ]
  },
  {
   "cell_type": "markdown",
   "id": "fea7703e-394c-4f0f-b12e-42e1000e2f69",
   "metadata": {},
   "source": [
    "Real spherical harmonics of degree $l$ and order $m$ are defined using spherical coordinates:\r\n",
    "$$\\begin{align}\r\n",
    "\t\t Y_{l,m}\\left(\\theta,\\varphi\\right) &:= \\sqrt{ (2-\\delta_{m,0}) \\frac{\\left(2l+1\\right)\\left(l-m\\right)!}{4 \\pi \\left(l+m\\right)!}} P_l^{m} \\left(\\cos\\theta\\right) \\cos m \\varphi , \\mbox{ and}\\\\\r\n",
    "\t\tY_{l,-m}\\left(\\theta,\\varphi\\right) &:= \\sqrt{ (2-\\delta_{m,0})\\frac{\\left(2l+1\\right)\\left(l-m\\right)!}{4 \\pi \\left(l+m\\right)!}} P_l^{m} \\left(\\cos\\theta\\right) \\sin m \\varphi ,\r\n",
    "\\end{align}$$\r\n",
    "with $l\\in \\mathbb{N}_0$, $m\\in \\mathbb{Z}$ such that $0\\leq m\\leq l$. If $m=0$, then $\\delta_{m,0}=1$, and it is zero otherwise. $P_l^m$ are the associated Legendre functions of degree $l$ and  order $m$ defined as:\r\n",
    "$$P_{l}^m\\left(x\\right) := (-1)^m \\left( 1- x^2\\right)^{\\frac{m}{2}} \\frac{d^m}{dx^m}P_l(x), \\quad \\mbox{with} \\quad P_{l}\\left(x\\right) := \\frac{1}{2^ll!}\\frac{d^l}{dx^l}(x^2-1)^l.$$\r\n",
    "\r\n",
    "Here, the term $(-1)^m$ is the Condon-Shortley phase factor."
   ]
  },
  {
   "cell_type": "markdown",
   "id": "44fe00a3-dabd-4541-a444-b19fe15d3009",
   "metadata": {},
   "source": [
    "### Orthonormal basis"
   ]
  },
  {
   "cell_type": "markdown",
   "id": "622b4712-269e-4c5a-ba32-a0b883a9c196",
   "metadata": {},
   "source": [
    "Spherical harmonics are dense in $C(\\mathbb{S}^2)$, with $\\mathbb{S}^2$ the surface of the unit sphere, and form a complete orthonormal system in $L^2(\\mathbb{S}^2)$ with respect to the internal product defined by:\n",
    "$$\\left( \\psi , \\xi \\right)_{L^2(\\mathbb{S}^2)} = \\int_{0}^{2\\pi}\\int_{0}^{\\pi} \\psi\\left(\\theta,\\varphi\\right) \\xi\\left(\\theta,\\varphi\\right) \\sin\\left(\\theta\\right) d\\theta d\\varphi,$$\n",
    "They also are orthogonal in $H^1(\\mathbb{S}^2)$."
   ]
  },
  {
   "cell_type": "markdown",
   "id": "f27cb73e-bcb1-4ab9-b1d8-85e32cd4aaac",
   "metadata": {},
   "source": [
    "This means that any function in $L^2(\\mathbb{S}^2)$ can be written as:"
   ]
  },
  {
   "cell_type": "markdown",
   "id": "56a4cd4e-b6c8-47c7-a916-f76f7410aa99",
   "metadata": {},
   "source": [
    "$$f(\\theta,\\varphi) = \\sum_{l=0}^\\infty \\sum_{m=-l}^{m=l} f_{l,m} Y_{l,m}(\\theta, \\varphi)$$\n",
    "with $f_{l,m}\\in \\mathbb{R}$."
   ]
  },
  {
   "cell_type": "markdown",
   "id": "a7626973-7f76-4bbd-a311-a7b40284d6d5",
   "metadata": {},
   "source": [
    "### Comments about the code."
   ]
  },
  {
   "cell_type": "markdown",
   "id": "815b7cfe-f12f-44b5-bccd-ec06ba713146",
   "metadata": {},
   "source": [
    "The module `biosspheres.miscella.harmonicex` give us an approximation of the $f_{l,m}$ coefficients for some functions. Aditionally, the package SHTOOLS has a function to approximate $f_{l,m}$ given the values of the function in some points in the surface of the sphere, see [SHTOOLS - spherical harmonic transforms](https://shtools.github.io/SHTOOLS/python-spherical-harmonic-transforms.html)."
   ]
  },
  {
   "cell_type": "markdown",
   "id": "6d1e365f-ee2b-4431-89af-f69a048319d6",
   "metadata": {},
   "source": [
    "## Constant function"
   ]
  },
  {
   "cell_type": "markdown",
   "id": "b2976054-3549-488f-a3ae-35d392394d6e",
   "metadata": {},
   "source": [
    "A function of the form $f(\\mathbf{x}) = c$ has only the first $f_{l,m}$ different from zero."
   ]
  },
  {
   "cell_type": "markdown",
   "id": "0de385ee-29f8-453e-9d68-f7c71ddda275",
   "metadata": {},
   "source": [
    "The following is the known dirichlet expansion for $f(\\mathbf{x}) = $ `cte`:"
   ]
  },
  {
   "cell_type": "code",
   "execution_count": 1,
   "id": "98b14ae8-224f-4a7b-baf9-61b11ee4732e",
   "metadata": {},
   "outputs": [
    {
     "data": {
      "text/plain": [
       "array([17.72453851,  0.        ,  0.        ,  0.        ,  0.        ,\n",
       "        0.        ,  0.        ,  0.        ,  0.        ,  0.        ,\n",
       "        0.        ,  0.        ,  0.        ,  0.        ,  0.        ,\n",
       "        0.        ])"
      ]
     },
     "execution_count": 1,
     "metadata": {},
     "output_type": "execute_result"
    }
   ],
   "source": [
    "import numpy as np\n",
    "import biosspheres.miscella.harmonicex as harmonicex\n",
    "\n",
    "cte = 5.\n",
    "big_l = 3\n",
    "dirichlet_expansion = harmonicex.function_cte_dirichlet(big_l, cte, azimuthal=False)\n",
    "dirichlet_expansion"
   ]
  },
  {
   "cell_type": "markdown",
   "id": "edd186dc-0476-43ae-98df-f8c7dbd3e58c",
   "metadata": {},
   "source": [
    "The following is the approximated dirichlet expansion with the package SHTOOLS, from the values in the sphere."
   ]
  },
  {
   "cell_type": "code",
   "execution_count": 2,
   "id": "e832afef-758f-4b9b-ada1-2151a9e5f8e9",
   "metadata": {},
   "outputs": [
    {
     "data": {
      "text/plain": [
       "array([ 1.77245385e+01, -0.00000000e+00,  0.00000000e+00,  0.00000000e+00,\n",
       "       -0.00000000e+00, -0.00000000e+00,  1.06581410e-14,  0.00000000e+00,\n",
       "        5.80672801e-16, -0.00000000e+00, -0.00000000e+00, -0.00000000e+00,\n",
       "        0.00000000e+00,  0.00000000e+00,  0.00000000e+00, -2.76647309e-16])"
      ]
     },
     "execution_count": 2,
     "metadata": {},
     "output_type": "execute_result"
    }
   ],
   "source": [
    "import pyshtools\n",
    "import biosspheres.miscella.auxindexes as auxindexes\n",
    "import biosspheres.quadratures.sphere as quadratures\n",
    "\n",
    "max_l = big_l\n",
    "quantity_theta_points, quantity_phi_points, w, pre_vector = quadratures.gauss_legendre_trapezoidal_2d(max_l)\n",
    "grid_analytic = np.ones((quantity_theta_points, quantity_phi_points)) * cte\n",
    "coefficients = pyshtools.expand.SHExpandGLQ(grid_analytic, w, pre_vector[2, :, 0], norm=4, csphase=-1, lmax_calc=max_l)\n",
    "dirichlet_expansion_2 = np.empty_like(dirichlet_expansion)\n",
    "\n",
    "pesykus, p2_plus_p_plus_q, p2_plus_p_minus_q = auxindexes.pes_y_kus(max_l)\n",
    "eles = np.arange(0, max_l + 1)\n",
    "l_square_plus_l = eles * (eles + 1)\n",
    "\n",
    "dirichlet_expansion_2[p2_plus_p_plus_q] = coefficients[0, pesykus[:, 0], pesykus[:, 1]]\n",
    "dirichlet_expansion_2[p2_plus_p_minus_q] = coefficients[1, pesykus[:, 0], pesykus[:, 1]]\n",
    "dirichlet_expansion_2[l_square_plus_l] = coefficients[0, eles, 0]\n",
    "\n",
    "dirichlet_expansion_2"
   ]
  },
  {
   "cell_type": "markdown",
   "id": "bf639a6c-c6bd-4a6d-8ead-9da468295b7e",
   "metadata": {},
   "source": [
    "The difference between the results is"
   ]
  },
  {
   "cell_type": "code",
   "execution_count": 3,
   "id": "ccee7485-151f-4fd2-817e-579ca423a5bb",
   "metadata": {},
   "outputs": [
    {
     "data": {
      "text/plain": [
       "1.2825629922959107e-14"
      ]
     },
     "execution_count": 3,
     "metadata": {},
     "output_type": "execute_result"
    }
   ],
   "source": [
    "np.linalg.norm(dirichlet_expansion - dirichlet_expansion_2)"
   ]
  },
  {
   "cell_type": "markdown",
   "id": "39a7751a-1b1d-4a13-b949-fe6c0868e2d8",
   "metadata": {},
   "source": [
    "## Linear function"
   ]
  },
  {
   "cell_type": "markdown",
   "id": "65681b1f-1eae-4974-9a2b-166bb066c2ff",
   "metadata": {},
   "source": [
    "A function of the form $f(\\mathbf{x}) = \\mathbf{c} \\cdot \\mathbf{x} + c_3$ has only the two first degrees of coefficients $f_{l,m}$ different from zero."
   ]
  },
  {
   "cell_type": "markdown",
   "id": "0cb69226-54b1-461f-91fc-33ff00c4cd50",
   "metadata": {},
   "source": [
    "Example with\n",
    "$$f(\\mathbf{x}) = \\begin{pmatrix}0 \\\\ 0 \\\\ cte \\end{pmatrix} \\cdot \\mathbf{x}$$\n",
    "where the only coefficient different from zero is $f_{1,0}$"
   ]
  },
  {
   "cell_type": "markdown",
   "id": "0f0f46f7-91f1-4e79-8b1e-6c0ae2b6ce3d",
   "metadata": {},
   "source": [
    "The following is the approximated dirichlet expansion with the package SHTOOLS, from the values in a sphere of radius `r`."
   ]
  },
  {
   "cell_type": "code",
   "execution_count": 4,
   "id": "7c285e50-174b-4b51-8921-bd1023ddc2a2",
   "metadata": {},
   "outputs": [
    {
     "data": {
      "text/plain": [
       "array([ 0.00000000e+00, -0.00000000e+00,  1.33032472e+01,  0.00000000e+00,\n",
       "       -0.00000000e+00, -0.00000000e+00,  0.00000000e+00, -1.81613969e-16,\n",
       "        0.00000000e+00, -0.00000000e+00, -0.00000000e+00, -0.00000000e+00,\n",
       "        5.87474805e-15,  0.00000000e+00,  4.04347043e-16,  0.00000000e+00])"
      ]
     },
     "execution_count": 4,
     "metadata": {},
     "output_type": "execute_result"
    }
   ],
   "source": [
    "cte = 5.\n",
    "r = 1.3\n",
    "big_l = 3\n",
    "max_l = big_l\n",
    "quantity_theta_points, quantity_phi_points, w, pre_vector = quadratures.gauss_legendre_trapezoidal_2d(max_l)\n",
    "grid_analytic = pre_vector[2, :, :] * (cte * r)\n",
    "coefficients = pyshtools.expand.SHExpandGLQ(grid_analytic, w, pre_vector[2, :, 0], norm=4, csphase=-1, lmax_calc=max_l)\n",
    "dirichlet_expansion_2 = np.empty((big_l+1)**2)\n",
    "\n",
    "pesykus, p2_plus_p_plus_q, p2_plus_p_minus_q = auxindexes.pes_y_kus(max_l)\n",
    "eles = np.arange(0, max_l + 1)\n",
    "l_square_plus_l = eles * (eles + 1)\n",
    "\n",
    "dirichlet_expansion_2[p2_plus_p_plus_q] = coefficients[0, pesykus[:, 0], pesykus[:, 1]]\n",
    "dirichlet_expansion_2[p2_plus_p_minus_q] = coefficients[1, pesykus[:, 0], pesykus[:, 1]]\n",
    "dirichlet_expansion_2[l_square_plus_l] = coefficients[0, eles, 0]\n",
    "\n",
    "dirichlet_expansion_2"
   ]
  },
  {
   "cell_type": "markdown",
   "id": "879a90fe-f0be-43e3-977f-8935a8a3531d",
   "metadata": {},
   "source": [
    "## Point source"
   ]
  },
  {
   "cell_type": "code",
   "execution_count": 5,
   "id": "8c89a6bb-7658-469c-b1fe-fca7017bf707",
   "metadata": {},
   "outputs": [
    {
     "ename": "TypeError",
     "evalue": "only integer scalar arrays can be converted to a scalar index",
     "output_type": "error",
     "traceback": [
      "\u001b[1;31m---------------------------------------------------------------------------\u001b[0m",
      "\u001b[1;31mTypeError\u001b[0m                                 Traceback (most recent call last)",
      "Cell \u001b[1;32mIn[5], line 17\u001b[0m\n\u001b[0;32m     15\u001b[0m p_0 \u001b[38;5;241m=\u001b[39m np\u001b[38;5;241m.\u001b[39masarray([\u001b[38;5;241m0.\u001b[39m, \u001b[38;5;241m0.\u001b[39m, distances[counter]])\n\u001b[0;32m     16\u001b[0m l2_norm \u001b[38;5;241m=\u001b[39m np\u001b[38;5;241m.\u001b[39mzeros(max_eles[counter] \u001b[38;5;241m/\u001b[39m\u001b[38;5;241m/\u001b[39m \u001b[38;5;241m2\u001b[39m)\n\u001b[1;32m---> 17\u001b[0m final_length, total_weights, pre_vector \u001b[38;5;241m=\u001b[39m \u001b[43mquadratures\u001b[49m\u001b[38;5;241;43m.\u001b[39;49m\u001b[43m \u001b[49m\u001b[43m\\\u001b[49m\n\u001b[0;32m     18\u001b[0m \u001b[43m    \u001b[49m\u001b[43mgauss_legendre_trapezoidal_1d\u001b[49m\u001b[43m(\u001b[49m\u001b[43meles_c\u001b[49m\u001b[43m[\u001b[49m\u001b[43mcounter\u001b[49m\u001b[43m]\u001b[49m\u001b[43m)\u001b[49m\n\u001b[0;32m     19\u001b[0m grid_analytic \u001b[38;5;241m=\u001b[39m np\u001b[38;5;241m.\u001b[39mzeros(final_length)\n\u001b[0;32m     20\u001b[0m legendre_functions \u001b[38;5;241m=\u001b[39m np\u001b[38;5;241m.\u001b[39mzeros((num, final_length))\n",
      "File \u001b[1;32md:\\chabe\\documents\\funciones\\trabajos\\códigos\\python\\biosspheres\\biosspheres\\quadratures\\sphere.py:124\u001b[0m, in \u001b[0;36mgauss_legendre_trapezoidal_1d\u001b[1;34m(big_l_c)\u001b[0m\n\u001b[0;32m     82\u001b[0m \u001b[38;5;250m\u001b[39m\u001b[38;5;124;03m\"\"\"\u001b[39;00m\n\u001b[0;32m     83\u001b[0m \u001b[38;5;124;03mThis function is for obtaining the quadratures points to\u001b[39;00m\n\u001b[0;32m     84\u001b[0m \u001b[38;5;124;03mapproximate numerically the integral in a surface of a sphere.\u001b[39;00m\n\u001b[1;32m   (...)\u001b[0m\n\u001b[0;32m    121\u001b[0m \u001b[38;5;124;03m\u001b[39;00m\n\u001b[0;32m    122\u001b[0m \u001b[38;5;124;03m\"\"\"\u001b[39;00m\n\u001b[0;32m    123\u001b[0m zeros, weights \u001b[38;5;241m=\u001b[39m pyshtools\u001b[38;5;241m.\u001b[39mexpand\u001b[38;5;241m.\u001b[39mSHGLQ(big_l_c)\n\u001b[1;32m--> 124\u001b[0m phi \u001b[38;5;241m=\u001b[39m \u001b[43mnp\u001b[49m\u001b[38;5;241;43m.\u001b[39;49m\u001b[43mlinspace\u001b[49m\u001b[43m(\u001b[49m\u001b[38;5;241;43m0\u001b[39;49m\u001b[43m,\u001b[49m\u001b[43m \u001b[49m\u001b[38;5;241;43m2\u001b[39;49m\u001b[43m \u001b[49m\u001b[38;5;241;43m*\u001b[39;49m\u001b[43m \u001b[49m\u001b[43mnp\u001b[49m\u001b[38;5;241;43m.\u001b[39;49m\u001b[43mpi\u001b[49m\u001b[43m,\u001b[49m\n\u001b[0;32m    125\u001b[0m \u001b[43m                  \u001b[49m\u001b[43mnum\u001b[49m\u001b[38;5;241;43m=\u001b[39;49m\u001b[43m(\u001b[49m\u001b[38;5;241;43m2\u001b[39;49m\u001b[43m \u001b[49m\u001b[38;5;241;43m*\u001b[39;49m\u001b[43m \u001b[49m\u001b[43mbig_l_c\u001b[49m\u001b[43m \u001b[49m\u001b[38;5;241;43m+\u001b[39;49m\u001b[43m \u001b[49m\u001b[38;5;241;43m1\u001b[39;49m\u001b[43m)\u001b[49m\u001b[43m,\u001b[49m\n\u001b[0;32m    126\u001b[0m \u001b[43m                  \u001b[49m\u001b[43mendpoint\u001b[49m\u001b[38;5;241;43m=\u001b[39;49m\u001b[38;5;28;43;01mFalse\u001b[39;49;00m\n\u001b[0;32m    127\u001b[0m \u001b[43m                  \u001b[49m\u001b[43m)\u001b[49m\n\u001b[0;32m    129\u001b[0m quantity_theta_points \u001b[38;5;241m=\u001b[39m \u001b[38;5;28mlen\u001b[39m(zeros)\n\u001b[0;32m    130\u001b[0m quantity_phi_points \u001b[38;5;241m=\u001b[39m \u001b[38;5;28mlen\u001b[39m(phi)\n",
      "File \u001b[1;32m~\\anaconda3\\envs\\allbiosspheres\\lib\\site-packages\\numpy\\core\\function_base.py:122\u001b[0m, in \u001b[0;36mlinspace\u001b[1;34m(start, stop, num, endpoint, retstep, dtype, axis)\u001b[0m\n\u001b[0;32m     24\u001b[0m \u001b[38;5;129m@array_function_dispatch\u001b[39m(_linspace_dispatcher)\n\u001b[0;32m     25\u001b[0m \u001b[38;5;28;01mdef\u001b[39;00m \u001b[38;5;21mlinspace\u001b[39m(start, stop, num\u001b[38;5;241m=\u001b[39m\u001b[38;5;241m50\u001b[39m, endpoint\u001b[38;5;241m=\u001b[39m\u001b[38;5;28;01mTrue\u001b[39;00m, retstep\u001b[38;5;241m=\u001b[39m\u001b[38;5;28;01mFalse\u001b[39;00m, dtype\u001b[38;5;241m=\u001b[39m\u001b[38;5;28;01mNone\u001b[39;00m,\n\u001b[0;32m     26\u001b[0m              axis\u001b[38;5;241m=\u001b[39m\u001b[38;5;241m0\u001b[39m):\n\u001b[0;32m     27\u001b[0m \u001b[38;5;250m    \u001b[39m\u001b[38;5;124;03m\"\"\"\u001b[39;00m\n\u001b[0;32m     28\u001b[0m \u001b[38;5;124;03m    Return evenly spaced numbers over a specified interval.\u001b[39;00m\n\u001b[0;32m     29\u001b[0m \n\u001b[1;32m   (...)\u001b[0m\n\u001b[0;32m    120\u001b[0m \n\u001b[0;32m    121\u001b[0m \u001b[38;5;124;03m    \"\"\"\u001b[39;00m\n\u001b[1;32m--> 122\u001b[0m     num \u001b[38;5;241m=\u001b[39m \u001b[43moperator\u001b[49m\u001b[38;5;241;43m.\u001b[39;49m\u001b[43mindex\u001b[49m\u001b[43m(\u001b[49m\u001b[43mnum\u001b[49m\u001b[43m)\u001b[49m\n\u001b[0;32m    123\u001b[0m     \u001b[38;5;28;01mif\u001b[39;00m num \u001b[38;5;241m<\u001b[39m \u001b[38;5;241m0\u001b[39m:\n\u001b[0;32m    124\u001b[0m         \u001b[38;5;28;01mraise\u001b[39;00m \u001b[38;5;167;01mValueError\u001b[39;00m(\u001b[38;5;124m\"\u001b[39m\u001b[38;5;124mNumber of samples, \u001b[39m\u001b[38;5;132;01m%s\u001b[39;00m\u001b[38;5;124m, must be non-negative.\u001b[39m\u001b[38;5;124m\"\u001b[39m \u001b[38;5;241m%\u001b[39m num)\n",
      "\u001b[1;31mTypeError\u001b[0m: only integer scalar arrays can be converted to a scalar index"
     ]
    },
    {
     "data": {
      "image/png": "[encoded data removed]",
      "text/plain": [
       "<Figure size 640x480 with 1 Axes>"
      ]
     },
     "metadata": {},
     "output_type": "display_data"
    }
   ],
   "source": [
    "import matplotlib.pyplot as plt\n",
    "\n",
    "max_eles = np.asarray([20, 46, 80, 172], dtype=int),\n",
    "radius = 10.,\n",
    "sigma_e = 5.,\n",
    "intensity = 1.,\n",
    "distances = np.asarray([50., 20., 15, 12])\n",
    "\n",
    "eles_c = 2 * max_eles\n",
    "markers = ['p', '*', 'x', '.']\n",
    "plt.figure()\n",
    "plt.xlabel('$L$')\n",
    "for counter in np.arange(0, len(max_eles)):\n",
    "    num = max_eles[counter] + 1\n",
    "    p_0 = np.asarray([0., 0., distances[counter]])\n",
    "    l2_norm = np.zeros(max_eles[counter] // 2)\n",
    "    final_length, total_weights, pre_vector = quadratures. \\\n",
    "        gauss_legendre_trapezoidal_1d(eles_c[counter])\n",
    "    grid_analytic = np.zeros(final_length)\n",
    "    legendre_functions = np.zeros((num, final_length))\n",
    "    full_expansion = np.zeros((num, 1))\n",
    "    full_expansion[:, 0] = harmonicex. \\\n",
    "        point_source_coefficients_dirichlet_expansion_azimuthal_symmetry(\n",
    "        max_eles[counter], radius, distances[counter], sigma_e,\n",
    "        intensity)\n",
    "    for ii in np.arange(0, final_length):\n",
    "        grid_analytic[ii] = mathfunctions. \\\n",
    "            point_source(radius * pre_vector[:, ii], p_0, sigma_e)\n",
    "        legendre_functions[:, ii] = \\\n",
    "            pyshtools.legendre.PlON(max_eles[counter], pre_vector[2, ii])\n",
    "    for el in np.arange(0, max_eles[counter], 2):\n",
    "        grid_expansion = np.sum(\n",
    "            legendre_functions[0:el + 1, :] * full_expansion[0:el + 1],\n",
    "            axis=0)\n",
    "        l2_norm[el // 2 + np.mod(el, 2)] = np.sqrt(\n",
    "            np.sum((grid_analytic - grid_expansion)**2 * total_weights))\n",
    "    phi_norm = np.sqrt(np.sum(grid_analytic**2 * total_weights))\n",
    "    plt.semilogy(np.arange(0, max_eles[counter], 2), l2_norm / phi_norm,\n",
    "                 marker=markers[counter],\n",
    "                 label='$d =$ ' + str(distances[counter]))\n",
    "y_label = '$RE2(\\\\phi_{e_3},\\\\phi_{e_3}^L)_1$'\n",
    "plt.ylabel(y_label)\n",
    "plt.legend(edgecolor='white')\n",
    "plt.show()"
   ]
  },
  {
   "cell_type": "code",
   "execution_count": null,
   "id": "111d0707-889d-4b9c-89c1-4fbb920721d3",
   "metadata": {},
   "outputs": [],
   "source": []
  }
 ],
 "metadata": {
  "kernelspec": {
   "display_name": "Python 3 (ipykernel)",
   "language": "python",
   "name": "python3"
  },
  "language_info": {
   "codemirror_mode": {
    "name": "ipython",
    "version": 3
   },
   "file_extension": ".py",
   "mimetype": "text/x-python",
   "name": "python",
   "nbconvert_exporter": "python",
   "pygments_lexer": "ipython3",
   "version": "3.9.18"
  }
 },
 "nbformat": 4,
 "nbformat_minor": 5
}
