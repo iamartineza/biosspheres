{
 "cells": [
  {
   "cell_type": "markdown",
   "id": "5b8f3d82-22c4-4725-b770-3e7ddfcf7deb",
   "metadata": {},
   "source": [
    "# Stuying the harmonic expansions of functions"
   ]
  },
  {
   "cell_type": "markdown",
   "id": "bc956f1b-6941-458e-8a98-40b042c67d1c",
   "metadata": {},
   "source": [
    "## Preliminaries"
   ]
  },
  {
   "cell_type": "markdown",
   "id": "4c437ce0-d21a-4043-a301-cec275f7630d",
   "metadata": {},
   "source": [
    "### Spherical coordinate system"
   ]
  },
  {
   "cell_type": "markdown",
   "id": "167790fd-803d-4604-9e36-ee762fcefc93",
   "metadata": {},
   "source": [
    "A vector is written as $\\mathbf{r}=\\left(r,\\varphi,\\theta\\right)^t$, with $r \\in [0,\\infty)$, $\\varphi \\in [0,2\\pi)$ and $\\theta \\in [0,\\pi]$, which in Cartesian coordinates is equivalent to $\\mathbf{r}=r\\left(\\sin \\theta \\cos \\varphi,\\sin \\theta \\sin \\varphi,\\cos \\theta\\right)^t$. The unitary vectors of the spherical coordinate system can be written in Cartesian coordinates as\r\n",
    "$$\\begin{align*}\r\n",
    "    &\\widehat{\\mathbf{e}}_r= (\\sin \\theta \\cos \\varphi , \\sin \\theta \\sin \\varphi , \\cos \\theta )^t, \\\\\r\n",
    "    &\\widehat{\\mathbf{e}}_\\theta=(\\cos \\theta \\cos \\varphi , \\cos \\theta \\sin \\varphi , -\\sin \\theta  )^t, \\\\\r\n",
    "    &\\widehat{\\mathbf{e}}_{\\varphi}=(-\\sin \\varphi , \\cos \\varphi , 0 )^t.\r\n",
    "\\end{align*}$$\r\n",
    "\r\n",
    "Also, the gradient operator in spherical coordinates:\r\n",
    "$$\\begin{align*}\r\n",
    "    \\nabla f&=\\frac{\\partial f}{\\partial r} \\widehat{\\mathbf{e}}_r+\\frac{1}{r} \\frac{\\partial f}{\\partial \\theta} \\widehat{\\mathbf{e}}_\\theta+\\frac{1}{r \\sin \\theta} \\frac{\\partial f}{\\partial \\varphi} \\widehat{\\mathbf{e}}_{\\varphi}\r\n",
    "\\end{align*}$$"
   ]
  },
  {
   "cell_type": "markdown",
   "id": "5d541c13-eee4-4db9-b5e3-3874e2a5aa4f",
   "metadata": {},
   "source": [
    "### Real spherical harmonics"
   ]
  },
  {
   "cell_type": "markdown",
   "id": "fea7703e-394c-4f0f-b12e-42e1000e2f69",
   "metadata": {},
   "source": [
    "Real spherical harmonics of degree $l$ and order $m$ are defined using spherical coordinates:\r\n",
    "$$\\begin{align}\r\n",
    "\t\t Y_{l,m}\\left(\\theta,\\varphi\\right) &:= \\sqrt{ (2-\\delta_{m,0}) \\frac{\\left(2l+1\\right)\\left(l-m\\right)!}{4 \\pi \\left(l+m\\right)!}} P_l^{m} \\left(\\cos\\theta\\right) \\cos m \\varphi , \\mbox{ and}\\\\\r\n",
    "\t\tY_{l,-m}\\left(\\theta,\\varphi\\right) &:= \\sqrt{ (2-\\delta_{m,0})\\frac{\\left(2l+1\\right)\\left(l-m\\right)!}{4 \\pi \\left(l+m\\right)!}} P_l^{m} \\left(\\cos\\theta\\right) \\sin m \\varphi ,\r\n",
    "\\end{align}$$\r\n",
    "with $l\\in \\mathbb{N}_0$, $m\\in \\mathbb{Z}$ such that $0\\leq m\\leq l$. If $m=0$, then $\\delta_{m,0}=1$, and it is zero otherwise. $P_l^m$ are the associated Legendre functions of degree $l$ and  order $m$ defined as:\r\n",
    "$$P_{l}^m\\left(x\\right) := (-1)^m \\left( 1- x^2\\right)^{\\frac{m}{2}} \\frac{d^m}{dx^m}P_l(x), \\quad \\mbox{with} \\quad P_{l}\\left(x\\right) := \\frac{1}{2^ll!}\\frac{d^l}{dx^l}(x^2-1)^l.$$\r\n",
    "\r\n",
    "Here, the term $(-1)^m$ is the Condon-Shortley phase factor."
   ]
  },
  {
   "cell_type": "markdown",
   "id": "44fe00a3-dabd-4541-a444-b19fe15d3009",
   "metadata": {},
   "source": [
    "### Orthonormal basis"
   ]
  },
  {
   "cell_type": "markdown",
   "id": "622b4712-269e-4c5a-ba32-a0b883a9c196",
   "metadata": {},
   "source": [
    "Spherical harmonics are dense in $C(\\mathbb{S}^2)$, with $\\mathbb{S}^2$ the surface of the unit sphere, and form a complete orthonormal system in $L^2(\\mathbb{S}^2)$ with respect to the internal product defined by:\n",
    "$$\\left( \\psi , \\xi \\right)_{L^2(\\mathbb{S}^2)} = \\int_{0}^{2\\pi}\\int_{0}^{\\pi} \\psi\\left(\\theta,\\varphi\\right) \\xi\\left(\\theta,\\varphi\\right) \\sin\\left(\\theta\\right) d\\theta d\\varphi,$$\n",
    "They also are orthogonal in $H^1(\\mathbb{S}^2)$."
   ]
  },
  {
   "cell_type": "markdown",
   "id": "f27cb73e-bcb1-4ab9-b1d8-85e32cd4aaac",
   "metadata": {},
   "source": [
    "This means that any function in $L^2(\\mathbb{S}^2)$ can be written as:"
   ]
  },
  {
   "cell_type": "markdown",
   "id": "56a4cd4e-b6c8-47c7-a916-f76f7410aa99",
   "metadata": {},
   "source": [
    "$$f(\\theta,\\varphi) = \\sum_{l=0}^\\infty \\sum_{m=-l}^{m=l} f_{l,m} Y_{l,m}(\\theta, \\varphi)$$\n",
    "with $f_{l,m}\\in \\mathbb{R}$."
   ]
  },
  {
   "cell_type": "markdown",
   "id": "a7626973-7f76-4bbd-a311-a7b40284d6d5",
   "metadata": {},
   "source": [
    "### Comments about the code."
   ]
  },
  {
   "cell_type": "markdown",
   "id": "815b7cfe-f12f-44b5-bccd-ec06ba713146",
   "metadata": {},
   "source": [
    "The module `biosspheres.miscella.harmonicex` give us an approximation of the $f_{l,m}$ coefficients for some functions. Aditionally, the package SHTOOLS has a function to approximate $f_{l,m}$ given the values of the function in some points in the surface of the sphere, see [SHTOOLS - spherical harmonic transforms](https://shtools.github.io/SHTOOLS/python-spherical-harmonic-transforms.html)."
   ]
  },
  {
   "cell_type": "markdown",
   "id": "6d1e365f-ee2b-4431-89af-f69a048319d6",
   "metadata": {},
   "source": [
    "## Constant function"
   ]
  },
  {
   "cell_type": "markdown",
   "id": "b2976054-3549-488f-a3ae-35d392394d6e",
   "metadata": {},
   "source": [
    "A function of the form $f(x) = c$ has only the first $f_{l,m}$ different from zero."
   ]
  },
  {
   "cell_type": "markdown",
   "id": "0de385ee-29f8-453e-9d68-f7c71ddda275",
   "metadata": {},
   "source": [
    "The following is the known dirichlet expansion for $f(x) = $ `cte`:"
   ]
  },
  {
   "cell_type": "code",
   "execution_count": 11,
   "id": "98b14ae8-224f-4a7b-baf9-61b11ee4732e",
   "metadata": {},
   "outputs": [
    {
     "data": {
      "text/plain": [
       "array([17.72453851,  0.        ,  0.        ,  0.        ,  0.        ,\n",
       "        0.        ,  0.        ,  0.        ,  0.        ,  0.        ,\n",
       "        0.        ,  0.        ,  0.        ,  0.        ,  0.        ,\n",
       "        0.        ])"
      ]
     },
     "execution_count": 11,
     "metadata": {},
     "output_type": "execute_result"
    }
   ],
   "source": [
    "import numpy as np\n",
    "import biosspheres.miscella.harmonicex as harmonicex\n",
    "\n",
    "cte = 5.\n",
    "big_l = 3\n",
    "dirichlet_expansion = harmonicex.function_cte_dirichlet(big_l, cte, azimuthal=False)\n",
    "dirichlet_expansion"
   ]
  },
  {
   "cell_type": "markdown",
   "id": "edd186dc-0476-43ae-98df-f8c7dbd3e58c",
   "metadata": {},
   "source": [
    "The following is the approximated dirichlet expansion with the package SHTOOLS, from the values in the sphere."
   ]
  },
  {
   "cell_type": "code",
   "execution_count": 12,
   "id": "e832afef-758f-4b9b-ada1-2151a9e5f8e9",
   "metadata": {},
   "outputs": [
    {
     "data": {
      "text/plain": [
       "array([ 1.77245385e+01, -0.00000000e+00,  0.00000000e+00,  0.00000000e+00,\n",
       "       -0.00000000e+00, -0.00000000e+00,  1.06581410e-14,  0.00000000e+00,\n",
       "        5.80672801e-16, -0.00000000e+00, -0.00000000e+00, -0.00000000e+00,\n",
       "        0.00000000e+00,  0.00000000e+00,  0.00000000e+00, -2.76647309e-16])"
      ]
     },
     "execution_count": 12,
     "metadata": {},
     "output_type": "execute_result"
    }
   ],
   "source": [
    "import pyshtools\n",
    "import biosspheres.miscella.auxindexes as auxindexes\n",
    "import biosspheres.quadratures.sphere as quadratures\n",
    "\n",
    "max_l = big_l\n",
    "quantity_theta_points, quantity_phi_points, w, pre_vector = quadratures.gauss_legendre_trapezoidal_2d(max_l)\n",
    "grid_analytic = np.ones((quantity_theta_points, quantity_phi_points)) * cte\n",
    "coefficients = pyshtools.expand.SHExpandGLQ(grid_analytic, w, pre_vector[2, :, 0], norm=4, csphase=-1, lmax_calc=max_l)\n",
    "dirichlet_expansion_2 = np.empty_like(dirichlet_expansion)\n",
    "\n",
    "pesykus, p2_plus_p_plus_q, p2_plus_p_minus_q = auxindexes.pes_y_kus(max_l)\n",
    "eles = np.arange(0, max_l + 1)\n",
    "l_square_plus_l = eles * (eles + 1)\n",
    "\n",
    "dirichlet_expansion_2[p2_plus_p_plus_q] = coefficients[0, pesykus[:, 0], pesykus[:, 1]]\n",
    "dirichlet_expansion_2[p2_plus_p_minus_q] = coefficients[1, pesykus[:, 0], pesykus[:, 1]]\n",
    "dirichlet_expansion_2[l_square_plus_l] = coefficients[0, eles, 0]\n",
    "\n",
    "dirichlet_expansion_2"
   ]
  },
  {
   "cell_type": "markdown",
   "id": "bf639a6c-c6bd-4a6d-8ead-9da468295b7e",
   "metadata": {},
   "source": [
    "The difference between the results is"
   ]
  },
  {
   "cell_type": "code",
   "execution_count": 13,
   "id": "ccee7485-151f-4fd2-817e-579ca423a5bb",
   "metadata": {},
   "outputs": [
    {
     "data": {
      "text/plain": [
       "1.2825629922959107e-14"
      ]
     },
     "execution_count": 13,
     "metadata": {},
     "output_type": "execute_result"
    }
   ],
   "source": [
    "np.linalg.norm(dirichlet_expansion - dirichlet_expansion_2)"
   ]
  },
  {
   "cell_type": "markdown",
   "id": "39a7751a-1b1d-4a13-b949-fe6c0868e2d8",
   "metadata": {},
   "source": [
    "## Linear function"
   ]
  },
  {
   "cell_type": "code",
   "execution_count": null,
   "id": "97a622e2-f038-4d45-a65e-40922230f98f",
   "metadata": {},
   "outputs": [],
   "source": []
  }
 ],
 "metadata": {
  "kernelspec": {
   "display_name": "Python 3 (ipykernel)",
   "language": "python",
   "name": "python3"
  },
  "language_info": {
   "codemirror_mode": {
    "name": "ipython",
    "version": 3
   },
   "file_extension": ".py",
   "mimetype": "text/x-python",
   "name": "python",
   "nbconvert_exporter": "python",
   "pygments_lexer": "ipython3",
   "version": "3.9.18"
  }
 },
 "nbformat": 4,
 "nbformat_minor": 5
}
