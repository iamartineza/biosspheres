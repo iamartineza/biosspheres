{
 "cells": [
  {
   "cell_type": "markdown",
   "id": "184fff06-9cd1-4b25-b2e2-f2bd14bd2a0e",
   "metadata": {},
   "source": [
    "# Overview of functions from cross interactions"
   ]
  },
  {
   "cell_type": "markdown",
   "id": "28f7928a-ebc5-4e3e-96dc-99c1fd6ed556",
   "metadata": {},
   "source": [
    "Overview of python functions from `biosspheres.laplace.crossinteractions` and `biosspheres.helmholtz.crossinteractions`."
   ]
  },
  {
   "cell_type": "code",
   "execution_count": 1,
   "id": "ee48373a-a0ff-4707-a951-c833c1caaf99",
   "metadata": {},
   "outputs": [],
   "source": [
    "import biosspheres.laplace.crossinteractions as lacross\n",
    "import biosspheres.helmholtz.crossinteractions as helmcross"
   ]
  },
  {
   "cell_type": "code",
   "execution_count": 2,
   "id": "c9063d2a-4a56-4676-a70c-9ebd171e02db",
   "metadata": {},
   "outputs": [],
   "source": [
    "import numpy as np\n",
    "import scipy.special\n",
    "import biosspheres.quadratures.sphere as quadratures\n",
    "import matplotlib.pyplot as plt"
   ]
  },
  {
   "cell_type": "markdown",
   "id": "cc2dab6c-8ed7-4900-b05a-48a11e8613e9",
   "metadata": {},
   "source": [
    "## Preliminaries"
   ]
  },
  {
   "cell_type": "markdown",
   "id": "430aad52-1ea2-48ad-8184-e3f2dbd10259",
   "metadata": {
    "jp-MarkdownHeadingCollapsed": true
   },
   "source": [
    "### Geometry\n"
   ]
  },
  {
   "cell_type": "markdown",
   "id": "7a5530c9-2188-4868-9b64-150ff585dbd3",
   "metadata": {},
   "source": [
    "$N$ disjoint spheres in $\\mathbb{R}^3$:\r\n",
    "- Position vectors of the sphere centers: $\\mathbf{p_j} \\in \\mathbb{R}^3$, with $j \\in \\{1,...,N\\}$.  \r\n",
    "- Radii: $\\tilde{r}_j\\in \\mathbb{R}^+$, with $j \\in \\{1,...,N\\}$.\r\n",
    "- Interior of sphere $j$: $\\Omega_j:=\\{ \\mathbf{x} \\in \\mathbb{R}^3:||\\mathbf{x}-\\mathbf{p_j}||_2<\\tilde{r}_j \\}$.\r\n",
    "- Boundary of sphere $j$: $\\Gamma_j:=\\partial \\Omega_j$.\r\n",
    "- Exterior medium, $\\Omega_0$: defined as $\\mathbb{R}^3$ without the spheres and their boundaries."
   ]
  },
  {
   "cell_type": "markdown",
   "id": "6ef35104-4fc1-4464-b9f5-e10bb8070f60",
   "metadata": {
    "jp-MarkdownHeadingCollapsed": true
   },
   "source": [
    "\n",
    "### Free space fundamental solution for the Laplace equation"
   ]
  },
  {
   "cell_type": "markdown",
   "id": "69cd17fe-1a9b-4043-8b9d-46340c9bbf72",
   "metadata": {},
   "source": [
    "The free space fundamental solution of the Laplace equation, which satisfies the radiation condition is:\r\n",
    "$$g\\left(\\mathbf{r},\\mathbf{r'}\\right):= \\frac{1}{4\\pi ||\\mathbf{r}-\\mathbf{r}'||_2}, \\quad \\mbox{with } \\mathbf{r}\\not = \\mathbf{r'}, \\quad \\mbox{and } -\\Delta g \\left(\\mathbf{r},\\mathbf{r'}\\right)=\\delta \\left(\\mathbf{r}-\\mathbf{r'}\\right).$$"
   ]
  },
  {
   "cell_type": "markdown",
   "id": "5149a0a4-eb63-4874-9837-fb024b38fbd5",
   "metadata": {
    "jp-MarkdownHeadingCollapsed": true
   },
   "source": [
    "### Free space fundamental solution for the Helmholtz equation\n"
   ]
  },
  {
   "cell_type": "markdown",
   "id": "d7c42ec2-2e7e-43f4-8c74-5a56c058776f",
   "metadata": {},
   "source": [
    "The free space fundamental solution of the Helmholtz equation with $k>0$, which satisfies the **radiation condition** is:\n",
    "$$g_j\\left(\\mathbf{r},\\mathbf{r'}\\right):= \\frac{e^{ik_j||\\mathbf{r}-\\mathbf{r}'||}}{4\\pi ||\\mathbf{r}-\\mathbf{r}'||}, \\quad \\mbox{with } \\mathbf{r}\\not = \\mathbf{r'}, \\quad \\mbox{and } -\\left( \\Delta + k_j^2 \\right) g_j \\left(\\mathbf{r},\\mathbf{r'}\\right)=\\delta \\left(\\mathbf{r}-\\mathbf{r'}\\right).$$"
   ]
  },
  {
   "cell_type": "markdown",
   "id": "dedef543-9026-4807-ac60-3e45e9845265",
   "metadata": {
    "jp-MarkdownHeadingCollapsed": true
   },
   "source": [
    "### Layer operators"
   ]
  },
  {
   "cell_type": "markdown",
   "id": "0db834e3-d742-4df5-8d0a-c87c9c58d35a",
   "metadata": {},
   "source": [
    "Single and double layer operators defined for smooth densities:\r\n",
    "$$DL_{0j} \\left(\\psi\\right)\\left(\\mathbf{r}\\right):=\\int_{\\Gamma_j}  \\psi\\left(\\mathbf{r}'\\right) \\nabla g_0\\left(\\mathbf{r},\\mathbf{r'}\\right) \\cdot \\widehat{\\mathbf{n}}_{0j} \\ dS',$$\r\n",
    "$$SL_{0j} \\left(\\psi\\right)\\left(\\mathbf{r}\\right):=\\int_{\\Gamma_j}  {\\psi\\left(\\mathbf{r}'\\right) g_0\\left(\\mathbf{r},\\mathbf{r'}\\right) dS'},$$\r\n",
    "$$DL_j \\left(\\psi\\right)\\left(\\mathbf{r}\\right):=\\int_{\\Gamma_j}  {\\psi\\left(\\mathbf{r}'\\right) \\nabla g_j\\left(\\mathbf{r},\\mathbf{r'}\\right) \\cdot \\widehat{\\mathbf{n}}_{j} \\ dS'},$$\r\n",
    "$$SL_j \\left(\\psi\\right)\\left(\\mathbf{r}\\right):=\\int_{\\Gamma_j}  {\\psi\\left(\\mathbf{r}' \\right) g_j\\left(\\mathbf{r},\\mathbf{r'}\\right) dS'}$$\r\n",
    "\r\n",
    "with the gradient being taken with respect to $\\mathbf{r}'$, $\\widehat{\\mathbf{n}}_j$ being the exterior normal vector of $\\Omega_j$, and $\\widehat{\\mathbf{n}}_j=-\\widehat{\\mathbf{n}}_{0j}$.\r\n",
    "\r\n",
    "These operators are linear and continuous in the following Sobolev spaces:\r\n",
    "$$DL_{0j}: H^{\\frac{1}{2}}(\\Gamma_j) \\rightarrow H^1_{loc} \\left(\\mathbb{R}^3 \\setminus \\cup_{j=1}^{N}\\Gamma_j\\right),$$\r\n",
    "$$SL_{0j}: H^{-\\frac{1}{2}}(\\Gamma_j) \\rightarrow H^1_{loc}  \\left(\\mathbb{R}^3 \\setminus \\cup_{j=1}^{N}\\Gamma_j\\right)  , $$\r\n",
    "$$DL_{j}: H^{\\frac{1}{2}}(\\Gamma_j)\\rightarrow H^1_{loc} \\left(\\mathbb{R}^3 \\setminus \\cup_{j=1}^{N}\\Gamma_j\\right),$$\r\n",
    "$$SL_{j}: H^{-\\frac{1}{2}}(\\Gamma_j) \\rightarrow H^1_{loc}\\left(\\mathbb{R}^3 \\setminus \\cup_{j=1}^{N}\\Gamma_j\\right).$$"
   ]
  },
  {
   "cell_type": "markdown",
   "id": "31426757-7914-4bd6-a6a1-f665f5752869",
   "metadata": {
    "jp-MarkdownHeadingCollapsed": true
   },
   "source": [
    "### Boundary integral operators"
   ]
  },
  {
   "cell_type": "markdown",
   "id": "5dff58d6-88ab-482f-a1a0-e9bad6e83966",
   "metadata": {},
   "source": [
    "For $u\\in C^\\infty(\\overline\\Omega)$, Dirichlet and Neumann traces operators are defined as \r\n",
    "$$\\gamma_d u := u|_{\\Gamma},\\qquad \\gamma_n u := \\nabla  u|_{\\Gamma} \\cdot \\widehat{n},$$\r\n",
    "where $\\widehat{n}$ is the exterior unit normal.\r\n",
    "\r\n",
    "By density arguments, the definition of Dirichlet and Neumann traces operator can be extended to $u_j \\in H^1_{loc}(\\Omega_j)$, with $j \\{0, ..., N \\}$. We extend the notation as follows\r\n",
    "\r\n",
    "$$\\gamma_d^{0j} u_0 := u_0|_{\\Gamma_j},$$\r\n",
    "$$\\gamma_d^{j} u_j := u_0|_{\\Gamma_j},$$\r\n",
    "$$\\gamma_n^{0j} u_0 := \\nabla u_0|_{\\Gamma_j} \\cdot \\widehat{n}_{0j},$$\r\n",
    "$$\\gamma_n^{j} u_j := \\nabla u_0|_{\\Gamma_j}\\cdot \\widehat{n}_{j},$$\r\n",
    "where $\\widehat{n}_{j}$ is the exterior normal of $\\Omega_j$, with $j\\in \\{ 1, ..., N\\}$ and $\\widehat{n}_{0j}=-\\widehat{n}_{j}$.\r\n",
    "\r\n",
    "Now, we recall the definition of the boundary integral operators:\r\n",
    "$$\\begin{align*}\r\n",
    "\tV_{i,j}^0 &:=  \\frac{1}{2} \\left( \\gamma_d^{i} SL_{0j} + \\gamma_d^{0i} SL_{0j} \\right) ,\r\n",
    "\t& V_{j}&:= \\frac{1}{2} \\left(  \\gamma_d^{0j} SL_{j} + \\gamma_d^{j} SL_{j} \\right) ,\\\\\r\n",
    "\tK_{i,j}^0&:= \\frac{1}{2} \\left(\\gamma_d^{i} DL_{0j} + \\gamma_d^{0i} DL_{0j} \\right) ,\r\n",
    "\t&K_{j}&:= \\frac{1}{2} \\left(\\gamma_d^{0j} DL_{j} + \\gamma_d^{j} DL_{j} \\right),\\\\\r\n",
    "\tK^{*0}_{i,j}&:= \\frac{1}{2} \\left( - \\gamma_n ^{i} SL_{0j} + \\gamma_n ^{0i} SL_{0j}  \\right),\r\n",
    "\t & K^{*}_{j} &:= \\frac{1}{2} \\left( -\\gamma_n ^{0j} SL_{j}  + \\gamma_n ^{j} SL_{j} \\right), \\\\\r\n",
    "\tW_{i,j}^0 &:= -\\frac{1}{2} \\left( - \\gamma_n^{i} DL_{0j}  + \\gamma_n^{0i} DL_{0j} \\right) ,\r\n",
    "\t& W_{j} &:=- \\frac{1}{2} \\left( -\\gamma_n^{0j} DL_{j} + \\gamma_n^{j} DL_{j} \\right).\r\n",
    "\\end{align*}$$\r\n",
    "\r\n",
    "These operators are linear and continuous in the following Sobolev spaces: \r\n",
    "$$\\begin{align*}\r\n",
    "\tV_{{i},j}^0 &: H^{-\\frac{1}{2}}(\\Gamma_j) \\rightarrow H^{\\frac{1}{2}}(\\Gamma_i),\r\n",
    "\t&V_{j}&: H^{-\\frac{1}{2}}(\\Gamma_j) \\rightarrow H^{\\frac{1}{2}}(\\Gamma_j),\\\\\r\n",
    "\tW_{{i},j}^0&: H^{\\frac{1}{2}}(\\Gamma_j) \\rightarrow H^{-\\frac{1}{2}}(\\Gamma_i),\r\n",
    "\t&W_{j}&: H^{\\frac{1}{2}}(\\Gamma_j) \\rightarrow H^{-\\frac{1}{2}}(\\Gamma_j) ,\\\\\r\n",
    "\tK_{{i},j}^0&: H^{\\frac{1}{2}}(\\Gamma_j) \\rightarrow H^{\\frac{1}{2}}(\\Gamma_i),\r\n",
    "\t&K_{j}&: H^{\\frac{1}{2}}(\\Gamma_j) \\rightarrow H^{\\frac{1}{2}}(\\Gamma_j) ,\\\\\r\n",
    "\tK^{*0}_{{i},j}&: H^{-\\frac{1}{2}}(\\Gamma_j) \\rightarrow H^{-\\frac{1}{2}}(\\Gamma_i),\r\n",
    "\t&K^*_{j}&: H^{-\\frac{1}{2}}(\\Gamma_j) \\rightarrow H^{-\\frac{1}{2}}(\\Gamma_j).\r\n",
    "\\end{align*}$$\r\n",
    "\r\n",
    "Since the domains are smooth, the jump relations for the potentials across a closed boundary yield\r\n",
    "$$\\begin{align*}\r\n",
    "\tV_{{i},j}^0 &=   \\gamma_d^{0{i}} SL_{0j},\r\n",
    "\t& V_{j}&=  \\gamma_d^{j} SL_{j},\\\\\r\n",
    "\tW_{{i},j}^0 &=-  \\gamma_n^{0{i}} DL_{0j},\r\n",
    "\t& W_{j} &=- \\gamma_n^{j} DL_{j}, \\\\\r\n",
    "\t  K_{{i},j}^0&= \\gamma_d^{0{i}} DL_{0j}\\mbox{ with } {i} \\not=j,\r\n",
    "\t & K^{*0}_{{i},j} &= \\gamma_n ^{0{i}} SL_{0j}\\mbox{ with } {i}  \\not=j,\r\n",
    "\\end{align*}$$\r\n",
    "and\r\n",
    "$$\\begin{align*}\r\n",
    "\tK_{j,j}^0(\\psi) &= \\frac{1}{2}\\psi +\\gamma_d^{0j} {DL_{0j}(\\psi)} ,\r\n",
    "\t&K_{j}(\\psi) &= \\frac{1}{2} \\psi +\\gamma_d^{j} {DL_{j}(\\psi)} ,\\\\\r\n",
    "\t K^{*0}_{j,j}(\\psi) &= -\\frac{1}{2} \\psi + \\gamma_n^{0j} {SL_{0j}(\\psi)},\r\n",
    "\t&K^*_{j}(\\psi) &= -\\frac{1}{2} \\psi + \\gamma_n^j {SL_{j}(\\psi)}.\r\n",
    "\\end{align*}$$"
   ]
  },
  {
   "cell_type": "markdown",
   "id": "0a560354-52b4-4a47-a63c-2a23071ba8a7",
   "metadata": {
    "jp-MarkdownHeadingCollapsed": true
   },
   "source": [
    "### Spherical coordinate system"
   ]
  },
  {
   "cell_type": "markdown",
   "id": "fefe1932-8b7f-4711-846d-1d278a77e934",
   "metadata": {},
   "source": [
    "A vector is written as $\\mathbf{r}=\\left(r,\\varphi,\\theta\\right)^t$, with $r \\in [0,\\infty)$, $\\varphi \\in [0,2\\pi)$ and $\\theta \\in [0,\\pi]$, which in Cartesian coordinates is equivalent to $\\mathbf{r}=r\\left(\\sin \\theta \\cos \\varphi,\\sin \\theta \\sin \\varphi,\\cos \\theta\\right)^t$. The unitary vectors of the spherical coordinate system can be written in Cartesian coordinates as\r\n",
    "$$\\begin{align*}\r\n",
    "    &\\widehat{\\mathbf{e}}_r= (\\sin \\theta \\cos \\varphi , \\sin \\theta \\sin \\varphi , \\cos \\theta )^t, \\\\\r\n",
    "    &\\widehat{\\mathbf{e}}_\\theta=(\\cos \\theta \\cos \\varphi , \\cos \\theta \\sin \\varphi , -\\sin \\theta  )^t, \\\\\r\n",
    "    &\\widehat{\\mathbf{e}}_{\\varphi}=(-\\sin \\varphi , \\cos \\varphi , 0 )^t.\r\n",
    "\\end{align*}$$\r\n",
    "\r\n",
    "Also, the gradient operator in spherical coordinates:\r\n",
    "$$\\begin{align*}\r\n",
    "    \\nabla f&=\\frac{\\partial f}{\\partial r} \\widehat{\\mathbf{e}}_r+\\frac{1}{r} \\frac{\\partial f}{\\partial \\theta} \\widehat{\\mathbf{e}}_\\theta+\\frac{1}{r \\sin \\theta} \\frac{\\partial f}{\\partial \\varphi} \\widehat{\\mathbf{e}}_{\\varphi}\r\n",
    "\\end{align*}$$"
   ]
  },
  {
   "cell_type": "markdown",
   "id": "d951592b-08dc-43d7-ba80-f9c15459959b",
   "metadata": {
    "jp-MarkdownHeadingCollapsed": true
   },
   "source": [
    "### Associated Legendre functions"
   ]
  },
  {
   "cell_type": "markdown",
   "id": "3889b52b-0006-46fe-aec0-8bc120494b71",
   "metadata": {},
   "source": [
    "$P_l^m$ are the associated Legendre functions of degree $l$ and  order $m$ defined as:\n",
    "$$P_{l}^m\\left(x\\right) := (-1)^m \\left( 1- x^2\\right)^{\\frac{m}{2}} \\frac{d^m}{dx^m}P_l(x), \\quad \\mbox{with} \\quad P_{l}\\left(x\\right) := \\frac{1}{2^ll!}\\frac{d^l}{dx^l}(x^2-1)^l.$$\n",
    "\n",
    "Here, the term $(-1)^m$ is the Condon-Shortley phase factor."
   ]
  },
  {
   "cell_type": "markdown",
   "id": "84fbc971-bff1-4790-a9d5-cdc6fdd77e40",
   "metadata": {
    "jp-MarkdownHeadingCollapsed": true
   },
   "source": [
    "### Real spherical harmonics"
   ]
  },
  {
   "cell_type": "markdown",
   "id": "162f1fb2-8a4c-4a5f-8cf7-6c0929687790",
   "metadata": {},
   "source": [
    "Real spherical harmonics of degree $l$ and order $m$ are defined using spherical coordinates:\n",
    "$$\\begin{align}\n",
    "\t\t Y_{l,m}\\left(\\theta,\\varphi\\right) &:= \\sqrt{ (2-\\delta_{m,0}) \\frac{\\left(2l+1\\right)\\left(l-m\\right)!}{4 \\pi \\left(l+m\\right)!}} P_l^{m} \\left(\\cos\\theta\\right) \\cos m \\varphi , \\mbox{ and}\\\\\n",
    "\t\tY_{l,-m}\\left(\\theta,\\varphi\\right) &:= \\sqrt{ (2-\\delta_{m,0})\\frac{\\left(2l+1\\right)\\left(l-m\\right)!}{4 \\pi \\left(l+m\\right)!}} P_l^{m} \\left(\\cos\\theta\\right) \\sin m \\varphi ,\n",
    "\\end{align}$$\n",
    "with $l\\in \\mathbb{N}_0$, $m\\in \\mathbb{Z}$ such that $0\\leq m\\leq l$. If $m=0$, then $\\delta_{m,0}=1$, and it is zero otherwise."
   ]
  },
  {
   "cell_type": "markdown",
   "id": "cee1fdb4-2b81-434a-a330-5562ad3c15cb",
   "metadata": {
    "jp-MarkdownHeadingCollapsed": true
   },
   "source": [
    "### Complex spherical harmonics"
   ]
  },
  {
   "cell_type": "markdown",
   "id": "b7960f3a-0428-437a-8a0d-61c448f5d3a6",
   "metadata": {},
   "source": [
    "Complex spherical harmonics of degree $l$ and order $m$ are defined using spherical coordinates:\r\n",
    "$$Y_{l,m}\\left(\\theta,\\varphi\\right) := \\sqrt{ \\frac{\\left(2l+1\\right)\\left(l-m\\right)!}{4 \\pi \\left(l+m\\right)!}} P_l^{m} \\left(\\cos\\left(\\theta\\right)\\right) e^{i m \\varphi}, \\mbox{ and}$$\r\n",
    "$$Y_{l,-m}\\left(\\theta,\\varphi\\right) := (-1)^m\\overline{Y}_{l,m}\\left(\\theta,\\varphi\\right),$$\r\n",
    "with $l\\in \\mathbb{N}_0$, $m\\in \\mathbb{Z}$ such that $0\\leq m\\leq l$. If $m=0$, then $\\delta_{m,0}=1$, and it is zero otherwiactor."
   ]
  },
  {
   "cell_type": "markdown",
   "id": "04743e8f-9eca-4b5e-bf35-676f139ea098",
   "metadata": {
    "jp-MarkdownHeadingCollapsed": true
   },
   "source": [
    "### Orthonormality of spherical harmonics"
   ]
  },
  {
   "cell_type": "markdown",
   "id": "5f0bdc99-0614-48b3-834e-773aa0d6d2f2",
   "metadata": {},
   "source": [
    "Spherical harmonics are dense in $C(\\mathbb{S}^2)$, with $\\mathbb{S}^2$ the surface of the unit sphere, and form a complete orthonormal system in $L^2(\\mathbb{S}^2)$ with respect to the internal product defined by:\n",
    "$$\\left( \\psi , \\xi \\right)_{L^2(\\mathbb{S}^2)} = \\int_{0}^{2\\pi}\\int_{0}^{\\pi} \\psi\\left(\\theta,\\varphi\\right) \\overline{\\xi\\left(\\theta,\\varphi\\right) }\\sin\\left(\\theta\\right) d\\theta d\\varphi,$$\n",
    "with $\\overline{\\xi\\left(\\theta,\\varphi\\right)}$ the conjugate of $\\xi\\left(\\theta,\\varphi\\right)$.\n",
    "\n",
    "They also are orthogonal in $H^1(\\mathbb{S}^2)$."
   ]
  },
  {
   "cell_type": "markdown",
   "id": "ca5e406a-f8f1-4408-8ebd-e54ac358dcb5",
   "metadata": {
    "jp-MarkdownHeadingCollapsed": true
   },
   "source": [
    "### Reference systems"
   ]
  },
  {
   "cell_type": "markdown",
   "id": "c20887a9-2d26-47a3-ac8b-53dcd1759b9e",
   "metadata": {},
   "source": [
    "Let be $j\\in \\{1,...,N\\}$. We define the reference system $j$ as the one centered at $\\mathbf{p_j}$ with the same orientation that the reference system centered in the origin. Furthermore, we denote by $Y_{l,m,j}$ the spherical harmonic $Y_{l,m}$ centered in the origin of the reference system $j$. Thus, if $\\left( r_j, \\varphi_j, \\theta_j \\right) $ are the vector spherical coordinates of $\\mathbf{r_j}$ in the reference system $j$, we have that $Y_{l,m,j}\\left(\\mathbf{r}_j\\right)=Y_{l,m}\\left(\\theta_j, \\varphi_j\\right)$."
   ]
  },
  {
   "cell_type": "markdown",
   "id": "6a688f45-ad62-465f-9237-8f8fb71f7140",
   "metadata": {},
   "source": [
    "### Some spherical harmonics expansions"
   ]
  },
  {
   "cell_type": "markdown",
   "id": "38e033ab-5097-4933-8554-eae0ea82f8fe",
   "metadata": {
    "jp-MarkdownHeadingCollapsed": true
   },
   "source": [
    "#### Real spherical harmonics and Laplace free space fundamental solution"
   ]
  },
  {
   "cell_type": "markdown",
   "id": "6fdb37f5-d913-4f6e-b7f3-0b499232990f",
   "metadata": {},
   "source": [
    "Let $\\mathbf{r}$, $\\mathbf{r}'$ be vectors, whose spherical coordinates in the reference system $j$ are $\\left(r_j,\\theta_j, \\varphi_j \\right)$ and $\\left(r_j',\\theta_j', \\varphi_j' \\right)$, respectively. For $r_j>r_j'$ we have\n",
    "$$g\\left(\\mathbf{r}, \\mathbf{r}'\\right) = \\sum_{l=0}^{\\infty}  \\frac{1}{2l+1} \\frac{r_j^{'l}}{r_j^{l+1}}\\sum_{m=-l}^l Y_{l,m,j}\\left(\\mathbf{r}\\right)  Y_{l,m,j}\\left(\\mathbf{r}'\\right).$$\n",
    "This series  and its term by term first derivatives with respect to $r_j$ or $r_j'$ are absolutely and uniformly convergent on compact subsets with $r_j>r_j'$."
   ]
  },
  {
   "cell_type": "markdown",
   "id": "2dc5fcc3-4ed9-40b5-ab0c-c6529241f978",
   "metadata": {},
   "source": [
    "Let be $j\\in \\{1,\\ldots,N\\}$, and $\\tilde{r}_j$ the radius of $\\Omega_j$.\n",
    "- Let $\\mathbf{r} \\in \\Omega_0$ and $\\mathbf{r}=(r,\\theta,\\varphi )$ be expressed in the $j$th spherical coordinate system, then\n",
    "$$\\begin{align*}\n",
    "    DL_{0j} ( Y_{l,m,j}) (\\mathbf{r}) &= -\\frac{l}{2l+1} \\left( \\frac{\\tilde{r}_j}{r} \\right)^{l+1} Y_{l,m}(\\theta, \\varphi ),\\\\\n",
    "    SL_{0j} ( Y_{l,m,j}) (\\mathbf{r}) &= \\frac{\\tilde{r}_j}{2l+1} \\left( \\frac{\\tilde{r}_j}{r} \\right)^{l+1} Y_{l,m}(\\theta, \\varphi ).\n",
    "\\end{align*}$$\n",
    "- Let $\\mathbf{r} \\in \\Omega_j$ and $\\mathbf{r}=(r,\\theta,\\varphi )$ expressed in the $j$th spherical coordinate system, then\n",
    "$$\\begin{align*}\n",
    "    DL_{j} ( Y_{l,m,j}) (\\mathbf{r}) &= -\\frac{l+1}{2l+1} \\left( \\frac{r}{\\tilde{r}_j} \\right)^{l} Y_{l,m}(\\theta, \\varphi ),\\\\\n",
    "    SL_{j} ( Y_{l,m,j}) (\\mathbf{r}) &= \\frac{\\tilde{r}_j}{2l+1} \\left( \\frac{r}{\\tilde{r}_j} \\right)^{l} Y_{l,m}(\\theta, \\varphi ).\n",
    "\\end{align*}$$"
   ]
  },
  {
   "cell_type": "markdown",
   "id": "586bb1ca-5979-48a7-b9dd-38caf0510d7f",
   "metadata": {},
   "source": [
    "##### Cross-interactions"
   ]
  },
  {
   "cell_type": "markdown",
   "id": "728293a6-c2c1-41e3-a107-29276dd5a607",
   "metadata": {},
   "source": [
    "The following holds\n",
    "$$\\begin{align*}\n",
    "\\left( V_{i,j}^0\\left( Y_{l,m,j} \\right) ; Y_{p,q,i} \\right)_{L^2(\\Gamma_i)} &= \\left( V_{j,i}^0\\left( Y_{p,q,i} \\right) ; Y_{l,m,j} \\right)_{L^2(\\Gamma_j)},\\\\\n",
    "\\left( K_{i,j}^0\\left( Y_{l,m,j} \\right) ; Y_{p,q,i} \\right)_{L^2(\\Gamma_i)} &= - \\frac{l}{\\tilde{r}_j} \\left( V_{i,j}^0\\left( Y_{l,m,j} \\right) ; Y_{p,q,i} \\right)_{L^2(\\Gamma_i)}, \\\\\n",
    "\\left( K_{j,i}^{*0}\\left( Y_{p,q,i} \\right) ; Y_{l,m,j} \\right)_{L^2(\\Gamma_j)} &= \\left( K_{i,j}^0\\left( Y_{l,m,j} \\right) ; Y_{p,q,i} \\right)_{L^2(\\Gamma_i)}, \\\\\n",
    "\\left( W_{i,j}^0\\left( Y_{l,m,j} \\right) ; Y_{p,q,i} \\right)_{L^2(\\Gamma_i)} &= \\frac{l}{\\tilde{r}_j} \\left( K_{i,j}^{*0}\\left( Y_{l,m,j} \\right) ; Y_{p,q,i} \\right)_{L^2(\\Gamma_i)} .\n",
    "\\end{align*}$$\n",
    "It can be deduced that the integrals of all the cross-interactions of a couple of spheres $i$ and $j$ can be derived having the results of the expression $\\left( V_{i,j}^0\\left( Y_{l,m,j} \\right) ; Y_{p,q,i} \\right)_{L^2(\\Gamma_i)}$ for all of the $l$, $m$, $p$ and $q$ needed, which avoids the need of computing numerically the other integral expressions."
   ]
  },
  {
   "cell_type": "markdown",
   "id": "c04658e5-85cd-4d24-8335-39f340951879",
   "metadata": {},
   "source": [
    "#### Complex spherical harmonics and Helmholtz free space fundamental solution"
   ]
  },
  {
   "cell_type": "markdown",
   "id": "5a723879-70b3-4f88-8f6d-456d0ab2ab9e",
   "metadata": {},
   "source": [
    "Let $\\mathbf{r}$, $\\mathbf{r}'$ be vectors, whose spherical coordinates in the reference system $j$ are $\\left(r_j,\\theta_j, \\varphi_j \\right)$ and $\\left(r_j',\\theta_j', \\varphi_j' \\right)$, respectively. For $r_j>r_j'$ we have\n",
    "$$g_j\\left(\\mathbf{r}, \\mathbf{r}'\\right) = i k_j \\sum_{l=0}^{\\infty}  j_l(k_j r_j') h_l^{(1)}(k_j r_j) \\sum_{m=-l}^l Y_{l,m,j}\\left(\\mathbf{r}\\right)  \\overline{Y_{l,m,j}}\\left(\\mathbf{r}'\\right),$$\n",
    "with $j_l$ and $h_l^{(1)}$ the spherical Bessel function and the spherical Hankel function of first kind. This series  and its term by term first derivatives with respect to $r_j$ or $r_j'$ are absolutely and uniformly convergent on compact subsets with $r_j>r_j'$."
   ]
  },
  {
   "cell_type": "markdown",
   "id": "da009f56-f486-4101-ad13-833a4a0c4d3f",
   "metadata": {},
   "source": [
    "Let be $j\\in \\{1,\\ldots,N\\}$, and $\\tilde{r}_j$ the radius of $\\Omega_j$.\n",
    "- Let $\\mathbf{r} \\in \\Omega_0$ and $\\mathbf{r}=(r,\\theta,\\varphi )$ be expressed in the $j$th spherical coordinate system, then\n",
    "$$\\begin{align*}\n",
    "    DL_{0j} ( Y_{l,m,j}) (\\mathbf{r}) &= -i \\left( k_0 \\tilde{r}_j \\right)^2 j_l' (k_0 \\tilde{r}_j) h_l^{(1)}(k_0 r) Y_{l,m}(\\theta, \\varphi ),\\\\\n",
    "    SL_{0j} ( Y_{l,m,j}) (\\mathbf{r}) &=  i k_0 \\tilde{r}_j^2 j_l (k_0 \\tilde{r}_j) h_l^{(1)}(k_0 r) Y_{l,m}(\\theta, \\varphi ).\n",
    "\\end{align*}$$\n",
    "- Let $\\mathbf{r} \\in \\Omega_j$ and $\\mathbf{r}=(r,\\theta,\\varphi )$ expressed in the $j$th spherical coordinate system, then\n",
    "$$\\begin{align*}\n",
    "    DL_{j} ( Y_{l,m,j}) (\\mathbf{r}) &= i \\left( k_j \\tilde{r}_j \\right)^2 h_l^{(1)'}(k_j \\tilde{r}_j) j_l (k_j r)  Y_{l,m}(\\theta, \\varphi ),\\\\\n",
    "    SL_{j} ( Y_{l,m,j}) (\\mathbf{r}) &= i k_j \\tilde{r}_j^2 h_l^{(1)}(k_j \\tilde{r}_j) j_l (k_j r) Y_{l,m}(\\theta, \\varphi ).\n",
    "\\end{align*}$$"
   ]
  },
  {
   "cell_type": "markdown",
   "id": "06fcd4f4-826a-41e4-aec6-2b1d1d40eb74",
   "metadata": {},
   "source": [
    "##### Cross-interactions"
   ]
  },
  {
   "cell_type": "markdown",
   "id": "48fd1215-7af2-44b6-9d3b-80704318c915",
   "metadata": {},
   "source": [
    "The following holds\n",
    "$$\\begin{align*}\n",
    "\\left( V_{i,j}^0\\left( Y_{l,m,j} \\right) ; Y_{p,q,i} \\right)_{L^2(\\Gamma_i)} &= (-1)^{m+q}\\left( V_{j,i}^0\\left( Y_{p,-q,i} \\right) ; Y_{l,-m,j} \\right)_{L^2(\\Gamma_j)},\\\\\n",
    "\\left( K_{i,j}^0\\left( Y_{l,m,j} \\right) ; Y_{p,q,i} \\right)_{L^2(\\Gamma_i)} &= (-1)^{m+q}\\left( K_{j,i}^0\\left( Y_{p,-q,i} \\right) ; Y_{l,-m,j} \\right)_{L^2(\\Gamma_j)},\\\\\n",
    "\\left( K_{j,i}^{*0}\\left( Y_{p,q,i} \\right) ; Y_{l,m,j} \\right)_{L^2(\\Gamma_j)} &= \\overline{\\left( K_{i,j}^0\\left( Y_{l,m,j} \\right) ; Y_{p,q,i} \\right)_{L^2(\\Gamma_i)}}, \\\\\n",
    "\\left( W_{i,j}^0\\left( Y_{l,m,j} \\right) ; Y_{p,q,i} \\right)_{L^2(\\Gamma_i)} &= (-1)^{m+q}\\left( W_{j,i}^0\\left( Y_{p,-q,i} \\right) ; Y_{l,-m,j} \\right)_{L^2(\\Gamma_j)},\n",
    "\\end{align*}$$\n",
    "If $j_l(k_0 \\tilde{r}_j)\\not=0$, the following holds\n",
    "$$\\begin{align*}\n",
    "\\left( K_{i,j}^0\\left( Y_{l,m,j} \\right) ; Y_{p,q,i} \\right)_{L^2(\\Gamma_i)} &= -k_0 \\frac{j_l'(k_0 \\tilde{r}_j)}{j_l(k_0 \\tilde{r}_j)}\\left( V_{i,j}^0\\left( Y_{l,m,j} \\right) ; Y_{p,q,i} \\right)_{L^2(\\Gamma_i)},\\\\\n",
    "\\left( W_{i,j}^0\\left( Y_{l,m,j} \\right) ; Y_{p,q,i} \\right)_{L^2(\\Gamma_i)} &= k_0 \\frac{j_l'(k_0 \\tilde{r}_j)}{j_l(k_0 \\tilde{r}_j)} \\left( K_{i,j}^{0*}\\left( Y_{l,m,j} \\right) ; Y_{p,q,i} \\right)_{L^2(\\Gamma_i)},\n",
    "\\end{align*}$$\n",
    "These properties allow the reduction of the computations."
   ]
  },
  {
   "cell_type": "markdown",
   "id": "7390b679-409c-439e-9ea9-c7be180684c0",
   "metadata": {
    "jp-MarkdownHeadingCollapsed": true
   },
   "source": [
    "## Comments on the numerical algorithms implemented"
   ]
  },
  {
   "cell_type": "markdown",
   "id": "f06301c0-ba78-449e-8b68-814f2f0474b8",
   "metadata": {},
   "source": [
    "Cross-interaction operators, e.g.~$V_{i,j}^0$ for  $i \\not = j$, are non-singular and generally non diagonalizable. The double and single layer operators analytic expressions can be used to compute  the non-singular integrals for $i \\not = j$: \n",
    "$$\\begin{align}\n",
    "\t\\left( V_{i,j}^0\\left( Y_{l,m,j} \\right) ; Y_{p,q,i} \\right)_{L^2(\\Gamma_i)} &= \\int_{\\Gamma_i} SL_{0j}(Y_{l,m,j}) Y_{p,q,i} \\ d \\Gamma_i ,\\\\\n",
    "\t\\left( K_{i,j}^0\\left( Y_{l,m,j} \\right) ; Y_{p,q,i} \\right)_{L^2(\\Gamma_i)} &= \\int_{\\Gamma_i} DL_{0j}(Y_{l,m,j}) Y_{p,q,i}  \\ d \\Gamma_i,\\\\\n",
    "\t\\left( K^{*0}_{i,j}\\left( Y_{l,m,j} \\right) ; Y_{p,q,i} \\right)_{L^2(\\Gamma_i)} &= \\int_{\\Gamma_i}  \\widehat{\\mathbf{n}}_{0i} \\cdot\\nabla SL_{0j}(Y_{l,m,j})  Y_{p,q,i} \\ d \\Gamma_i,\\\\\n",
    "\t\\left( W_{i,j}^0\\left( Y_{l,m,j} \\right)  ; Y_{p,q,i} \\right)_{L^2(\\Gamma_i)} &= - \\int_{\\Gamma_i}   \\widehat{\\mathbf{n}}_{0i}\\cdot \\nabla DL_{0j}(Y_{l,m,j}) Y_{p,q,i} \\ d \\Gamma_i .\n",
    "\\end{align}$$\n",
    "\n",
    "Approximations of this integrals are provided via Gauss-Legendre quadratures. Specifically, along $\\theta$, we use the change of variable $u=cos(\\theta)$. Then, variable functions are sampled at the zeros of the Legendre Polynomial of degree $L_c+1$, whereas the trapezoidal rule is applied to equally spaced nodes in $\\varphi$, with $2L_c+1$ points. If the function being integrated has a spherical harmonic expansion with coefficients equal to zero for degrees higher than $L_c$, then the quadrature yields the exact result, assuming that there are not other sources of error. Moreover, quadrature in $\\varphi$ can be computed using the Fast Fourier Transform."
   ]
  },
  {
   "cell_type": "markdown",
   "id": "62f68ab0-1be7-4b7c-8d28-8ee59c2db420",
   "metadata": {},
   "source": [
    "## `laplace.v_0_sj_semi_analytic_v1d`"
   ]
  },
  {
   "cell_type": "markdown",
   "id": "6ba8a5fa-3347-46a2-9aa2-e9de9dba2755",
   "metadata": {},
   "source": [
    "This function returns a numpy array of two dimensions, which we will call `data_v`. The entries of the array are\n",
    "$$data_v[p(2p + 1) + q, l(2l + 1) + m] = ( V_{s,j}^0 Y_{l,m,j} , Y_{p,q,s} )_{L^2(\\mathcal{S}_s)}$$\n",
    "with Laplace kernel."
   ]
  },
  {
   "cell_type": "markdown",
   "id": "de38b791-c238-49f3-bfd2-8d836da0018c",
   "metadata": {
    "jp-MarkdownHeadingCollapsed": true
   },
   "source": [
    "### Docstring and comments"
   ]
  },
  {
   "cell_type": "code",
   "execution_count": 3,
   "id": "b1b4456b-70c1-4e1b-8f7f-c8d74afebd18",
   "metadata": {},
   "outputs": [
    {
     "name": "stdout",
     "output_type": "stream",
     "text": [
      "\n",
      "    Returns a numpy array that represents a numerical approximation of\n",
      "    the matrix formed by the boundary integral operator V_{s,j}^0 with\n",
      "    Laplace kernel evaluated and tested with real spherical harmonics.\n",
      "    In this routine the quadrature points NEED to be ordered in an array\n",
      "    of one dimension.\n",
      "    It is a SLOW routine, because it does not have performance\n",
      "    improvements for the real spherical harmonic transform algorithm.\n",
      "    \n",
      "    Notes\n",
      "    -----\n",
      "    data_v[p(2p + 1) + q, l(2l + 1) + m] =\n",
      "        ( V_{s,j}^0 Y_{l,m,j} ; Y_{p,q,s} )_{L^2(S_s)}\n",
      "    Y_{l,m,j} : spherical harmonic degree l, order m, in the coordinate\n",
      "        system j.\n",
      "    S_s : surface of the sphere s.\n",
      "    \n",
      "    The expression V_{s,j}^0 Y_{l,m,j} is analytic. A quadrature scheme\n",
      "    is used to compute the surface integral corresponding to the inner\n",
      "    product.\n",
      "    \n",
      "    In this routine the quadrature points NEED to be ordered in an array\n",
      "    of one dimension.\n",
      "    It is a SLOW routine, because it does not use any symmetry or\n",
      "    properties of the spherical harmonics.\n",
      "\n",
      "    Parameters\n",
      "    ----------\n",
      "    big_l : int\n",
      "        >= 0, max degree of spherical harmonics used.\n",
      "    r_j : float\n",
      "        > 0, radius of the sphere j.\n",
      "    r_s : float\n",
      "        > 0, radius of the sphere s.\n",
      "    r_coord : np.ndarray\n",
      "        Array of floats with the spherical coordinate r of the\n",
      "        quadrature points in the coordinate system s. Length equals to\n",
      "        final_length. Can come from the\n",
      "        function from_sphere_s_cartesian_to_j_spherical_1d of the module\n",
      "        biosspheres.quadratures.spheres.\n",
      "    phi_coord : np.ndarray\n",
      "        Array of floats with the phi coordinate r of the quadrature\n",
      "        points in the coordinate system s. Length equals to\n",
      "        final_length. Can come from the function\n",
      "        from_sphere_s_cartesian_to_j_spherical_1d of the module\n",
      "        biosspheres.quadratures.spheres.\n",
      "    cos_theta_coord : np.ndarray\n",
      "        Array of floats with the coseno of the spherical coordinate\n",
      "        theta of the quadrature points in the coordinate system s.\n",
      "        Lengths equal to final_length. Can come from the function\n",
      "        from_sphere_s_cartesian_to_j_spherical_1d of the module\n",
      "        biosspheres.quadratures.spheres.\n",
      "    final_length : int\n",
      "        How many points for the surface integral.\n",
      "        Can come from the function spherical_harmonic_transform_1d of\n",
      "        the module biosspheres.quadratures.spheres.\n",
      "    transform : np.ndarray\n",
      "        of floats with the evaluation of the spherical harmonics along\n",
      "        with their weights in the quadrature points.\n",
      "        Can come from the function real_spherical_harmonic_transform_1d\n",
      "        of the module biosspheres.quadratures.spheres.\n",
      "\n",
      "    Returns\n",
      "    -------\n",
      "    data_v : numpy array\n",
      "        Shape ((big_l+1)**2, (big_l+1)**2). See notes for the indexes\n",
      "        ordering.\n",
      "    \n",
      "    See Also\n",
      "    --------\n",
      "    v_0_sj_semi_analytic_v2d\n",
      "    \n",
      "    \n"
     ]
    }
   ],
   "source": [
    "print(lacross.v_0_sj_semi_analytic_v1d.__doc__)"
   ]
  },
  {
   "cell_type": "markdown",
   "id": "e1c3269a-5bc1-469f-8426-3b17def9b180",
   "metadata": {
    "jp-MarkdownHeadingCollapsed": true
   },
   "source": [
    "### Example"
   ]
  },
  {
   "cell_type": "markdown",
   "id": "bdbcef7b-3a67-47eb-ad3f-8ae5a8014f60",
   "metadata": {},
   "source": [
    "Parameter definitions:"
   ]
  },
  {
   "cell_type": "code",
   "execution_count": 4,
   "id": "2b7118a2-a011-4506-a53d-f2977b56ad56",
   "metadata": {},
   "outputs": [],
   "source": [
    "radio_1 = 3.\n",
    "radio_2 = 2.\n",
    "rs = np.asarray([radio_1, radio_2])"
   ]
  },
  {
   "cell_type": "code",
   "execution_count": 5,
   "id": "3f98d4fa-e647-4603-ab5b-4d8ae2de3589",
   "metadata": {},
   "outputs": [],
   "source": [
    "p_1 = np.asarray([2., 3., 4.])\n",
    "p_2 = -p_1"
   ]
  },
  {
   "cell_type": "code",
   "execution_count": 6,
   "id": "95233fb1-50c1-48b6-9538-c43c8a0ab485",
   "metadata": {},
   "outputs": [],
   "source": [
    "big_l = 3\n",
    "big_l_c = 25"
   ]
  },
  {
   "cell_type": "markdown",
   "id": "0f53094f-86a6-4722-bb1f-be8ad6141d9e",
   "metadata": {},
   "source": [
    "Auxiliary parameters"
   ]
  },
  {
   "cell_type": "code",
   "execution_count": 7,
   "id": "d6363545-171e-4c82-9b70-17657deaf066",
   "metadata": {},
   "outputs": [],
   "source": [
    "final_length, pre_vector_t, transform = quadratures.real_spherical_harmonic_transform_1d(big_l, big_l_c)"
   ]
  },
  {
   "cell_type": "code",
   "execution_count": 8,
   "id": "ce117336-a33c-4b2b-a288-4baef5e1a723",
   "metadata": {},
   "outputs": [],
   "source": [
    "r_coord_1tf, phi_coord_1tf, cos_theta_coord_1tf = quadratures.from_sphere_s_cartesian_to_j_spherical_1d(\n",
    "    radio_2, p_1, p_2, final_length, pre_vector_t)\n",
    "r_coord_2tf, phi_coord_2tf, cos_theta_coord_2tf = quadratures.from_sphere_s_cartesian_to_j_spherical_1d(\n",
    "    radio_1, p_2, p_1, final_length, pre_vector_t)"
   ]
  },
  {
   "cell_type": "markdown",
   "id": "f34a13c5-2175-45d8-bb38-0a9ac1ce09db",
   "metadata": {},
   "source": [
    "Array computings"
   ]
  },
  {
   "cell_type": "code",
   "execution_count": 9,
   "id": "b21e5c49-3229-43e3-a556-ef3531762819",
   "metadata": {},
   "outputs": [],
   "source": [
    "data_v21 = lacross.v_0_sj_semi_analytic_v1d(\n",
    "    big_l, radio_1, radio_2, r_coord_1tf, phi_coord_1tf,\n",
    "    cos_theta_coord_1tf, final_length, transform)\n",
    "data_v12 = lacross.v_0_sj_semi_analytic_v1d(\n",
    "        big_l, radio_2, radio_1, r_coord_2tf, phi_coord_2tf,\n",
    "        cos_theta_coord_2tf, final_length, transform)"
   ]
  },
  {
   "cell_type": "markdown",
   "id": "4c89a0b9-fc41-4e36-91ee-1390a8a5ad6b",
   "metadata": {},
   "source": [
    "For the properties in the preliminaries, `data_v21 = data_v12`$^t$, as this a numerical approximation, we will not have the equality."
   ]
  },
  {
   "cell_type": "code",
   "execution_count": 10,
   "id": "2166a892-67ba-4d71-a344-3a71c1a6e3f2",
   "metadata": {},
   "outputs": [
    {
     "data": {
      "text/plain": [
       "Text(0.5, 1.0, 'Relative error between $V_{1,2}^0$ and $V_{2,1}^{0t}$.')"
      ]
     },
     "execution_count": 10,
     "metadata": {},
     "output_type": "execute_result"
    },
    {
     "data": {
      "image/png": "[encoded data removed]",
      "text/plain": [
       "<Figure size 480x360 with 2 Axes>"
      ]
     },
     "metadata": {},
     "output_type": "display_data"
    }
   ],
   "source": [
    "plt.figure(dpi=75., layout='constrained')\n",
    "im = np.abs(data_v12 - np.transpose(data_v21)) / np.abs(data_v12)\n",
    "plt.imshow(im, cmap='RdBu')\n",
    "plt.colorbar()\n",
    "plt.title('Relative error between $V_{1,2}^0$ and $V_{2,1}^{0t}$.')"
   ]
  },
  {
   "cell_type": "markdown",
   "id": "9bd8b7c7-6cf8-4eae-bc84-560cdb59b686",
   "metadata": {},
   "source": [
    "## `helmholtz.v_0_sj_semi_analytic_v1d`"
   ]
  },
  {
   "cell_type": "markdown",
   "id": "708af693-b1a3-4dd7-b31f-3d82ae1b0cff",
   "metadata": {},
   "source": [
    "This function returns a numpy array of two dimensions, which we will call `data_v`. The entries of the array are\n",
    "$$data_v[p(2p + 1) + q, l(2l + 1) + m] = ( V_{s,j}^0 Y_{l,m,j} , Y_{p,q,s} )_{L^2(\\mathcal{S}_s)}$$\n",
    "with Helmholtz kernel."
   ]
  },
  {
   "cell_type": "markdown",
   "id": "15eec5d6-555d-4e8b-b4c8-174e04e54aa3",
   "metadata": {
    "jp-MarkdownHeadingCollapsed": true
   },
   "source": [
    "### Docstring and comments"
   ]
  },
  {
   "cell_type": "code",
   "execution_count": 11,
   "id": "b3d79e16-f54c-4a91-b4f0-50c506413370",
   "metadata": {},
   "outputs": [
    {
     "name": "stdout",
     "output_type": "stream",
     "text": [
      "\n",
      "    Returns a numpy array that represents a numerical approximation of\n",
      "    the matrix formed by the boundary integral operator V_{s,j}^0 with\n",
      "    Helmholtz kernel evaluated and tested with real spherical harmonics.\n",
      "    In this routine the quadrature points NEED to be ordered in an array\n",
      "    of one dimension.\n",
      "    It is a SLOW routine, because it does not use any symmetry or\n",
      "    properties of the spherical harmonics.\n",
      "\n",
      "    Notes\n",
      "    -----\n",
      "    data_v[p(2p + 1) + q, l(2l + 1) + m] =\n",
      "        ( V_{s,j}^0 Y_{l,m,j} ; \\conjugate{Y_{p,q,s}} )_{L^2(S_s)}\n",
      "    Y_{l,m,j} : spherical harmonic degree l, order m, in the coordinate\n",
      "        system j.\n",
      "    S_s : surface of the sphere s.\n",
      "\n",
      "    The expression V_{s,j}^0 Y_{l,m,j} is analytic. A quadrature scheme\n",
      "    is used to compute the surface integral corresponding to the inner\n",
      "    product.\n",
      "\n",
      "    In this routine the quadrature points NEED to be ordered in an array\n",
      "    of one dimension.\n",
      "    It is a SLOW routine, because it does not use any symmetry or\n",
      "    properties of the spherical harmonics.\n",
      "\n",
      "    Parameters\n",
      "    ----------\n",
      "    big_l : int\n",
      "        >= 0, max degree of spherical harmonics used.\n",
      "    k0 : float\n",
      "        > 0\n",
      "    r_j : float\n",
      "        > 0, radius of the sphere j.\n",
      "    r_s : float\n",
      "        > 0, radius of the sphere s.\n",
      "    j_l_j : np.ndarray\n",
      "    r_coord : np.ndarray\n",
      "        Array of floats with the spherical coordinate r of the\n",
      "        quadrature points in the coordinate system s. Length equals to\n",
      "        final_length. Can come from the\n",
      "        function from_sphere_s_cartesian_to_j_spherical_1d of the module\n",
      "        biosspheres.quadratures.spheres.\n",
      "    phi_coord : np.ndarray\n",
      "        Array of floats with the phi coordinate r of the quadrature\n",
      "        points in the coordinate system s. Length equals to\n",
      "        final_length. Can come from the function\n",
      "        from_sphere_s_cartesian_to_j_spherical_1d of the module\n",
      "        biosspheres.quadratures.spheres.\n",
      "    cos_theta_coord : np.ndarray\n",
      "        Array of floats with the coseno of the spherical coordinate\n",
      "        theta of the quadrature points in the coordinate system s.\n",
      "        Lengths equal to final_length. Can come from the function\n",
      "        from_sphere_s_cartesian_to_j_spherical_1d of the module\n",
      "        biosspheres.quadratures.spheres.\n",
      "    final_length : int\n",
      "        How many points for the surface integral.\n",
      "        Can come from the function spherical_harmonic_transform_1d of\n",
      "        the module biosspheres.quadratures.spheres.\n",
      "    transform : np.ndarray\n",
      "        of complex numbers with the evaluation of the spherical\n",
      "        harmonics along with their weights in the quadrature points.\n",
      "        Can come from the function real_spherical_harmonic_transform_1d\n",
      "        of the module biosspheres.quadratures.spheres.\n",
      "\n",
      "    Returns\n",
      "    -------\n",
      "    data_v : numpy array\n",
      "        Shape ((big_l+1)**2, (big_l+1)**2). See notes for the indexes\n",
      "        ordering.\n",
      "\n",
      "    See Also\n",
      "    --------\n",
      "    v_0_sj_semi_analytic_v2d\n",
      "\n",
      "    \n"
     ]
    }
   ],
   "source": [
    "print(helmcross.v_0_sj_semi_analytic_v1d.__doc__)"
   ]
  },
  {
   "cell_type": "markdown",
   "id": "525f7136-33ae-41fc-b6fe-edc10abcf497",
   "metadata": {},
   "source": [
    "### Example"
   ]
  },
  {
   "cell_type": "markdown",
   "id": "e768c7a1-46e2-4b2d-aa7c-9a9b9ff4d650",
   "metadata": {},
   "source": [
    "Parameter definitions:"
   ]
  },
  {
   "cell_type": "code",
   "execution_count": 27,
   "id": "f9e07bf5-6fd7-4cee-b38d-e05f16e9e563",
   "metadata": {},
   "outputs": [],
   "source": [
    "radio_1 = 1.2\n",
    "radio_2 = 3."
   ]
  },
  {
   "cell_type": "code",
   "execution_count": 28,
   "id": "37f9c89a-1901-4788-9880-2c57dac2a93a",
   "metadata": {},
   "outputs": [],
   "source": [
    "p_1 = np.asarray([2., 3., 4.])\n",
    "p_2 = -p_1"
   ]
  },
  {
   "cell_type": "code",
   "execution_count": 29,
   "id": "145da0f5-35cf-4e91-888b-5534165f5680",
   "metadata": {},
   "outputs": [],
   "source": [
    "k0 = 7."
   ]
  },
  {
   "cell_type": "code",
   "execution_count": 37,
   "id": "0bd1cc21-106b-450a-8980-6aa32530d73f",
   "metadata": {},
   "outputs": [],
   "source": [
    "big_l = 10\n",
    "big_l_c = 40"
   ]
  },
  {
   "cell_type": "markdown",
   "id": "3f831679-593d-4ee6-9b9d-239e66c76d73",
   "metadata": {},
   "source": [
    "Precomputations:"
   ]
  },
  {
   "cell_type": "code",
   "execution_count": 38,
   "id": "1757f59d-cc83-43f7-a2f1-3b0de2682a2f",
   "metadata": {},
   "outputs": [],
   "source": [
    "j_l_1 = scipy.special.spherical_jn(np.arange(0, big_l + 1), radio_1 * k0)\n",
    "j_l_2 = scipy.special.spherical_jn(np.arange(0, big_l + 1), radio_2 * k0)"
   ]
  },
  {
   "cell_type": "code",
   "execution_count": 39,
   "id": "b4f86ccc-42de-4893-96af-a5b1697e2e1c",
   "metadata": {},
   "outputs": [],
   "source": [
    "final_length, pre_vector_t, transform = quadratures.complex_spherical_harmonic_transform_1d(big_l, big_l_c)\n",
    "r_coord_1tf, phi_coord_1tf, cos_theta_coord_1tf = (\n",
    "    quadratures.\n",
    "    from_sphere_s_cartesian_to_j_spherical_1d(\n",
    "        radio_2, p_1, p_2, final_length, pre_vector_t))\n",
    "r_coord_2tf, phi_coord_2tf, cos_theta_coord_2tf = (\n",
    "    quadratures.\n",
    "    from_sphere_s_cartesian_to_j_spherical_1d(\n",
    "        radio_1, p_2, p_1, final_length, pre_vector_t))"
   ]
  },
  {
   "cell_type": "code",
   "execution_count": 40,
   "id": "e7ad06f8-3657-4e60-ae49-1f44c87a311f",
   "metadata": {},
   "outputs": [],
   "source": [
    "data_v21 = helmcross.v_0_sj_semi_analytic_v1d(\n",
    "    big_l, k0, radio_1, radio_2, j_l_1, r_coord_1tf, phi_coord_1tf,\n",
    "    cos_theta_coord_1tf, final_length, transform)\n",
    "data_v12 = helmcross.v_0_sj_semi_analytic_v1d(\n",
    "    big_l, k0, radio_2, radio_1, j_l_2, r_coord_2tf, phi_coord_2tf,\n",
    "    cos_theta_coord_2tf, final_length, transform)"
   ]
  },
  {
   "cell_type": "markdown",
   "id": "b524a53d-9118-4f60-a19f-0021e40555a4",
   "metadata": {},
   "source": [
    "Auxiliary arrays for comparing the arrays:"
   ]
  },
  {
   "cell_type": "code",
   "execution_count": 41,
   "id": "d980ec08-30dc-45c6-80bd-cb6b3d1e0e06",
   "metadata": {},
   "outputs": [],
   "source": [
    "sign_array = np.diag(\n",
    "        (-np.ones((big_l + 1)**2))**(np.arange(0, (big_l + 1)**2)))\n",
    "giro_array = np.eye((big_l + 1)**2)\n",
    "eles = np.arange(0, big_l+1)\n",
    "l_square_plus_l = eles * (eles + 1)\n",
    "for el in np.arange(1, big_l + 1):\n",
    "    giro_array[l_square_plus_l[el] - el:l_square_plus_l[el] + el + 1,\n",
    "               l_square_plus_l[el] - el:l_square_plus_l[el] + el + 1] = (\n",
    "        np.fliplr(giro_array[\n",
    "                  l_square_plus_l[el] - el:l_square_plus_l[el] + el + 1,\n",
    "                  l_square_plus_l[el] - el:l_square_plus_l[el] + el + 1]))\n",
    "aux = giro_array@sign_array@np.transpose(data_v21)@sign_array@giro_array"
   ]
  },
  {
   "cell_type": "markdown",
   "id": "1ee9f978-22d9-489a-a0c6-77e9b9168a75",
   "metadata": {},
   "source": [
    "The following entries should be near zero:"
   ]
  },
  {
   "cell_type": "code",
   "execution_count": 42,
   "id": "d07efc09-ba29-43f4-b6f5-f58c26847621",
   "metadata": {},
   "outputs": [
    {
     "data": {
      "image/png": "[encoded data removed]",
      "text/plain": [
       "<Figure size 480x360 with 2 Axes>"
      ]
     },
     "metadata": {},
     "output_type": "display_data"
    }
   ],
   "source": [
    "plt.figure(dpi=75., layout='constrained')\n",
    "im = np.abs(data_v12 - aux) / np.abs(data_v12)\n",
    "plt.imshow(im, cmap='RdBu')\n",
    "plt.colorbar()\n",
    "plt.title('Relative error between $V_{1,2}^0$ and'\n",
    "          ' a linear transformation of $V_{2,1}$.')\n",
    "plt.show()"
   ]
  },
  {
   "cell_type": "code",
   "execution_count": null,
   "id": "6c49521a-ddf3-428f-a2c6-74441c7fac91",
   "metadata": {},
   "outputs": [],
   "source": []
  }
 ],
 "metadata": {
  "kernelspec": {
   "display_name": "Python 3 (ipykernel)",
   "language": "python",
   "name": "python3"
  },
  "language_info": {
   "codemirror_mode": {
    "name": "ipython",
    "version": 3
   },
   "file_extension": ".py",
   "mimetype": "text/x-python",
   "name": "python",
   "nbconvert_exporter": "python",
   "pygments_lexer": "ipython3",
   "version": "3.9.18"
  }
 },
 "nbformat": 4,
 "nbformat_minor": 5
}
