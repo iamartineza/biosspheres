{
 "cells": [
  {
   "cell_type": "markdown",
   "id": "4fde2871-5b1c-4688-a33d-dcaa05f11be8",
   "metadata": {},
   "source": [
    "# Overview of python functions from laplace.selfinteractions"
   ]
  },
  {
   "cell_type": "markdown",
   "id": "a9e0379a-bc38-4ac4-a94c-e500c04ff67f",
   "metadata": {},
   "source": [
    "Overview of python functions from `biosspheres.laplace.selfinteractions`."
   ]
  },
  {
   "cell_type": "code",
   "execution_count": 1,
   "id": "a5e96dcb-5458-4621-837f-76026f8c6232",
   "metadata": {},
   "outputs": [],
   "source": [
    "import biosspheres.laplace.selfinteractions as selfinteractions"
   ]
  },
  {
   "cell_type": "code",
   "execution_count": 2,
   "id": "5697bae2-4e3e-4125-a379-cbc08d7a9c15",
   "metadata": {},
   "outputs": [],
   "source": [
    "import numpy as np\n",
    "import scipy.sparse\n",
    "import matplotlib.pyplot as plt"
   ]
  },
  {
   "cell_type": "markdown",
   "id": "1ca34bb6-8bbc-42c0-98a7-db55bc11c726",
   "metadata": {},
   "source": [
    "## Preliminaries"
   ]
  },
  {
   "cell_type": "markdown",
   "id": "6678dd5e-3a41-484d-9c2f-71697935f913",
   "metadata": {
    "jp-MarkdownHeadingCollapsed": true
   },
   "source": [
    "### Geometry"
   ]
  },
  {
   "cell_type": "markdown",
   "id": "0fcaf5ee-5ff5-46ce-bc8b-41e0e148712d",
   "metadata": {},
   "source": [
    "$N$ disjoint spheres in $\\mathbb{R}^3$:\n",
    "- Position vectors of the sphere centers: $\\mathbf{p_j} \\in \\mathbb{R}^3$, with $j \\in \\{1,...,N\\}$.  \n",
    "- Radii: $\\tilde{r}_j\\in \\mathbb{R}^+$, with $j \\in \\{1,...,N\\}$.\n",
    "- Interior of sphere $j$: $\\Omega_j:=\\{ \\mathbf{x} \\in \\mathbb{R}^3:||\\mathbf{x}-\\mathbf{p_j}||_2<\\tilde{r}_j \\}$.\n",
    "- Boundary of sphere $j$: $\\Gamma_j:=\\partial \\Omega_j$.\n",
    "- Exterior medium, $\\Omega_0$: defined as $\\mathbb{R}^3$ without the spheres and their boundaries.  "
   ]
  },
  {
   "cell_type": "markdown",
   "id": "d3343d4d-0051-4014-8758-24ca956a1a57",
   "metadata": {},
   "source": [
    "### Free space fundamental solution for the Laplace equation"
   ]
  },
  {
   "cell_type": "markdown",
   "id": "01b2f83f-3a12-417b-be62-309257a8108a",
   "metadata": {},
   "source": [
    "The free space fundamental solution of the Laplace equation, which satisfies the radiation condition is:\n",
    "$$g\\left(\\mathbf{r},\\mathbf{r'}\\right):= \\frac{1}{4\\pi ||\\mathbf{r}-\\mathbf{r}'||_2}, \\quad \\text{with } \\mathbf{r}\\not = \\mathbf{r'}, \\quad \\text{and } -\\Delta g \\left(\\mathbf{r},\\mathbf{r'}\\right)=\\delta \\left(\\mathbf{r}-\\mathbf{r'}\\right).$$"
   ]
  },
  {
   "cell_type": "markdown",
   "id": "e115f064-4c82-43dd-88bf-60fca4498076",
   "metadata": {},
   "source": [
    "### Layer operators"
   ]
  },
  {
   "cell_type": "markdown",
   "id": "07d9cc0d-3d3a-4516-95e6-af3388a2e62b",
   "metadata": {},
   "source": [
    "Single and double layer operators defined for smooth densities:\n",
    "$$DL_{0j} \\left(\\psi\\right)\\left(\\mathbf{r}\\right):=\\int_{\\Gamma_j}  \\psi\\left(\\mathbf{r}'\\right) \\nabla g\\left(\\mathbf{r},\\mathbf{r'}\\right) \\cdot \\widehat{\\mathbf{n}}_{0j} \\ dS',$$\n",
    "$$SL_{0j} \\left(\\psi\\right)\\left(\\mathbf{r}\\right):=\\int_{\\Gamma_j}  {\\psi\\left(\\mathbf{r}'\\right) g\\left(\\mathbf{r},\\mathbf{r'}\\right) dS'},$$\n",
    "$$DL_j \\left(\\psi\\right)\\left(\\mathbf{r}\\right):=\\int_{\\Gamma_j}  {\\psi\\left(\\mathbf{r}'\\right) \\nabla g\\left(\\mathbf{r},\\mathbf{r'}\\right) \\cdot \\widehat{\\mathbf{n}}_{j} \\ dS'},$$\n",
    "$$SL_j \\left(\\psi\\right)\\left(\\mathbf{r}\\right):=\\int_{\\Gamma_j}  {\\psi\\left(\\mathbf{r}' \\right) g\\left(\\mathbf{r},\\mathbf{r'}\\right) dS'}$$\n",
    "\n",
    "with the gradient being taken with respect to $\\mathbf{r}'$, $\\widehat{\\mathbf{n}}_j$ being the exterior normal vector of $\\Omega_j$, and $\\widehat{\\mathbf{n}}_j=-\\widehat{\\mathbf{n}}_{0j}$.\n",
    "\n",
    "These operators are linear and continuous in the following Sobolev spaces:\n",
    "$$DL_{0j}: H^{\\frac{1}{2}}(\\Gamma_j) \\rightarrow H^1_{loc} \\left(\\mathbb{R}^3 \\setminus \\cup_{j=1}^{N}\\Gamma_j\\right),$$\n",
    "$$SL_{0j}: H^{-\\frac{1}{2}}(\\Gamma_j) \\rightarrow H^1_{loc}  \\left(\\mathbb{R}^3 \\setminus \\cup_{j=1}^{N}\\Gamma_j\\right)  , $$\n",
    "$$DL_{j}: H^{\\frac{1}{2}}(\\Gamma_j)\\rightarrow H^1_{loc} \\left(\\mathbb{R}^3 \\setminus \\cup_{j=1}^{N}\\Gamma_j\\right),$$\n",
    "$$SL_{j}: H^{-\\frac{1}{2}}(\\Gamma_j) \\rightarrow H^1_{loc}\\left(\\mathbb{R}^3 \\setminus \\cup_{j=1}^{N}\\Gamma_j\\right).$$"
   ]
  },
  {
   "cell_type": "markdown",
   "id": "248c240c-6d9c-426a-9de9-8842648dacd8",
   "metadata": {},
   "source": [
    "### Boundary integral operators"
   ]
  },
  {
   "cell_type": "markdown",
   "id": "9efc74e7-4a08-4906-919b-dbcfdc7e9aa4",
   "metadata": {},
   "source": [
    "For $u\\in C^\\infty(\\overline\\Omega)$, Dirichlet and Neumann traces operators are defined as \n",
    "$$\\gamma_d u := u|_{\\Gamma},\\qquad \\gamma_n u := \\nabla  u|_{\\Gamma} \\cdot \\widehat{n},$$\n",
    "where $\\widehat{n}$ is the exterior unit normal.\n",
    "\n",
    "By density arguments, the definition of Dirichlet and Neumann traces operator can be extended to $u_j \\in H^1_{loc}(\\Omega_j)$, with $j \\{0, ..., N \\}$. We extend the notation as follows\n",
    "\n",
    "$$\\gamma_d^{0j} u_0 := u_0|_{\\Gamma_j},$$\n",
    "$$\\gamma_d^{j} u_j := u_0|_{\\Gamma_j},$$\n",
    "$$\\gamma_n^{0j} u_0 := \\nabla u_0|_{\\Gamma_j} \\cdot \\widehat{n}_{0j},$$\n",
    "$$\\gamma_n^{j} u_j := \\nabla u_0|_{\\Gamma_j}\\cdot \\widehat{n}_{j},$$\n",
    "where $\\widehat{n}_{j}$ is the exterior normal of $\\Omega_j$, with $j\\in \\{ 1, ..., N\\}$ and $\\widehat{n}_{0j}=-\\widehat{n}_{j}$.\n",
    "\n",
    "Now, we recall the definition of the boundary integral operators:\n",
    "$$\\begin{align*}\n",
    "\tV_{i,j}^0 &:=  \\frac{1}{2} \\left( \\gamma_d^{i} SL_{0j} + \\gamma_d^{0i} SL_{0j} \\right) ,\n",
    "\t& V_{j}&:= \\frac{1}{2} \\left(  \\gamma_d^{0j} SL_{j} + \\gamma_d^{j} SL_{j} \\right) ,\\\\\n",
    "\tK_{i,j}^0&:= \\frac{1}{2} \\left(\\gamma_d^{i} DL_{0j} + \\gamma_d^{0i} DL_{0j} \\right) ,\n",
    "\t&K_{j}&:= \\frac{1}{2} \\left(\\gamma_d^{0j} DL_{j} + \\gamma_d^{j} DL_{j} \\right),\\\\\n",
    "\tK^{*0}_{i,j}&:= \\frac{1}{2} \\left( - \\gamma_n ^{i} SL_{0j} + \\gamma_n ^{0i} SL_{0j}  \\right),\n",
    "\t & K^{*}_{j} &:= \\frac{1}{2} \\left( -\\gamma_n ^{0j} SL_{j}  + \\gamma_n ^{j} SL_{j} \\right), \\\\\n",
    "\tW_{i,j}^0 &:= -\\frac{1}{2} \\left( - \\gamma_n^{i} DL_{0j}  + \\gamma_n^{0i} DL_{0j} \\right) ,\n",
    "\t& W_{j} &:=- \\frac{1}{2} \\left( -\\gamma_n^{0j} DL_{j} + \\gamma_n^{j} DL_{j} \\right).\n",
    "\\end{align*}$$\n",
    "\n",
    "These operators are linear and continuous in the following Sobolev spaces: \n",
    "$$\\begin{align*}\n",
    "\tV_{{i},j}^0 &: H^{-\\frac{1}{2}}(\\Gamma_j) \\rightarrow H^{\\frac{1}{2}}(\\Gamma_i),\n",
    "\t&V_{j}&: H^{-\\frac{1}{2}}(\\Gamma_j) \\rightarrow H^{\\frac{1}{2}}(\\Gamma_j),\\\\\n",
    "\tW_{{i},j}^0&: H^{\\frac{1}{2}}(\\Gamma_j) \\rightarrow H^{-\\frac{1}{2}}(\\Gamma_i),\n",
    "\t&W_{j}&: H^{\\frac{1}{2}}(\\Gamma_j) \\rightarrow H^{-\\frac{1}{2}}(\\Gamma_j) ,\\\\\n",
    "\tK_{{i},j}^0&: H^{\\frac{1}{2}}(\\Gamma_j) \\rightarrow H^{\\frac{1}{2}}(\\Gamma_i),\n",
    "\t&K_{j}&: H^{\\frac{1}{2}}(\\Gamma_j) \\rightarrow H^{\\frac{1}{2}}(\\Gamma_j) ,\\\\\n",
    "\tK^{*0}_{{i},j}&: H^{-\\frac{1}{2}}(\\Gamma_j) \\rightarrow H^{-\\frac{1}{2}}(\\Gamma_i),\n",
    "\t&K^*_{j}&: H^{-\\frac{1}{2}}(\\Gamma_j) \\rightarrow H^{-\\frac{1}{2}}(\\Gamma_j).\n",
    "\\end{align*}$$\n",
    "\n",
    "Since the domains are smooth, the jump relations for the potentials across a closed boundary yield\n",
    "$$\\begin{align*}\n",
    "\tV_{{i},j}^0 &=   \\gamma_d^{0{i}} SL_{0j},\n",
    "\t& V_{j}&=  \\gamma_d^{j} SL_{j},\\\\\n",
    "\tW_{{i},j}^0 &=-  \\gamma_n^{0{i}} DL_{0j},\n",
    "\t& W_{j} &=- \\gamma_n^{j} DL_{j}, \\\\\n",
    "\t  K_{{i},j}^0&= \\gamma_d^{0{i}} DL_{0j}, i \\not=j,\n",
    "\t & K^{*0}_{{i},j} &= \\gamma_n ^{0{i}} SL_{0j}, i  \\not=j,\n",
    "\\end{align*}$$\n",
    "and\n",
    "$$\\begin{align*}\n",
    "\tK_{j,j}^0(\\psi) &= \\frac{1}{2}\\psi +\\gamma_d^{0j} {DL_{0j}(\\psi)} ,\n",
    "\t&K_{j}(\\psi) &= \\frac{1}{2} \\psi +\\gamma_d^{j} {DL_{j}(\\psi)} ,\\\\\n",
    "\t K^{*0}_{j,j}(\\psi) &= -\\frac{1}{2} \\psi + \\gamma_n^{0j} {SL_{0j}(\\psi)},\n",
    "\t&K^*_{j}(\\psi) &= -\\frac{1}{2} \\psi + \\gamma_n^j {SL_{j}(\\psi)}.\n",
    "\\end{align*}$$"
   ]
  },
  {
   "cell_type": "markdown",
   "id": "967bb620-e26e-4523-a1fb-ff243b89db3d",
   "metadata": {
    "jp-MarkdownHeadingCollapsed": true
   },
   "source": [
    "### Calderón operators"
   ]
  },
  {
   "cell_type": "markdown",
   "id": "1315373a-858e-441a-9b4f-7787fd08717f",
   "metadata": {},
   "source": [
    "$$A_{i,j}^0 = \\begin{bmatrix} - K^0_{i,j} & V^0_{i,j} \\\\\n",
    "W^0_{i,j} & K^{*0}_{i,j}\\end{bmatrix}, \\quad A_{j,j}= \\begin{bmatrix} - K_{j,j} & V_{j,j} \\\\\n",
    "W_{j,j} & K^{*0}_{j,j}\\end{bmatrix}. $$"
   ]
  },
  {
   "cell_type": "markdown",
   "id": "3838f4e9-fd30-4f1b-9bc7-6584652d8656",
   "metadata": {
    "jp-MarkdownHeadingCollapsed": true
   },
   "source": [
    "### Spherical coordinate system"
   ]
  },
  {
   "cell_type": "markdown",
   "id": "d4c26fbe-38b3-4e8d-83e1-4cbb363a6332",
   "metadata": {},
   "source": [
    "A vector is written as $\\mathbf{r}=\\left(r,\\varphi,\\theta\\right)^t$, with $r \\in [0,\\infty)$, $\\varphi \\in [0,2\\pi)$ and $\\theta \\in [0,\\pi]$, which in Cartesian coordinates is equivalent to $\\mathbf{r}=r\\left(\\sin \\theta \\cos \\varphi,\\sin \\theta \\sin \\varphi,\\cos \\theta\\right)^t$. The unitary vectors of the spherical coordinate system can be written in Cartesian coordinates as\n",
    "$$\\begin{align*}\n",
    "    &\\widehat{\\mathbf{e}}_r= (\\sin \\theta \\cos \\varphi , \\sin \\theta \\sin \\varphi , \\cos \\theta )^t, \\\\\n",
    "    &\\widehat{\\mathbf{e}}_\\theta=(\\cos \\theta \\cos \\varphi , \\cos \\theta \\sin \\varphi , -\\sin \\theta  )^t, \\\\\n",
    "    &\\widehat{\\mathbf{e}}_{\\varphi}=(-\\sin \\varphi , \\cos \\varphi , 0 )^t.\n",
    "\\end{align*}$$\n",
    "\n",
    "Also, the gradient operator in spherical coordinates:\n",
    "$$\\begin{align*}\n",
    "    \\nabla f&=\\frac{\\partial f}{\\partial r} \\widehat{\\mathbf{e}}_r+\\frac{1}{r} \\frac{\\partial f}{\\partial \\theta} \\widehat{\\mathbf{e}}_\\theta+\\frac{1}{r \\sin \\theta} \\frac{\\partial f}{\\partial \\varphi} \\widehat{\\mathbf{e}}_{\\varphi}\n",
    "\\end{align*}$$"
   ]
  },
  {
   "cell_type": "markdown",
   "id": "db7aaba4-7856-4a26-9414-15bf1a05a999",
   "metadata": {
    "jp-MarkdownHeadingCollapsed": true
   },
   "source": [
    "### Legendre functions"
   ]
  },
  {
   "cell_type": "markdown",
   "id": "a3fbf1d7-4e84-49c8-b066-ecdba7389cf9",
   "metadata": {},
   "source": [
    " $P_l^m$ are the associated Legendre functions of degree $l$ and  order $m$ defined as:\n",
    "$$P_{l}^m\\left(x\\right) := (-1)^m \\left( 1- x^2\\right)^{\\frac{m}{2}} \\frac{d^m}{dx^m}P_l(x), \\quad P_{l}\\left(x\\right) := \\frac{1}{2^ll!}\\frac{d^l}{dx^l}(x^2-1)^l.$$\n",
    "\n",
    "Here, the term $(-1)^m$ is the Condon-Shortley phase factor."
   ]
  },
  {
   "cell_type": "markdown",
   "id": "6cea7d7b-ee08-4e93-aa39-b30feab6bfe4",
   "metadata": {
    "jp-MarkdownHeadingCollapsed": true
   },
   "source": [
    "### Real spherical harmonics"
   ]
  },
  {
   "cell_type": "markdown",
   "id": "30ecf257-6f8c-4ee0-8ec8-e545c4cf06cf",
   "metadata": {},
   "source": [
    "Real spherical harmonics of degree $l$ and order $m$ are defined using spherical coordinates:\n",
    "$$\\begin{align}\n",
    "\t\t Y_{l,m}\\left(\\theta,\\varphi\\right) &:= \\sqrt{ (2-\\delta_{m,0}) \\frac{\\left(2l+1\\right)\\left(l-m\\right)!}{4 \\pi \\left(l+m\\right)!}} P_l^{m} \\left(\\cos\\theta\\right) \\cos m \\varphi ,\\\\\n",
    "\t\tY_{l,-m}\\left(\\theta,\\varphi\\right) &:= \\sqrt{ (2-\\delta_{m,0})\\frac{\\left(2l+1\\right)\\left(l-m\\right)!}{4 \\pi \\left(l+m\\right)!}} P_l^{m} \\left(\\cos\\theta\\right) \\sin m \\varphi ,\n",
    "\\end{align}$$\n",
    "with $l\\in \\mathbb{N}_0$, $m\\in \\mathbb{Z}$ such that $0\\leq m\\leq l$. If $m=0$, then $\\delta_{m,0}=1$, and it is zero otherwise."
   ]
  },
  {
   "cell_type": "markdown",
   "id": "e4ecaddf-7dc0-40c5-bc57-de4979760df0",
   "metadata": {
    "jp-MarkdownHeadingCollapsed": true
   },
   "source": [
    "### Orthonormality of spherical harmonics"
   ]
  },
  {
   "cell_type": "markdown",
   "id": "a8de46ab-af7e-4c89-8fff-f6e26a8fdc5e",
   "metadata": {},
   "source": [
    "Spherical harmonics are dense in $C(\\mathbb{S}^2)$, with $\\mathbb{S}^2$ the surface of the unit sphere, and form a complete orthonormal system in $L^2(\\mathbb{S}^2)$ with respect to the internal product defined by:\n",
    "$$\\left( \\psi , \\xi \\right)_{L^2(\\mathbb{S}^2)} = \\int_{0}^{2\\pi}\\int_{0}^{\\pi} \\psi\\left(\\theta,\\varphi\\right) \\xi\\left(\\theta,\\varphi\\right)\\sin\\left(\\theta\\right) d\\theta d\\varphi.$$\n",
    "\n",
    "They also are orthogonal in $H^1(\\mathbb{S}^2)$."
   ]
  },
  {
   "cell_type": "markdown",
   "id": "7dbaaa65-3dcc-4c82-b34a-4c3ce4e7f865",
   "metadata": {
    "jp-MarkdownHeadingCollapsed": true
   },
   "source": [
    "### Reference systems"
   ]
  },
  {
   "cell_type": "markdown",
   "id": "15aace8a-b256-4647-a74a-1e05447ede88",
   "metadata": {},
   "source": [
    "Let be $j\\in \\{1,...,N\\}$. We define the reference system $j$ as the one centered at $\\mathbf{p_j}$ with the same orientation that the reference system centered in the origin. Furthermore, we denote by $Y_{l,m,j}$ the spherical harmonic $Y_{l,m}$ centered in the origin of the reference system $j$. Thus, if $\\left( r_j, \\varphi_j, \\theta_j \\right) $ are the vector spherical coordinates of $\\mathbf{r_j}$ in the reference system $j$, we have that $Y_{l,m,j}\\left(\\mathbf{r}_j\\right)=Y_{l,m}\\left(\\theta_j, \\varphi_j\\right)$."
   ]
  },
  {
   "cell_type": "markdown",
   "id": "63127c13-b6a9-46e0-8ff2-f72d8d73be25",
   "metadata": {
    "jp-MarkdownHeadingCollapsed": true
   },
   "source": [
    "### Some spherical harmonics expansions"
   ]
  },
  {
   "cell_type": "markdown",
   "id": "d17bcf45-f106-4552-9262-acdc9da1f6b4",
   "metadata": {},
   "source": [
    "#### Real spherical harmonics and Laplace free space fundamental solution"
   ]
  },
  {
   "cell_type": "markdown",
   "id": "4a23d645-1df2-41ed-9111-29fd6543b0ba",
   "metadata": {},
   "source": [
    "Let $\\mathbf{r}$, $\\mathbf{r}'$ be vectors, whose spherical coordinates in the reference system $j$ are $\\left(r_j,\\theta_j, \\varphi_j \\right)$ and $\\left(r_j',\\theta_j', \\varphi_j' \\right)$, respectively. For $r_j>r_j'$ we have\n",
    "$$g\\left(\\mathbf{r}, \\mathbf{r}'\\right) = \\sum_{l=0}^{\\infty}  \\frac{1}{2l+1} \\frac{r_j^{'l}}{r_j^{l+1}}\\sum_{m=-l}^l Y_{l,m,j}\\left(\\mathbf{r}\\right)  Y_{l,m,j}\\left(\\mathbf{r}'\\right).$$\n",
    "This series  and its term by term first derivatives with respect to $r_j$ or $r_j'$ are absolutely and uniformly convergent on compact subsets with $r_j>r_j'$."
   ]
  },
  {
   "cell_type": "markdown",
   "id": "2055b9f7-b351-4d90-a8be-a5c9fe46f300",
   "metadata": {},
   "source": [
    "Let be $j\\in \\{1,\\ldots,N\\}$, and $\\tilde{r}_j$ the radius of $\\Omega_j$.\n",
    "- Let $\\mathbf{r} \\in \\Omega_0$ and $\\mathbf{r}=(r,\\theta,\\varphi )$ be expressed in the $j$th spherical coordinate system, then\n",
    "$$\\begin{align*}\n",
    "    DL_{0j} ( Y_{l,m,j}) (\\mathbf{r}) &= -\\frac{l}{2l+1} \\left( \\frac{\\tilde{r}_j}{r} \\right)^{l+1} Y_{l,m}(\\theta, \\varphi ),\\\\\n",
    "    SL_{0j} ( Y_{l,m,j}) (\\mathbf{r}) &= \\frac{\\tilde{r}_j}{2l+1} \\left( \\frac{\\tilde{r}_j}{r} \\right)^{l+1} Y_{l,m}(\\theta, \\varphi ).\n",
    "\\end{align*}$$\n",
    "- Let $\\mathbf{r} \\in \\Omega_j$ and $\\mathbf{r}=(r,\\theta,\\varphi )$ expressed in the $j$th spherical coordinate system, then\n",
    "$$\\begin{align*}\n",
    "    DL_{j} ( Y_{l,m,j}) (\\mathbf{r}) &= -\\frac{l+1}{2l+1} \\left( \\frac{r}{\\tilde{r}_j} \\right)^{l} Y_{l,m}(\\theta, \\varphi ),\\\\\n",
    "    SL_{j} ( Y_{l,m,j}) (\\mathbf{r}) &= \\frac{\\tilde{r}_j}{2l+1} \\left( \\frac{r}{\\tilde{r}_j} \\right)^{l} Y_{l,m}(\\theta, \\varphi ).\n",
    "\\end{align*}$$"
   ]
  },
  {
   "cell_type": "markdown",
   "id": "2613b768-fe71-4147-a574-1d2233d0b16c",
   "metadata": {},
   "source": [
    "The diagonal forms of the BIOs are:\n",
    "$$\\begin{align*}\n",
    "\tV_{j,j}^0\\left( Y_{l,m,j} \\right) &= \\frac{1}{2l+1} \\tilde{r}_j Y_{l,m,j}, & V_{j}\\left( Y_{l,m,j} \\right)&=  \\frac{1}{2l+1} \\tilde{r}_j Y_{l,m,j},  \\\\\n",
    "\tK_{j,j}^0\\left( Y_{l,m,j} \\right) &= \\frac{1}{2(2l+1)}Y_{l,m,j}, &\tK_{j}\\left( Y_{l,m,j} \\right) &= -\\frac{1}{2(2l+1)} Y_{l,m,j},\\\\\n",
    "\tK^{*0}_{j,j}\\left( Y_{l,m,j} \\right) &= \\frac{1}{2l+1} Y_{l,m,j}, & K^*_{j}\\left( Y_{l,m,j} \\right) &= -\\frac{1}{2(2l+1)} Y_{l,m,j},\\\\\n",
    "\tW_{j,j}^0\\left( Y_{l,m,j} \\right) &=  \\frac{l(l+1)}{2l+1} \\frac{1}{\\tilde{r}_j} Y_{l,m,j}, & \tW_{j}\\left( Y_{l,m,j} \\right)&=  \\frac{l(l+1)}{2l+1} \\frac{1}{\\tilde{r}_j}  Y_{l,m,j}.\n",
    "\\end{align*}$$"
   ]
  },
  {
   "cell_type": "markdown",
   "id": "ff9a0d7f-a3fd-422f-9a03-31f41f64a5eb",
   "metadata": {
    "jp-MarkdownHeadingCollapsed": true
   },
   "source": [
    "## `v_jj_azimuthal_symmetry`"
   ]
  },
  {
   "cell_type": "markdown",
   "id": "a475410c-b013-4ecc-9456-e2a78bb40ba9",
   "metadata": {},
   "source": [
    "This function returns a numpy array, which we will call `v`. Its length is `big_l + 1`. Each entry contains\n",
    "$$v[l] = ( V_{j,j}^0 Y_{l,0} , Y_{l,0} )_{L^2(\\mathbb{S_j})} = ( V_{j,j} Y_{l,0} , Y_{l,0} )_{L^2(\\mathbb{S_j})} = \\frac{\\tilde{r}_j^3}{2 l + 1}$$\n",
    "where $\\mathbb{S_j}$ is the surface of the sphere $j$ and $r_j$ its radius."
   ]
  },
  {
   "cell_type": "markdown",
   "id": "e484dc90-415f-4fa8-8e56-fb57d9e1fcdf",
   "metadata": {
    "jp-MarkdownHeadingCollapsed": true
   },
   "source": [
    "### Docstring"
   ]
  },
  {
   "cell_type": "code",
   "execution_count": 3,
   "id": "e43f5612-b3de-48db-84a5-a7d783066e26",
   "metadata": {},
   "outputs": [
    {
     "name": "stdout",
     "output_type": "stream",
     "text": [
      "\n",
      "    Returns a numpy array with the boundary integral operator V_{j,j}\n",
      "    with Laplace kernel evaluated and tested with spherical harmonics of\n",
      "    order 0.\n",
      "\n",
      "    Notes\n",
      "    -----\n",
      "    v[l] = ( V_{j,j} Y_l,0 ; Y_l,0 )_L^2(surface sphere radius r).\n",
      "    = r**3 / (2 l + 1)\n",
      "    for each l such that 0 <= l <= big_l, and with\n",
      "    ( ., .)_L^2(surface sphere radius r): inner product where indicated.\n",
      "    Y_l,0: spherical harmonic degree l, order 0.\n",
      "\n",
      "    Parameters\n",
      "    ----------\n",
      "    big_l : int\n",
      "        >= 0, max degree.\n",
      "    r : float\n",
      "        > 0, radius.\n",
      "\n",
      "    Returns\n",
      "    -------\n",
      "    v : np.ndarray\n",
      "        of floats, Length (big_l+1). See the section notes for the\n",
      "        ordering of the array.\n",
      "\n",
      "    \n"
     ]
    }
   ],
   "source": [
    "print(selfinteractions.v_jj_azimuthal_symmetry.__doc__)"
   ]
  },
  {
   "cell_type": "markdown",
   "id": "4843a7ca-8ebb-4a25-bd96-c6b063819a9f",
   "metadata": {
    "jp-MarkdownHeadingCollapsed": true
   },
   "source": [
    "### Example"
   ]
  },
  {
   "cell_type": "markdown",
   "id": "b2efa2ee-6ff8-45d0-889d-17e841015825",
   "metadata": {},
   "source": [
    "Definition of parameters:"
   ]
  },
  {
   "cell_type": "code",
   "execution_count": 4,
   "id": "414edb2b-1012-4b81-8329-9e7950ea27e8",
   "metadata": {},
   "outputs": [],
   "source": [
    "big_l = 5\n",
    "r = 1.3"
   ]
  },
  {
   "cell_type": "markdown",
   "id": "42f6a212",
   "metadata": {},
   "source": [
    "Calling of the function:"
   ]
  },
  {
   "cell_type": "code",
   "execution_count": 5,
   "id": "fd3b5c7f-bca2-4358-8aaa-2eecd018e6f5",
   "metadata": {},
   "outputs": [],
   "source": [
    "v = selfinteractions.v_jj_azimuthal_symmetry(big_l, r)"
   ]
  },
  {
   "cell_type": "markdown",
   "id": "6b22a919",
   "metadata": {},
   "source": [
    "Plot of the values:"
   ]
  },
  {
   "cell_type": "code",
   "execution_count": 6,
   "id": "92517904-a6e4-4967-b593-0a23d75ff61c",
   "metadata": {},
   "outputs": [
    {
     "data": {
      "text/plain": [
       "Text(0.5, 0, 'l')"
      ]
     },
     "execution_count": 6,
     "metadata": {},
     "output_type": "execute_result"
    },
    {
     "data": {
      "image/png": "[encoded data removed]",
      "text/plain": [
       "<Figure size 640x480 with 1 Axes>"
      ]
     },
     "metadata": {},
     "output_type": "display_data"
    }
   ],
   "source": [
    "plt.figure()\n",
    "plt.plot(\n",
    "    v,\n",
    "    marker='x'\n",
    ")\n",
    "plt.title('V')\n",
    "plt.xlabel('l')"
   ]
  },
  {
   "cell_type": "markdown",
   "id": "c8e942e8-0955-437e-9123-1b1f166d0141",
   "metadata": {
    "jp-MarkdownHeadingCollapsed": true
   },
   "source": [
    "## `k_0_jj_azimuthal_symmetry`"
   ]
  },
  {
   "cell_type": "markdown",
   "id": "767e0225",
   "metadata": {},
   "source": [
    "This function returns a numpy array, which we will call `k_0`. Its length is `big_l + 1`. Each entry contains\n",
    "$$\\begin{align*}\n",
    "k_0[l] &= ( K_{j,j}^0 Y_{l,0} , Y_{l,0} )_{L^2(\\mathbb{S_j})} = ( K_{j,j}^{0*} Y_{l,0} , Y_{l,0} )_{L^2(\\mathbb{S_j})}\\\\\n",
    "&= \\frac{\\tilde{r}_j^2}{2(2 l + 1)}\n",
    "\\end{align*}$$\n",
    "where $\\mathbb{S_j}$ is the surface of the sphere $j$ and $r_j$ its radius."
   ]
  },
  {
   "cell_type": "markdown",
   "id": "dc27d30d-16a8-4fd2-b28a-69482bc36480",
   "metadata": {
    "jp-MarkdownHeadingCollapsed": true
   },
   "source": [
    "### Docstring"
   ]
  },
  {
   "cell_type": "code",
   "execution_count": 7,
   "id": "67eedbf2-153d-4dd7-bbb8-f5141e535e1c",
   "metadata": {},
   "outputs": [
    {
     "name": "stdout",
     "output_type": "stream",
     "text": [
      "\n",
      "    Returns a numpy array with the boundary integral operator K_{j,j}^0,\n",
      "    with normals from out to in of the sphere, with Laplace kernel\n",
      "    evaluated and tested with spherical harmonics of order 0.\n",
      "\n",
      "    Notes\n",
      "    -----\n",
      "    k_0_jj[l] =\n",
      "        ( K_{j,j}^0 Y_l,0 ; Y_l,0 )_L^2(surface sphere radius r).\n",
      "        = r**2 / (2*(2l + 1))\n",
      "    for each l such that 0 <= l <= big_l, and with\n",
      "    ( ., .)_L^2(surface sphere radius r): inner product where indicated.\n",
      "    Y_l,0: spherical harmonic degree l, order 0.\n",
      "\n",
      "    Notice that in this specific case\n",
      "    ( K_{j,j}^0 Y_l,0 ; Y_l,0 )_L^2(surface sphere radius r)\n",
      "    = ( K_{j,j}^{*0} Y_l,0 ; Y_l,0 )_L^2(surface sphere radius r)\n",
      "    where K_{j,j}^{*0} has normals from out to in of the sphere, and\n",
      "    with Laplace kernel.\n",
      "\n",
      "    Parameters\n",
      "    ----------\n",
      "    big_l : int\n",
      "        >= 0, max degree.\n",
      "    r : float\n",
      "        > 0, radius.\n",
      "\n",
      "    Returns\n",
      "    -------\n",
      "    k_0_jj : np.ndarray\n",
      "        of floats, length (big_l+1). See the section notes for the\n",
      "        ordering of the array.\n",
      "\n",
      "    \n"
     ]
    }
   ],
   "source": [
    "print(selfinteractions.k_0_jj_azimuthal_symmetry.__doc__)"
   ]
  },
  {
   "cell_type": "markdown",
   "id": "23b9ac31-a213-4e08-befd-d0eb0bd674e1",
   "metadata": {
    "jp-MarkdownHeadingCollapsed": true
   },
   "source": [
    "### Example"
   ]
  },
  {
   "cell_type": "markdown",
   "id": "1bda91ba",
   "metadata": {},
   "source": [
    "Definition of parameters:"
   ]
  },
  {
   "cell_type": "code",
   "execution_count": 8,
   "id": "1198d4ca-95ed-44a6-b81f-084d9053ef2a",
   "metadata": {},
   "outputs": [],
   "source": [
    "big_l = 5\n",
    "r = 1.3"
   ]
  },
  {
   "cell_type": "markdown",
   "id": "062f6ccb",
   "metadata": {},
   "source": [
    "Calling of the function:"
   ]
  },
  {
   "cell_type": "code",
   "execution_count": 9,
   "id": "56ec4676-b4f6-4967-97f0-e3a47c8d86ee",
   "metadata": {},
   "outputs": [],
   "source": [
    "k_0 = selfinteractions.k_0_jj_azimuthal_symmetry(big_l, r)"
   ]
  },
  {
   "cell_type": "markdown",
   "id": "8e9aed4d",
   "metadata": {},
   "source": [
    "Plotting the values:"
   ]
  },
  {
   "cell_type": "code",
   "execution_count": 10,
   "id": "4a33c5d5-3ea3-400f-9037-3e446e7507c0",
   "metadata": {},
   "outputs": [
    {
     "data": {
      "text/plain": [
       "Text(0.5, 0, 'l')"
      ]
     },
     "execution_count": 10,
     "metadata": {},
     "output_type": "execute_result"
    },
    {
     "data": {
      "image/png": "[encoded data removed]",
      "text/plain": [
       "<Figure size 640x480 with 1 Axes>"
      ]
     },
     "metadata": {},
     "output_type": "display_data"
    }
   ],
   "source": [
    "plt.figure()\n",
    "plt.plot(\n",
    "    k_0,\n",
    "    marker='x'\n",
    ")\n",
    "plt.title('K')\n",
    "plt.xlabel('l')"
   ]
  },
  {
   "cell_type": "markdown",
   "id": "e474381f-ec32-434b-91cb-9f179ecf28c5",
   "metadata": {
    "jp-MarkdownHeadingCollapsed": true
   },
   "source": [
    "## `k_1_jj_azimuthal_symmetry`"
   ]
  },
  {
   "cell_type": "markdown",
   "id": "c2b5aea0",
   "metadata": {},
   "source": [
    "This function returns a numpy array, which we will call `k_j`. Its length is `big_l + 1`. Each entry contains\n",
    "$$\\begin{align*}\n",
    "k_j[l] &= ( K_{j,j} Y_{l,0} , Y_{l,0} )_{L^2(\\mathbb{S_j})} = ( K_{j,j}^* Y_{l,0} , Y_{l,0} )_{L^2(\\mathbb{S_j})}\\\\ &= -\\frac{\\tilde{r}_j^2}{2(2 l + 1)}\n",
    "\\end{align*}$$\n",
    "where $\\mathbb{S_j}$ is the surface of the sphere $j$ and $r_j$ its radius."
   ]
  },
  {
   "cell_type": "markdown",
   "id": "199b1a9e-b9fb-4f1f-9793-67e99379b3d7",
   "metadata": {
    "jp-MarkdownHeadingCollapsed": true
   },
   "source": [
    "### Docstring"
   ]
  },
  {
   "cell_type": "code",
   "execution_count": 11,
   "id": "72c925e4-500b-4b8c-8254-cfb9ab7a1c64",
   "metadata": {},
   "outputs": [
    {
     "name": "stdout",
     "output_type": "stream",
     "text": [
      "\n",
      "    Returns a numpy array with the boundary integral operator K_{j,j},\n",
      "    with normals from in to out of the sphere, with Laplace kernel\n",
      "    evaluated and tested with spherical harmonics of order 0.\n",
      "\n",
      "    Notes\n",
      "    -----\n",
      "    k_jj[l] = ( K_{j,j} Y_l,0 ; Y_l,0 )_L^2(surface sphere radius r).\n",
      "    = -r**2 / (2*(2l + 1))\n",
      "    for each l such that 0 <= l <= big_l, and with\n",
      "    ( ., .)_L^2(surface sphere radius r): inner product where indicated.\n",
      "    Y_l,0: spherical harmonic degree l, order 0.\n",
      "\n",
      "    Notice that in this specific case\n",
      "    ( K_{j,j} Y_l,0 ; Y_l,0 )_L^2(surface sphere radius r)\n",
      "    = ( K_{j,j}^{*} Y_l,0 ; Y_l,0 )_L^2(surface sphere radius r)\n",
      "    where K_{j,j}^{*} has normals from in to out of the sphere, and with\n",
      "    Laplace kernel.\n",
      "\n",
      "    Parameters\n",
      "    ----------\n",
      "    big_l : int\n",
      "        >= 0, max degree.\n",
      "    r : float\n",
      "        > 0, radius.\n",
      "\n",
      "    Returns\n",
      "    -------\n",
      "    k_jj : np.ndarray\n",
      "        of floats, length (big_l+1). See the section notes for the\n",
      "        ordering of the array.\n",
      "\n",
      "    \n"
     ]
    }
   ],
   "source": [
    "print(selfinteractions.k_1_jj_azimuthal_symmetry.__doc__)"
   ]
  },
  {
   "cell_type": "markdown",
   "id": "16053da8-4fee-4232-86c3-4f91b722a71c",
   "metadata": {
    "jp-MarkdownHeadingCollapsed": true
   },
   "source": [
    "### Example"
   ]
  },
  {
   "cell_type": "markdown",
   "id": "998f520e",
   "metadata": {},
   "source": [
    "Definition of parameters:"
   ]
  },
  {
   "cell_type": "code",
   "execution_count": 12,
   "id": "4062f0da-6735-443f-b030-757542f7a5f3",
   "metadata": {},
   "outputs": [],
   "source": [
    "big_l = 5\n",
    "r = 1.3"
   ]
  },
  {
   "cell_type": "markdown",
   "id": "8c2e68ae",
   "metadata": {},
   "source": [
    "Calling of the function:"
   ]
  },
  {
   "cell_type": "code",
   "execution_count": 13,
   "id": "0d5d9ac1-4c4b-411b-9db7-df1a92cb2be1",
   "metadata": {},
   "outputs": [],
   "source": [
    "k_1 = selfinteractions.k_1_jj_azimuthal_symmetry(big_l, r)"
   ]
  },
  {
   "cell_type": "markdown",
   "id": "8bd7d3ea",
   "metadata": {},
   "source": [
    "Plotting the values:"
   ]
  },
  {
   "cell_type": "code",
   "execution_count": 14,
   "id": "95b46e3c-14ba-4b37-9134-8820ca59485a",
   "metadata": {},
   "outputs": [
    {
     "data": {
      "text/plain": [
       "Text(0.5, 0, 'l')"
      ]
     },
     "execution_count": 14,
     "metadata": {},
     "output_type": "execute_result"
    },
    {
     "data": {
      "image/png": "[encoded data removed]",
      "text/plain": [
       "<Figure size 640x480 with 1 Axes>"
      ]
     },
     "metadata": {},
     "output_type": "display_data"
    }
   ],
   "source": [
    "plt.figure()\n",
    "plt.plot(\n",
    "    k_1,\n",
    "    marker='x'\n",
    ")\n",
    "plt.title('K')\n",
    "plt.xlabel('l')"
   ]
  },
  {
   "cell_type": "markdown",
   "id": "a36d80f9-bd47-44a4-b1db-15f3180e1fc7",
   "metadata": {
    "jp-MarkdownHeadingCollapsed": true
   },
   "source": [
    "## `w_jj_azimuthal_symmetry`"
   ]
  },
  {
   "cell_type": "markdown",
   "id": "7f47e4db",
   "metadata": {},
   "source": [
    "This function returns a numpy array, which we will call `w`. Its length is `big_l + 1`. Each entry contains\n",
    "$$w[l] = ( W_{j,j}^0 Y_{l,0} , Y_{l,0} )_{L^2(\\mathbb{S_j})} = ( W_{j,j} Y_{l,0} , Y_{l,0} )_{L^2(\\mathbb{S_j})} =\\tilde{r}_j \\frac{l(l+1)}{2l + 1}.$$"
   ]
  },
  {
   "cell_type": "markdown",
   "id": "08c0d7a8-fb33-4960-a79a-143d062965ed",
   "metadata": {
    "jp-MarkdownHeadingCollapsed": true
   },
   "source": [
    "### Docstring"
   ]
  },
  {
   "cell_type": "code",
   "execution_count": 15,
   "id": "2b0186aa-a73d-4d76-916c-6efc644fef47",
   "metadata": {},
   "outputs": [
    {
     "name": "stdout",
     "output_type": "stream",
     "text": [
      "\n",
      "    Returns a numpy array with the boundary integral operator W_{j,j}\n",
      "    with Laplace kernel evaluated and tested with spherical harmonics of\n",
      "    order 0.\n",
      "\n",
      "    Notes\n",
      "    -----\n",
      "    w[l] = ( W_{j,j} Y_l,0 ; Y_l,0 )_L^2(surface sphere radius r).\n",
      "    = r * l(l+1) / (2l + 1)\n",
      "    for each l such that 0 <= l <= big_l, and with\n",
      "    ( ., .)_L^2(surface sphere radius r): inner product where indicated.\n",
      "    Y_l,0: spherical harmonic degree l, order 0.\n",
      "\n",
      "    Parameters\n",
      "    ----------\n",
      "    big_l : int\n",
      "        >= 0, max degree.\n",
      "    r : float\n",
      "        > 0, radius.\n",
      "\n",
      "    Returns\n",
      "    -------\n",
      "    w : np.ndarray\n",
      "        of floats, length (big_l+1). See the section notes for the\n",
      "        ordering of the array.\n",
      "\n",
      "    \n"
     ]
    }
   ],
   "source": [
    "print(selfinteractions.w_jj_azimuthal_symmetry.__doc__)"
   ]
  },
  {
   "cell_type": "markdown",
   "id": "be76a6a3-374d-420d-b446-d5cd48d7219e",
   "metadata": {
    "jp-MarkdownHeadingCollapsed": true
   },
   "source": [
    "### Example"
   ]
  },
  {
   "cell_type": "markdown",
   "id": "1c8c49de",
   "metadata": {},
   "source": [
    "Definition of parameters:"
   ]
  },
  {
   "cell_type": "code",
   "execution_count": 16,
   "id": "a89808b7-e307-44ac-9836-29f2da7e0ff9",
   "metadata": {},
   "outputs": [],
   "source": [
    "big_l = 5\n",
    "r = 1.3"
   ]
  },
  {
   "cell_type": "markdown",
   "id": "04c1155a",
   "metadata": {},
   "source": [
    "Calling of the function:"
   ]
  },
  {
   "cell_type": "code",
   "execution_count": 17,
   "id": "aea94f60-830e-406f-945a-f1dde320955d",
   "metadata": {},
   "outputs": [],
   "source": [
    "w = selfinteractions.w_jj_azimuthal_symmetry(big_l, r)"
   ]
  },
  {
   "cell_type": "markdown",
   "id": "b75afd13",
   "metadata": {},
   "source": [
    "Plotting of the values:"
   ]
  },
  {
   "cell_type": "code",
   "execution_count": 18,
   "id": "48baf47b-10f0-4f8c-8827-24fe0aabfe9f",
   "metadata": {},
   "outputs": [
    {
     "data": {
      "text/plain": [
       "Text(0.5, 0, 'l')"
      ]
     },
     "execution_count": 18,
     "metadata": {},
     "output_type": "execute_result"
    },
    {
     "data": {
      "image/png": "[encoded data removed]",
      "text/plain": [
       "<Figure size 640x480 with 1 Axes>"
      ]
     },
     "metadata": {},
     "output_type": "display_data"
    }
   ],
   "source": [
    "plt.figure()\n",
    "plt.plot(\n",
    "    w,\n",
    "    marker='x'\n",
    ")\n",
    "plt.title('W')\n",
    "plt.xlabel('l')"
   ]
  },
  {
   "cell_type": "markdown",
   "id": "c513fb0e-6309-4e1b-b1e7-9e460a7f324c",
   "metadata": {
    "jp-MarkdownHeadingCollapsed": true
   },
   "source": [
    "## `bio_jj`"
   ]
  },
  {
   "cell_type": "markdown",
   "id": "74848364-4029-4be8-9362-35838b3ad29d",
   "metadata": {
    "jp-MarkdownHeadingCollapsed": true
   },
   "source": [
    "### Docstring"
   ]
  },
  {
   "cell_type": "code",
   "execution_count": 19,
   "id": "9fa5c214-e08f-4a48-8b46-b584c78f67c1",
   "metadata": {},
   "outputs": [
    {
     "name": "stdout",
     "output_type": "stream",
     "text": [
      "\n",
      "    Returns a numpy array with the corresponding boundary integral\n",
      "    operator from the function bio_azimuthal with Laplace kernel\n",
      "    evaluated and tested with spherical harmonics of all orders.\n",
      "\n",
      "    Notes\n",
      "    -----\n",
      "    D[l*(2l+1) + m] =\n",
      "        (D_{j,j} Y_l,m ; Y_l,m )_L^2(surface sphere radius r).\n",
      "    which in this case is equal to\n",
      "    = D[l*(2l+1)]\n",
      "    for each l such that 0 <= l <= big_l, and with\n",
      "    ( ., .)_L^2(surface sphere radius r): inner product where indicated.\n",
      "    D: boundary integral operator corresponding to the function\n",
      "        bio_azimuthal\n",
      "    Y_l,m: spherical harmonic degree l, order m.\n",
      "\n",
      "    Parameters\n",
      "    ----------\n",
      "    big_l : int\n",
      "        >= 0, max degree.\n",
      "    r : float\n",
      "        > 0, radius.\n",
      "    bio_azimuthal : Callable[[int, float], np.ndarray]\n",
      "        python function for computing the operator for m = 0. Must be\n",
      "        one of the functions written before this one.\n",
      "\n",
      "    Returns\n",
      "    -------\n",
      "    op: np.ndarray\n",
      "        of floats, length (big_l+1)**2. See the section notes for the\n",
      "        ordering of the array.\n",
      "\n",
      "    \n"
     ]
    }
   ],
   "source": [
    "print(selfinteractions.bio_jj.__doc__)"
   ]
  },
  {
   "cell_type": "markdown",
   "id": "c2a9c92b-a295-43e2-aa32-684d81c9746f",
   "metadata": {
    "jp-MarkdownHeadingCollapsed": true
   },
   "source": [
    "### Example"
   ]
  },
  {
   "cell_type": "markdown",
   "id": "9b2f5484",
   "metadata": {},
   "source": [
    "Definition of the parameters:"
   ]
  },
  {
   "cell_type": "code",
   "execution_count": 20,
   "id": "0c6cb9f6-0c34-4ef9-b8ce-023ec628222a",
   "metadata": {},
   "outputs": [],
   "source": [
    "big_l = 5\n",
    "r = 1.3\n",
    "operator = selfinteractions.w_jj_azimuthal_symmetry"
   ]
  },
  {
   "cell_type": "code",
   "execution_count": 21,
   "id": "e7bc3e60-a2d6-423e-8606-c67254ae6d28",
   "metadata": {},
   "outputs": [],
   "source": [
    "full = selfinteractions.bio_jj(big_l, r, operator)"
   ]
  },
  {
   "cell_type": "code",
   "execution_count": 22,
   "id": "cc24ac01-0d74-42ae-bb7d-2b5354081f97",
   "metadata": {},
   "outputs": [
    {
     "name": "stdout",
     "output_type": "stream",
     "text": [
      "[0.         0.86666667 0.86666667 0.86666667 1.56       1.56\n",
      " 1.56       1.56       1.56       2.22857143 2.22857143 2.22857143\n",
      " 2.22857143 2.22857143 2.22857143 2.22857143 2.88888889 2.88888889\n",
      " 2.88888889 2.88888889 2.88888889 2.88888889 2.88888889 2.88888889\n",
      " 2.88888889 3.54545455 3.54545455 3.54545455 3.54545455 3.54545455\n",
      " 3.54545455 3.54545455 3.54545455 3.54545455 3.54545455 3.54545455]\n"
     ]
    }
   ],
   "source": [
    "print(full)"
   ]
  },
  {
   "cell_type": "markdown",
   "id": "591cdf44-5ec9-4606-aee0-60123e0723e2",
   "metadata": {
    "jp-MarkdownHeadingCollapsed": true
   },
   "source": [
    "## `a_0j_matrix`"
   ]
  },
  {
   "cell_type": "markdown",
   "id": "aafc5568-1127-4e67-a53c-04947255e608",
   "metadata": {
    "jp-MarkdownHeadingCollapsed": true
   },
   "source": [
    "### Docstring"
   ]
  },
  {
   "cell_type": "code",
   "execution_count": 23,
   "id": "23edc061-5c29-43ed-852a-f626de550734",
   "metadata": {},
   "outputs": [
    {
     "name": "stdout",
     "output_type": "stream",
     "text": [
      "\n",
      "    Returns a numpy array that represents the following matrix boundary\n",
      "    integral operator\n",
      "    A_{j,j}^0 = [ -K_{j,j}^0 , V_{j,j}^0  ]\n",
      "                [  W_{j,j}^0 , K*_{j,j}^0 ]\n",
      "    with Helmholtz kernel evaluated and tested with spherical harmonics\n",
      "    of order 0 if azimuthal = True, or all orders if azimuthal = False.\n",
      "\n",
      "    Each block is a diagonal matrix.\n",
      "\n",
      "    Parameters\n",
      "    ----------\n",
      "    big_l : int\n",
      "        >= 0, max degree.\n",
      "    r : float\n",
      "        > 0, radius.\n",
      "    azimuthal : bool\n",
      "        Default True.\n",
      "\n",
      "    Returns\n",
      "    -------\n",
      "    matrix_0j : np.ndarray\n",
      "        of floats.\n",
      "        If azimuthal = True\n",
      "            Shape (2*(big_l+1), 2*(big_l+1))\n",
      "        Else\n",
      "            Shape (2*(big_l+1)**2, 2*(big_l+1)**2)\n",
      "\n",
      "    See Also\n",
      "    --------\n",
      "    a_0j_linear_operator\n",
      "    v_jj_azimuthal_symmetry\n",
      "    k_0_jj_azimuthal_symmetry\n",
      "    w_jj_azimuthal_symmetry\n",
      "    bio_jj\n",
      "\n",
      "    \n"
     ]
    }
   ],
   "source": [
    "print(selfinteractions.a_0j_matrix.__doc__)"
   ]
  },
  {
   "cell_type": "markdown",
   "id": "33c82c50-c718-4a63-b74b-dced057f5fe2",
   "metadata": {
    "jp-MarkdownHeadingCollapsed": true
   },
   "source": [
    "### Example"
   ]
  },
  {
   "cell_type": "markdown",
   "id": "247a2fdc",
   "metadata": {},
   "source": [
    "Definition of the parameters:"
   ]
  },
  {
   "cell_type": "code",
   "execution_count": 24,
   "id": "d059550e-33c6-409d-aea3-9f2af474f227",
   "metadata": {},
   "outputs": [],
   "source": [
    "big_l = 3\n",
    "r = 1.3"
   ]
  },
  {
   "cell_type": "markdown",
   "id": "f29c5324",
   "metadata": {},
   "source": [
    "Calling of the function with `azimuthal = True`:"
   ]
  },
  {
   "cell_type": "code",
   "execution_count": 25,
   "id": "9a37218b-9921-424d-b2e6-eabdc4572b29",
   "metadata": {},
   "outputs": [],
   "source": [
    "a_0j = selfinteractions.a_0j_matrix(big_l, r) # azimuthal = True"
   ]
  },
  {
   "cell_type": "markdown",
   "id": "196588e1",
   "metadata": {},
   "source": [
    "Plotting of the values:"
   ]
  },
  {
   "cell_type": "code",
   "execution_count": 26,
   "id": "09b21f99-db91-483b-b50d-41ee4b77b904",
   "metadata": {},
   "outputs": [
    {
     "data": {
      "image/png": "[encoded data removed]",
      "text/plain": [
       "<Figure size 326.4x326.4 with 2 Axes>"
      ]
     },
     "metadata": {},
     "output_type": "display_data"
    }
   ],
   "source": [
    "plt.figure(figsize=plt.figaspect(1), dpi=68., layout='constrained')\n",
    "plt.imshow(a_0j)\n",
    "plt.colorbar(shrink=0.75)\n",
    "plt.show()"
   ]
  },
  {
   "cell_type": "markdown",
   "id": "b9a4a370",
   "metadata": {},
   "source": [
    "Calling of the function with `azimuthal = False`:"
   ]
  },
  {
   "cell_type": "code",
   "execution_count": 27,
   "id": "7b035278-0c21-449f-b8ce-14881fae18e3",
   "metadata": {},
   "outputs": [],
   "source": [
    "a_0j = selfinteractions.a_0j_matrix(big_l, r, azimuthal=False)"
   ]
  },
  {
   "cell_type": "markdown",
   "id": "23ffc726",
   "metadata": {},
   "source": [
    "Plotting of the values:"
   ]
  },
  {
   "cell_type": "code",
   "execution_count": 28,
   "id": "fdea63a8-cb21-485c-9309-ff8f6524821a",
   "metadata": {},
   "outputs": [
    {
     "data": {
      "image/png": "[encoded data removed]",
      "text/plain": [
       "<Figure size 326.4x326.4 with 2 Axes>"
      ]
     },
     "metadata": {},
     "output_type": "display_data"
    }
   ],
   "source": [
    "plt.figure(figsize=plt.figaspect(1), dpi=68., layout='constrained')\n",
    "plt.imshow(a_0j)\n",
    "plt.colorbar(shrink=0.75)\n",
    "plt.show()"
   ]
  },
  {
   "cell_type": "markdown",
   "id": "13edcb92-8746-4d17-83fe-1b091860d00f",
   "metadata": {
    "jp-MarkdownHeadingCollapsed": true
   },
   "source": [
    "## `a_j_matrix`"
   ]
  },
  {
   "cell_type": "markdown",
   "id": "5d54cbdf-9ae1-467a-9822-7756e9c63ccf",
   "metadata": {
    "jp-MarkdownHeadingCollapsed": true
   },
   "source": [
    "### Docstring"
   ]
  },
  {
   "cell_type": "code",
   "execution_count": 29,
   "id": "c36a10f2-647e-414c-85b8-dabe2ad8a7bf",
   "metadata": {},
   "outputs": [
    {
     "name": "stdout",
     "output_type": "stream",
     "text": [
      "\n",
      "    Returns a numpy array that represents the following matrix boundary\n",
      "    integral operator\n",
      "    A_{j,j}^0 = [ -K_{j,j} , V_{j,j}  ]\n",
      "                [  W_{j,j} , K*_{j,j} ]\n",
      "    with Helmholtz kernel evaluated and tested with spherical harmonics\n",
      "    of order 0 if azimuthal = True, or all orders if azimuthal = False.\n",
      "\n",
      "    Each block is a diagonal matrix.\n",
      "\n",
      "    Parameters\n",
      "    ----------\n",
      "    big_l : int\n",
      "        >= 0, max degree.\n",
      "    r : float\n",
      "        > 0, radius.\n",
      "    azimuthal : bool\n",
      "        Default True.\n",
      "\n",
      "    Returns\n",
      "    -------\n",
      "    matrix_j : np.ndarray\n",
      "        of floats.\n",
      "        If azimuthal = True\n",
      "            Shape (2*(big_l+1), 2*(big_l+1))\n",
      "        Else\n",
      "            Shape (2*(big_l+1)**2, 2*(big_l+1)**2)\n",
      "\n",
      "    See Also\n",
      "    --------\n",
      "    a_j_linear_operator\n",
      "    v_jj_azimuthal_symmetry\n",
      "    k_1_jj_azimuthal_symmetry\n",
      "    w_jj_azimuthal_symmetry\n",
      "    bio_jj\n",
      "\n",
      "    \n"
     ]
    }
   ],
   "source": [
    "print(selfinteractions.a_j_matrix.__doc__)"
   ]
  },
  {
   "cell_type": "markdown",
   "id": "c8755e25-f7f1-42a5-acd1-2a3db2dec51b",
   "metadata": {
    "jp-MarkdownHeadingCollapsed": true
   },
   "source": [
    "### Example"
   ]
  },
  {
   "cell_type": "markdown",
   "id": "deecd6eb",
   "metadata": {},
   "source": [
    "Definition of the parameters:"
   ]
  },
  {
   "cell_type": "code",
   "execution_count": 30,
   "id": "c3e0b5ae-637d-401d-b273-7468d60fa4b9",
   "metadata": {},
   "outputs": [],
   "source": [
    "big_l = 3\n",
    "r = 1.3"
   ]
  },
  {
   "cell_type": "markdown",
   "id": "502a96db",
   "metadata": {},
   "source": [
    "Calling of the function with `azimuthal = True`:"
   ]
  },
  {
   "cell_type": "code",
   "execution_count": 31,
   "id": "95fd0c9e-17cb-4822-8f6b-3fc2e7d4551c",
   "metadata": {},
   "outputs": [],
   "source": [
    "a_j = selfinteractions.a_j_matrix(big_l, r) # azimuthal = True"
   ]
  },
  {
   "cell_type": "markdown",
   "id": "26676cda",
   "metadata": {},
   "source": [
    "Plotting of the values:"
   ]
  },
  {
   "cell_type": "code",
   "execution_count": 32,
   "id": "4230708e-d7c2-4b59-9765-b3a47d94a8e0",
   "metadata": {},
   "outputs": [
    {
     "data": {
      "image/png": "[encoded data removed]",
      "text/plain": [
       "<Figure size 326.4x326.4 with 2 Axes>"
      ]
     },
     "metadata": {},
     "output_type": "display_data"
    }
   ],
   "source": [
    "plt.figure(figsize=plt.figaspect(1), dpi=68., layout='constrained')\n",
    "plt.imshow(a_j)\n",
    "plt.colorbar(shrink=0.75)\n",
    "plt.show()"
   ]
  },
  {
   "cell_type": "markdown",
   "id": "8cb088b4",
   "metadata": {},
   "source": [
    "Calling of the function with `azimuthal = False`:"
   ]
  },
  {
   "cell_type": "code",
   "execution_count": 33,
   "id": "a2e5aeaf-be64-49df-96e3-2b2dddea5516",
   "metadata": {},
   "outputs": [],
   "source": [
    "a_j = selfinteractions.a_j_matrix(big_l, r, azimuthal=False)"
   ]
  },
  {
   "cell_type": "markdown",
   "id": "8fac2f2c",
   "metadata": {},
   "source": [
    "Plotting of the values:"
   ]
  },
  {
   "cell_type": "code",
   "execution_count": 34,
   "id": "44668b28-adcd-4992-a7b0-bd2bb1b76c0d",
   "metadata": {},
   "outputs": [
    {
     "data": {
      "image/png": "[encoded data removed]",
      "text/plain": [
       "<Figure size 326.4x326.4 with 2 Axes>"
      ]
     },
     "metadata": {},
     "output_type": "display_data"
    }
   ],
   "source": [
    "plt.figure(figsize=plt.figaspect(1), dpi=68., layout='constrained')\n",
    "plt.imshow(a_j)\n",
    "plt.colorbar(shrink=0.75)\n",
    "plt.show()"
   ]
  },
  {
   "cell_type": "markdown",
   "id": "c9aeb365-9bb1-4d0b-98f6-90855aed30c9",
   "metadata": {
    "jp-MarkdownHeadingCollapsed": true
   },
   "source": [
    "## `a_0j_linear_operator`"
   ]
  },
  {
   "cell_type": "markdown",
   "id": "00b03212-7654-475b-b89a-405b043a9134",
   "metadata": {
    "jp-MarkdownHeadingCollapsed": true
   },
   "source": [
    "### Docstring"
   ]
  },
  {
   "cell_type": "code",
   "execution_count": 35,
   "id": "8462dc43-9ef9-4970-b4cc-2f20c5ecba98",
   "metadata": {},
   "outputs": [
    {
     "name": "stdout",
     "output_type": "stream",
     "text": [
      "\n",
      "    Returns a scipy linear operator equivalent to the given by\n",
      "    a_0j_matrix.\n",
      "\n",
      "    Parameters\n",
      "    ----------\n",
      "    azimuthal\n",
      "    big_l : int\n",
      "        >= 0, max degree.\n",
      "    r : float\n",
      "        > 0, radius.\n",
      "    azimuthal : bool\n",
      "        Default True.\n",
      "\n",
      "    Returns\n",
      "    -------\n",
      "    linear_operator : sparse.linalg.LinearOperator\n",
      "        a scipy linear operator.\n",
      "\n",
      "    See Also\n",
      "    --------\n",
      "    a_0j_matrix\n",
      "\n",
      "    \n"
     ]
    }
   ],
   "source": [
    "print(selfinteractions.a_0j_linear_operator.__doc__)"
   ]
  },
  {
   "cell_type": "markdown",
   "id": "49122d81-61d3-47dc-a1dc-dc1c4efc695e",
   "metadata": {
    "jp-MarkdownHeadingCollapsed": true
   },
   "source": [
    "### Examples"
   ]
  },
  {
   "cell_type": "markdown",
   "id": "e1fde430-4de3-4587-b56f-c1926885a620",
   "metadata": {
    "jp-MarkdownHeadingCollapsed": true
   },
   "source": [
    "#### Simpler example"
   ]
  },
  {
   "cell_type": "markdown",
   "id": "e5309851",
   "metadata": {},
   "source": [
    "Definition of parameters:"
   ]
  },
  {
   "cell_type": "code",
   "execution_count": 36,
   "id": "0b53be07-0f3a-4f53-a264-f8b33d19bec7",
   "metadata": {},
   "outputs": [],
   "source": [
    "r = 2.5\n",
    "big_l = 2"
   ]
  },
  {
   "cell_type": "markdown",
   "id": "298a8d67",
   "metadata": {},
   "source": [
    "Calling of the function with `azimuthal = True`:"
   ]
  },
  {
   "cell_type": "code",
   "execution_count": 37,
   "id": "0b4791a2-7d3e-41d0-9f83-8edfa8b9c8bc",
   "metadata": {},
   "outputs": [],
   "source": [
    "a_0j = selfinteractions.a_0j_linear_operator(big_l, r) # azimuthal = True"
   ]
  },
  {
   "cell_type": "markdown",
   "id": "5e91049c",
   "metadata": {},
   "source": [
    "Calling of the function with `azimuthal = False`:"
   ]
  },
  {
   "cell_type": "code",
   "execution_count": 38,
   "id": "cfe0eae3-1e8f-40a7-804b-e2062ad973d0",
   "metadata": {},
   "outputs": [],
   "source": [
    "a_0j = selfinteractions.a_0j_matrix(big_l, r, azimuthal = False)"
   ]
  },
  {
   "cell_type": "markdown",
   "id": "5b6c7e2c-a849-4c5a-ab8e-9b02595a4617",
   "metadata": {
    "jp-MarkdownHeadingCollapsed": true
   },
   "source": [
    "#### Comparing with the matrix version"
   ]
  },
  {
   "cell_type": "markdown",
   "id": "9fc5733a",
   "metadata": {},
   "source": [
    "Definition of parameters:"
   ]
  },
  {
   "cell_type": "code",
   "execution_count": 39,
   "id": "9e780c54-66a7-4856-8c8e-2bc3a62ffe7d",
   "metadata": {},
   "outputs": [],
   "source": [
    "big_l = 5\n",
    "r = 2.5"
   ]
  },
  {
   "cell_type": "markdown",
   "id": "a32c5832-11ba-4e0a-9963-6e12a3587a65",
   "metadata": {},
   "source": [
    "Initialization of a random vector as right hand side:"
   ]
  },
  {
   "cell_type": "code",
   "execution_count": 40,
   "id": "01491f43-d5df-4eb4-9a83-b2a73b8d1fe8",
   "metadata": {},
   "outputs": [],
   "source": [
    "num = big_l + 1\n",
    "b = np.random.random((2*num))"
   ]
  },
  {
   "cell_type": "markdown",
   "id": "38e7f269",
   "metadata": {},
   "source": [
    "Calling of the functions to be compared"
   ]
  },
  {
   "cell_type": "code",
   "execution_count": 41,
   "id": "ee7e1fb8-13d9-416a-8ab9-1639e29c02b0",
   "metadata": {},
   "outputs": [],
   "source": [
    "linear_operator = selfinteractions.a_0j_linear_operator(big_l, r) # azimuthal = True\n",
    "matrix = selfinteractions.a_0j_matrix(big_l, r) # azimuthal = True"
   ]
  },
  {
   "cell_type": "markdown",
   "id": "9d1a7210",
   "metadata": {},
   "source": [
    "Solving the iterative system:"
   ]
  },
  {
   "cell_type": "code",
   "execution_count": 42,
   "id": "868bede0-7769-4973-8799-fd14f10d3c57",
   "metadata": {},
   "outputs": [
    {
     "name": "stdout",
     "output_type": "stream",
     "text": [
      "0\n"
     ]
    }
   ],
   "source": [
    "norms = []\n",
    "\n",
    "def callback_function(pr_norm):\n",
    "    norms.append(pr_norm)\n",
    "    return 0.\n",
    "\n",
    "solution, info = scipy.sparse.linalg.gmres(\n",
    "    linear_operator, b,\n",
    "    tol=10**(-9),\n",
    "    restart=(2 * num)**3,\n",
    "    callback=callback_function,\n",
    "    callback_type='pr_norm')\n",
    "print(info)"
   ]
  },
  {
   "cell_type": "markdown",
   "id": "f4f898bc",
   "metadata": {},
   "source": [
    "Solving the direct system:"
   ]
  },
  {
   "cell_type": "code",
   "execution_count": 43,
   "id": "b2278f8c-dba7-4e1f-b899-3ffc5fee17c3",
   "metadata": {},
   "outputs": [],
   "source": [
    "solution2 = np.linalg.solve(matrix, b)"
   ]
  },
  {
   "cell_type": "markdown",
   "id": "f8838cad",
   "metadata": {},
   "source": [
    "Difference between solutions:"
   ]
  },
  {
   "cell_type": "code",
   "execution_count": 44,
   "id": "98c9653e-1da1-471d-afc9-fbd086d225c0",
   "metadata": {},
   "outputs": [
    {
     "name": "stdout",
     "output_type": "stream",
     "text": [
      "4.528924144620228e-16\n"
     ]
    }
   ],
   "source": [
    "print(np.linalg.norm(solution2 - solution))"
   ]
  },
  {
   "cell_type": "markdown",
   "id": "22f78866-d44d-4193-9552-7a4f80c3caeb",
   "metadata": {},
   "source": [
    "Which means that solving the numpy array from `a_0j_matrix` and the linear operator from `a_0j_linear_operator` can be used to solve the same linear system."
   ]
  },
  {
   "cell_type": "markdown",
   "id": "f85f5f6a-bf7b-4286-b22e-2b2aae27cff8",
   "metadata": {},
   "source": [
    "Let us see what happens with `azimuthal=False`."
   ]
  },
  {
   "cell_type": "markdown",
   "id": "d0fd12df",
   "metadata": {},
   "source": [
    "Definition of parameters:"
   ]
  },
  {
   "cell_type": "code",
   "execution_count": 45,
   "id": "ec7bed26-6263-4d8a-a03d-3d4d5775c715",
   "metadata": {},
   "outputs": [],
   "source": [
    "big_l = 5\n",
    "r = 2.5"
   ]
  },
  {
   "cell_type": "markdown",
   "id": "ffc21f84",
   "metadata": {},
   "source": [
    "Initialization of a random vector as right hand side:"
   ]
  },
  {
   "cell_type": "code",
   "execution_count": 46,
   "id": "079dfbb5-90d5-49dd-9e01-7b7502b3865a",
   "metadata": {},
   "outputs": [],
   "source": [
    "num = (big_l + 1) ** 2\n",
    "b = np.random.random((2*num))"
   ]
  },
  {
   "cell_type": "markdown",
   "id": "92f0fe7a",
   "metadata": {},
   "source": [
    "Calling of the functions to be compared"
   ]
  },
  {
   "cell_type": "code",
   "execution_count": 47,
   "id": "f403b374-e0c2-434e-a767-38832f85cd2d",
   "metadata": {},
   "outputs": [],
   "source": [
    "linear_operator = selfinteractions.a_0j_linear_operator(big_l, r, False)\n",
    "matrix = selfinteractions.a_0j_matrix(big_l, r, False)"
   ]
  },
  {
   "cell_type": "markdown",
   "id": "5b599431",
   "metadata": {},
   "source": [
    "Solving the iterative system:"
   ]
  },
  {
   "cell_type": "code",
   "execution_count": 48,
   "id": "b24d2cf6-533b-4521-aa05-a11a9e5ab5c2",
   "metadata": {},
   "outputs": [
    {
     "name": "stdout",
     "output_type": "stream",
     "text": [
      "0\n"
     ]
    }
   ],
   "source": [
    "norms = []\n",
    "\n",
    "def callback_function(pr_norm):\n",
    "    norms.append(pr_norm)\n",
    "    return 0.\n",
    "\n",
    "solution, info = scipy.sparse.linalg.gmres(\n",
    "    linear_operator, b,\n",
    "    tol=10**(-9),\n",
    "    restart=(2 * num)**3,\n",
    "    callback=callback_function,\n",
    "    callback_type='pr_norm')\n",
    "print(info)"
   ]
  },
  {
   "cell_type": "markdown",
   "id": "7adef177",
   "metadata": {},
   "source": [
    "Solving the direct system:"
   ]
  },
  {
   "cell_type": "code",
   "execution_count": 49,
   "id": "e1226154-ca90-4c97-8956-04e79b486ef9",
   "metadata": {},
   "outputs": [],
   "source": [
    "solution2 = np.linalg.solve(matrix, b)"
   ]
  },
  {
   "cell_type": "markdown",
   "id": "404b3026",
   "metadata": {},
   "source": [
    "Difference between solutions:"
   ]
  },
  {
   "cell_type": "code",
   "execution_count": 50,
   "id": "975047cd-7dcf-42fe-94f6-269d44b120e8",
   "metadata": {},
   "outputs": [
    {
     "name": "stdout",
     "output_type": "stream",
     "text": [
      "4.607103545959576e-16\n"
     ]
    }
   ],
   "source": [
    "print(np.linalg.norm(solution2 - solution))"
   ]
  },
  {
   "cell_type": "markdown",
   "id": "288a63d3-e69e-4115-bc0e-94ed7a570c07",
   "metadata": {
    "jp-MarkdownHeadingCollapsed": true
   },
   "source": [
    "#### Comparing the azimuthal version against the no azimuthal"
   ]
  },
  {
   "cell_type": "markdown",
   "id": "e275f865-8a4f-4db7-8a66-6c146a2373fc",
   "metadata": {},
   "source": [
    "For a right hand with azimuthal symmetry when extended by 0 to  explicitly compute the result without considering the symmetry, the result should be the same with the azimuthal and the not azimuth versions."
   ]
  },
  {
   "cell_type": "markdown",
   "id": "1c27aec0",
   "metadata": {},
   "source": [
    "Definition of parameters:"
   ]
  },
  {
   "cell_type": "code",
   "execution_count": 51,
   "id": "1a8da442-4214-4cdf-8611-5c0db372e64a",
   "metadata": {},
   "outputs": [],
   "source": [
    "big_l = 5\n",
    "r = 2.3"
   ]
  },
  {
   "cell_type": "markdown",
   "id": "768bb636",
   "metadata": {},
   "source": [
    "Initialization of a random vector as right hand side, and its extension by zero:"
   ]
  },
  {
   "cell_type": "code",
   "execution_count": 52,
   "id": "ac425c56-44c7-41b0-85ac-63a7ccca9330",
   "metadata": {},
   "outputs": [],
   "source": [
    "import biosspheres.miscella.extensions as extensions\n",
    "num = (big_l + 1)\n",
    "b = np.random.random((2 * num))\n",
    "b_2_1 = extensions.azimuthal_trace_to_general_with_zeros(\n",
    "    big_l, b[0:num])\n",
    "b_2_2 = extensions.azimuthal_trace_to_general_with_zeros(\n",
    "    big_l, b[num:2 * num])\n",
    "b2 = np.concatenate((b_2_1, b_2_2))"
   ]
  },
  {
   "cell_type": "markdown",
   "id": "1954c7d4",
   "metadata": {},
   "source": [
    "Calling of the function with `azimuthal=False`:"
   ]
  },
  {
   "cell_type": "code",
   "execution_count": 53,
   "id": "fed8bd58-20c4-4fc7-948c-9acfd88a5009",
   "metadata": {},
   "outputs": [],
   "source": [
    "linear_operator = selfinteractions.a_0j_linear_operator(big_l, r, False)"
   ]
  },
  {
   "cell_type": "markdown",
   "id": "5623d0a9",
   "metadata": {},
   "source": [
    "Solving the iterative system:"
   ]
  },
  {
   "cell_type": "code",
   "execution_count": 54,
   "id": "05d44a12-505d-4acd-8212-dd4fe12a4032",
   "metadata": {},
   "outputs": [
    {
     "name": "stdout",
     "output_type": "stream",
     "text": [
      "0\n"
     ]
    }
   ],
   "source": [
    "norms = []\n",
    "\n",
    "def callback_function(pr_norm):\n",
    "    norms.append(pr_norm)\n",
    "    return 0.\n",
    "\n",
    "num = (big_l + 1)**2\n",
    "solution, info = scipy.sparse.linalg.gmres(linear_operator, b2,\n",
    "                                           tol=10**(-13),\n",
    "                                           restart=(2 * num)**3,\n",
    "                                           callback=callback_function,\n",
    "                                           callback_type='pr_norm')\n",
    "print(info)"
   ]
  },
  {
   "cell_type": "markdown",
   "id": "014a2c9b",
   "metadata": {},
   "source": [
    "Calling of the function with `azimuthal=True`:"
   ]
  },
  {
   "cell_type": "code",
   "execution_count": 55,
   "id": "e973bd22-54dc-4e72-92d4-75678ec85405",
   "metadata": {},
   "outputs": [],
   "source": [
    "linear_operator = selfinteractions.a_0j_linear_operator(big_l, r) # azimuthal = False"
   ]
  },
  {
   "cell_type": "markdown",
   "id": "b04b428b",
   "metadata": {},
   "source": [
    "Solving the iterative system:"
   ]
  },
  {
   "cell_type": "code",
   "execution_count": 56,
   "id": "1dc92a0e-5a4c-4fd2-9d8a-9c1d321990d0",
   "metadata": {},
   "outputs": [
    {
     "name": "stdout",
     "output_type": "stream",
     "text": [
      "0\n"
     ]
    }
   ],
   "source": [
    "num = (big_l + 1)\n",
    "norms = []\n",
    "\n",
    "solution2, info = scipy.sparse.linalg.gmres(\n",
    "  linear_operator,\n",
    "  b,\n",
    "  tol=10**(-13),\n",
    "  restart=(2 * num)**3,\n",
    "  callback=callback_function,\n",
    "  callback_type='pr_norm')\n",
    "print(info)"
   ]
  },
  {
   "cell_type": "markdown",
   "id": "574c804d",
   "metadata": {},
   "source": [
    "Comparison of the solutions:"
   ]
  },
  {
   "cell_type": "code",
   "execution_count": 57,
   "id": "bf7c3f23-cb51-44b8-97bd-0a47683ef6a2",
   "metadata": {},
   "outputs": [],
   "source": [
    "solution2_1 = extensions.azimuthal_trace_to_general_with_zeros(\n",
    "        big_l, solution2[0:num])\n",
    "solution2_2 = extensions.azimuthal_trace_to_general_with_zeros(\n",
    "        big_l, solution2[num:2 * num])\n",
    "solution2 = np.concatenate((solution2_1, solution2_2))"
   ]
  },
  {
   "cell_type": "code",
   "execution_count": 58,
   "id": "538c3235-1053-455b-aed4-282d96ca90d7",
   "metadata": {},
   "outputs": [
    {
     "name": "stdout",
     "output_type": "stream",
     "text": [
      "4.014976168611859e-16\n"
     ]
    }
   ],
   "source": [
    "print(np.linalg.norm(solution2 - solution))"
   ]
  },
  {
   "cell_type": "markdown",
   "id": "393b0e94-c762-4f1d-8ba5-8471ba7249ed",
   "metadata": {
    "jp-MarkdownHeadingCollapsed": true
   },
   "source": [
    "## `a_j_linear_operator`"
   ]
  },
  {
   "cell_type": "markdown",
   "id": "1ff2d219-9992-4a2b-8cb5-cca1756add64",
   "metadata": {
    "jp-MarkdownHeadingCollapsed": true
   },
   "source": [
    "### Docstring"
   ]
  },
  {
   "cell_type": "code",
   "execution_count": 59,
   "id": "40a36299-96d9-4a1e-9d74-4e6f282f5e1b",
   "metadata": {},
   "outputs": [
    {
     "name": "stdout",
     "output_type": "stream",
     "text": [
      "\n",
      "    Returns a scipy linear operator equivalent to the given by\n",
      "    a_j_matrix.\n",
      "\n",
      "    Parameters\n",
      "    ----------\n",
      "    azimuthal\n",
      "    big_l : int\n",
      "        >= 0, max degree.\n",
      "    r : float\n",
      "        > 0, radius.\n",
      "    azimuthal : bool\n",
      "        Default True.\n",
      "\n",
      "    Returns\n",
      "    -------\n",
      "    linear_operator : sparse.linalg.LinearOperator\n",
      "        a scipy linear operator.\n",
      "\n",
      "    See Also\n",
      "    --------\n",
      "    a_j_matrix\n",
      "\n",
      "    \n"
     ]
    }
   ],
   "source": [
    "print(selfinteractions.a_j_linear_operator.__doc__)"
   ]
  },
  {
   "cell_type": "markdown",
   "id": "0a751464-6708-4966-9ad7-0d5feb9bd789",
   "metadata": {
    "jp-MarkdownHeadingCollapsed": true
   },
   "source": [
    "### Example"
   ]
  },
  {
   "cell_type": "markdown",
   "id": "99217d76-2981-41e6-88ac-eace0af6e42b",
   "metadata": {
    "jp-MarkdownHeadingCollapsed": true
   },
   "source": [
    "#### Simpler example"
   ]
  },
  {
   "cell_type": "markdown",
   "id": "a0c0e11d",
   "metadata": {},
   "source": [
    "Definition of parameters:"
   ]
  },
  {
   "cell_type": "code",
   "execution_count": 60,
   "id": "b474212f-14a6-462f-87c6-712b74a52341",
   "metadata": {},
   "outputs": [],
   "source": [
    "r = 2.5\n",
    "big_l = 2"
   ]
  },
  {
   "cell_type": "markdown",
   "id": "81925fd2",
   "metadata": {},
   "source": [
    "Calling of the function with `azimuthal = True`:"
   ]
  },
  {
   "cell_type": "code",
   "execution_count": 61,
   "id": "3d4a5777-0b4c-4b4e-b819-22093b1ecb31",
   "metadata": {},
   "outputs": [],
   "source": [
    "a_0j = selfinteractions.a_0j_linear_operator(big_l, r) # azimuthal = True"
   ]
  },
  {
   "cell_type": "markdown",
   "id": "a63a1f66",
   "metadata": {},
   "source": [
    "Calling of the function with `azimuthal = False`:"
   ]
  },
  {
   "cell_type": "code",
   "execution_count": 62,
   "id": "f717bb14-0642-466a-9cb1-ce16d9e4db82",
   "metadata": {},
   "outputs": [],
   "source": [
    "a_0j = selfinteractions.a_0j_matrix(big_l, r, azimuthal = False)"
   ]
  },
  {
   "cell_type": "markdown",
   "id": "3fa1de94-1116-4cf7-a976-22ffb33fbab9",
   "metadata": {
    "jp-MarkdownHeadingCollapsed": true
   },
   "source": [
    "#### Comparing with the matrix version"
   ]
  },
  {
   "cell_type": "markdown",
   "id": "4ee7db5e",
   "metadata": {},
   "source": [
    "Definition of parameters:"
   ]
  },
  {
   "cell_type": "code",
   "execution_count": 63,
   "id": "4aa7cf7b-9ea0-4205-b001-39a957b9ddf9",
   "metadata": {},
   "outputs": [],
   "source": [
    "big_l = 5\n",
    "r = 2.5"
   ]
  },
  {
   "cell_type": "markdown",
   "id": "f6eadfb9-baa5-4d4d-a4d3-ac5e20ce604d",
   "metadata": {},
   "source": [
    "Initialization of a random vector as right hand side:"
   ]
  },
  {
   "cell_type": "code",
   "execution_count": 64,
   "id": "99588fcb-5072-409a-966b-52a5ab563ebc",
   "metadata": {},
   "outputs": [],
   "source": [
    "num = big_l + 1\n",
    "b = np.random.random((2*num))"
   ]
  },
  {
   "cell_type": "markdown",
   "id": "de95a2c2",
   "metadata": {},
   "source": [
    "Calling of the functions to be compared"
   ]
  },
  {
   "cell_type": "code",
   "execution_count": 65,
   "id": "09543049-6703-44f5-a8fb-ecd8f502c6a8",
   "metadata": {},
   "outputs": [],
   "source": [
    "linear_operator = selfinteractions.a_j_linear_operator(big_l, r) # azimuthal = True\n",
    "matrix = selfinteractions.a_j_matrix(big_l, r) # azimuthal = True"
   ]
  },
  {
   "cell_type": "markdown",
   "id": "fac7b797",
   "metadata": {},
   "source": [
    "Solving of the iterative system:"
   ]
  },
  {
   "cell_type": "code",
   "execution_count": 66,
   "id": "350ce24e-8060-42d8-bf30-34b072d3f8ad",
   "metadata": {},
   "outputs": [
    {
     "name": "stdout",
     "output_type": "stream",
     "text": [
      "0\n"
     ]
    }
   ],
   "source": [
    "norms = []\n",
    "\n",
    "def callback_function(pr_norm):\n",
    "    norms.append(pr_norm)\n",
    "    return 0.\n",
    "\n",
    "solution, info = scipy.sparse.linalg.gmres(\n",
    "    linear_operator, b,\n",
    "    tol=10**(-9),\n",
    "    restart=(2 * num)**3,\n",
    "    callback=callback_function,\n",
    "    callback_type='pr_norm')\n",
    "print(info)"
   ]
  },
  {
   "cell_type": "markdown",
   "id": "bc99488c",
   "metadata": {},
   "source": [
    "Solving of the direct system:"
   ]
  },
  {
   "cell_type": "code",
   "execution_count": 67,
   "id": "6fedecc6-b954-4c5d-8095-526da7cf889f",
   "metadata": {},
   "outputs": [],
   "source": [
    "solution2 = np.linalg.solve(matrix, b)"
   ]
  },
  {
   "cell_type": "markdown",
   "id": "953a6a3b",
   "metadata": {},
   "source": [
    "Difference between solutions:"
   ]
  },
  {
   "cell_type": "code",
   "execution_count": 68,
   "id": "4d16dced-2d36-4248-8785-4c9f5c5c00b1",
   "metadata": {},
   "outputs": [
    {
     "name": "stdout",
     "output_type": "stream",
     "text": [
      "2.105814259841454e-16\n"
     ]
    }
   ],
   "source": [
    "print(np.linalg.norm(solution2 - solution))"
   ]
  },
  {
   "cell_type": "markdown",
   "id": "dfbc1cf1-c602-4376-a4a9-60ccd31b2837",
   "metadata": {},
   "source": [
    "Which means that solving the numpy array from `a_j_matrix` and the linear operator from `a_j_linear_operator` can be used to solve the same linear system."
   ]
  },
  {
   "cell_type": "markdown",
   "id": "befaceaa-e957-47a5-a6a4-e1c8b11acc8f",
   "metadata": {},
   "source": [
    "Let us see what happens with `azimuthal=False`."
   ]
  },
  {
   "cell_type": "markdown",
   "id": "99afe4c6",
   "metadata": {},
   "source": [
    "Definition of parameters:"
   ]
  },
  {
   "cell_type": "code",
   "execution_count": 69,
   "id": "8ba29641-a50e-4109-955c-52ad3478fcca",
   "metadata": {},
   "outputs": [],
   "source": [
    "big_l = 5\n",
    "r = 2.5"
   ]
  },
  {
   "cell_type": "markdown",
   "id": "4c1b3741",
   "metadata": {},
   "source": [
    "Initialization of a random vector as right hand side:"
   ]
  },
  {
   "cell_type": "code",
   "execution_count": 70,
   "id": "28d37721-98a5-44e6-b7a4-ed49e06114d4",
   "metadata": {},
   "outputs": [],
   "source": [
    "num = (big_l + 1) ** 2\n",
    "b = np.random.random((2*num))"
   ]
  },
  {
   "cell_type": "markdown",
   "id": "529b08ec",
   "metadata": {},
   "source": [
    "Calling of the functions to be compared"
   ]
  },
  {
   "cell_type": "code",
   "execution_count": 71,
   "id": "50423891-da8a-49bf-8d10-6d572cd02573",
   "metadata": {},
   "outputs": [],
   "source": [
    "linear_operator = selfinteractions.a_j_linear_operator(big_l, r, False)\n",
    "matrix = selfinteractions.a_j_matrix(big_l, r, False)"
   ]
  },
  {
   "cell_type": "markdown",
   "id": "8e5a5e63",
   "metadata": {},
   "source": [
    "Solving of the iterative system:"
   ]
  },
  {
   "cell_type": "code",
   "execution_count": 72,
   "id": "c22dcddf-a94d-4878-8b52-c2188663716c",
   "metadata": {},
   "outputs": [
    {
     "name": "stdout",
     "output_type": "stream",
     "text": [
      "0\n"
     ]
    }
   ],
   "source": [
    "norms = []\n",
    "\n",
    "def callback_function(pr_norm):\n",
    "    norms.append(pr_norm)\n",
    "    return 0.\n",
    "\n",
    "solution, info = scipy.sparse.linalg.gmres(\n",
    "    linear_operator, b,\n",
    "    tol=10**(-9),\n",
    "    restart=(2 * num)**3,\n",
    "    callback=callback_function,\n",
    "    callback_type='pr_norm')\n",
    "print(info)"
   ]
  },
  {
   "cell_type": "markdown",
   "id": "5e1ecf73",
   "metadata": {},
   "source": [
    "Solving of the direct system:"
   ]
  },
  {
   "cell_type": "code",
   "execution_count": 73,
   "id": "6c12492e-f484-4efa-ba0f-885c4bb6cf38",
   "metadata": {},
   "outputs": [],
   "source": [
    "solution2 = np.linalg.solve(matrix, b)"
   ]
  },
  {
   "cell_type": "markdown",
   "id": "6d7c3422",
   "metadata": {},
   "source": [
    "Difference between solutions:"
   ]
  },
  {
   "cell_type": "code",
   "execution_count": 74,
   "id": "6bf23007-1adf-4bc2-ad52-422408fd0994",
   "metadata": {},
   "outputs": [
    {
     "name": "stdout",
     "output_type": "stream",
     "text": [
      "3.588362622561678e-16\n"
     ]
    }
   ],
   "source": [
    "print(np.linalg.norm(solution2 - solution))"
   ]
  },
  {
   "cell_type": "markdown",
   "id": "877a287f-9cdb-43e7-896b-4fb809f80647",
   "metadata": {
    "jp-MarkdownHeadingCollapsed": true
   },
   "source": [
    "#### Comparing the azimuthal version against the no azimuthal"
   ]
  },
  {
   "cell_type": "markdown",
   "id": "6cdf014a-d460-45a5-9946-bbb9e277fdee",
   "metadata": {},
   "source": [
    "For a right hand with azimuthal symmetry when extended by 0 to explicitly compute the result without considering the symmetry, the result should be the same with the azimuthal and the not azimuthal versions."
   ]
  },
  {
   "cell_type": "markdown",
   "id": "8c7af0ab",
   "metadata": {},
   "source": [
    "Definition of parameters:"
   ]
  },
  {
   "cell_type": "code",
   "execution_count": 75,
   "id": "618b4f85-55f3-45b7-82ce-8f5ec23e9dd4",
   "metadata": {},
   "outputs": [],
   "source": [
    "big_l = 5\n",
    "r = 2.3"
   ]
  },
  {
   "cell_type": "markdown",
   "id": "b80af83d",
   "metadata": {},
   "source": [
    "Initialization of a random vector as right hand side, and its extension by zero:"
   ]
  },
  {
   "cell_type": "code",
   "execution_count": 76,
   "id": "ed20c428-c40a-4204-aa77-85b7f157ce28",
   "metadata": {},
   "outputs": [],
   "source": [
    "import biosspheres.miscella.extensions as extensions\n",
    "num = (big_l + 1)\n",
    "b = np.random.random((2 * num))\n",
    "b_2_1 = extensions.azimuthal_trace_to_general_with_zeros(\n",
    "    big_l, b[0:num])\n",
    "b_2_2 = extensions.azimuthal_trace_to_general_with_zeros(\n",
    "    big_l, b[num:2 * num])\n",
    "b2 = np.concatenate((b_2_1, b_2_2))"
   ]
  },
  {
   "cell_type": "markdown",
   "id": "f90f49e3",
   "metadata": {},
   "source": [
    "Calling of the function with `azimuthal=False`:"
   ]
  },
  {
   "cell_type": "code",
   "execution_count": 77,
   "id": "3d9b3f2a-362e-406d-be78-18d9c9ec1341",
   "metadata": {},
   "outputs": [],
   "source": [
    "linear_operator = selfinteractions.a_j_linear_operator(big_l, r, False)"
   ]
  },
  {
   "cell_type": "markdown",
   "id": "c5c6f356",
   "metadata": {},
   "source": [
    "Solving of the iterative system:"
   ]
  },
  {
   "cell_type": "code",
   "execution_count": 78,
   "id": "5664ebf7-2cda-4781-a42e-962053e2dd87",
   "metadata": {},
   "outputs": [
    {
     "name": "stdout",
     "output_type": "stream",
     "text": [
      "0\n"
     ]
    }
   ],
   "source": [
    "norms = []\n",
    "\n",
    "def callback_function(pr_norm):\n",
    "    norms.append(pr_norm)\n",
    "    return 0.\n",
    "\n",
    "num = (big_l + 1)**2\n",
    "solution, info = scipy.sparse.linalg.gmres(linear_operator, b2,\n",
    "                                           tol=10**(-13),\n",
    "                                           restart=(2 * num)**3,\n",
    "                                           callback=callback_function,\n",
    "                                           callback_type='pr_norm')\n",
    "print(info)"
   ]
  },
  {
   "cell_type": "markdown",
   "id": "5cbf685f",
   "metadata": {},
   "source": [
    "Calling of the function with `azimuthal=True`:"
   ]
  },
  {
   "cell_type": "code",
   "execution_count": 79,
   "id": "909348ef-a0d0-40ff-b994-66325c0f719a",
   "metadata": {},
   "outputs": [],
   "source": [
    "linear_operator = selfinteractions.a_j_linear_operator(big_l, r) # azimuthal = False"
   ]
  },
  {
   "cell_type": "markdown",
   "id": "043397f2",
   "metadata": {},
   "source": [
    "Solving of the iterative system:"
   ]
  },
  {
   "cell_type": "code",
   "execution_count": 80,
   "id": "e9871f6d-5fbb-4071-9df7-8ff9f03e59e0",
   "metadata": {},
   "outputs": [
    {
     "name": "stdout",
     "output_type": "stream",
     "text": [
      "0\n"
     ]
    }
   ],
   "source": [
    "num = (big_l + 1)\n",
    "norms = []\n",
    "\n",
    "solution2, info = scipy.sparse.linalg.gmres(\n",
    "  linear_operator,\n",
    "  b,\n",
    "  tol=10**(-13),\n",
    "  restart=(2 * num)**3,\n",
    "  callback=callback_function,\n",
    "  callback_type='pr_norm',\n",
    ")\n",
    "print(info)"
   ]
  },
  {
   "cell_type": "markdown",
   "id": "e41de566",
   "metadata": {},
   "source": [
    "Comparison of the solutions:"
   ]
  },
  {
   "cell_type": "code",
   "execution_count": 81,
   "id": "c6d9f728-6380-4456-a6bd-9e04eb13a772",
   "metadata": {},
   "outputs": [],
   "source": [
    "solution2_1 = extensions.azimuthal_trace_to_general_with_zeros(\n",
    "        big_l, solution2[0:num])\n",
    "solution2_2 = extensions.azimuthal_trace_to_general_with_zeros(\n",
    "        big_l, solution2[num:2 * num])\n",
    "solution2 = np.concatenate((solution2_1, solution2_2))"
   ]
  },
  {
   "cell_type": "code",
   "execution_count": 82,
   "id": "cf12485f-f935-4f6a-bd99-f9e9c749702d",
   "metadata": {},
   "outputs": [
    {
     "name": "stdout",
     "output_type": "stream",
     "text": [
      "6.799253034645712e-17\n"
     ]
    }
   ],
   "source": [
    "print(np.linalg.norm(solution2 - solution))"
   ]
  },
  {
   "cell_type": "markdown",
   "id": "ebce6e7b-0d03-40c8-9ed0-053ff1e87690",
   "metadata": {
    "jp-MarkdownHeadingCollapsed": true
   },
   "source": [
    "## `a_0_a_n_sparse_matrices`"
   ]
  },
  {
   "cell_type": "markdown",
   "id": "1b9147e5-e108-4d1f-95e2-cb44ec6fcf02",
   "metadata": {
    "jp-MarkdownHeadingCollapsed": true
   },
   "source": [
    "### Example"
   ]
  },
  {
   "cell_type": "markdown",
   "id": "5e821f09",
   "metadata": {},
   "source": [
    "Definition of parameters:"
   ]
  },
  {
   "cell_type": "code",
   "execution_count": 83,
   "id": "3a8a42e3-f3c0-4f36-9877-155cfc3c01ea",
   "metadata": {},
   "outputs": [],
   "source": [
    "n = 2\n",
    "big_l = 5\n",
    "r = 1.3\n",
    "radii = np.ones(n) * r"
   ]
  },
  {
   "cell_type": "code",
   "execution_count": 84,
   "id": "8b766e3d-4a15-479b-bc05-96d233841850",
   "metadata": {},
   "outputs": [],
   "source": [
    "sparse_big_a_0_self, sparse_big_a_n = selfinteractions.a_0_a_n_sparse_matrices(n, big_l, radii) ## azimuthal = False"
   ]
  },
  {
   "cell_type": "code",
   "execution_count": 85,
   "id": "54c53e8a-add9-49f3-b787-0846a3a863e2",
   "metadata": {},
   "outputs": [],
   "source": [
    "sparse_big_a_0_self, sparse_big_a_n = selfinteractions.a_0_a_n_sparse_matrices(n, big_l, radii, azimuthal=True) ## azimuthal = False"
   ]
  },
  {
   "cell_type": "markdown",
   "id": "fc061097-e646-45b3-b10c-598f68398c1e",
   "metadata": {
    "jp-MarkdownHeadingCollapsed": true
   },
   "source": [
    "## `reduced_a_sparse_matrix`"
   ]
  },
  {
   "cell_type": "markdown",
   "id": "87203a1d-7ca1-47f3-95fa-9d8eb6a86d93",
   "metadata": {
    "jp-MarkdownHeadingCollapsed": true
   },
   "source": [
    "### Example"
   ]
  },
  {
   "cell_type": "markdown",
   "id": "16c2bfc5",
   "metadata": {},
   "source": [
    "Definition of parameters:"
   ]
  },
  {
   "cell_type": "code",
   "execution_count": 86,
   "id": "ff15155c-aec9-450b-9fce-4f88b57af9bb",
   "metadata": {},
   "outputs": [],
   "source": [
    "n = 2\n",
    "big_l = 5\n",
    "r = 1.3\n",
    "radii = np.ones(n) * r\n",
    "pi0 = 0.5\n",
    "pii = np.ones(n) * pi0"
   ]
  },
  {
   "cell_type": "code",
   "execution_count": 87,
   "id": "a0165b2a-a421-4391-b204-2246323d3ee7",
   "metadata": {},
   "outputs": [],
   "source": [
    "reduced_a = selfinteractions.reduced_a_sparse_matrix(n, big_l, radii, pii) # azimuthal = False"
   ]
  },
  {
   "cell_type": "code",
   "execution_count": 88,
   "id": "c62b47ae-87e2-44b0-a469-6f3f4a5050d5",
   "metadata": {},
   "outputs": [],
   "source": [
    "reduced_a = selfinteractions.reduced_a_sparse_matrix(n, big_l, radii, pii, azimuthal=True)"
   ]
  },
  {
   "cell_type": "code",
   "execution_count": null,
   "id": "f60d4da4-59a2-4b62-b2d0-755d23e3a194",
   "metadata": {},
   "outputs": [],
   "source": []
  }
 ],
 "metadata": {
  "kernelspec": {
   "display_name": "Python 3 (ipykernel)",
   "language": "python",
   "name": "python3"
  },
  "language_info": {
   "codemirror_mode": {
    "name": "ipython",
    "version": 3
   },
   "file_extension": ".py",
   "mimetype": "text/x-python",
   "name": "python",
   "nbconvert_exporter": "python",
   "pygments_lexer": "ipython3",
   "version": "3.9.18"
  }
 },
 "nbformat": 4,
 "nbformat_minor": 5
}
