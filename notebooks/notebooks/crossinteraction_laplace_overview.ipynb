{
 "cells": [
  {
   "cell_type": "markdown",
   "id": "184fff06-9cd1-4b25-b2e2-f2bd14bd2a0e",
   "metadata": {},
   "source": [
    "# Overview of functions from cross interactions from Laplace"
   ]
  },
  {
   "cell_type": "markdown",
   "id": "28f7928a-ebc5-4e3e-96dc-99c1fd6ed556",
   "metadata": {},
   "source": [
    "Overview of python functions from `biosspheres.laplace.crossinteractions`."
   ]
  },
  {
   "cell_type": "code",
   "execution_count": 1,
   "id": "ee48373a-a0ff-4707-a951-c833c1caaf99",
   "metadata": {},
   "outputs": [],
   "source": [
    "import biosspheres.laplace.crossinteractions as cross"
   ]
  },
  {
   "cell_type": "code",
   "execution_count": 2,
   "id": "c9063d2a-4a56-4676-a70c-9ebd171e02db",
   "metadata": {},
   "outputs": [],
   "source": [
    "import numpy as np\n",
    "import matplotlib.pyplot as plt\n",
    "import matplotlib.colors as colors\n",
    "import biosspheres.quadratures.sphere as quadratures\n",
    "import biosspheres.miscella.auxindexes as auxindexes"
   ]
  },
  {
   "cell_type": "markdown",
   "id": "cc2dab6c-8ed7-4900-b05a-48a11e8613e9",
   "metadata": {},
   "source": [
    "## Preliminaries"
   ]
  },
  {
   "cell_type": "markdown",
   "id": "430aad52-1ea2-48ad-8184-e3f2dbd10259",
   "metadata": {},
   "source": [
    "### Geometry\n"
   ]
  },
  {
   "cell_type": "markdown",
   "id": "07c1877b-db71-4468-8b5d-82ff26270145",
   "metadata": {},
   "source": [
    "All the python functions assume the following geometry:"
   ]
  },
  {
   "cell_type": "markdown",
   "id": "7a5530c9-2188-4868-9b64-150ff585dbd3",
   "metadata": {},
   "source": [
    "$N$ disjoint spheres in $\\mathbb{R}^3$:\n",
    "- Position vectors of the sphere centers: $\\mathbf{p_j} \\in \\mathbb{R}^3$, with $j \\in \\{1,...,N\\}$.  \n",
    "- Radii: $\\tilde{r}_j\\in \\mathbb{R}^+$, with $j \\in \\{1,...,N\\}$.\n",
    "- Interior of sphere $j$: $\\Omega_j:=\\{ \\mathbf{x} \\in \\mathbb{R}^3:||\\mathbf{x}-\\mathbf{p_j}||_2<\\tilde{r}_j \\}$.\n",
    "- Boundary of sphere $j$: $\\Gamma_j:=\\partial \\Omega_j$.\n",
    "- Exterior medium, $\\Omega_0$: defined as $\\mathbb{R}^3$ without the spheres and their boundaries."
   ]
  },
  {
   "cell_type": "markdown",
   "id": "6ef35104-4fc1-4464-b9f5-e10bb8070f60",
   "metadata": {},
   "source": [
    "\n",
    "### Free space fundamental solution for the Laplace equation"
   ]
  },
  {
   "cell_type": "markdown",
   "id": "69cd17fe-1a9b-4043-8b9d-46340c9bbf72",
   "metadata": {},
   "source": [
    "The free space fundamental solution of the Laplace equation, which satisfies the radiation condition is:\n",
    "$$g\\left(\\mathbf{r},\\mathbf{r'}\\right):= \\frac{1}{4\\pi ||\\mathbf{r}-\\mathbf{r}'||_2}, \\quad \\text{with }\\mathbf{r}\\not = \\mathbf{r'}, \\quad \\text{and }-\\Delta g \\left(\\mathbf{r},\\mathbf{r'}\\right)=\\delta \\left(\\mathbf{r}-\\mathbf{r'}\\right).$$"
   ]
  },
  {
   "cell_type": "markdown",
   "id": "c1ca7f67-f5d9-4355-8908-efa0b7fcd590",
   "metadata": {},
   "source": [
    "This is the kernel of the operators which numerical approximations are python functions from this module."
   ]
  },
  {
   "cell_type": "markdown",
   "id": "dedef543-9026-4807-ac60-3e45e9845265",
   "metadata": {},
   "source": [
    "### Layer operators"
   ]
  },
  {
   "cell_type": "markdown",
   "id": "4af0bee6-4251-400a-a73d-3c4f6637f40f",
   "metadata": {},
   "source": [
    "Single and double layer operators defined for smooth densities:\n",
    "$$DL_{0j} \\left(\\psi\\right)\\left(\\mathbf{r}\\right):=\\int_{\\Gamma_j}  \\psi\\left(\\mathbf{r}'\\right) \\nabla g\\left(\\mathbf{r},\\mathbf{r'}\\right) \\cdot \\widehat{\\mathbf{n}}_{0j} \\ dS',$$\n",
    "$$SL_{0j} \\left(\\psi\\right)\\left(\\mathbf{r}\\right):=\\int_{\\Gamma_j}  {\\psi\\left(\\mathbf{r}'\\right) g\\left(\\mathbf{r},\\mathbf{r'}\\right) dS'},$$\n",
    "$$DL_j \\left(\\psi\\right)\\left(\\mathbf{r}\\right):=\\int_{\\Gamma_j}  {\\psi\\left(\\mathbf{r}'\\right) \\nabla g\\left(\\mathbf{r},\\mathbf{r'}\\right) \\cdot \\widehat{\\mathbf{n}}_{j} \\ dS'},$$\n",
    "$$SL_j \\left(\\psi\\right)\\left(\\mathbf{r}\\right):=\\int_{\\Gamma_j}  {\\psi\\left(\\mathbf{r}' \\right) g\\left(\\mathbf{r},\\mathbf{r'}\\right) dS'}$$\n",
    "\n",
    "with the gradient being taken with respect to $\\mathbf{r}'$, $\\widehat{\\mathbf{n}}_j$ being the exterior normal vector of $\\Omega_j$, and $\\widehat{\\mathbf{n}}_j=-\\widehat{\\mathbf{n}}_{0j}$.\n",
    "\n",
    "These operators are linear and continuous in the following Sobolev spaces:\n",
    "$$DL_{0j}: H^{\\frac{1}{2}}(\\Gamma_j) \\rightarrow H^1_{loc} \\left(\\mathbb{R}^3 \\setminus \\cup_{j=1}^{N}\\Gamma_j\\right),$$\n",
    "$$SL_{0j}: H^{-\\frac{1}{2}}(\\Gamma_j) \\rightarrow H^1_{loc}  \\left(\\mathbb{R}^3 \\setminus \\cup_{j=1}^{N}\\Gamma_j\\right)  , $$\n",
    "$$DL_{j}: H^{\\frac{1}{2}}(\\Gamma_j)\\rightarrow H^1_{loc} \\left(\\mathbb{R}^3 \\setminus \\cup_{j=1}^{N}\\Gamma_j\\right),$$\n",
    "$$SL_{j}: H^{-\\frac{1}{2}}(\\Gamma_j) \\rightarrow H^1_{loc}\\left(\\mathbb{R}^3 \\setminus \\cup_{j=1}^{N}\\Gamma_j\\right).$$"
   ]
  },
  {
   "cell_type": "markdown",
   "id": "31426757-7914-4bd6-a6a1-f665f5752869",
   "metadata": {},
   "source": [
    "### Boundary integral operators"
   ]
  },
  {
   "cell_type": "markdown",
   "id": "5dff58d6-88ab-482f-a1a0-e9bad6e83966",
   "metadata": {},
   "source": [
    "For $u\\in C^\\infty(\\overline\\Omega)$, Dirichlet and Neumann traces operators are defined as \n",
    "$$\\gamma_d u := u|_{\\Gamma},\\qquad \\gamma_n u := \\nabla  u|_{\\Gamma} \\cdot \\widehat{n},$$\n",
    "where $\\widehat{n}$ is the exterior unit normal.\n",
    "\n",
    "By density arguments, the definition of Dirichlet and Neumann traces operator can be extended to $u_j \\in H^1_{loc}(\\Omega_j)$, with $j \\{0, ..., N \\}$. We extend the notation as follows\n",
    "\n",
    "$$\\gamma_d^{0j} u_0 := u_0|_{\\Gamma_j},$$\n",
    "$$\\gamma_d^{j} u_j := u_0|_{\\Gamma_j},$$\n",
    "$$\\gamma_n^{0j} u_0 := \\nabla u_0|_{\\Gamma_j} \\cdot \\widehat{n}_{0j},$$\n",
    "$$\\gamma_n^{j} u_j := \\nabla u_0|_{\\Gamma_j}\\cdot \\widehat{n}_{j},$$\n",
    "where $\\widehat{n}_{j}$ is the exterior normal of $\\Omega_j$, with $j\\in \\{ 1, ..., N\\}$ and $\\widehat{n}_{0j}=-\\widehat{n}_{j}$.\n",
    "\n",
    "Now, we recall the definition of the boundary integral operators:\n",
    "$$\\begin{align*}\n",
    "\tV_{i,j}^0 &:=  \\frac{1}{2} \\left( \\gamma_d^{i} SL_{0j} + \\gamma_d^{0i} SL_{0j} \\right) ,\n",
    "\t& V_{j}&:= \\frac{1}{2} \\left(  \\gamma_d^{0j} SL_{j} + \\gamma_d^{j} SL_{j} \\right) ,\\\\\n",
    "\tK_{i,j}^0&:= \\frac{1}{2} \\left(\\gamma_d^{i} DL_{0j} + \\gamma_d^{0i} DL_{0j} \\right) ,\n",
    "\t&K_{j}&:= \\frac{1}{2} \\left(\\gamma_d^{0j} DL_{j} + \\gamma_d^{j} DL_{j} \\right),\\\\\n",
    "\tK^{*0}_{i,j}&:= \\frac{1}{2} \\left( - \\gamma_n ^{i} SL_{0j} + \\gamma_n ^{0i} SL_{0j}  \\right),\n",
    "\t & K^{*}_{j} &:= \\frac{1}{2} \\left( -\\gamma_n ^{0j} SL_{j}  + \\gamma_n ^{j} SL_{j} \\right), \\\\\n",
    "\tW_{i,j}^0 &:= -\\frac{1}{2} \\left( - \\gamma_n^{i} DL_{0j}  + \\gamma_n^{0i} DL_{0j} \\right) ,\n",
    "\t& W_{j} &:=- \\frac{1}{2} \\left( -\\gamma_n^{0j} DL_{j} + \\gamma_n^{j} DL_{j} \\right).\n",
    "\\end{align*}$$\n",
    "\n",
    "These operators are linear and continuous in the following Sobolev spaces: \n",
    "$$\\begin{align*}\n",
    "\tV_{{i},j}^0 &: H^{-\\frac{1}{2}}(\\Gamma_j) \\rightarrow H^{\\frac{1}{2}}(\\Gamma_i),\n",
    "\t&V_{j}&: H^{-\\frac{1}{2}}(\\Gamma_j) \\rightarrow H^{\\frac{1}{2}}(\\Gamma_j),\\\\\n",
    "\tW_{{i},j}^0&: H^{\\frac{1}{2}}(\\Gamma_j) \\rightarrow H^{-\\frac{1}{2}}(\\Gamma_i),\n",
    "\t&W_{j}&: H^{\\frac{1}{2}}(\\Gamma_j) \\rightarrow H^{-\\frac{1}{2}}(\\Gamma_j) ,\\\\\n",
    "\tK_{{i},j}^0&: H^{\\frac{1}{2}}(\\Gamma_j) \\rightarrow H^{\\frac{1}{2}}(\\Gamma_i),\n",
    "\t&K_{j}&: H^{\\frac{1}{2}}(\\Gamma_j) \\rightarrow H^{\\frac{1}{2}}(\\Gamma_j) ,\\\\\n",
    "\tK^{*0}_{{i},j}&: H^{-\\frac{1}{2}}(\\Gamma_j) \\rightarrow H^{-\\frac{1}{2}}(\\Gamma_i),\n",
    "\t&K^*_{j}&: H^{-\\frac{1}{2}}(\\Gamma_j) \\rightarrow H^{-\\frac{1}{2}}(\\Gamma_j).\n",
    "\\end{align*}$$\n",
    "\n",
    "Since the domains are smooth, the jump relations for the potentials across a closed boundary yield\n",
    "$$\\begin{align*}\n",
    "\tV_{{i},j}^0 &=   \\gamma_d^{0{i}} SL_{0j},\n",
    "\t& V_{j}&=  \\gamma_d^{j} SL_{j},\\\\\n",
    "\tW_{{i},j}^0 &=-  \\gamma_n^{0{i}} DL_{0j},\n",
    "\t& W_{j} &=- \\gamma_n^{j} DL_{j}, \\\\\n",
    "\t  K_{{i},j}^0&= \\gamma_d^{0{i}} DL_{0j},  {i} \\not=j,\n",
    "\t & K^{*0}_{{i},j} &= \\gamma_n ^{0{i}} SL_{0j}, {i}  \\not=j,\n",
    "\\end{align*}$$\n",
    "and\n",
    "$$\\begin{align*}\n",
    "\tK_{j,j}^0(\\psi) &= \\frac{1}{2}\\psi +\\gamma_d^{0j} {DL_{0j}(\\psi)} ,\n",
    "\t&K_{j}(\\psi) &= \\frac{1}{2} \\psi +\\gamma_d^{j} {DL_{j}(\\psi)} ,\\\\\n",
    "\t K^{*0}_{j,j}(\\psi) &= -\\frac{1}{2} \\psi + \\gamma_n^{0j} {SL_{0j}(\\psi)},\n",
    "\t&K^*_{j}(\\psi) &= -\\frac{1}{2} \\psi + \\gamma_n^j {SL_{j}(\\psi)}.\n",
    "\\end{align*}$$"
   ]
  },
  {
   "cell_type": "markdown",
   "id": "0a560354-52b4-4a47-a63c-2a23071ba8a7",
   "metadata": {},
   "source": [
    "### Spherical coordinate system"
   ]
  },
  {
   "cell_type": "markdown",
   "id": "fefe1932-8b7f-4711-846d-1d278a77e934",
   "metadata": {},
   "source": [
    "A vector is written as $\\mathbf{r}=\\left(r,\\varphi,\\theta\\right)^t$, with $r \\in [0,\\infty)$, $\\varphi \\in [0,2\\pi)$ and $\\theta \\in [0,\\pi]$, which in Cartesian coordinates is equivalent to $\\mathbf{r}=r\\left(\\sin \\theta \\cos \\varphi,\\sin \\theta \\sin \\varphi,\\cos \\theta\\right)^t$. The unitary vectors of the spherical coordinate system can be written in Cartesian coordinates as\n",
    "$$\\begin{align*}\n",
    "    &\\widehat{\\mathbf{e}}_r= (\\sin \\theta \\cos \\varphi , \\sin \\theta \\sin \\varphi , \\cos \\theta )^t, \\\\\n",
    "    &\\widehat{\\mathbf{e}}_\\theta=(\\cos \\theta \\cos \\varphi , \\cos \\theta \\sin \\varphi , -\\sin \\theta  )^t, \\\\\n",
    "    &\\widehat{\\mathbf{e}}_{\\varphi}=(-\\sin \\varphi , \\cos \\varphi , 0 )^t.\n",
    "\\end{align*}$$\n",
    "\n",
    "Also, the gradient operator in spherical coordinates:\n",
    "$$\\begin{align*}\n",
    "    \\nabla f&=\\frac{\\partial f}{\\partial r} \\widehat{\\mathbf{e}}_r+\\frac{1}{r} \\frac{\\partial f}{\\partial \\theta} \\widehat{\\mathbf{e}}_\\theta+\\frac{1}{r \\sin \\theta} \\frac{\\partial f}{\\partial \\varphi} \\widehat{\\mathbf{e}}_{\\varphi}\n",
    "\\end{align*}$$"
   ]
  },
  {
   "cell_type": "markdown",
   "id": "d951592b-08dc-43d7-ba80-f9c15459959b",
   "metadata": {},
   "source": [
    "### Associated Legendre functions"
   ]
  },
  {
   "cell_type": "markdown",
   "id": "3889b52b-0006-46fe-aec0-8bc120494b71",
   "metadata": {},
   "source": [
    "$P_l^m$ are the associated Legendre functions of degree $l$ and  order $m$ defined as:\n",
    "$$P_{l}^m\\left(x\\right) := (-1)^m \\left( 1- x^2\\right)^{\\frac{m}{2}} \\frac{d^m}{dx^m}P_l(x),  \\quad P_{l}\\left(x\\right) := \\frac{1}{2^ll!}\\frac{d^l}{dx^l}(x^2-1)^l.$$\n",
    "\n",
    "Here, the term $(-1)^m$ is the Condon-Shortley phase factor."
   ]
  },
  {
   "cell_type": "markdown",
   "id": "84fbc971-bff1-4790-a9d5-cdc6fdd77e40",
   "metadata": {},
   "source": [
    "### Real spherical harmonics"
   ]
  },
  {
   "cell_type": "markdown",
   "id": "162f1fb2-8a4c-4a5f-8cf7-6c0929687790",
   "metadata": {},
   "source": [
    "Real spherical harmonics of degree $l$ and order $m$ are defined using spherical coordinates:\n",
    "$$\\begin{align}\n",
    "\t\t Y_{l,m}\\left(\\theta,\\varphi\\right) &:= \\sqrt{ (2-\\delta_{m,0}) \\frac{\\left(2l+1\\right)\\left(l-m\\right)!}{4 \\pi \\left(l+m\\right)!}} P_l^{m} \\left(\\cos\\theta\\right) \\cos m \\varphi ,\\\\\n",
    "\t\tY_{l,-m}\\left(\\theta,\\varphi\\right) &:= \\sqrt{ (2-\\delta_{m,0})\\frac{\\left(2l+1\\right)\\left(l-m\\right)!}{4 \\pi \\left(l+m\\right)!}} P_l^{m} \\left(\\cos\\theta\\right) \\sin m \\varphi ,\n",
    "\\end{align}$$\n",
    "with $l\\in \\mathbb{N}_0$, $m\\in \\mathbb{Z}$ such that $0\\leq m\\leq l$. If $m=0$, then $\\delta_{m,0}=1$, and it is zero otherwise."
   ]
  },
  {
   "cell_type": "markdown",
   "id": "04743e8f-9eca-4b5e-bf35-676f139ea098",
   "metadata": {},
   "source": [
    "### Orthonormality of spherical harmonics"
   ]
  },
  {
   "cell_type": "markdown",
   "id": "5f0bdc99-0614-48b3-834e-773aa0d6d2f2",
   "metadata": {},
   "source": [
    "Spherical harmonics are dense in $C(\\mathbb{S}^2)$, with $\\mathbb{S}^2$ the surface of the unit sphere, and form a complete orthonormal system in $L^2(\\mathbb{S}^2)$ with respect to the internal product defined by:\n",
    "$$\\left( \\psi , \\xi \\right)_{L^2(\\mathbb{S}^2)} = \\int_{0}^{2\\pi}\\int_{0}^{\\pi} \\psi\\left(\\theta,\\varphi\\right) \\xi\\left(\\theta,\\varphi\\right) \\sin\\left(\\theta\\right) d\\theta d\\varphi.$$\n",
    "\n",
    "They also are orthogonal in $H^1(\\mathbb{S}^2)$."
   ]
  },
  {
   "cell_type": "markdown",
   "id": "ca5e406a-f8f1-4408-8ebd-e54ac358dcb5",
   "metadata": {},
   "source": [
    "### Reference systems"
   ]
  },
  {
   "cell_type": "markdown",
   "id": "c20887a9-2d26-47a3-ac8b-53dcd1759b9e",
   "metadata": {},
   "source": [
    "Let be $j\\in \\{1,...,N\\}$. We define the reference system $j$ as the one centered at $\\mathbf{p_j}$ with the same orientation that the reference system centered in the origin. Furthermore, we denote by $Y_{l,m,j}$ the spherical harmonic $Y_{l,m}$ centered in the origin of the reference system $j$. Thus, if $\\left( r_j, \\varphi_j, \\theta_j \\right) $ are the vector spherical coordinates of $\\mathbf{r_j}$ in the reference system $j$, we have that $Y_{l,m,j}\\left(\\mathbf{r}_j\\right)=Y_{l,m}\\left(\\theta_j, \\varphi_j\\right)$."
   ]
  },
  {
   "cell_type": "markdown",
   "id": "6a688f45-ad62-465f-9237-8f8fb71f7140",
   "metadata": {},
   "source": [
    "### Some expansions in spherical harmonics"
   ]
  },
  {
   "cell_type": "markdown",
   "id": "38e033ab-5097-4933-8554-eae0ea82f8fe",
   "metadata": {},
   "source": [
    "#### Expansion of the fundamental solution"
   ]
  },
  {
   "cell_type": "markdown",
   "id": "6fdb37f5-d913-4f6e-b7f3-0b499232990f",
   "metadata": {},
   "source": [
    "Let $\\mathbf{r}$, $\\mathbf{r}'$ be vectors, whose spherical coordinates in the reference system $j$ are $\\left(r_j,\\theta_j, \\varphi_j \\right)$ and $\\left(r_j',\\theta_j', \\varphi_j' \\right)$, respectively. For $r_j>r_j'$ we have\n",
    "$$g\\left(\\mathbf{r}, \\mathbf{r}'\\right) = \\sum_{l=0}^{\\infty}  \\frac{1}{2l+1} \\frac{r_j^{'l}}{r_j^{l+1}}\\sum_{m=-l}^l Y_{l,m,j}\\left(\\mathbf{r}\\right)  Y_{l,m,j}\\left(\\mathbf{r}'\\right).$$\n",
    "This series  and its term by term first derivatives with respect to $r_j$ or $r_j'$ are absolutely and uniformly convergent on compact subsets with $r_j>r_j'$."
   ]
  },
  {
   "cell_type": "markdown",
   "id": "40c3dcb2-e35d-42f9-a813-a0c5f171ee51",
   "metadata": {},
   "source": [
    "#### Results for layer potentials"
   ]
  },
  {
   "cell_type": "markdown",
   "id": "2dc5fcc3-4ed9-40b5-ab0c-c6529241f978",
   "metadata": {},
   "source": [
    "Let be $j\\in \\{1,\\ldots,N\\}$, and $\\tilde{r}_j$ the radius of $\\Omega_j$.\n",
    "- Let $\\mathbf{r} \\in \\Omega_0$ and $\\mathbf{r}=(r,\\theta,\\varphi )$ be expressed in the $j$th spherical coordinate system, then\n",
    "$$\\begin{align*}\n",
    "    DL_{0j} ( Y_{l,m,j}) (\\mathbf{r}) &= -\\frac{l}{2l+1} \\left( \\frac{\\tilde{r}_j}{r} \\right)^{l+1} Y_{l,m}(\\theta, \\varphi ),\\\\\n",
    "    SL_{0j} ( Y_{l,m,j}) (\\mathbf{r}) &= \\frac{\\tilde{r}_j}{2l+1} \\left( \\frac{\\tilde{r}_j}{r} \\right)^{l+1} Y_{l,m}(\\theta, \\varphi ).\n",
    "\\end{align*}$$\n",
    "- Let $\\mathbf{r} \\in \\Omega_j$ and $\\mathbf{r}=(r,\\theta,\\varphi )$ expressed in the $j$th spherical coordinate system, then\n",
    "$$\\begin{align*}\n",
    "    DL_{j} ( Y_{l,m,j}) (\\mathbf{r}) &= -\\frac{l+1}{2l+1} \\left( \\frac{r}{\\tilde{r}_j} \\right)^{l} Y_{l,m}(\\theta, \\varphi ),\\\\\n",
    "    SL_{j} ( Y_{l,m,j}) (\\mathbf{r}) &= \\frac{\\tilde{r}_j}{2l+1} \\left( \\frac{r}{\\tilde{r}_j} \\right)^{l} Y_{l,m}(\\theta, \\varphi ).\n",
    "\\end{align*}$$"
   ]
  },
  {
   "cell_type": "markdown",
   "id": "586bb1ca-5979-48a7-b9dd-38caf0510d7f",
   "metadata": {},
   "source": [
    "#### Results for operators of Cross-interactions"
   ]
  },
  {
   "cell_type": "markdown",
   "id": "728293a6-c2c1-41e3-a107-29276dd5a607",
   "metadata": {},
   "source": [
    "The following holds\n",
    "$$\\begin{align*}\n",
    "\\left( V_{i,j}^0\\left( Y_{l,m,j} \\right) ; Y_{p,q,i} \\right)_{L^2(\\Gamma_i)} &= \\left( V_{j,i}^0\\left( Y_{p,q,i} \\right) ; Y_{l,m,j} \\right)_{L^2(\\Gamma_j)},\\\\\n",
    "\\left( K_{i,j}^0\\left( Y_{l,m,j} \\right) ; Y_{p,q,i} \\right)_{L^2(\\Gamma_i)} &= - \\frac{l}{\\tilde{r}_j} \\left( V_{i,j}^0\\left( Y_{l,m,j} \\right) ; Y_{p,q,i} \\right)_{L^2(\\Gamma_i)}, \\\\\n",
    "\\left( K_{j,i}^{*0}\\left( Y_{p,q,i} \\right) ; Y_{l,m,j} \\right)_{L^2(\\Gamma_j)} &= \\left( K_{i,j}^0\\left( Y_{l,m,j} \\right) ; Y_{p,q,i} \\right)_{L^2(\\Gamma_i)}, \\\\\n",
    "\\left( W_{i,j}^0\\left( Y_{l,m,j} \\right) ; Y_{p,q,i} \\right)_{L^2(\\Gamma_i)} &= \\frac{l}{\\tilde{r}_j} \\left( K_{i,j}^{*0}\\left( Y_{l,m,j} \\right) ; Y_{p,q,i} \\right)_{L^2(\\Gamma_i)} .\n",
    "\\end{align*}$$\n",
    "It can be deduced that the integrals of all the cross-interactions of a couple of spheres $i$ and $j$ can be derived having the results of the expression $\\left( V_{i,j}^0\\left( Y_{l,m,j} \\right) ; Y_{p,q,i} \\right)_{L^2(\\Gamma_i)}$ for all of the $l$, $m$, $p$ and $q$ needed, which avoids the need of computing numerically the other integral expressions."
   ]
  },
  {
   "cell_type": "markdown",
   "id": "7390b679-409c-439e-9ea9-c7be180684c0",
   "metadata": {},
   "source": [
    "## Comments on the numerical algorithms implemented"
   ]
  },
  {
   "cell_type": "markdown",
   "id": "f06301c0-ba78-449e-8b68-814f2f0474b8",
   "metadata": {},
   "source": [
    "Cross-interaction operators, e.g.~$V_{i,j}^0$ for  $i \\not = j$, are non-singular, but are non diagonalizable. The double and single layer operators analytic expressions are used in the numerical computation of the boundary integral operators: \n",
    "$$\\begin{align}\n",
    "\t\\left( V_{i,j}^0\\left( Y_{l,m,j} \\right) ; Y_{p,q,i} \\right)_{L^2(\\Gamma_i)} &= \\int_{\\Gamma_i} SL_{0j}(Y_{l,m,j}) Y_{p,q,i} \\ d \\Gamma_i ,\\\\\n",
    "\t\\left( K_{i,j}^0\\left( Y_{l,m,j} \\right) ; Y_{p,q,i} \\right)_{L^2(\\Gamma_i)} &= \\int_{\\Gamma_i} DL_{0j}(Y_{l,m,j}) Y_{p,q,i}  \\ d \\Gamma_i,\\\\\n",
    "\t\\left( K^{*0}_{i,j}\\left( Y_{l,m,j} \\right) ; Y_{p,q,i} \\right)_{L^2(\\Gamma_i)} &= \\int_{\\Gamma_i}  \\widehat{\\mathbf{n}}_{0i} \\cdot\\nabla SL_{0j}(Y_{l,m,j})  Y_{p,q,i} \\ d \\Gamma_i,\\\\\n",
    "\t\\left( W_{i,j}^0\\left( Y_{l,m,j} \\right)  ; Y_{p,q,i} \\right)_{L^2(\\Gamma_i)} &= - \\int_{\\Gamma_i}   \\widehat{\\mathbf{n}}_{0i}\\cdot \\nabla DL_{0j}(Y_{l,m,j}) Y_{p,q,i} \\ d \\Gamma_i .\n",
    "\\end{align}$$\n",
    "\n",
    "Approximations of this integrals are provided via Gauss-Legendre quadratures. Specifically, along $\\theta$, we use the change of variable $u=cos(\\theta)$. Then, variable functions are sampled at the zeros of the Legendre Polynomial of degree $L_c+1$, whereas the trapezoidal rule is applied to equally spaced nodes in $\\varphi$, with $2L_c+1$ points. If the function being integrated has a spherical harmonic expansion with coefficients equal to zero for degrees higher than $L_c$, then the quadrature yields the exact result, assuming that there are not other sources of error. Moreover, the integral in the variable $\\varphi$ can be computed using the Fast Fourier Transform."
   ]
  },
  {
   "cell_type": "markdown",
   "id": "62f68ab0-1be7-4b7c-8d28-8ee59c2db420",
   "metadata": {},
   "source": [
    "## `v_0_sj_semi_analytic_v1d`"
   ]
  },
  {
   "cell_type": "markdown",
   "id": "6ba8a5fa-3347-46a2-9aa2-e9de9dba2755",
   "metadata": {},
   "source": [
    "This function returns a numpy array of two dimensions, which we will call `data_v`. The entries of the array are\n",
    "$$data_v[p(2p + 1) + q, l(2l + 1) + m] = ( V_{s,j}^0 Y_{l,m,j} , Y_{p,q,s} )_{L^2(\\mathcal{S}_s)}.$$\n",
    "with Laplace kernel."
   ]
  },
  {
   "cell_type": "markdown",
   "id": "ccc1052c-8240-40f9-b8b0-17c1eb1bd14d",
   "metadata": {},
   "source": [
    "The `1d` on the name of the routine indicates the type of input it needs. See the following sections for details."
   ]
  },
  {
   "cell_type": "markdown",
   "id": "de38b791-c238-49f3-bfd2-8d836da0018c",
   "metadata": {},
   "source": [
    "### Docstring"
   ]
  },
  {
   "cell_type": "code",
   "execution_count": 3,
   "id": "b1b4456b-70c1-4e1b-8f7f-c8d74afebd18",
   "metadata": {},
   "outputs": [
    {
     "name": "stdout",
     "output_type": "stream",
     "text": [
      "\n",
      "    Returns a numpy array that represents a numerical approximation of\n",
      "    the matrix formed by the boundary integral operator V_{s,j}^0 with\n",
      "    Laplace kernel evaluated and tested with real spherical harmonics.\n",
      "    In this routine the quadrature points NEED to be ordered in an array\n",
      "    of one dimension.\n",
      "    It is a SLOW routine, because it does not have performance\n",
      "    improvements for the real spherical harmonic transform algorithm.\n",
      "\n",
      "    Notes\n",
      "    -----\n",
      "    data_v[p(2p + 1) + q, l(2l + 1) + m] =\n",
      "        ( V_{s,j}^0 Y_{l,m,j} ; Y_{p,q,s} )_{L^2(S_s)}\n",
      "    Y_{l,m,j} : spherical harmonic degree l, order m, in the coordinate\n",
      "        system j.\n",
      "    S_s : surface of the sphere s.\n",
      "\n",
      "    The expression V_{s,j}^0 Y_{l,m,j} is analytic. A quadrature scheme\n",
      "    is used to compute the surface integral corresponding to the inner\n",
      "    product.\n",
      "\n",
      "    Parameters\n",
      "    ----------\n",
      "    big_l : int\n",
      "        >= 0, max degree of spherical harmonics used.\n",
      "    r_j : float\n",
      "        > 0, radius of the sphere j.\n",
      "    r_s : float\n",
      "        > 0, radius of the sphere s.\n",
      "    r_coord : np.ndarray\n",
      "        Array of floats with the spherical coordinate r of the\n",
      "        quadrature points in the coordinate system s. Length equals to\n",
      "        final_length. Can come from the\n",
      "        function from_sphere_s_cartesian_to_j_spherical_1d of the module\n",
      "        biosspheres.quadratures.spheres.\n",
      "    phi_coord : np.ndarray\n",
      "        Array of floats with the phi coordinate r of the quadrature\n",
      "        points in the coordinate system s. Length equals to\n",
      "        final_length. Can come from the function\n",
      "        from_sphere_s_cartesian_to_j_spherical_1d of the module\n",
      "        biosspheres.quadratures.spheres.\n",
      "    cos_theta_coord : np.ndarray\n",
      "        Array of floats with the cosine of the spherical coordinate\n",
      "        theta of the quadrature points in the coordinate system s.\n",
      "        Lengths equal to final_length. Can come from the function\n",
      "        from_sphere_s_cartesian_to_j_spherical_1d of the module\n",
      "        biosspheres.quadratures.spheres.\n",
      "    final_length : int\n",
      "        How many points for the surface integral.\n",
      "        Can come from the function spherical_harmonic_transform_1d of\n",
      "        the module biosspheres.quadratures.spheres.\n",
      "    transform : np.ndarray\n",
      "        of floats, for doing the real spherical harmonic transform.\n",
      "        Can come from the function real_spherical_harmonic_transform_1d\n",
      "        of the module biosspheres.quadratures.spheres.\n",
      "\n",
      "    Returns\n",
      "    -------\n",
      "    data_v : numpy array\n",
      "        of floats. Shape ((big_l+1)**2, (big_l+1)**2).\n",
      "        See notes for the indexes ordering.\n",
      "\n",
      "    See Also\n",
      "    --------\n",
      "    v_0_sj_semi_analytic_v2d\n",
      "\n",
      "    \n"
     ]
    }
   ],
   "source": [
    "print(cross.v_0_sj_semi_analytic_v1d.__doc__)"
   ]
  },
  {
   "cell_type": "markdown",
   "id": "e1c3269a-5bc1-469f-8426-3b17def9b180",
   "metadata": {},
   "source": [
    "### Example"
   ]
  },
  {
   "cell_type": "markdown",
   "id": "bdbcef7b-3a67-47eb-ad3f-8ae5a8014f60",
   "metadata": {},
   "source": [
    "Definition of the parameters:"
   ]
  },
  {
   "cell_type": "markdown",
   "id": "11a875ef-dc69-422e-9ad5-d23822e27597",
   "metadata": {},
   "source": [
    "Radii:"
   ]
  },
  {
   "cell_type": "code",
   "execution_count": 4,
   "id": "2b7118a2-a011-4506-a53d-f2977b56ad56",
   "metadata": {},
   "outputs": [],
   "source": [
    "radio_1 = 3.\n",
    "radio_2 = 2.\n",
    "rs = np.asarray([radio_1, radio_2])"
   ]
  },
  {
   "cell_type": "markdown",
   "id": "7653c89d-bf75-4fea-8382-a0af6ddc9d3d",
   "metadata": {},
   "source": [
    "Center positions of the spheres:"
   ]
  },
  {
   "cell_type": "code",
   "execution_count": 5,
   "id": "3f98d4fa-e647-4603-ab5b-4d8ae2de3589",
   "metadata": {},
   "outputs": [],
   "source": [
    "p_1 = np.asarray([2., 3., 4.])\n",
    "p_2 = -p_1"
   ]
  },
  {
   "cell_type": "markdown",
   "id": "2d8c0889-9c13-465a-8d42-e3df1bf315ca",
   "metadata": {},
   "source": [
    "Maximum degree of spherical harmonics used, and parameter for the quadrature rule:"
   ]
  },
  {
   "cell_type": "code",
   "execution_count": 6,
   "id": "95233fb1-50c1-48b6-9538-c43c8a0ab485",
   "metadata": {},
   "outputs": [],
   "source": [
    "big_l = 18\n",
    "big_l_c = 25"
   ]
  },
  {
   "cell_type": "markdown",
   "id": "0f53094f-86a6-4722-bb1f-be8ad6141d9e",
   "metadata": {},
   "source": [
    "Auxiliary parameters that use the ones previously defined, which are related to the implemented quadrature, this differs from the routines without the `1d` in its name:"
   ]
  },
  {
   "cell_type": "code",
   "execution_count": 7,
   "id": "d6363545-171e-4c82-9b70-17657deaf066",
   "metadata": {},
   "outputs": [],
   "source": [
    "final_length, pre_vector_t, transform = quadratures.real_spherical_harmonic_transform_1d(big_l, big_l_c)"
   ]
  },
  {
   "cell_type": "code",
   "execution_count": 8,
   "id": "ce117336-a33c-4b2b-a288-4baef5e1a723",
   "metadata": {},
   "outputs": [],
   "source": [
    "r_coord_1tf, phi_coord_1tf, cos_theta_coord_1tf = quadratures.from_sphere_s_cartesian_to_j_spherical_1d(\n",
    "    radio_2, p_1, p_2, final_length, pre_vector_t)\n",
    "r_coord_2tf, phi_coord_2tf, cos_theta_coord_2tf = quadratures.from_sphere_s_cartesian_to_j_spherical_1d(\n",
    "    radio_1, p_2, p_1, final_length, pre_vector_t)"
   ]
  },
  {
   "cell_type": "markdown",
   "id": "f34a13c5-2175-45d8-bb38-0a9ac1ce09db",
   "metadata": {},
   "source": [
    "Now, we can obtain the arrays for the $V_{2,1}^0$ and $V_{1,2}^0$ operators (notice how their inputs are different depending on the subindexes):"
   ]
  },
  {
   "cell_type": "code",
   "execution_count": 9,
   "id": "b21e5c49-3229-43e3-a556-ef3531762819",
   "metadata": {},
   "outputs": [],
   "source": [
    "data_v21 = cross.v_0_sj_semi_analytic_v1d(\n",
    "    big_l, radio_1, radio_2, r_coord_1tf, phi_coord_1tf,\n",
    "    cos_theta_coord_1tf, final_length, transform)\n",
    "data_v12 = cross.v_0_sj_semi_analytic_v1d(\n",
    "    big_l, radio_2, radio_1, r_coord_2tf, phi_coord_2tf,\n",
    "    cos_theta_coord_2tf, final_length, transform)"
   ]
  },
  {
   "cell_type": "markdown",
   "id": "4c89a0b9-fc41-4e36-91ee-1390a8a5ad6b",
   "metadata": {},
   "source": [
    "One of the properties of the cross-interactions given in the preliminaries results in `data_v21 = data_v12`$^t$. As this a numerical approximation, we will not have the equality."
   ]
  },
  {
   "cell_type": "markdown",
   "id": "07344166",
   "metadata": {},
   "source": [
    "The absolute error obtained is good:"
   ]
  },
  {
   "cell_type": "code",
   "execution_count": 10,
   "id": "97cf83ea",
   "metadata": {},
   "outputs": [
    {
     "data": {
      "image/png": "[encoded data removed]",
      "text/plain": [
       "<Figure size 480x360 with 2 Axes>"
      ]
     },
     "metadata": {},
     "output_type": "display_data"
    }
   ],
   "source": [
    "plt.figure(dpi=75., layout='constrained')\n",
    "im = np.abs(data_v12 - data_v21.T)\n",
    "plt.imshow(im)\n",
    "plt.colorbar()\n",
    "plt.title('Absolute error between data_v21 and data_v12$^t$.')\n",
    "plt.show()"
   ]
  },
  {
   "cell_type": "markdown",
   "id": "55711a69",
   "metadata": {},
   "source": [
    "However, the relative error of each entry is not good for all values, specially when the entries are near to zero:"
   ]
  },
  {
   "cell_type": "code",
   "execution_count": 11,
   "id": "2166a892-67ba-4d71-a344-3a71c1a6e3f2",
   "metadata": {},
   "outputs": [
    {
     "name": "stderr",
     "output_type": "stream",
     "text": [
      "C:\\Users\\there\\AppData\\Local\\Temp\\ipykernel_7616\\2109776671.py:3: RuntimeWarning: divide by zero encountered in log\n",
      "  plt.imshow(np.log(im), cmap='RdBu', norm=colors.CenteredNorm(vcenter=-10))\n"
     ]
    },
    {
     "data": {
      "image/png": "[encoded data removed]",
      "text/plain": [
       "<Figure size 480x360 with 2 Axes>"
      ]
     },
     "metadata": {},
     "output_type": "display_data"
    }
   ],
   "source": [
    "plt.figure(dpi=75., layout='constrained')\n",
    "im = np.abs(data_v12 - data_v21.T) / np.abs(data_v12)\n",
    "plt.imshow(np.log(im), cmap='RdBu', norm=colors.CenteredNorm(vcenter=-10))\n",
    "plt.colorbar()\n",
    "plt.title('Logarithm of the relative error between data_v21 and data_v12$^t$.')\n",
    "plt.show()"
   ]
  },
  {
   "cell_type": "markdown",
   "id": "7aa9f0ad",
   "metadata": {},
   "source": [
    "The checking of this property could be useful, specially when the relative error increases for some entries when using higher degrees of spherical harmonics."
   ]
  },
  {
   "cell_type": "markdown",
   "id": "a4c475be-9802-4a78-b1a8-318b94e64193",
   "metadata": {},
   "source": [
    "## `v_0_sj_semi_analytic_v2d`"
   ]
  },
  {
   "cell_type": "markdown",
   "id": "2eeb41c0-faac-47ad-b902-c1cb05439d4c",
   "metadata": {},
   "source": [
    "This function returns a numpy array of two dimensions, which we will call `data_v`. The entries of the array are\n",
    "$$data_v[p(2p + 1) + q, l(2l + 1) + m] = ( V_{s,j}^0 Y_{l,m,j} , Y_{p,q,s} )_{L^2(\\mathcal{S}_s)}.$$"
   ]
  },
  {
   "cell_type": "markdown",
   "id": "4db11142-c16e-4d15-8ffd-da26c38966c7",
   "metadata": {},
   "source": [
    "It is the same than `v_0_sj_semi_analytic_v1d`, but with different inputs. For bigger computations this one is faster."
   ]
  },
  {
   "cell_type": "markdown",
   "id": "bb35d0a1-5004-4f57-a5ca-0fd12954ff25",
   "metadata": {},
   "source": [
    "See the following section for details."
   ]
  },
  {
   "cell_type": "markdown",
   "id": "0b49906d-fd77-45c9-8e1a-f964908c4e32",
   "metadata": {},
   "source": [
    "### Docstring"
   ]
  },
  {
   "cell_type": "code",
   "execution_count": 12,
   "id": "6295686e-6bd9-40e8-b972-f18ed0441fb1",
   "metadata": {},
   "outputs": [
    {
     "name": "stdout",
     "output_type": "stream",
     "text": [
      "\n",
      "    Returns a numpy array that represents a numerical approximation of\n",
      "    the matrix formed by the boundary integral operator V_{s,j}^0 with\n",
      "    Laplace kernel evaluated and tested with real spherical harmonics.\n",
      "    In this routine the quadrature points NEED to be ordered in an array\n",
      "    of two dimensions, given by the function\n",
      "    from_sphere_s_cartesian_to_j_spherical_2d of the module\n",
      "    biosspheres.quadratures.spheres.\n",
      "\n",
      "    Notes\n",
      "    -----\n",
      "    data_v[p(2p + 1) + q, l(2l + 1) + m] =\n",
      "        ( V_{s,j}^0 Y_{l,m,j} ; Y_{p,q,s} )_{L^2(S_s)}.\n",
      "    Y_{l,m,j} : spherical harmonic degree l, order m, in the coordinate\n",
      "        system j.\n",
      "    S_s : surface of the sphere s.\n",
      "\n",
      "    The expression V_{s,j}^0 Y_{l,m,j} is analytic. A quadrature scheme\n",
      "    is used to compute the surface integral corresponding to the inner\n",
      "    product.\n",
      "\n",
      "    It uses functions from the package pyshtools to compute the\n",
      "    spherical harmonic transforms. These functions have performance\n",
      "    improvements.\n",
      "\n",
      "    Parameters\n",
      "    ----------\n",
      "    big_l : int\n",
      "        >= 0, max degree of spherical harmonics used.\n",
      "    r_j : float\n",
      "        > 0, radius of the sphere j.\n",
      "    r_s : float\n",
      "        > 0, radius of the sphere s.\n",
      "    r_coord : np.ndarray\n",
      "        Two dimensional array of floats with the spherical coordinate r\n",
      "        of the quadrature points in the coordinate system s.\n",
      "        Shape equals to (quantity_theta_points, quantity_phi_points).\n",
      "        Comes from the function\n",
      "        from_sphere_s_cartesian_to_j_spherical_2d of the module\n",
      "        biosspheres.quadratures.spheres.\n",
      "    phi_coord : np.ndarray\n",
      "        Two dimensional array of floats with the phi coordinate r of the\n",
      "        quadrature points in the coordinate system s. Shape equals to\n",
      "        (quantity_theta_points, quantity_phi_points).\n",
      "        Comes from the function\n",
      "        from_sphere_s_cartesian_to_j_spherical_2d of the module\n",
      "        biosspheres.quadratures.spheres.\n",
      "    cos_theta_coord : np.ndarray\n",
      "        Two dimensional array of floats with the cosine of the spherical\n",
      "        coordinate theta of the quadrature points in the coordinate\n",
      "        system s. Shape equals to\n",
      "        (quantity_theta_points, quantity_phi_points). Comes from the\n",
      "        function from_sphere_s_cartesian_to_j_spherical_2d of\n",
      "        the module biosspheres.quadratures.spheres.\n",
      "    weights : np.ndarray\n",
      "        of floats. Weights for the integral quadrature in the theta\n",
      "        variable. Comes from the function\n",
      "        gauss_legendre_trapezoidal_shtools_2d\n",
      "        from the module biosspheres.quadratures.spheres.\n",
      "    zeros : np.ndarray\n",
      "        of floats. Zeros of the integral quadrature in the theta\n",
      "        variable. Comes from the function\n",
      "        gauss_legendre_trapezoidal_shtools_2d\n",
      "        from the module biosspheres.quadratures.spheres.\n",
      "    quantity_theta_points : int\n",
      "        how many points for the integral in theta.\n",
      "        Can come from the function\n",
      "        gauss_legendre_trapezoidal_shtools_2d\n",
      "        from the module biosspheres.quadratures.spheres.\n",
      "    quantity_phi_points : int\n",
      "        how many points for the integral in phi.\n",
      "        Comes from the function\n",
      "        gauss_legendre_trapezoidal_shtools_2d\n",
      "        from the module biosspheres.quadratures.spheres.\n",
      "    pesykus : np.ndarray\n",
      "        dtype int, shape ((big_l+1) * big_l // 2, 2).\n",
      "        Used for the vectorization of some computations.\n",
      "        Comes from the function\n",
      "        biosspheres.miscella.auxindexes.pes_y_kus(big_l)\n",
      "    p2_plus_p_plus_q : np.ndarray\n",
      "        dtype int, length (big_l+1) * big_l // 2.\n",
      "        Used for the vectorization of some computations.\n",
      "        Comes from the function\n",
      "        biosspheres.miscella.auxindexes.pes_y_kus(big_l)\n",
      "    p2_plus_p_minus_q : np.ndarray\n",
      "        dtype int, length (big_l+1) * big_l // 2.\n",
      "        Used for the vectorization of some computations.\n",
      "        Comes from the function\n",
      "        biosspheres.miscella.auxindexes.pes_y_kus(big_l)\n",
      "\n",
      "    Returns\n",
      "    -------\n",
      "    data_v : numpy array\n",
      "        of floats. Shape ((big_l+1)**2, (big_l+1)**2).\n",
      "        See notes for the indexes ordering.\n",
      "\n",
      "    See Also\n",
      "    --------\n",
      "    v_0_sj_semi_analytic_v1d\n",
      "\n",
      "    \n"
     ]
    }
   ],
   "source": [
    "print(cross.v_0_sj_semi_analytic_v2d.__doc__)"
   ]
  },
  {
   "cell_type": "markdown",
   "id": "4ef4880a-5980-4706-987d-82c926289d1e",
   "metadata": {},
   "source": [
    "### Example"
   ]
  },
  {
   "cell_type": "markdown",
   "id": "53d831f3-c596-40ea-b27d-36e063b92652",
   "metadata": {},
   "source": [
    "Definition of parameters:"
   ]
  },
  {
   "cell_type": "markdown",
   "id": "be85e039-15a7-4775-8e23-c09c7ad032fe",
   "metadata": {},
   "source": [
    "Radii:"
   ]
  },
  {
   "cell_type": "code",
   "execution_count": 13,
   "id": "5d0c17c4-1bc0-42df-9d3f-5b768ca8d14d",
   "metadata": {},
   "outputs": [],
   "source": [
    "radio_1 = 3.\n",
    "radio_2 = 2."
   ]
  },
  {
   "cell_type": "markdown",
   "id": "b7d4c442-5314-4ae8-ac7f-1e3485eb0429",
   "metadata": {},
   "source": [
    "Center positions of the spheres:"
   ]
  },
  {
   "cell_type": "code",
   "execution_count": 14,
   "id": "01b93db1-c3c5-40ee-b5ec-dd943558f8be",
   "metadata": {},
   "outputs": [],
   "source": [
    "p_1 = np.asarray([2., 3., 4.])\n",
    "p_2 = -p_1"
   ]
  },
  {
   "cell_type": "markdown",
   "id": "bb13d1d6-6a54-4e71-a829-39db759b18eb",
   "metadata": {},
   "source": [
    "Maximum degree of spherical harmonics used, and parameter for the quadrature rule:"
   ]
  },
  {
   "cell_type": "code",
   "execution_count": 15,
   "id": "ed5a8532-1376-4576-a5ce-26c196dc8bed",
   "metadata": {},
   "outputs": [],
   "source": [
    "big_l = 10\n",
    "big_l_c = 25"
   ]
  },
  {
   "cell_type": "markdown",
   "id": "069ad0bc-13b6-4d1d-a7e2-a23309825ba4",
   "metadata": {},
   "source": [
    "Auxiliary parameters that use the ones previously defined, which are related to the implemented quadrature. This differs from the routines without the `2d` in its name:"
   ]
  },
  {
   "cell_type": "code",
   "execution_count": 16,
   "id": "1576868a-4e2a-49cb-801a-b103d9ccef63",
   "metadata": {},
   "outputs": [],
   "source": [
    "quantity_theta_points, quantity_phi_points, weights, pre_vector_t_2d = \\\n",
    "    quadratures.gauss_legendre_trapezoidal_2d(big_l_c)\n",
    "r_coord_1tf_2d, phi_coord_1tf_2d, cos_theta_coord_1tf_2d = (\n",
    "        quadratures.from_sphere_s_cartesian_to_j_spherical_2d(\n",
    "            radio_2, p_1, p_2, quantity_theta_points, quantity_phi_points,\n",
    "            pre_vector_t_2d))\n",
    "pesykus, p2_plus_p_plus_q, p2_plus_p_minus_q = auxindexes.pes_y_kus(big_l)"
   ]
  },
  {
   "cell_type": "markdown",
   "id": "17e9c6a1-45e5-4e04-9e19-9cdd5d203d63",
   "metadata": {},
   "source": [
    "Now, we can obtain the array for the $V_{2,1}^0$ operator:"
   ]
  },
  {
   "cell_type": "code",
   "execution_count": 17,
   "id": "ccc3a793-6ac4-4d03-bb4a-2144e4cd0378",
   "metadata": {},
   "outputs": [],
   "source": [
    "data_v21_2d = cross.v_0_sj_semi_analytic_v2d(\n",
    "    big_l, radio_1, radio_2, r_coord_1tf_2d, phi_coord_1tf_2d,\n",
    "    cos_theta_coord_1tf_2d, weights, pre_vector_t_2d[2, :, 0],\n",
    "    quantity_theta_points, quantity_phi_points, pesykus, p2_plus_p_plus_q,\n",
    "    p2_plus_p_minus_q)"
   ]
  },
  {
   "cell_type": "markdown",
   "id": "7a2ac1ea-cb46-4306-9a78-aedc6a356e2c",
   "metadata": {},
   "source": [
    "We can compare the result with the one given by `v_0_sj_semi_analytic_v1d`:"
   ]
  },
  {
   "cell_type": "code",
   "execution_count": 18,
   "id": "8dfdfea3-647d-40aa-89d7-8d1dc9026c3d",
   "metadata": {},
   "outputs": [],
   "source": [
    "final_length, pre_vector_t, transform = \\\n",
    "    quadratures.real_spherical_harmonic_transform_1d(big_l, big_l_c)\n",
    "r_coord_1tf, phi_coord_1tf, cos_theta_coord_1tf = (\n",
    "    quadratures.from_sphere_s_cartesian_to_j_spherical_1d(\n",
    "        radio_2, p_1, p_2, final_length, pre_vector_t))\n",
    "data_v21 = cross.v_0_sj_semi_analytic_v1d(\n",
    "    big_l, radio_1, radio_2, r_coord_1tf, phi_coord_1tf,\n",
    "    cos_theta_coord_1tf, final_length, transform)"
   ]
  },
  {
   "cell_type": "markdown",
   "id": "76a62b04",
   "metadata": {},
   "source": [
    "Relative error:"
   ]
  },
  {
   "cell_type": "code",
   "execution_count": 19,
   "id": "506acdbe-fa89-44bf-becd-17c86878829d",
   "metadata": {},
   "outputs": [
    {
     "name": "stderr",
     "output_type": "stream",
     "text": [
      "C:\\Users\\there\\AppData\\Local\\Temp\\ipykernel_7616\\761239704.py:3: RuntimeWarning: divide by zero encountered in log\n",
      "  plt.imshow(np.log(im), cmap='RdBu', norm=colors.CenteredNorm(vcenter=-10))\n"
     ]
    },
    {
     "data": {
      "image/png": "[encoded data removed]",
      "text/plain": [
       "<Figure size 480x360 with 2 Axes>"
      ]
     },
     "metadata": {},
     "output_type": "display_data"
    }
   ],
   "source": [
    "plt.figure(dpi=75., layout='constrained')\n",
    "im = np.abs(data_v21_2d - data_v21) / np.abs(data_v21)\n",
    "plt.imshow(np.log(im), cmap='RdBu', norm=colors.CenteredNorm(vcenter=-10))\n",
    "plt.colorbar(shrink=0.9)\n",
    "plt.title('Logarithm of the relative error between data_v21 from 1d and 2d routines')\n",
    "plt.show()"
   ]
  },
  {
   "cell_type": "markdown",
   "id": "f3f9c825-f907-4bc4-b5ac-6ccfb7c38107",
   "metadata": {},
   "source": [
    "## `v_0_js_from_v_0_sj`"
   ]
  },
  {
   "cell_type": "markdown",
   "id": "7ecb2ed8-ef3f-485c-9db6-bde964a4745c",
   "metadata": {},
   "source": [
    "This function returns a numpy array of two dimensions, which we will call `data_vjs`. The entries of the array are\n",
    "$$data_vjs[p(2p+1) + q, l(2l+1) + m] = ( V_{j,s}^0 Y_{l,m,s} ; Y_{p,q,j} )_{L^2(\\mathcal{S}_s)}.$$"
   ]
  },
  {
   "cell_type": "markdown",
   "id": "515e67fe-a3fc-45a6-b843-b124a10880cc",
   "metadata": {},
   "source": [
    "For obtaining the array corresponding to the operator $V^0_{j,s}$ the input needed is the array corresponding to the operator $V^0_{s,j}$. This functions uses the property of the arrays `data_v21 = data_v12`$^t$, showed in the example of `v_0_sj_semi_analytic_v1d`."
   ]
  },
  {
   "cell_type": "markdown",
   "id": "e7965f44-22ab-4c75-bf0e-3379e2bd4457",
   "metadata": {},
   "source": [
    "### Docstring"
   ]
  },
  {
   "cell_type": "code",
   "execution_count": 20,
   "id": "63fa9845-556a-4686-885a-272719116a36",
   "metadata": {},
   "outputs": [
    {
     "name": "stdout",
     "output_type": "stream",
     "text": [
      "\n",
      "    Returns a numpy array that represents a numerical approximation of\n",
      "    the matrix formed by the boundary integral operator V_{j,s}^0 with\n",
      "    Laplace kernel evaluated and tested with real spherical harmonics.\n",
      "    This routine needs the numpy array corresponding to V_{s,j}^0\n",
      "    (notice the change of the order of the indexes indicating the\n",
      "    spheres).\n",
      "\n",
      "    Notes\n",
      "    -----\n",
      "    data_v_js[p*(2p+1) + q, l*(2l+1) + m] =\n",
      "        ( V_{j,s}^0 Y_{l,m,s} ; Y_{p,q,j} )_{L^2(S_j)}.\n",
      "    Y_{l,m,s} : spherical harmonic degree l, order m, in the coordinate\n",
      "        system s.\n",
      "    S_j : surface of the sphere j.\n",
      "\n",
      "    This computation uses the following result for this specific case:\n",
      "    ( V_{j,s}^0 Y_{l,m,s} ; Y_{p,q,j} )_{L^2(S_j)}.\n",
      "        = ( V_{s,j}^0 Y_{p,q,j} ; Y_{l,m,s} )_{L^2(S_s)}\n",
      "\n",
      "    Parameters\n",
      "    ----------\n",
      "    data_v_sj: np.ndarray\n",
      "        of floats. Represents a numerical approximation of the matrix\n",
      "        formed by the boundary integral operator V_{s,j}^0 with Laplace\n",
      "        kernel evaluated and tested with spherical harmonics.\n",
      "\n",
      "    Returns\n",
      "    -------\n",
      "    data_v_js: np.ndarray\n",
      "        of floats. Same shape than data_v_sj.\n",
      "        See notes for the indexes ordering.\n",
      "\n",
      "    See Also\n",
      "    --------\n",
      "    v_0_sj_semi_analytic_v1d\n",
      "    v_0_sj_semi_analytic_v2d\n",
      "\n",
      "    \n"
     ]
    }
   ],
   "source": [
    "print(cross.v_0_js_from_v_0_sj.__doc__)"
   ]
  },
  {
   "cell_type": "markdown",
   "id": "34b7a355-90e7-4dfb-8fa5-02606f682f69",
   "metadata": {},
   "source": [
    "### Example"
   ]
  },
  {
   "cell_type": "markdown",
   "id": "44e36bc4-6d66-4fd2-9624-4e10fccfe2c8",
   "metadata": {},
   "source": [
    "Definition of the parameters:"
   ]
  },
  {
   "cell_type": "markdown",
   "id": "5dd779fb-b255-49a5-a61f-7c6359f701e6",
   "metadata": {},
   "source": [
    "Radii:"
   ]
  },
  {
   "cell_type": "code",
   "execution_count": 21,
   "id": "9aabb48d-0de4-4ed6-ba21-2e9ad9b7a889",
   "metadata": {},
   "outputs": [],
   "source": [
    "radio_1 = 3.\n",
    "radio_2 = 2."
   ]
  },
  {
   "cell_type": "markdown",
   "id": "ef666a5c-70dd-48e7-9778-db34335c4c9b",
   "metadata": {},
   "source": [
    "Center positions of the spheres:"
   ]
  },
  {
   "cell_type": "code",
   "execution_count": 22,
   "id": "fabaf1b9-4d5b-42d9-a328-8bc17654d39a",
   "metadata": {},
   "outputs": [],
   "source": [
    "p_1 = np.asarray([2., 3., 4.])\n",
    "p_2 = -p_1"
   ]
  },
  {
   "cell_type": "markdown",
   "id": "591149d4-ebb2-4952-8040-51bf1be8b63b",
   "metadata": {},
   "source": [
    "Maximum degree of spherical harmonics used, and parameter for the quadrature rules:"
   ]
  },
  {
   "cell_type": "code",
   "execution_count": 23,
   "id": "1f6ddc25-5d3a-416a-b505-0b8b91e73675",
   "metadata": {},
   "outputs": [],
   "source": [
    "big_l = 3\n",
    "big_l_c = 25"
   ]
  },
  {
   "cell_type": "markdown",
   "id": "7e630de7-0f7f-4859-b874-0532bf9f9eb5",
   "metadata": {},
   "source": [
    "We use one of the previous routines to compute the array `data_v12_2d`:"
   ]
  },
  {
   "cell_type": "code",
   "execution_count": 24,
   "id": "d2651cec-5963-4a17-a179-143ff2c51d3a",
   "metadata": {},
   "outputs": [],
   "source": [
    "quantity_theta_points, quantity_phi_points, weights, pre_vector_t_2d = quadratures.gauss_legendre_trapezoidal_2d(big_l_c)\n",
    "r_coord_2tf_2d, phi_coord_2tf_2d, cos_theta_coord_2tf_2d = \\\n",
    "    (quadratures.from_sphere_s_cartesian_to_j_spherical_2d(\n",
    "        radio_1, p_2, p_1, quantity_theta_points, quantity_phi_points,\n",
    "        pre_vector_t_2d))\n",
    "pesykus, p2_plus_p_plus_q, p2_plus_p_minus_q = auxindexes.pes_y_kus(big_l)\n",
    "data_v12_2d = cross.v_0_sj_semi_analytic_v2d(\n",
    "    big_l, radio_2, radio_1, r_coord_2tf_2d, phi_coord_2tf_2d,\n",
    "    cos_theta_coord_2tf_2d, weights, pre_vector_t_2d[2, :, 0],\n",
    "    quantity_theta_points, quantity_phi_points, pesykus, p2_plus_p_plus_q,\n",
    "    p2_plus_p_minus_q)"
   ]
  },
  {
   "cell_type": "markdown",
   "id": "545093ec-e715-453a-804d-c9514d547708",
   "metadata": {},
   "source": [
    "And we use that as input to compute the array `data_v21`:"
   ]
  },
  {
   "cell_type": "code",
   "execution_count": 25,
   "id": "2350774f-e7ca-4fb6-bbd0-2dd59abc2b9b",
   "metadata": {},
   "outputs": [],
   "source": [
    "data_v21 = cross.v_0_js_from_v_0_sj(data_v12_2d)"
   ]
  },
  {
   "cell_type": "markdown",
   "id": "37ff015a-14a3-4560-9326-557992fb5d86",
   "metadata": {},
   "source": [
    "We can compare the given result with the version computed by one of the previous routines:"
   ]
  },
  {
   "cell_type": "code",
   "execution_count": 26,
   "id": "6e1a1002-5716-43e1-8d79-b0ba045d3c84",
   "metadata": {},
   "outputs": [],
   "source": [
    "r_coord_1tf_2d, phi_coord_1tf_2d, cos_theta_coord_1tf_2d = (\n",
    "    quadratures.from_sphere_s_cartesian_to_j_spherical_2d(\n",
    "        radio_2, p_1, p_2, quantity_theta_points, quantity_phi_points,\n",
    "        pre_vector_t_2d))\n",
    "data_v21_2d = cross.v_0_sj_semi_analytic_v2d(\n",
    "    big_l, radio_1, radio_2, r_coord_1tf_2d, phi_coord_1tf_2d,\n",
    "    cos_theta_coord_1tf_2d, weights, pre_vector_t_2d[2, :, 0],\n",
    "    quantity_theta_points, quantity_phi_points, pesykus, p2_plus_p_plus_q,\n",
    "    p2_plus_p_minus_q)"
   ]
  },
  {
   "cell_type": "code",
   "execution_count": 27,
   "id": "6a561bfd-dbb7-4206-b9f7-d531384d9a92",
   "metadata": {},
   "outputs": [
    {
     "data": {
      "image/png": "[encoded data removed]",
      "text/plain": [
       "<Figure size 480x360 with 2 Axes>"
      ]
     },
     "metadata": {},
     "output_type": "display_data"
    }
   ],
   "source": [
    "plt.figure(dpi=75., layout='constrained')\n",
    "im = np.abs(data_v21_2d - data_v21) / np.abs(data_v21)\n",
    "plt.imshow(im, cmap='RdBu')\n",
    "plt.colorbar(shrink = 0.9)\n",
    "plt.title('Relative error between `data_v21` with direct and indirect '\n",
    "          'routines')\n",
    "plt.show()"
   ]
  },
  {
   "cell_type": "markdown",
   "id": "89485a4f-7d9d-4198-ac2d-9e9d42482314",
   "metadata": {},
   "source": [
    "## `k_0_sj_semi_analytic_v1d`"
   ]
  },
  {
   "cell_type": "markdown",
   "id": "9d45096f-8138-495f-8696-c653a9413ada",
   "metadata": {},
   "source": [
    "This function returns a numpy array of two dimensions, which we will call `data_k`. The entries of the array are\n",
    "$$data_k[p(2p + 1) + q, l(2l + 1) + m] = ( K_{s,j}^0 Y_{l,m,j} , Y_{p,q,s} )_{L^2(\\mathcal{S}_s)}.$$"
   ]
  },
  {
   "cell_type": "markdown",
   "id": "dbaa4a0a-6700-4441-9cec-50fb2b02ec5b",
   "metadata": {},
   "source": [
    "The `1d` on the name of the routine references the type of input it needs. See the following sections for details."
   ]
  },
  {
   "cell_type": "markdown",
   "id": "ce2621d3-0d10-44ec-b8f9-56f96ce91118",
   "metadata": {},
   "source": [
    "### Docstring"
   ]
  },
  {
   "cell_type": "code",
   "execution_count": 28,
   "id": "906df3ab-e184-495a-a461-d6b3584442ac",
   "metadata": {},
   "outputs": [
    {
     "name": "stdout",
     "output_type": "stream",
     "text": [
      "\n",
      "    Returns a numpy array that represents a numerical approximation of\n",
      "    the matrix formed by the boundary integral operator K_{s,j}^0 with\n",
      "    Laplace kernel evaluated and tested with real spherical harmonics.\n",
      "    In this routine the quadrature points NEED to be ordered in an array\n",
      "    of one dimension.\n",
      "    It is a SLOW routine, because it does not use any symmetry or\n",
      "    properties of the spherical harmonics.\n",
      "\n",
      "    Notes\n",
      "    -----\n",
      "    data_k[p*(2p+1) + q, l*(2l+1) + m] =\n",
      "        ( K_{s,j}^0 Y_{l,m,j} ; Y_{p,q,s} )_{L^2(S_s)}.\n",
      "    Y_{l,m,j} : spherical harmonic degree l, order m, in the coordinate\n",
      "        system j.\n",
      "    S_s : surface of the sphere s.\n",
      "\n",
      "    The expression K_{s,j}^0 Y_l,m,j can be obtained analytically. A\n",
      "    quadrature scheme is used to compute the surface integral\n",
      "    corresponding to the inner product.\n",
      "\n",
      "    Parameters\n",
      "    ----------\n",
      "    big_l : int\n",
      "        >= 0, max degree.\n",
      "    r_j : float\n",
      "        > 0, radius of the sphere j.\n",
      "    r_s : float\n",
      "        > 0, radius of the sphere s.\n",
      "    r_coord : np.ndarray\n",
      "        Array of floats with the spherical coordinate r of the\n",
      "        quadrature points in the coordinate system s. Length equals to\n",
      "        final_length. Can come from the function\n",
      "        from_sphere_s_cartesian_to_j_spherical_1d of the module\n",
      "        biosspheres.quadratures.spheres.\n",
      "    phi_coord : np.ndarray\n",
      "        Array of floats with the phi coordinate r of the quadrature\n",
      "        points in the coordinate system s. Length equals to\n",
      "        final_length. Can come from the function\n",
      "        from_sphere_s_cartesian_to_j_spherical_1d of the module\n",
      "        biosspheres.quadratures.spheres.\n",
      "    cos_theta_coord : np.ndarray\n",
      "        Array of floats with the cosine of the spherical coordinate\n",
      "        theta of the quadrature points in the coordinate system s.\n",
      "        Lengths equal to final_length. Can come from the function\n",
      "        from_sphere_s_cartesian_to_j_spherical_1d of the module\n",
      "        biosspheres.quadratures.spheres.\n",
      "    final_length : int\n",
      "        How many points for the surface integral.\n",
      "        Can come from the function spherical_harmonic_transform_1d of\n",
      "        the module biosspheres.quadratures.spheres.\n",
      "    transform : np.ndarray\n",
      "        of floats, for doing the real spherical harmonic transform.\n",
      "        Can come from the function real_spherical_harmonic_transform_1d\n",
      "        of the module biosspheres.quadratures.spheres.\n",
      "\n",
      "    Returns\n",
      "    -------\n",
      "    data_k : numpy array\n",
      "        of floats. Shape ((big_l+1)**2, (big_l+1)**2).\n",
      "        See notes for the indexes ordering.\n",
      "\n",
      "    See Also\n",
      "    --------\n",
      "    k_0_sj_semi_analytic_v2d\n",
      "    k_0_sj_from_v_0_sj\n",
      "\n",
      "    \n"
     ]
    }
   ],
   "source": [
    "print(cross.k_0_sj_semi_analytic_v1d.__doc__)"
   ]
  },
  {
   "cell_type": "markdown",
   "id": "e6e826b8-e90a-4f47-96a0-87677b24d488",
   "metadata": {},
   "source": [
    "### Example"
   ]
  },
  {
   "cell_type": "markdown",
   "id": "e8af51b8-6203-46cf-b832-c3ade1be3a73",
   "metadata": {},
   "source": [
    "Definition of the parameters:"
   ]
  },
  {
   "cell_type": "markdown",
   "id": "f66fc3fe-1a4d-4246-957e-a4c8e69e79d9",
   "metadata": {},
   "source": [
    "Radii:"
   ]
  },
  {
   "cell_type": "code",
   "execution_count": 29,
   "id": "0e4df474-f617-48e8-b842-ee171d68fbff",
   "metadata": {},
   "outputs": [],
   "source": [
    "radio_1 = 1.2\n",
    "radio_2 = 3."
   ]
  },
  {
   "cell_type": "markdown",
   "id": "631477b7-9eb8-4dad-9012-05b4a8460a6c",
   "metadata": {},
   "source": [
    "Positions of the center of the spheres:"
   ]
  },
  {
   "cell_type": "code",
   "execution_count": 30,
   "id": "990950bb-c40b-41e8-bedc-316875d52f68",
   "metadata": {},
   "outputs": [],
   "source": [
    "p_1 = np.asarray([2., 3., 4.])\n",
    "p_2 = -p_1"
   ]
  },
  {
   "cell_type": "markdown",
   "id": "68c74a8e-80a4-490c-b991-4eb5e840cbb1",
   "metadata": {},
   "source": [
    "Maximum degree of spherical harmonics used, and parameter for the quadrature rule:"
   ]
  },
  {
   "cell_type": "code",
   "execution_count": 31,
   "id": "edeff685-e4ac-4bf8-a7ef-070ae8998aec",
   "metadata": {},
   "outputs": [],
   "source": [
    "big_l = 2\n",
    "big_l_c = 25"
   ]
  },
  {
   "cell_type": "markdown",
   "id": "8203de80-3f88-4a15-8e67-bc38b5b529e5",
   "metadata": {},
   "source": [
    "Auxiliary parameters that use the ones previously defined, which are related to the implemented quadrature, this differs from the routines without the `1d` in its name:"
   ]
  },
  {
   "cell_type": "code",
   "execution_count": 32,
   "id": "6b35251b-982f-49da-a4bc-998ee99f917f",
   "metadata": {},
   "outputs": [],
   "source": [
    "final_length, pre_vector_t, transform = \\\n",
    "    quadratures.real_spherical_harmonic_transform_1d(big_l, big_l_c)"
   ]
  },
  {
   "cell_type": "code",
   "execution_count": 33,
   "id": "87a9fce1-dba0-4bf1-8563-6a643308fb4b",
   "metadata": {},
   "outputs": [],
   "source": [
    "r_coord_1tf, phi_coord_1tf, cos_theta_coord_1tf = (\n",
    "    quadratures.from_sphere_s_cartesian_to_j_spherical_1d(\n",
    "        radio_2, p_1, p_2, final_length, pre_vector_t))"
   ]
  },
  {
   "cell_type": "markdown",
   "id": "45ba6a30-829d-438b-bdd5-5aabe0e7427d",
   "metadata": {},
   "source": [
    "We compute the array `data_k21`:"
   ]
  },
  {
   "cell_type": "code",
   "execution_count": 34,
   "id": "5b933d3a-bbaa-4242-b6ab-7d4675494519",
   "metadata": {},
   "outputs": [],
   "source": [
    "data_k21 = cross.k_0_sj_semi_analytic_v1d(\n",
    "    big_l, radio_1, radio_2, r_coord_1tf, phi_coord_1tf,\n",
    "    cos_theta_coord_1tf, final_length, transform)"
   ]
  },
  {
   "cell_type": "markdown",
   "id": "21d926b7-a4bf-4ad0-9474-4dbee860ba32",
   "metadata": {},
   "source": [
    "To check its relationship with the $V^0_{2,1}$ operator, showed in the preliminaries:"
   ]
  },
  {
   "cell_type": "code",
   "execution_count": 35,
   "id": "9cc1c141-74da-4914-8a5c-53a43cb592bd",
   "metadata": {},
   "outputs": [],
   "source": [
    "data_v21 = cross.v_0_sj_semi_analytic_v1d(\n",
    "    big_l, radio_1, radio_2, r_coord_1tf, phi_coord_1tf,\n",
    "    cos_theta_coord_1tf, final_length, transform)"
   ]
  },
  {
   "cell_type": "code",
   "execution_count": 36,
   "id": "b735721c-ea8c-4469-8b15-9704c38537b1",
   "metadata": {},
   "outputs": [],
   "source": [
    "eles = np.arange(0, big_l + 1)\n",
    "el_diagonal_array = np.diag(np.repeat(eles / -radio_1, 2 * eles + 1))"
   ]
  },
  {
   "cell_type": "code",
   "execution_count": 37,
   "id": "5e3fca83-5c5c-4171-99d0-d1e23811b881",
   "metadata": {},
   "outputs": [],
   "source": [
    "aux = data_v21 @ el_diagonal_array"
   ]
  },
  {
   "cell_type": "code",
   "execution_count": 38,
   "id": "b808eb44-1231-4809-b48f-a59903be017f",
   "metadata": {},
   "outputs": [
    {
     "data": {
      "image/png": "[encoded data removed]",
      "text/plain": [
       "<Figure size 480x360 with 2 Axes>"
      ]
     },
     "metadata": {},
     "output_type": "display_data"
    }
   ],
   "source": [
    "plt.figure(dpi=75., layout='constrained')\n",
    "im = np.abs(data_k21 - aux)\n",
    "plt.imshow(im, cmap='RdBu')\n",
    "plt.colorbar(shrink=0.9)\n",
    "plt.title('Absolute error between data_k21 and'\n",
    "          ' a linear transformation of data_v21.')\n",
    "plt.show()"
   ]
  },
  {
   "cell_type": "markdown",
   "id": "253760cb-faaf-4d7c-b6ca-992c192a5d09",
   "metadata": {},
   "source": [
    "## `k_0_sj_semi_analytic_v2d`"
   ]
  },
  {
   "cell_type": "markdown",
   "id": "49c3a377-8277-49c8-9832-a265279bc74d",
   "metadata": {},
   "source": [
    "This function returns a numpy array of two dimensions, which we will call `data_k`. The entries of the array are\n",
    "$$data_k[p(2p + 1) + q, l(2l + 1) + m] = ( K_{s,j}^0 Y_{l,m,j} , Y_{p,q,s} )_{L^2(\\mathcal{S}_s)}.$$"
   ]
  },
  {
   "cell_type": "markdown",
   "id": "219d2eac-8e41-47ec-942d-a3555f11bc71",
   "metadata": {},
   "source": [
    "It is the same than `k_0_sj_semi_analytic_v1d`, but with different inputs. For bigger computations this one is faster."
   ]
  },
  {
   "cell_type": "markdown",
   "id": "8ca1eca2-f78d-48d8-a2d4-da7b789f6dc1",
   "metadata": {},
   "source": [
    "### Docstring"
   ]
  },
  {
   "cell_type": "code",
   "execution_count": 39,
   "id": "768f1668-87e9-403a-8f35-8432c6affe57",
   "metadata": {},
   "outputs": [
    {
     "name": "stdout",
     "output_type": "stream",
     "text": [
      "\n",
      "    Returns a numpy array that represents a numerical approximation of\n",
      "    the matrix formed by the boundary integral operator K_{s,j}^0 with\n",
      "    Laplace kernel evaluated and tested with real spherical harmonics.\n",
      "    In this routine the quadrature points NEED to be ordered in an array\n",
      "    of two dimensions, given by the function\n",
      "    from_sphere_s_cartesian_to_j_spherical_2d of the module\n",
      "    biosspheres.quadratures.spheres.\n",
      "\n",
      "    Notes\n",
      "    -----\n",
      "    data_k[p(2p + 1) + q, l(2l + 1) + m] =\n",
      "        ( K_{s,j}^0 Y_{l,m,j} ; Y_{p,q,s} )_{L^2(S_s)}.\n",
      "    Y_{l,m,j} : spherical harmonic degree l, order m, in the coordinate\n",
      "        system j.\n",
      "    S_s : surface of the sphere s.\n",
      "\n",
      "    The expression K_{s,j}^0 Y_l,m,j can be obtained analytically.\n",
      "    A quadrature scheme is used to compute the other surface integral.\n",
      "    It uses functions from the package pyshtools to compute the\n",
      "    spherical harmonic transforms.\n",
      "\n",
      "    Parameters\n",
      "    ----------\n",
      "    big_l : int\n",
      "        >= 0, max degree of spherical harmonics used.\n",
      "    r_j : float\n",
      "        > 0, radius of the sphere j.\n",
      "    r_s : float\n",
      "        > 0, radius of the sphere s.\n",
      "    r_coord : np.ndarray\n",
      "        Two dimensional array of floats with the spherical coordinate r\n",
      "        of the quadrature points in the coordinate system s.\n",
      "        Shape equals to (quantity_theta_points, quantity_phi_points).\n",
      "        Comes from the function\n",
      "        from_sphere_s_cartesian_to_j_spherical_2d of the module\n",
      "        biosspheres.quadratures.spheres.\n",
      "    phi_coord : np.ndarray\n",
      "        Two dimensional array of floats with the phi coordinate r of the\n",
      "        quadrature points in the coordinate system s. Shape equals to\n",
      "        (quantity_theta_points, quantity_phi_points).\n",
      "        Comes from the function\n",
      "        from_sphere_s_cartesian_to_j_spherical_2d of the module\n",
      "        biosspheres.quadratures.spheres.\n",
      "    cos_theta_coord : np.ndarray\n",
      "        Two dimensional array of floats with the cosine of the spherical\n",
      "        coordinate theta of the quadrature points in the coordinate\n",
      "        system s. Shape equals to\n",
      "        (quantity_theta_points, quantity_phi_points). Comes from the\n",
      "        function from_sphere_s_cartesian_to_j_spherical_2d of\n",
      "        the module biosspheres.quadratures.spheres.\n",
      "    weights : np.ndarray\n",
      "        of floats. Weights for the integral quadrature in the theta\n",
      "        variable. Comes from the function\n",
      "        gauss_legendre_trapezoidal_shtools_2d\n",
      "        from the module biosspheres.quadratures.spheres.\n",
      "    zeros : np.ndarray\n",
      "        of floats. Zeros of the integral quadrature in the theta\n",
      "        variable. Comes from the function\n",
      "        gauss_legendre_trapezoidal_shtools_2d\n",
      "        from the module biosspheres.quadratures.spheres.\n",
      "    quantity_theta_points : int\n",
      "        how many points for the integral in theta.\n",
      "        Can come from the function\n",
      "        gauss_legendre_trapezoidal_shtools_2d\n",
      "        from the module biosspheres.quadratures.spheres.\n",
      "    quantity_phi_points : int\n",
      "        how many points for the integral in phi.\n",
      "        Can come fron the function\n",
      "        gauss_legendre_trapezoidal_shtools_2d\n",
      "        from the module biosspheres.quadratures.spheres.\n",
      "    pesykus : np.ndarray\n",
      "        dtype int, shape ((big_l+1) * big_l // 2, 2).\n",
      "        Used for the vectorization of some computations.\n",
      "        Comes from the function\n",
      "        biosspheres.miscella.auxindexes.pes_y_kus(big_l)\n",
      "    p2_plus_p_plus_q : np.ndarray\n",
      "        dtype int, length (big_l+1) * big_l // 2.\n",
      "        Used for the vectorization of some computations.\n",
      "        Comes from the function\n",
      "        biosspheres.miscella.auxindexes.pes_y_kus(big_l)\n",
      "    p2_plus_p_minus_q : np.ndarray\n",
      "        dtype int, length (big_l+1) * big_l // 2.\n",
      "        Used for the vectorization of some computations.\n",
      "        Comes from the function\n",
      "        biosspheres.miscella.auxindexes.pes_y_kus(big_l)\n",
      "\n",
      "    Returns\n",
      "    -------\n",
      "    data_k : numpy array\n",
      "        of floats. Shape ((big_l+1)**2, (big_l+1)**2).\n",
      "        See notes for the indexes ordering.\n",
      "\n",
      "    See Also\n",
      "    --------\n",
      "    k_0_sj_semi_analytic_v1d\n",
      "    k_0_sj_from_v_0_sj\n",
      "\n",
      "    \n"
     ]
    }
   ],
   "source": [
    "print(cross.k_0_sj_semi_analytic_v2d.__doc__)"
   ]
  },
  {
   "cell_type": "markdown",
   "id": "99ecfee3-889c-45f0-8e7d-2db861fed7ec",
   "metadata": {},
   "source": [
    "### Example"
   ]
  },
  {
   "cell_type": "markdown",
   "id": "77f87573-ae01-476c-b0fb-b3c51d60f8f9",
   "metadata": {},
   "source": [
    "Definition of parameters:"
   ]
  },
  {
   "cell_type": "markdown",
   "id": "bb87c965-66bf-42c6-bb83-103f59fd37d5",
   "metadata": {},
   "source": [
    "Radii:"
   ]
  },
  {
   "cell_type": "code",
   "execution_count": 40,
   "id": "50996cf5-a196-43bd-a5e5-1c76688c49ea",
   "metadata": {},
   "outputs": [],
   "source": [
    "radio_1 = 3.\n",
    "radio_2 = 2."
   ]
  },
  {
   "cell_type": "markdown",
   "id": "79f6e016-9028-4d39-8ca8-a821164e4734",
   "metadata": {},
   "source": [
    "Position of the center of the spheres:"
   ]
  },
  {
   "cell_type": "code",
   "execution_count": 41,
   "id": "afc4b913-f85f-4961-8e2d-d14552be478e",
   "metadata": {},
   "outputs": [],
   "source": [
    "p_1 = np.asarray([2., 3., 4.])\n",
    "p_2 = -p_1"
   ]
  },
  {
   "cell_type": "markdown",
   "id": "a9970dfe-35f9-41e0-b94f-6278864d2d3d",
   "metadata": {},
   "source": [
    "Maximum degree of spherical harmonics used, and parameter for the quadrature rule:"
   ]
  },
  {
   "cell_type": "code",
   "execution_count": 42,
   "id": "096f88bf-087b-4b6c-8580-b2404f3a12a1",
   "metadata": {},
   "outputs": [],
   "source": [
    "big_l = 3\n",
    "big_l_c = 25"
   ]
  },
  {
   "cell_type": "markdown",
   "id": "b9390883-1411-4941-9f21-70c5b84afb8c",
   "metadata": {},
   "source": [
    "Auxiliary parameters that use the ones previously defined, which are related to the implemented quadrature. This differs from the routines without the `2d` in its name:"
   ]
  },
  {
   "cell_type": "code",
   "execution_count": 43,
   "id": "1896e7d6-f949-4f32-bd73-1f142913a996",
   "metadata": {},
   "outputs": [],
   "source": [
    "quantity_theta_points, quantity_phi_points, weights, pre_vector_t_2d = \\\n",
    "    quadratures.gauss_legendre_trapezoidal_2d(big_l_c)\n",
    "r_coord_1tf_2d, phi_coord_1tf_2d, cos_theta_coord_1tf_2d = \\\n",
    "    (quadratures.from_sphere_s_cartesian_to_j_spherical_2d(\n",
    "        radio_2, p_1, p_2, quantity_theta_points, quantity_phi_points,\n",
    "        pre_vector_t_2d))\n",
    "pesykus, p2_plus_p_plus_q, p2_plus_p_minus_q = auxindexes.pes_y_kus(big_l)"
   ]
  },
  {
   "cell_type": "markdown",
   "id": "19a30ff6-e9b9-4702-8aca-7f58cfcbca4f",
   "metadata": {},
   "source": [
    "We obtain the array data_k21:"
   ]
  },
  {
   "cell_type": "code",
   "execution_count": 44,
   "id": "e486e227-b4b6-4e1d-a5ad-69ba951b5f65",
   "metadata": {},
   "outputs": [],
   "source": [
    "data_k21_2d = cross.k_0_sj_semi_analytic_v2d(\n",
    "    big_l, radio_1, radio_2, r_coord_1tf_2d, phi_coord_1tf_2d,\n",
    "    cos_theta_coord_1tf_2d, weights, pre_vector_t_2d[2, :, 0],\n",
    "    quantity_theta_points, quantity_phi_points, pesykus, p2_plus_p_plus_q,\n",
    "    p2_plus_p_minus_q)"
   ]
  },
  {
   "cell_type": "markdown",
   "id": "8ac390c0-bd19-47f7-b897-3e815cd2c083",
   "metadata": {},
   "source": [
    "The result can be compared to the one computed by the previous routine:"
   ]
  },
  {
   "cell_type": "code",
   "execution_count": 45,
   "id": "16c231ba-1831-447f-bc92-dd5d8b5688c9",
   "metadata": {},
   "outputs": [],
   "source": [
    "final_length, pre_vector_t, transform = quadratures.real_spherical_harmonic_transform_1d(big_l, big_l_c)\n",
    "r_coord_1tf, phi_coord_1tf, cos_theta_coord_1tf = (\n",
    "    quadratures.\n",
    "    from_sphere_s_cartesian_to_j_spherical_1d(\n",
    "        radio_2, p_1, p_2, final_length, pre_vector_t))\n",
    "data_k21 = cross.k_0_sj_semi_analytic_v1d(\n",
    "    big_l, radio_1, radio_2, r_coord_1tf, phi_coord_1tf,\n",
    "    cos_theta_coord_1tf, final_length, transform)"
   ]
  },
  {
   "cell_type": "code",
   "execution_count": 46,
   "id": "665e8845-0e6b-4d81-af9b-ace5bf799ad7",
   "metadata": {},
   "outputs": [
    {
     "data": {
      "image/png": "[encoded data removed]",
      "text/plain": [
       "<Figure size 480x360 with 2 Axes>"
      ]
     },
     "metadata": {},
     "output_type": "display_data"
    }
   ],
   "source": [
    "plt.figure(dpi=75., layout='constrained')\n",
    "im = np.abs(data_k21_2d - data_k21)\n",
    "plt.imshow(im, cmap='RdBu')\n",
    "plt.colorbar()\n",
    "plt.title('Absolute error between $K_{2,1}^0$ with 1d and 2d routines')\n",
    "plt.show()"
   ]
  },
  {
   "cell_type": "markdown",
   "id": "02838bb1-5c82-4424-bc3c-482d3490b529",
   "metadata": {},
   "source": [
    "## `k_0_sj_from_v_0_sj`"
   ]
  },
  {
   "cell_type": "markdown",
   "id": "d38d2598-cdf4-4dbd-8038-8fec8cd3b4f3",
   "metadata": {},
   "source": [
    "This functions uses the relationship between the operators $K^0_{s,j}$ and $V^0_{s,j}$ to compute `data_k` from `data_v`. See docstring for details."
   ]
  },
  {
   "cell_type": "markdown",
   "id": "3c5163ab-471b-409d-ad26-a79320f57e23",
   "metadata": {},
   "source": [
    "### Docstring"
   ]
  },
  {
   "cell_type": "code",
   "execution_count": 47,
   "id": "4aa1810f-4822-4199-a78d-f3b953f273f6",
   "metadata": {},
   "outputs": [
    {
     "name": "stdout",
     "output_type": "stream",
     "text": [
      "\n",
      "    Returns a numpy array that represents a numerical approximation of\n",
      "    the matrix formed by the boundary integral operator K_{s,j}^0 with\n",
      "    Laplace kernel evaluated and tested with real spherical harmonics.\n",
      "    This routine needs the numpy array corresponding to the testing of\n",
      "    V_{s,j}^0.\n",
      "\n",
      "    Notes\n",
      "    -----\n",
      "    data_k[p*(2p+1) + q, l*(2l+1) + m] =\n",
      "        ( K_{s,j}^0 Y_{l,m,j} ; Y_{p,q,s} )_{L^2(S_s)}.\n",
      "    Y_{l,m,j} : spherical harmonic degree l, order m, in the coordinate\n",
      "        system j.\n",
      "    S_s : surface of the sphere s.\n",
      "\n",
      "    This computation uses the following result for this specific case:\n",
      "    K_{s,j}^0 Y_{l,m} = - l / r_j V_{s,j}^0 Y_{l,m}.\n",
      "\n",
      "    Parameters\n",
      "    ----------\n",
      "    data_v : np.ndarray\n",
      "        that represents a numerical approximation of the matrix formed\n",
      "        by the boundary integral operator V_{s,j}^0 with Laplace kernel\n",
      "        evaluated and tested with spherical harmonics.\n",
      "    r_j : float\n",
      "        > 0, radius of the sphere j.\n",
      "    el_diagonal : scipy.sparse.dia_array\n",
      "        comes from biosspheres.miscella.auxindexes.diagonal_l_sparse\n",
      "\n",
      "    Returns\n",
      "    -------\n",
      "    data_k : np.ndarray\n",
      "        Same shape than data_v. See notes for the indexes ordering.\n",
      "\n",
      "    See Also\n",
      "    --------\n",
      "    k_0_sj_semi_analytic_v1d\n",
      "    k_0_sj_semi_analytic_v2d\n",
      "\n",
      "    \n"
     ]
    }
   ],
   "source": [
    "print(cross.k_0_sj_from_v_0_sj.__doc__)"
   ]
  },
  {
   "cell_type": "markdown",
   "id": "bf3ac077-87d6-4ac2-a957-cf1bae822c52",
   "metadata": {},
   "source": [
    "### Example"
   ]
  },
  {
   "cell_type": "markdown",
   "id": "55d90ad7-7040-4944-bbd5-c733c73560e1",
   "metadata": {},
   "source": [
    "Definition of the parameters:"
   ]
  },
  {
   "cell_type": "markdown",
   "id": "7e05fff4-8ca9-459e-a494-c9c65b2867cd",
   "metadata": {},
   "source": [
    "Radii:"
   ]
  },
  {
   "cell_type": "code",
   "execution_count": 48,
   "id": "4f13177e-c8ce-4ea7-b6ac-cdace6a8342e",
   "metadata": {},
   "outputs": [],
   "source": [
    "radio_1 = 1.3\n",
    "radio_2 = 1.7"
   ]
  },
  {
   "cell_type": "markdown",
   "id": "21286314-074b-4890-b6db-8741a41ac5f8",
   "metadata": {},
   "source": [
    "Positions of the center of the spheres:"
   ]
  },
  {
   "cell_type": "code",
   "execution_count": 49,
   "id": "f3d436df-33b2-4351-b177-654bf13d70b8",
   "metadata": {},
   "outputs": [],
   "source": [
    "p_1 = np.asarray([2., 3., 4.])\n",
    "p_2 = -p_1"
   ]
  },
  {
   "cell_type": "markdown",
   "id": "c4b9955a-a384-4a8a-b060-4447dd7461d6",
   "metadata": {},
   "source": [
    "Maximum degree of spherical harmonics used, and parameter for the quadrature rules:"
   ]
  },
  {
   "cell_type": "code",
   "execution_count": 50,
   "id": "63fd4166-1835-4b90-b81c-a0190b774fe2",
   "metadata": {},
   "outputs": [],
   "source": [
    "big_l = 3\n",
    "big_l_c = 25"
   ]
  },
  {
   "cell_type": "markdown",
   "id": "b07bc021-d663-41f7-90dc-2c17d2afdf69",
   "metadata": {},
   "source": [
    "We use one of the previous routine to calculate `data_21_2d`, which will be the input for computing `data_k21`"
   ]
  },
  {
   "cell_type": "code",
   "execution_count": 51,
   "id": "a390eb64-efb0-43fc-9b48-8b9412e196d7",
   "metadata": {},
   "outputs": [],
   "source": [
    "quantity_theta_points, quantity_phi_points, weights, pre_vector_t_2d = \\\n",
    "    quadratures.gauss_legendre_trapezoidal_2d(big_l_c)\n",
    "r_coord_1tf_2d, phi_coord_1tf_2d, cos_theta_coord_1tf_2d = (\n",
    "    quadratures.from_sphere_s_cartesian_to_j_spherical_2d(\n",
    "        radio_2, p_1, p_2, quantity_theta_points, quantity_phi_points,\n",
    "        pre_vector_t_2d))\n",
    "pesykus, p2_plus_p_plus_q, p2_plus_p_minus_q = auxindexes.pes_y_kus(big_l)\n",
    "data_v21_2d = cross.v_0_sj_semi_analytic_v2d(\n",
    "    big_l, radio_1, radio_2, r_coord_1tf_2d, phi_coord_1tf_2d,\n",
    "    cos_theta_coord_1tf_2d, weights, pre_vector_t_2d[2, :, 0],\n",
    "    quantity_theta_points, quantity_phi_points, pesykus, p2_plus_p_plus_q,\n",
    "    p2_plus_p_minus_q)"
   ]
  },
  {
   "cell_type": "code",
   "execution_count": 52,
   "id": "1729c1de-dd33-4570-8197-b85f4c1731ed",
   "metadata": {},
   "outputs": [],
   "source": [
    "el_diagonal = auxindexes.diagonal_l_sparse(big_l)\n",
    "data_k21 = cross.k_0_sj_from_v_0_sj(\n",
    "    data_v21_2d, radio_1, el_diagonal)"
   ]
  },
  {
   "cell_type": "markdown",
   "id": "4a513c07-d5e8-4f4d-9500-084b2c30c88f",
   "metadata": {},
   "source": [
    "To compare"
   ]
  },
  {
   "cell_type": "code",
   "execution_count": 53,
   "id": "c085c3cc-f14e-49b4-8af2-17b5244cd4b0",
   "metadata": {},
   "outputs": [],
   "source": [
    "data_k21_2d = cross.k_0_sj_semi_analytic_v2d(\n",
    "    big_l, radio_1, radio_2, r_coord_1tf_2d, phi_coord_1tf_2d,\n",
    "    cos_theta_coord_1tf_2d, weights, pre_vector_t_2d[2, :, 0],\n",
    "    quantity_theta_points, quantity_phi_points, pesykus, p2_plus_p_plus_q,\n",
    "    p2_plus_p_minus_q)"
   ]
  },
  {
   "cell_type": "code",
   "execution_count": 54,
   "id": "ef938b32-0d8d-41f2-a555-1d60645e4acc",
   "metadata": {},
   "outputs": [
    {
     "data": {
      "image/png": "[encoded data removed]",
      "text/plain": [
       "<Figure size 480x360 with 2 Axes>"
      ]
     },
     "metadata": {},
     "output_type": "display_data"
    }
   ],
   "source": [
    "plt.figure(dpi=75., layout='constrained')\n",
    "im = np.abs(data_k21_2d - data_k21)\n",
    "plt.imshow(im, cmap='RdBu')\n",
    "plt.colorbar(shrink=0.9)\n",
    "plt.title('Absolute error between $K_{2,1}^0$ with direct and indirect '\n",
    "          'routines')\n",
    "plt.show()"
   ]
  },
  {
   "cell_type": "markdown",
   "id": "224719ec-11d0-4725-b929-732bef3582e4",
   "metadata": {},
   "source": [
    "## `ka_0_sj_semi_analytic_recurrence_v1d`"
   ]
  },
  {
   "cell_type": "markdown",
   "id": "b0c3c55c-b70a-432f-9548-490708c5e418",
   "metadata": {},
   "source": [
    "The `1d` on the name of the routine references the type of input it needs. See the following sections for details."
   ]
  },
  {
   "cell_type": "markdown",
   "id": "697eb01a-f0b9-41af-a511-d9d1d08eab6d",
   "metadata": {},
   "source": [
    "### Docstring"
   ]
  },
  {
   "cell_type": "code",
   "execution_count": 55,
   "id": "a19b43cf-0e83-4c83-90b0-492dec6a8f78",
   "metadata": {},
   "outputs": [
    {
     "name": "stdout",
     "output_type": "stream",
     "text": [
      "\n",
      "    Returns a numpy array that represents a numerical approximation of\n",
      "    the matrix formed by the boundary integral operator K_{s,j}^{*0}\n",
      "    with Laplace kernel evaluated and tested with real spherical\n",
      "    harmonics.\n",
      "    In this routine the quadrature points NEED to be ordered in an array\n",
      "    of one dimension.\n",
      "    It is a SLOW routine, because it does not use any symmetry or\n",
      "    properties of the spherical harmonics.\n",
      "\n",
      "    Notes\n",
      "    -----\n",
      "    data_ka[p*(2p+1) + q, l*(2l+1) + m] =\n",
      "        ( K_{s,j}^{*0} Y_{l,m,j} ; Y_{p,q,s} )_{L^2(S_s)}.\n",
      "    Y_{l,m,j} : spherical harmonic degree l, order m, in the coordinate\n",
      "        system j.\n",
      "    S_s : surface of the sphere s.\n",
      "\n",
      "    The expression K_{s,j}^{*0} Y_l,m,j can be obtained analytically.\n",
      "    A quadrature scheme is used to compute the other surface integral\n",
      "    corresponding to the inner product.\n",
      "    For computing the derivative in theta a recurrence formula for\n",
      "    Legendre Functions is used.\n",
      "\n",
      "    In this routine the quadrature points NEED to be ordered in an array\n",
      "    of one dimension.\n",
      "\n",
      "    Parameters\n",
      "    ----------\n",
      "    big_l : int\n",
      "        >= 0, max degree.\n",
      "    r_j : float\n",
      "        > 0, radius of the sphere j.\n",
      "    r_s : float\n",
      "        > 0, radius of the sphere s.\n",
      "    r_coord : np.ndarray\n",
      "        One dimensional array of floats with the spherical coordinate r\n",
      "        of the quadrature points in the coordinate system s. Length\n",
      "        equals to final_length. Can come from\n",
      "        biosspheres.quadratures.spheres.\n",
      "        from_sphere_s_cartesian_to_j_spherical_and_spherical_vectors_1d\n",
      "    phi_coord : np.ndarray\n",
      "        One dimensional array of floats with the phi coordinate r of the\n",
      "        quadrature points in the coordinate system s. Length equals to\n",
      "        final_length. Can come from biosspheres.quadratures.spheres.\n",
      "        from_sphere_s_cartesian_to_j_spherical_and_spherical_vectors_1d\n",
      "    cos_theta_coord : np.ndarray\n",
      "        One dimensional array of floats with the cosine of the spherical\n",
      "        coordinate theta of the quadrature points in the coordinate\n",
      "        system s. Lenght equals to final_length.\n",
      "        Can come from biosspheres.quadratures.spheres.\n",
      "        from_sphere_s_cartesian_to_j_spherical_and_spherical_vectors_1d\n",
      "    er_times_n : np.ndarray\n",
      "        One dimensional array of floats with the dot product of the\n",
      "        canonical vector of the spherical coordinate r in the points\n",
      "        in the coordinate system s and the normal of a sphere.\n",
      "        Length final_length. Can come from\n",
      "        biosspheres.quadratures.spheres.\n",
      "        from_sphere_s_cartesian_to_j_spherical_and_spherical_vectors_1d\n",
      "    etheta_times_n : np.ndarray\n",
      "        One dimensional array of floats with the dot product of the\n",
      "        canonical vector of the spherical coordinate theta in the points\n",
      "        in the coordinate system s and the normal of a sphere.\n",
      "        Length final_length. Can come from\n",
      "        biosspheres.quadratures.spheres.\n",
      "        from_sphere_s_cartesian_to_j_spherical_and_spherical_vectors_1d\n",
      "    ephi_times_n : np.ndarray\n",
      "        One dimensional array of floats with the dot product of the\n",
      "        canonical vector of the spherical coordinate phi in the points\n",
      "        in the coordinate system s and the normal of a sphere.\n",
      "        Length final_length. Can come from\n",
      "        biosspheres.quadratures.spheres.\n",
      "        from_sphere_s_cartesian_to_j_spherical_and_spherical_vectors_1d\n",
      "    final_length : int\n",
      "        how many points for the surface integral,\n",
      "        (big_l_c + 1) * (2 * big_l_c + 1).\n",
      "    transform : np.ndarray\n",
      "        of floats, for doing the real spherical harmonic\n",
      "        transform. Shape ((big_l+1)**2, final_length)\n",
      "\n",
      "    Returns\n",
      "    -------\n",
      "    data_ka : numpy array\n",
      "        Shape ((big_l+1)**2, (big_l+1)**2). See notes for the indexes\n",
      "        ordering.\n",
      "\n",
      "    See Also\n",
      "    --------\n",
      "    ka_0_sj_semi_analytic_recurrence_v2d\n",
      "    ka_0_sj_from_v_sj\n",
      "    ka_0_sj_from_k_js\n",
      "\n",
      "    \n"
     ]
    }
   ],
   "source": [
    "print(cross.ka_0_sj_semi_analytic_recurrence_v1d.__doc__)"
   ]
  },
  {
   "cell_type": "markdown",
   "id": "b8ddb4b2-0b9c-40e5-ba36-84f8d5dfeded",
   "metadata": {},
   "source": [
    "### Example"
   ]
  },
  {
   "cell_type": "markdown",
   "id": "e41f4a83",
   "metadata": {},
   "source": [
    "Definition of the parameters:"
   ]
  },
  {
   "cell_type": "markdown",
   "id": "b33081a1",
   "metadata": {},
   "source": [
    "Radii:"
   ]
  },
  {
   "cell_type": "code",
   "execution_count": 56,
   "id": "d34a7542-72f9-44ac-b445-c6407cb4264c",
   "metadata": {},
   "outputs": [],
   "source": [
    "radio_1 = 3.\n",
    "radio_2 = 2."
   ]
  },
  {
   "cell_type": "markdown",
   "id": "a03b2a0f",
   "metadata": {},
   "source": [
    "Positions of the center of the spheres:"
   ]
  },
  {
   "cell_type": "code",
   "execution_count": 57,
   "id": "309f6eb6",
   "metadata": {},
   "outputs": [],
   "source": [
    "p_1 = np.asarray([2., 3., 4.])\n",
    "p_2 = -p_1"
   ]
  },
  {
   "cell_type": "markdown",
   "id": "20672ea3",
   "metadata": {},
   "source": [
    "Maximum degree of spherical harmonics used, and parameter for the quadrature rule:"
   ]
  },
  {
   "cell_type": "code",
   "execution_count": 58,
   "id": "ca0fab39",
   "metadata": {},
   "outputs": [],
   "source": [
    "big_l = 5\n",
    "big_l_c = 25"
   ]
  },
  {
   "cell_type": "markdown",
   "id": "59c5207d",
   "metadata": {},
   "source": [
    "Auxiliary parameters that use the ones previously defined, which are related to the implemented quadrature, this differs from the routines without the `1d` in its name:"
   ]
  },
  {
   "cell_type": "code",
   "execution_count": 59,
   "id": "ceebd7ac-37e6-4ac6-a5cf-49f04fbecd46",
   "metadata": {},
   "outputs": [],
   "source": [
    "final_length, pre_vector_t, transform = \\\n",
    "    quadratures.real_spherical_harmonic_transform_1d(big_l, big_l_c)\n",
    "(r_coord_1tf, phi_coord_1tf, cos_theta_coord_1tf,\n",
    " er_1tf, eth_1tf, ephi_1tf) = (\n",
    "    quadratures.\n",
    "    from_sphere_s_cartesian_to_j_spherical_and_spherical_vectors_1d(\n",
    "        radio_2, p_1, p_2, final_length, pre_vector_t))"
   ]
  },
  {
   "cell_type": "markdown",
   "id": "a4687fc3",
   "metadata": {},
   "source": [
    "Calling of the function:"
   ]
  },
  {
   "cell_type": "code",
   "execution_count": 60,
   "id": "fb03bb38-8205-4208-a373-7580d069eaef",
   "metadata": {},
   "outputs": [],
   "source": [
    "data_ka21 = cross.ka_0_sj_semi_analytic_recurrence_v1d(\n",
    "    big_l, radio_1, radio_2, r_coord_1tf, phi_coord_1tf,\n",
    "    cos_theta_coord_1tf, er_1tf, eth_1tf, ephi_1tf, final_length,\n",
    "    transform)"
   ]
  },
  {
   "cell_type": "markdown",
   "id": "a7a37b9c-70e8-45f8-80c4-b4f67dcafa37",
   "metadata": {},
   "source": [
    "## `ka_0_sj_semi_analytic_recurrence_v2d`"
   ]
  },
  {
   "cell_type": "markdown",
   "id": "bd1bfd9b-1a23-48bb-ac1b-2c9a81ecb494",
   "metadata": {},
   "source": [
    "### Docstring"
   ]
  },
  {
   "cell_type": "code",
   "execution_count": 61,
   "id": "0de4bca2-028d-4344-b53f-adf899599874",
   "metadata": {},
   "outputs": [
    {
     "name": "stdout",
     "output_type": "stream",
     "text": [
      "\n",
      "    Returns a numpy array that represents a numerical approximation of\n",
      "    the matrix formed by the boundary integral operator K_{s,j}^{*0}\n",
      "    with Laplace kernel evaluated and tested with real spherical\n",
      "    harmonics.\n",
      "    In this routine the quadrature points NEED to be ordered in an array\n",
      "    of two dimensions, given by the function\n",
      "    from_sphere_s_cartesian_to_j_spherical_and_spherical_vectors_2d of\n",
      "    the module biosspheres.quadratures.spheres.\n",
      "\n",
      "    Notes\n",
      "    -----\n",
      "    data_ka[p*(2p+1) + q, l*(2l+1) + m] =\n",
      "        ( K_{s,j}^{*0} Y_{l,m,j} ; Y_{p,q,s} )_{L^2(S_s)}.\n",
      "    Y_{l,m,j} : spherical harmonic degree l, order m, in the coordinate\n",
      "        system j.\n",
      "    S_s : surface of the sphere s.\n",
      "\n",
      "    The expression K_{s,j}^{*0} Y_l,m,j can be obtained analytically.\n",
      "    A quadrature scheme is used to compute the other surface integral\n",
      "    corresponding to the inner product.\n",
      "    For computing the derivative in theta a recurrence formula for\n",
      "    Legendre Functions is used.\n",
      "\n",
      "    In this routine the quadrature points NEED to be ordered in an array\n",
      "    of two dimensions, given by the function\n",
      "    from_sphere_s_cartesian_to_j_spherical_and_spherical_vectors_2d of\n",
      "    the module biosspheres.quadratures.spheres.\n",
      "    It uses functions from the package pyshtools to compute the\n",
      "    spherical harmonic transforms.\n",
      "\n",
      "    Parameters\n",
      "    ----------\n",
      "    big_l : int\n",
      "        >= 0, max degree.\n",
      "    r_j : float\n",
      "        > 0, radius of the sphere j.\n",
      "    r_s : float\n",
      "        > 0, radius of the sphere s.\n",
      "    r_coord : np.ndarray\n",
      "        Two dimensional array of floats with the spherical coordinate r\n",
      "        of the quadrature points in the coordinate system s. Shape\n",
      "        equals to (quantity_theta_points, quantity_phi_points).\n",
      "        Comes from biosspheres.quadratures.spheres.\n",
      "        from_sphere_s_cartesian_to_j_spherical_and_spherical_vectors_2d\n",
      "    phi_coord : np.ndarray\n",
      "        Two dimensional array of floats with the phi coordinate r of the\n",
      "        quadrature points in the coordinate system s. Shape equals to\n",
      "        (quantity_theta_points, quantity_phi_points).\n",
      "        Comes from biosspheres.quadratures.spheres.\n",
      "        from_sphere_s_cartesian_to_j_spherical_and_spherical_vectors_2d\n",
      "    cos_theta_coord : np.ndarray\n",
      "        Two dimensional array of floats with the cosine of the spherical\n",
      "        coordinate theta of the quadrature points in the coordinate\n",
      "        system s. Shape equals to\n",
      "        (quantity_theta_points, quantity_phi_points).\n",
      "        Comes from biosspheres.quadratures.spheres.\n",
      "        from_sphere_s_cartesian_to_j_spherical_and_spherical_vectors_2d\n",
      "    er_times_n : np.ndarray\n",
      "        Two dimensional array of floats with the dot product of the\n",
      "        canonical vector of the spherical coordinate r in the points\n",
      "        in the coordinate system s and the normal of a sphere. Shape\n",
      "        equals to (quantity_theta_points, quantity_phi_points). Comes\n",
      "        from biosspheres.quadratures.spheres.\n",
      "        from_sphere_s_cartesian_to_j_spherical_and_spherical_vectors_2d\n",
      "    etheta_times_n : np.ndarray\n",
      "        Two dimensional array of floats with the dot product of the\n",
      "        canonical vector of the spherical coordinate theta in the points\n",
      "        in the coordinate system s and the normal of a sphere. Shape\n",
      "        equals to (quantity_theta_points, quantity_phi_points). Comes\n",
      "        from biosspheres.quadratures.spheres.\n",
      "        from_sphere_s_cartesian_to_j_spherical_and_spherical_vectors_2d\n",
      "    ephi_times_n : np.ndarray\n",
      "        Two dimensional array of floats with the dot product of the\n",
      "        canonical vector of the spherical coordinate phi in the points\n",
      "        in the coordinate system s and the normal of a sphere. Shape\n",
      "        equals to (quantity_theta_points, quantity_phi_points). Comes\n",
      "        from biosspheres.quadratures.spheres.\n",
      "        from_sphere_s_cartesian_to_j_spherical_and_spherical_vectors_2d\n",
      "    weights : np.ndarray\n",
      "        of floats. Weights for the integral quadrature in the theta\n",
      "        variable. Comes from the function\n",
      "        gauss_legendre_trapezoidal_shtools_2d\n",
      "        from the module biosspheres.quadratures.spheres.\n",
      "    zeros : np.ndarray\n",
      "        of floats. Zeros of the integral quadrature in the theta\n",
      "        variable. Comes from the function\n",
      "        gauss_legendre_trapezoidal_shtools_2d\n",
      "        from the module biosspheres.quadratures.spheres.\n",
      "    quantity_theta_points : int\n",
      "        how many points for the integral in theta.\n",
      "        Can come from the function\n",
      "        gauss_legendre_trapezoidal_shtools_2d\n",
      "        from the module biosspheres.quadratures.spheres.\n",
      "    quantity_phi_points : int\n",
      "        how many points for the integral in phi.\n",
      "        Comes from the function\n",
      "        gauss_legendre_trapezoidal_shtools_2d\n",
      "        from the module biosspheres.quadratures.spheres.\n",
      "    pesykus : np.ndarray\n",
      "        dtype int, shape ((big_l+1) * big_l // 2, 2).\n",
      "        Used for the vectorization of some computations.\n",
      "        Comes from the function\n",
      "        biosspheres.miscella.auxindexes.pes_y_kus(big_l)\n",
      "    p2_plus_p_plus_q : np.ndarray\n",
      "        dtype int, length (big_l+1) * big_l // 2.\n",
      "        Used for the vectorization of some computations.\n",
      "        Comes from the function\n",
      "        biosspheres.miscella.auxindexes.pes_y_kus(big_l)\n",
      "    p2_plus_p_minus_q : np.ndarray\n",
      "        dtype int, length (big_l+1) * big_l // 2.\n",
      "        Used for the vectorization of some computations.\n",
      "        Comes from the function\n",
      "        biosspheres.miscella.auxindexes.pes_y_kus(big_l)\n",
      "\n",
      "    Returns\n",
      "    -------\n",
      "    data_ka : numpy array\n",
      "        Shape ((big_l+1)**2, (big_l+1)**2). See notes for the indexes\n",
      "        ordering.\n",
      "\n",
      "    See Also\n",
      "    --------\n",
      "    ka_0_sj_semi_analytic_recurrence_v1d\n",
      "    ka_0_sj_from_v_sj\n",
      "    ka_0_sj_from_k_js\n",
      "\n",
      "    \n"
     ]
    }
   ],
   "source": [
    "print(cross.ka_0_sj_semi_analytic_recurrence_v2d.__doc__)"
   ]
  },
  {
   "cell_type": "markdown",
   "id": "936a3f95-fffa-46f3-bef8-455d97507e56",
   "metadata": {},
   "source": [
    "### Example"
   ]
  },
  {
   "cell_type": "markdown",
   "id": "d1dcd835",
   "metadata": {},
   "source": [
    "Definition of the parameters:"
   ]
  },
  {
   "cell_type": "markdown",
   "id": "cef1e9a4",
   "metadata": {},
   "source": [
    "Radii:"
   ]
  },
  {
   "cell_type": "code",
   "execution_count": 62,
   "id": "c041f142-846b-4d05-b288-a3cbeaebd8de",
   "metadata": {},
   "outputs": [],
   "source": [
    "radio_1 = 3.\n",
    "radio_2 = 2."
   ]
  },
  {
   "cell_type": "markdown",
   "id": "cae4dd63",
   "metadata": {},
   "source": [
    "Positions of the center of the spheres:"
   ]
  },
  {
   "cell_type": "code",
   "execution_count": 63,
   "id": "27b13673",
   "metadata": {},
   "outputs": [],
   "source": [
    "p_1 = np.asarray([2., 3., 4.])\n",
    "p_2 = -p_1"
   ]
  },
  {
   "cell_type": "markdown",
   "id": "73aa4a4a",
   "metadata": {},
   "source": [
    "Maximum degree of spherical harmonics used, and parameter for the quadrature rule:"
   ]
  },
  {
   "cell_type": "code",
   "execution_count": 64,
   "id": "e0e6f7a6",
   "metadata": {},
   "outputs": [],
   "source": [
    "big_l = 5\n",
    "big_l_c = 25"
   ]
  },
  {
   "cell_type": "markdown",
   "id": "879541c3",
   "metadata": {},
   "source": [
    "Auxiliary parameters that use the ones previously defined, which are related to the implemented quadrature. This differs from the routines without the `2d` in its name:"
   ]
  },
  {
   "cell_type": "code",
   "execution_count": 65,
   "id": "e5f3ed88-edb2-47ac-aff3-a8082120d83b",
   "metadata": {},
   "outputs": [],
   "source": [
    "quantity_theta_points, quantity_phi_points, weights, pre_vector_t_2d = \\\n",
    "    quadratures.gauss_legendre_trapezoidal_2d(big_l_c)\n",
    "(r_coord_1tf_2d, phi_coord_1tf_2d, cos_theta_coord_1tf_2d,\n",
    " er_1tf_2d, eth_1tf_2d, ephi_1tf_2d) = (\n",
    "    quadratures.from_sphere_s_cartesian_to_j_spherical_and_spherical_vectors_2d(\n",
    "        radio_2, p_1, p_2, quantity_theta_points, quantity_phi_points,\n",
    "        pre_vector_t_2d))\n",
    "pesykus, p2_plus_p_plus_q, p2_plus_p_minus_q = auxindexes.pes_y_kus(big_l)"
   ]
  },
  {
   "cell_type": "markdown",
   "id": "0464bc52",
   "metadata": {},
   "source": [
    "Calling of the function:"
   ]
  },
  {
   "cell_type": "code",
   "execution_count": 66,
   "id": "bcd38b26-55f9-49cb-a684-d64393b54b8c",
   "metadata": {},
   "outputs": [],
   "source": [
    "data_ka21_2d = cross.ka_0_sj_semi_analytic_recurrence_v2d(\n",
    "    big_l, radio_1, radio_2, r_coord_1tf_2d, phi_coord_1tf_2d,\n",
    "    cos_theta_coord_1tf_2d, er_1tf_2d, eth_1tf_2d, ephi_1tf_2d, weights,\n",
    "    pre_vector_t_2d[2, :, 0], quantity_theta_points, quantity_phi_points,\n",
    "    pesykus, p2_plus_p_plus_q, p2_plus_p_minus_q)"
   ]
  },
  {
   "cell_type": "markdown",
   "id": "c40e5f3a-a22e-456b-b548-f60a38b61f07",
   "metadata": {},
   "source": [
    "If we compare with the previous routine:"
   ]
  },
  {
   "cell_type": "code",
   "execution_count": 67,
   "id": "c5f41714-bada-4218-8df7-b77ea9c19e26",
   "metadata": {},
   "outputs": [],
   "source": [
    "final_length, pre_vector_t, transform = \\\n",
    "    quadratures.real_spherical_harmonic_transform_1d(big_l, big_l_c)\n",
    "(r_coord_1tf, phi_coord_1tf, cos_theta_coord_1tf,\n",
    " er_1tf, eth_1tf, ephi_1tf) = (\n",
    "    quadratures.\n",
    "    from_sphere_s_cartesian_to_j_spherical_and_spherical_vectors_1d(\n",
    "        radio_2, p_1, p_2, final_length, pre_vector_t))\n",
    "data_ka21 = cross.ka_0_sj_semi_analytic_recurrence_v1d(\n",
    "    big_l, radio_1, radio_2, r_coord_1tf, phi_coord_1tf,\n",
    "    cos_theta_coord_1tf, er_1tf, eth_1tf, ephi_1tf, final_length,\n",
    "    transform)"
   ]
  },
  {
   "cell_type": "code",
   "execution_count": 68,
   "id": "e4f66594-be6d-49af-b57c-05f0e5dfec49",
   "metadata": {},
   "outputs": [
    {
     "data": {
      "image/png": "[encoded data removed]",
      "text/plain": [
       "<Figure size 480x360 with 2 Axes>"
      ]
     },
     "metadata": {},
     "output_type": "display_data"
    }
   ],
   "source": [
    "plt.figure(dpi=75., layout='constrained')\n",
    "im = np.abs(data_ka21_2d - data_ka21)\n",
    "plt.imshow(im, cmap='RdBu')\n",
    "plt.colorbar()\n",
    "plt.title('Absolute error between $K_{2,1}^{*0}$ with 1d and 2d routines')\n",
    "plt.show()"
   ]
  },
  {
   "cell_type": "markdown",
   "id": "2dad2e48-8b59-4c53-a08f-3d5ebee467e9",
   "metadata": {},
   "source": [
    "## `ka_0_sj_from_k_js`"
   ]
  },
  {
   "cell_type": "markdown",
   "id": "eba65e1d-2dcd-40d1-a85e-de185adc3cf6",
   "metadata": {},
   "source": [
    "### Docstring"
   ]
  },
  {
   "cell_type": "code",
   "execution_count": 69,
   "id": "6d1937e5-e3d7-4a5f-a4ab-86c705b9b7f1",
   "metadata": {},
   "outputs": [
    {
     "name": "stdout",
     "output_type": "stream",
     "text": [
      "\n",
      "    Returns a numpy array that represents a numerical approximation of\n",
      "    the matrix formed by the boundary integral operator K_{s,j}^{*0}\n",
      "    with Laplace kernel evaluated and tested with real spherical\n",
      "    harmonics.\n",
      "    This routine needs the numpy array corresponding to K_{j,s}^0\n",
      "    (notice the change of the order of the indexes indicating the\n",
      "    spheres).\n",
      "\n",
      "    Notes\n",
      "    -----\n",
      "    data_ka_sj[p*(2p+1) + q, l*(2l+1) + m] =\n",
      "        ( K_{s,j}^{*0} Y_{l,m,j} ; Y_{p,q,s} )_{L^2(S_s)}.\n",
      "    Y_{l,m,j} : spherical harmonic degree l, order m, in the coordinate\n",
      "        system j.\n",
      "    S_s : surface of the sphere s.\n",
      "\n",
      "    This computation uses the following result for this specific case:\n",
      "    ( K_{s,j}^{*0} Y_{l,m,j} ; Y_{p,q,s} )_{L^2(S_s)}\n",
      "        = ( K_{j,s}^0 Y_p,q,s ; Y_l,m,j )_{L^2(S_j)}.\n",
      "\n",
      "    Parameters\n",
      "    ----------\n",
      "    data_kjs : numpy array.\n",
      "        represents a numerical approximation of the matrix formed by the\n",
      "        boundary integral operator V_{s,j}^0 with Laplace kernel\n",
      "        evaluated and tested with spherical harmonics.\n",
      "\n",
      "    Returns\n",
      "    -------\n",
      "    data_ka_sj : numpy array.\n",
      "        Same shape than data_kjs. See notes for the indexes ordering.\n",
      "\n",
      "    See Also\n",
      "    --------\n",
      "    ka_0_sj_semi_analytic_recurrence_v1d\n",
      "    ka_0_sj_semi_analytic_recurrence_v2d\n",
      "    ka_0_sj_from_v_sj\n",
      "\n",
      "    \n"
     ]
    }
   ],
   "source": [
    "print(cross.ka_0_sj_from_k_js.__doc__)"
   ]
  },
  {
   "cell_type": "markdown",
   "id": "1cdd2b33-fde9-444f-b353-3dcaa184ec9c",
   "metadata": {},
   "source": [
    "### Example"
   ]
  },
  {
   "cell_type": "markdown",
   "id": "1a03004f",
   "metadata": {},
   "source": [
    "Definition of parameters:"
   ]
  },
  {
   "cell_type": "markdown",
   "id": "f103fdb5",
   "metadata": {},
   "source": [
    "Radii:"
   ]
  },
  {
   "cell_type": "code",
   "execution_count": 70,
   "id": "df1f31c7-464b-4489-8197-1219fbf33b78",
   "metadata": {},
   "outputs": [],
   "source": [
    "radio_1 = 3.\n",
    "radio_2 = 2."
   ]
  },
  {
   "cell_type": "markdown",
   "id": "dac5b1e0",
   "metadata": {},
   "source": [
    "Position of the center of the spheres:"
   ]
  },
  {
   "cell_type": "code",
   "execution_count": 71,
   "id": "c0440afb",
   "metadata": {},
   "outputs": [],
   "source": [
    "p_1 = np.asarray([2., 3., 4.])\n",
    "p_2 = -p_1"
   ]
  },
  {
   "cell_type": "markdown",
   "id": "0f3a5e94",
   "metadata": {},
   "source": [
    "Maximum degree of spherical harmonics used, and parameter for the quadrature rule:"
   ]
  },
  {
   "cell_type": "code",
   "execution_count": 72,
   "id": "cf2e9aad",
   "metadata": {},
   "outputs": [],
   "source": [
    "big_l = 3\n",
    "big_l_c = 25"
   ]
  },
  {
   "cell_type": "markdown",
   "id": "34f9d96f",
   "metadata": {},
   "source": [
    "Auxiliary parameters that use the ones previously defined, which are related to the implemented quadrature. This differs from the routines without the `2d` in its name:"
   ]
  },
  {
   "cell_type": "code",
   "execution_count": 73,
   "id": "31e62556-a2fa-4b4b-b744-9b54ee987b44",
   "metadata": {},
   "outputs": [],
   "source": [
    "quantity_theta_points, quantity_phi_points, weights, pre_vector_t_2d = \\\n",
    "    quadratures.gauss_legendre_trapezoidal_2d(big_l_c)\n",
    "r_coord_2tf_2d, phi_coord_2tf_2d, cos_theta_coord_2tf_2d = \\\n",
    "    (quadratures.from_sphere_s_cartesian_to_j_spherical_2d(\n",
    "        radio_1, p_2, p_1, quantity_theta_points, quantity_phi_points,\n",
    "        pre_vector_t_2d))\n",
    "pesykus, p2_plus_p_plus_q, p2_plus_p_minus_q = auxindexes.pes_y_kus(big_l)"
   ]
  },
  {
   "cell_type": "code",
   "execution_count": 74,
   "id": "3f33f4ff-dff1-4a67-9718-0c3fc5940d03",
   "metadata": {},
   "outputs": [],
   "source": [
    "data_k12_2d = cross.k_0_sj_semi_analytic_v2d(\n",
    "    big_l, radio_2, radio_1, r_coord_2tf_2d, phi_coord_2tf_2d,\n",
    "    cos_theta_coord_2tf_2d, weights, pre_vector_t_2d[2, :, 0],\n",
    "    quantity_theta_points, quantity_phi_points, pesykus, p2_plus_p_plus_q,\n",
    "    p2_plus_p_minus_q)"
   ]
  },
  {
   "cell_type": "markdown",
   "id": "f7765eb9",
   "metadata": {},
   "source": [
    "Calling of the function:"
   ]
  },
  {
   "cell_type": "code",
   "execution_count": 75,
   "id": "c168697d-303e-4035-92da-028c5353a8be",
   "metadata": {},
   "outputs": [],
   "source": [
    "data_ka21 = cross.ka_0_sj_from_k_js(data_k12_2d)"
   ]
  },
  {
   "cell_type": "markdown",
   "id": "0cb534b0-ae40-4e84-af13-0eec3a2988fc",
   "metadata": {},
   "source": [
    "To compare"
   ]
  },
  {
   "cell_type": "code",
   "execution_count": 76,
   "id": "f60dfea8-eb60-46e8-9011-8a383a791a1c",
   "metadata": {},
   "outputs": [],
   "source": [
    "(r_coord_1tf_2d, phi_coord_1tf_2d, cos_theta_coord_1tf_2d,\n",
    " er_1tf_2d, eth_1tf_2d, ephi_1tf_2d) = (\n",
    "    quadratures.\n",
    "    from_sphere_s_cartesian_to_j_spherical_and_spherical_vectors_2d(\n",
    "        radio_2, p_1, p_2, quantity_theta_points, quantity_phi_points,\n",
    "        pre_vector_t_2d))\n",
    "data_ka21_2d = cross.ka_0_sj_semi_analytic_recurrence_v2d(\n",
    "    big_l, radio_1, radio_2, r_coord_1tf_2d, phi_coord_1tf_2d,\n",
    "    cos_theta_coord_1tf_2d, er_1tf_2d, eth_1tf_2d, ephi_1tf_2d, weights,\n",
    "    pre_vector_t_2d[2, :, 0], quantity_theta_points, quantity_phi_points,\n",
    "    pesykus, p2_plus_p_plus_q, p2_plus_p_minus_q)"
   ]
  },
  {
   "cell_type": "code",
   "execution_count": 77,
   "id": "4a512c7f-c467-4069-9e57-fa2aeb693d26",
   "metadata": {},
   "outputs": [
    {
     "data": {
      "text/plain": [
       "Text(0.5, 1.0, 'Absolute error between $K_{2,1}^{*0}$ from $K_{2,1}^{0}$')"
      ]
     },
     "execution_count": 77,
     "metadata": {},
     "output_type": "execute_result"
    },
    {
     "data": {
      "image/png": "[encoded data removed]",
      "text/plain": [
       "<Figure size 480x360 with 2 Axes>"
      ]
     },
     "metadata": {},
     "output_type": "display_data"
    }
   ],
   "source": [
    "plt.figure(dpi=75., layout='constrained')\n",
    "im = np.abs(data_ka21_2d - data_ka21)\n",
    "plt.imshow(im, cmap='RdBu')\n",
    "plt.colorbar()\n",
    "plt.title('Absolute error between $K_{2,1}^{*0}$ from $K_{2,1}^{0}$')"
   ]
  },
  {
   "cell_type": "markdown",
   "id": "57a5ca83-d1c1-4d28-8e8c-5fb6cf0d7849",
   "metadata": {},
   "source": [
    "## `ka_0_sj_from_v_sj`"
   ]
  },
  {
   "cell_type": "markdown",
   "id": "4aacff88-3c32-49ca-bcdf-b5e6a3de7960",
   "metadata": {},
   "source": [
    "### Docstring"
   ]
  },
  {
   "cell_type": "code",
   "execution_count": 78,
   "id": "a35d5138-e52e-4cd4-bd2a-8a9d0dcfdf09",
   "metadata": {},
   "outputs": [
    {
     "name": "stdout",
     "output_type": "stream",
     "text": [
      "\n",
      "    Returns a numpy array that represents a numerical approximation of\n",
      "    the matrix formed by the boundary integral operator K_{s,j}^{*0} with\n",
      "    Laplace kernel evaluated and tested with real spherical harmonics.\n",
      "    This routine needs the numpy array corresponding to V_{s,j}^0.\n",
      "\n",
      "    Notes\n",
      "    -----\n",
      "    data_ka[p*(2p+1) + q, l*(2l+1) + m] =\n",
      "        ( K_{s,j}^{*0} Y_{l,m,j} ; Y_{p,q,s} )_{L^2(S_s)}.\n",
      "    Y_{l,m,j} : spherical harmonic degree l, order m, in the coordinate\n",
      "        system j.\n",
      "    S_s : surface of the sphere s.\n",
      "\n",
      "    This computation uses the following result for this specific case:\n",
      "    ( K_{s,j}^{*0} Y_{l,m,j} ; Y_{p,q,s} )_{L^2(S_s)}\n",
      "        = -\frac{p}{r_j} ( V_{s,j}^0 Y_{l,m,j} ; Y_{p,q,s} )_{L^2(S_s)}\n",
      "\n",
      "    Parameters\n",
      "    ----------\n",
      "    data_v_sj : np.ndarray\n",
      "        represents a numerical approximation of the matrix formed by the\n",
      "        boundary integral operator V_{s,j}^0 with Laplace kernel evaluated and\n",
      "        tested with spherical harmonics.\n",
      "    r_s : float\n",
      "        > 0, radius of the sphere s.\n",
      "    el_diagonal : scipy.sparse.dia_array\n",
      "        that comes from biosspheres.miscella.auxindexes.diagonal_l_sparse\n",
      "\n",
      "    Returns\n",
      "    -------\n",
      "    data_ka : numpy array.\n",
      "        Same shape than data_v_sj. See notes for the indexes ordering.\n",
      "\n",
      "    See Also\n",
      "    --------\n",
      "    ka_0_sj_semi_analytic_recurrence_v1d\n",
      "    ka_0_sj_semi_analytic_recurrence_v2d\n",
      "    ka_0_sj_from_k_js\n",
      "\n",
      "    \n"
     ]
    }
   ],
   "source": [
    "print(cross.ka_0_sj_from_v_sj.__doc__)"
   ]
  },
  {
   "cell_type": "markdown",
   "id": "5402bf9d-c23a-4e15-9d33-8c7222657cf0",
   "metadata": {},
   "source": [
    "### Example"
   ]
  },
  {
   "cell_type": "markdown",
   "id": "3aa8de73",
   "metadata": {},
   "source": [
    "Definition of parameters:"
   ]
  },
  {
   "cell_type": "markdown",
   "id": "fa6526f7",
   "metadata": {},
   "source": [
    "Radii:"
   ]
  },
  {
   "cell_type": "code",
   "execution_count": 79,
   "id": "74cdf9fa-5378-4972-bdd3-92536fbecf91",
   "metadata": {},
   "outputs": [],
   "source": [
    "radio_1 = 3.\n",
    "radio_2 = 2."
   ]
  },
  {
   "cell_type": "markdown",
   "id": "991fec5e",
   "metadata": {},
   "source": [
    "Position of the center of the spheres:"
   ]
  },
  {
   "cell_type": "code",
   "execution_count": 80,
   "id": "8b3f0311",
   "metadata": {},
   "outputs": [],
   "source": [
    "p_1 = np.asarray([2., 3., 4.])\n",
    "p_2 = -p_1"
   ]
  },
  {
   "cell_type": "markdown",
   "id": "f5e3a9d0",
   "metadata": {},
   "source": [
    "Maximum degree of spherical harmonics used, and parameter for the quadrature rule:"
   ]
  },
  {
   "cell_type": "code",
   "execution_count": 81,
   "id": "ea221fcd",
   "metadata": {},
   "outputs": [],
   "source": [
    "big_l = 3\n",
    "big_l_c = 25"
   ]
  },
  {
   "cell_type": "markdown",
   "id": "edebb58b",
   "metadata": {},
   "source": [
    "Auxiliary parameters that use the ones previously defined, which are related to the implemented quadrature. This differs from the routines without the `2d` in its name:"
   ]
  },
  {
   "cell_type": "code",
   "execution_count": 82,
   "id": "e2935138-2a70-4d16-8000-2f3a6ed7e55c",
   "metadata": {},
   "outputs": [],
   "source": [
    "quantity_theta_points, quantity_phi_points, weights, pre_vector_t_2d = \\\n",
    "        quadratures.gauss_legendre_trapezoidal_2d(big_l_c)\n",
    "r_coord_1tf_2d, phi_coord_1tf_2d, cos_theta_coord_1tf_2d = \\\n",
    "    (quadratures.from_sphere_s_cartesian_to_j_spherical_2d(\n",
    "        radio_2, p_1, p_2, quantity_theta_points, quantity_phi_points,\n",
    "        pre_vector_t_2d))\n",
    "pesykus, p2_plus_p_plus_q, p2_plus_p_minus_q = auxindexes.pes_y_kus(big_l)\n",
    "data_v21_2d = cross.v_0_sj_semi_analytic_v2d(\n",
    "    big_l, radio_1, radio_2, r_coord_1tf_2d, phi_coord_1tf_2d,\n",
    "    cos_theta_coord_1tf_2d, weights, pre_vector_t_2d[2, :, 0],\n",
    "    quantity_theta_points, quantity_phi_points, pesykus, p2_plus_p_plus_q,\n",
    "    p2_plus_p_minus_q)"
   ]
  },
  {
   "cell_type": "code",
   "execution_count": 83,
   "id": "eaefeedf-975d-4c7e-a83d-9c76b3b83150",
   "metadata": {},
   "outputs": [],
   "source": [
    "el_diagonal = auxindexes.diagonal_l_sparse(big_l)"
   ]
  },
  {
   "cell_type": "markdown",
   "id": "5c9c285e",
   "metadata": {},
   "source": [
    "Calling of the function:"
   ]
  },
  {
   "cell_type": "code",
   "execution_count": 84,
   "id": "54bfeeec-dcac-498c-a57f-3f31ae7fca15",
   "metadata": {},
   "outputs": [],
   "source": [
    "data_ka21 = cross.ka_0_sj_from_v_sj(data_v21_2d, radio_2, el_diagonal)"
   ]
  },
  {
   "cell_type": "markdown",
   "id": "2c4300ee-6692-4df7-b842-23d00c86910e",
   "metadata": {},
   "source": [
    "To compare"
   ]
  },
  {
   "cell_type": "code",
   "execution_count": 85,
   "id": "ecac3f70-4c88-427a-b0bd-47369024f31b",
   "metadata": {},
   "outputs": [],
   "source": [
    "(r_coord_1tf_2d, phi_coord_1tf_2d, cos_theta_coord_1tf_2d,\n",
    " er_1tf_2d, eth_1tf_2d, ephi_1tf_2d) = (\n",
    "    quadratures.\n",
    "    from_sphere_s_cartesian_to_j_spherical_and_spherical_vectors_2d(\n",
    "        radio_2, p_1, p_2, quantity_theta_points, quantity_phi_points,\n",
    "        pre_vector_t_2d))\n",
    "data_ka21_2d = cross.ka_0_sj_semi_analytic_recurrence_v2d(\n",
    "    big_l, radio_1, radio_2, r_coord_1tf_2d, phi_coord_1tf_2d,\n",
    "    cos_theta_coord_1tf_2d, er_1tf_2d, eth_1tf_2d, ephi_1tf_2d, weights,\n",
    "    pre_vector_t_2d[2, :, 0], quantity_theta_points, quantity_phi_points,\n",
    "    pesykus, p2_plus_p_plus_q, p2_plus_p_minus_q)"
   ]
  },
  {
   "cell_type": "code",
   "execution_count": 86,
   "id": "85c436ae-793c-43c6-b8ae-d497dc7ea544",
   "metadata": {},
   "outputs": [
    {
     "data": {
      "image/png": "[encoded data removed]",
      "text/plain": [
       "<Figure size 480x360 with 2 Axes>"
      ]
     },
     "metadata": {},
     "output_type": "display_data"
    }
   ],
   "source": [
    "plt.figure(dpi=75., layout='constrained')\n",
    "im = np.abs(data_ka21_2d - data_ka21)\n",
    "plt.imshow(im, cmap='RdBu')\n",
    "plt.colorbar()\n",
    "plt.title('Absolute error between $K_{2,1}^{*0}$ from $V_{2,1}^{0}$')\n",
    "plt.show()"
   ]
  },
  {
   "cell_type": "markdown",
   "id": "869cf292-5ea7-4e94-8f4c-9416394550a8",
   "metadata": {},
   "source": [
    "## `w_0_sj_from_v_sj`"
   ]
  },
  {
   "cell_type": "markdown",
   "id": "3a87bdcf-654c-4891-b1fc-a9ae35417ce8",
   "metadata": {},
   "source": [
    "### Docstring"
   ]
  },
  {
   "cell_type": "code",
   "execution_count": 87,
   "id": "9b805491-121b-4d18-89df-ec03950530a2",
   "metadata": {},
   "outputs": [
    {
     "name": "stdout",
     "output_type": "stream",
     "text": [
      "\n",
      "    Returns a numpy array that represents a numerical approximation of\n",
      "    the matrix formed by the boundary integral operator W_{s,j}^0 with\n",
      "    Laplace kernel evaluated and tested with real spherical harmonics.\n",
      "    This routine needs the numpy array corresponding to V_{s,j}^0.\n",
      "\n",
      "    Notes\n",
      "    -----\n",
      "    data_w[p*(2p+1) + q, l*(2l+1) + m] =\n",
      "        ( W_{s,j}^0 Y_{l,m,j} ; Y_{p,q,s} )_{L^2(S_s)}.\n",
      "    Y_{l,m,j} : spherical harmonic degree l, order m, in the coordinate\n",
      "        system j.\n",
      "    S_s : surface of the sphere s.\n",
      "\n",
      "    This computation uses the following result for this specific case:\n",
      "    ( W_{s,j}^0 Y_{l,m,j} ; Y_{p,q,s} )_{L^2(S_s)}\n",
      "        = -\frac{l p}{r_j r_s}\n",
      "          * ( V_{s,j}^0 Y_{l,m,j} ; Y_{p,q,s} )_{L^2(S_s)}\n",
      "\n",
      "    Parameters\n",
      "    ----------\n",
      "    data_v_sj : np.ndarray\n",
      "        represents a numerical approximation of the matrix formed by the\n",
      "        boundary integral operator V_{s,j}^0 with Laplace kernel\n",
      "        evaluated and\n",
      "        tested with spherical harmonics.\n",
      "    r_j : float\n",
      "        > 0, radius of the sphere j.\n",
      "    r_s : float\n",
      "        > 0, radius of the sphere s.\n",
      "    el_diagonal : scipy.sparse.dia_array\n",
      "        that comes from\n",
      "        biosspheres.miscella.auxindexes.diagonal_l_sparse\n",
      "\n",
      "    Returns\n",
      "    -------\n",
      "    data_w : numpy array.\n",
      "        Same shape than data_v_js. See notes for the indexes ordering.\n",
      "\n",
      "    \n"
     ]
    }
   ],
   "source": [
    "print(cross.w_0_sj_from_v_sj.__doc__)"
   ]
  },
  {
   "cell_type": "markdown",
   "id": "87fc3728-8602-4ae2-a84e-5c2d6dc3a59e",
   "metadata": {},
   "source": [
    "### Example"
   ]
  },
  {
   "cell_type": "markdown",
   "id": "7d6f00f6",
   "metadata": {},
   "source": [
    "Definition of parameters:"
   ]
  },
  {
   "cell_type": "markdown",
   "id": "33e45e50",
   "metadata": {},
   "source": [
    "Radii:"
   ]
  },
  {
   "cell_type": "code",
   "execution_count": 88,
   "id": "2d72469e-964f-487f-a9d6-bc93c8462a7d",
   "metadata": {},
   "outputs": [],
   "source": [
    "radio_1 = 3.\n",
    "radio_2 = 2."
   ]
  },
  {
   "cell_type": "markdown",
   "id": "11a97219",
   "metadata": {},
   "source": [
    "Position of the center of the spheres:"
   ]
  },
  {
   "cell_type": "code",
   "execution_count": 89,
   "id": "f26d6688",
   "metadata": {},
   "outputs": [],
   "source": [
    "p_1 = np.asarray([2., 3., 4.])\n",
    "p_2 = -p_1"
   ]
  },
  {
   "cell_type": "markdown",
   "id": "0f64a8fa",
   "metadata": {},
   "source": [
    "Maximum degree of spherical harmonics used, and parameter for the quadrature rule:"
   ]
  },
  {
   "cell_type": "code",
   "execution_count": 90,
   "id": "edddf158",
   "metadata": {},
   "outputs": [],
   "source": [
    "big_l = 3\n",
    "big_l_c = 25"
   ]
  },
  {
   "cell_type": "markdown",
   "id": "96b8a2c2",
   "metadata": {},
   "source": [
    "Auxiliary parameters that use the ones previously defined, which are related to the implemented quadrature. This differs from the routines without the `1d` in its name:"
   ]
  },
  {
   "cell_type": "code",
   "execution_count": 91,
   "id": "1535bc3a-9d3e-44ae-abb8-d44bfbaa516c",
   "metadata": {},
   "outputs": [],
   "source": [
    "final_length, pre_vector_t, transform = \\\n",
    "    quadratures.real_spherical_harmonic_transform_1d(big_l, big_l_c)\n",
    "(r_coord_1tf, phi_coord_1tf, cos_theta_coord_1tf, er_times_n_1tf,\n",
    " etheta_times_n_1tf, ephi_times_n_1tf) = (\n",
    "    quadratures.\n",
    "    from_sphere_s_cartesian_to_j_spherical_and_spherical_vectors_1d(\n",
    "        radio_2, p_1, p_2, final_length, pre_vector_t))"
   ]
  },
  {
   "cell_type": "code",
   "execution_count": 92,
   "id": "b5046170-f025-4edf-bc61-f0e8437cdb2a",
   "metadata": {},
   "outputs": [],
   "source": [
    "data_v21 = cross.v_0_sj_semi_analytic_v1d(\n",
    "    big_l, radio_1, radio_2, r_coord_1tf, phi_coord_1tf,\n",
    "    cos_theta_coord_1tf, final_length, transform)"
   ]
  },
  {
   "cell_type": "code",
   "execution_count": 93,
   "id": "009c878e-6877-4941-ab9a-047dc21142fd",
   "metadata": {},
   "outputs": [],
   "source": [
    "el_diagonal = auxindexes.diagonal_l_sparse(big_l)"
   ]
  },
  {
   "cell_type": "markdown",
   "id": "39a69e95",
   "metadata": {},
   "source": [
    "Calling of the function:"
   ]
  },
  {
   "cell_type": "code",
   "execution_count": 94,
   "id": "b7046362-eec2-4546-b61b-3af09b9d4380",
   "metadata": {},
   "outputs": [],
   "source": [
    "data_w21 = cross.w_0_sj_from_v_sj(data_v21, radio_1, radio_2, el_diagonal)"
   ]
  },
  {
   "cell_type": "markdown",
   "id": "481901d7-babf-4084-867b-9cb7bfc7058f",
   "metadata": {},
   "source": [
    "We check if `data_w21 = data_w_12`:"
   ]
  },
  {
   "cell_type": "code",
   "execution_count": 95,
   "id": "ac045308-880f-4918-b16e-5bbe22354a5b",
   "metadata": {},
   "outputs": [],
   "source": [
    "(r_coord_2tf, phi_coord_2tf, cos_theta_coord_2tf, er_times_n_2tf,\n",
    " etheta_times_n_2tf, ephi_times_n_2tf) = (\n",
    "    quadratures.\n",
    "    from_sphere_s_cartesian_to_j_spherical_and_spherical_vectors_1d(\n",
    "        radio_1, p_2, p_1, final_length, pre_vector_t))"
   ]
  },
  {
   "cell_type": "code",
   "execution_count": 96,
   "id": "868147a0-c28e-43c4-b58e-e96af748f12b",
   "metadata": {},
   "outputs": [],
   "source": [
    "data_v12 = cross.v_0_sj_semi_analytic_v1d(\n",
    "    big_l, radio_2, radio_1, r_coord_2tf, phi_coord_2tf,\n",
    "    cos_theta_coord_2tf, final_length, transform)"
   ]
  },
  {
   "cell_type": "code",
   "execution_count": 97,
   "id": "e336f946-60b7-4c96-aa4b-e5a326fad935",
   "metadata": {},
   "outputs": [],
   "source": [
    "data_w12 = cross.w_0_sj_from_v_sj(data_v12, radio_2, radio_1, el_diagonal)"
   ]
  },
  {
   "cell_type": "code",
   "execution_count": 98,
   "id": "4b471e24-2f03-4065-bd41-1545da8db3f4",
   "metadata": {},
   "outputs": [
    {
     "data": {
      "image/png": "[encoded data removed]",
      "text/plain": [
       "<Figure size 480x360 with 2 Axes>"
      ]
     },
     "metadata": {},
     "output_type": "display_data"
    }
   ],
   "source": [
    "plt.figure(dpi=75., layout='constrained')\n",
    "im = np.abs(data_w12 - np.transpose(data_w21))\n",
    "plt.imshow(im, cmap='RdBu')\n",
    "plt.colorbar()\n",
    "plt.title('Relative error between $W_{1,2}^0$ and $W_{2,1}^{0t}$.')\n",
    "plt.show()"
   ]
  },
  {
   "cell_type": "markdown",
   "id": "c3a0a291-7fa6-4654-ab46-b1c38cc25a0a",
   "metadata": {},
   "source": [
    "## `a_0_sj_and_js_v1d`"
   ]
  },
  {
   "cell_type": "markdown",
   "id": "47d117ae-98b7-46c6-89ae-fd82a2ab4692",
   "metadata": {},
   "source": [
    "The `1d` on the name of the routines references the type of input it needs. See the following sections for details."
   ]
  },
  {
   "cell_type": "markdown",
   "id": "1a7f2eab-01b2-47ea-99ba-204453693ffc",
   "metadata": {},
   "source": [
    "### Docstring"
   ]
  },
  {
   "cell_type": "code",
   "execution_count": 99,
   "id": "7607f71d-ad88-4406-a446-05a8a4d2d77f",
   "metadata": {},
   "outputs": [
    {
     "name": "stdout",
     "output_type": "stream",
     "text": [
      "\n",
      "    Returns two numpy arrays that represents a numerical approximation\n",
      "    of two matrices formed by the following boundary integral operators:\n",
      "    a_sj = [-K_{s,j}^0 , V_{s,j}^0 ]\n",
      "           [ W_{s,j}^0 , K_{s,j}^{*0}]\n",
      "    a_js = [-K_{j,s}^0 , V_{j,s}^0 ]\n",
      "           [ W_{j,s}^0 , K_{j,s}^{*0}]\n",
      "    with Laplace kernel evaluated and tested with real spherical\n",
      "    harmonics.\n",
      "    In this routine the quadrature points NEED to be ordered in an array\n",
      "    of one dimension.\n",
      "    It is a SLOW routine, because it does not use any symmetry or\n",
      "    properties of the spherical harmonics.\n",
      "\n",
      "    Notes\n",
      "    -----\n",
      "    The only operator computed directly with the numerical quadrature is\n",
      "    V_{s,j}^0, which follows the same steps as v_0_sj_semi_analytic_v1d.\n",
      "    The others are computed with the same properties used in:\n",
      "    v_0_js_from_v_0_sj\n",
      "    k_0_sj_from_v_0_sj\n",
      "    ka_0_sj_from_v_sj\n",
      "    w_0_sj_from_v_sj\n",
      "\n",
      "    Parameters\n",
      "    ----------\n",
      "    big_l : int\n",
      "        >= 0, max degree.\n",
      "    r_j : float\n",
      "        > 0, radius of the sphere j.\n",
      "    r_s : float\n",
      "        > 0, radius of the sphere s.\n",
      "    r_coord : np.ndarray\n",
      "        Array of floats with the spherical coordinate r of the\n",
      "        quadrature points in the coordinate system s. Length equals to\n",
      "        final_length. Can come from the\n",
      "        function from_sphere_s_cartesian_to_j_spherical_1d of the module\n",
      "        biosspheres.quadratures.spheres.\n",
      "    phi_coord : np.ndarray\n",
      "        Array of floats with the phi coordinate r of the quadrature\n",
      "        points in the coordinate system s. Length equals to\n",
      "        final_length. Can come from the function\n",
      "        from_sphere_s_cartesian_to_j_spherical_1d of the module\n",
      "        biosspheres.quadratures.spheres.\n",
      "    cos_theta_coord : np.ndarray\n",
      "        Array of floats with the cosine of the spherical coordinate\n",
      "        theta of the quadrature points in the coordinate system s.\n",
      "        Lengths equal to final_length. Can come from the function\n",
      "        from_sphere_s_cartesian_to_j_spherical_1d of the module\n",
      "        biosspheres.quadratures.spheres.\n",
      "    final_length : int\n",
      "        How many points for the surface integral.\n",
      "        Can come from the function spherical_harmonic_transform_1d of\n",
      "        the module biosspheres.quadratures.spheres.\n",
      "    transform : np.ndarray\n",
      "        of floats, for doing the real spherical harmonic transform.\n",
      "        Can come from the function real_spherical_harmonic_transform_1d\n",
      "        of the module biosspheres.quadratures.spheres.\n",
      "    diagonal : np.ndarray\n",
      "        from diagonal_l_dense\n",
      "\n",
      "    Returns\n",
      "    -------\n",
      "    a_sj : numpy array\n",
      "        Shape (2 * (big_l+1)**2, 2 * (big_l+1)**2).\n",
      "    a_js : numpy array\n",
      "        Shape (2 * (big_l+1)**2, 2 * (big_l+1)**2).\n",
      "\n",
      "    See Also\n",
      "    --------\n",
      "    a_0_sj_and_js_v2d\n",
      "    v_0_sj_semi_analytic_v1d\n",
      "    v_0_js_from_v_0_sj\n",
      "    k_0_sj_from_v_0_sj\n",
      "    ka_0_sj_from_v_sj\n",
      "    w_0_sj_from_v_sj\n",
      "\n",
      "    \n"
     ]
    }
   ],
   "source": [
    "print(cross.a_0_sj_and_js_v1d.__doc__)"
   ]
  },
  {
   "cell_type": "markdown",
   "id": "ce1af6f9-5a58-4ad5-9dbc-4054450ef4cc",
   "metadata": {},
   "source": [
    "### Example"
   ]
  },
  {
   "cell_type": "code",
   "execution_count": 100,
   "id": "ce147d63-ba0e-4fbc-9fbe-49de5e1b3465",
   "metadata": {},
   "outputs": [],
   "source": [
    "radio_1 = 3.\n",
    "radio_2 = 2.\n",
    "\n",
    "p_1 = np.asarray([2., 3., 4.])\n",
    "p_2 = -p_1\n",
    "\n",
    "big_l = 3\n",
    "big_l_c = 50"
   ]
  },
  {
   "cell_type": "code",
   "execution_count": 101,
   "id": "5c4ea62f-0590-4b0e-9f08-85750281a2a6",
   "metadata": {},
   "outputs": [],
   "source": [
    "final_length, pre_vector_t, transform = quadratures.real_spherical_harmonic_transform_1d(big_l, big_l_c)\n",
    "r_coord_1tf, phi_coord_1tf, cos_theta_coord_1tf = (\n",
    "    quadratures.\n",
    "    from_sphere_s_cartesian_to_j_spherical_1d(\n",
    "        radio_2, p_1, p_2, final_length, pre_vector_t))"
   ]
  },
  {
   "cell_type": "code",
   "execution_count": 102,
   "id": "79f6b6a7-1aef-4d74-87fa-b2d34b7c8f97",
   "metadata": {},
   "outputs": [],
   "source": [
    "diagonal = auxindexes.diagonal_l_dense(big_l)"
   ]
  },
  {
   "cell_type": "code",
   "execution_count": 103,
   "id": "195e7183-21d1-4aea-8400-2caefc51f4a7",
   "metadata": {},
   "outputs": [],
   "source": [
    "a_21, a_12 = cross.a_0_sj_and_js_v1d(\n",
    "    big_l, radio_1, radio_2, r_coord_1tf, phi_coord_1tf,\n",
    "    cos_theta_coord_1tf, final_length, transform, diagonal)"
   ]
  },
  {
   "cell_type": "markdown",
   "id": "ee4cfb3a-80ae-464c-8a07-7e9c84d978eb",
   "metadata": {},
   "source": [
    "To compare"
   ]
  },
  {
   "cell_type": "code",
   "execution_count": 104,
   "id": "3c099f12-7a6a-425e-9856-bc89e792f086",
   "metadata": {},
   "outputs": [],
   "source": [
    "data_v21 = cross.v_0_sj_semi_analytic_v1d(\n",
    "    big_l, radio_1, radio_2, r_coord_1tf, phi_coord_1tf,\n",
    "    cos_theta_coord_1tf, final_length, transform)\n",
    "data_k21 = cross.k_0_sj_semi_analytic_v1d(\n",
    "    big_l, radio_1, radio_2, r_coord_1tf, phi_coord_1tf,\n",
    "    cos_theta_coord_1tf, final_length, transform)\n",
    "el_diagonal = auxindexes.diagonal_l_sparse(big_l)\n",
    "data_ka21 = cross.ka_0_sj_from_v_sj(data_v21, radio_2, el_diagonal)\n",
    "data_w21 = cross.w_0_sj_from_v_sj(data_v21, radio_1, radio_2, el_diagonal)"
   ]
  },
  {
   "cell_type": "code",
   "execution_count": 105,
   "id": "61ee709f-00b9-4fc5-aaf1-b3d3a2f0d990",
   "metadata": {},
   "outputs": [],
   "source": [
    "a_21_prev = np.concatenate((\n",
    "    np.concatenate((-data_k21, data_v21), axis=1),\n",
    "    np.concatenate((data_w21, data_ka21), axis=1)),\n",
    "    axis=0)"
   ]
  },
  {
   "cell_type": "code",
   "execution_count": 106,
   "id": "ca162c92-7edd-4a8f-9eab-79c1ea1585e1",
   "metadata": {},
   "outputs": [
    {
     "data": {
      "image/png": "[encoded data removed]",
      "text/plain": [
       "<Figure size 640x480 with 2 Axes>"
      ]
     },
     "metadata": {},
     "output_type": "display_data"
    }
   ],
   "source": [
    "aux = np.abs(a_21 - a_21_prev)\n",
    "plt.figure()\n",
    "plt.imshow(aux, cmap='RdBu',\n",
    "           norm=colors.SymLogNorm(linthresh=10**(-8)))\n",
    "plt.colorbar()\n",
    "plt.title('Checking routine A_sj.')\n",
    "plt.show()"
   ]
  },
  {
   "cell_type": "markdown",
   "id": "b026b554-7129-4d52-b625-541486951a55",
   "metadata": {},
   "source": [
    "## `a_0_sj_and_js_v2d`"
   ]
  },
  {
   "cell_type": "markdown",
   "id": "cd95747a-79aa-4270-92ea-c4afe1af389f",
   "metadata": {},
   "source": [
    "### Docstring"
   ]
  },
  {
   "cell_type": "code",
   "execution_count": 107,
   "id": "ff698911-a24d-4257-9dbe-207c32d6db09",
   "metadata": {},
   "outputs": [
    {
     "name": "stdout",
     "output_type": "stream",
     "text": [
      "\n",
      "    Returns two numpy arrays that represents a numerical approximation\n",
      "    of two matrices formed by the following boundary integral operators:\n",
      "    a_sj = [-K_{s,j}^0 , V_{s,j}^0 ]\n",
      "           [ W_{s,j}^0 , K_{s,j}^{*0}]\n",
      "    a_js = [-K_{j,s}^0 , V_{j,s}^0 ]\n",
      "           [ W_{j,s}^0 , K_{j,s}^{*0}]\n",
      "    with Laplace kernel evaluated and tested with real spherical\n",
      "    harmonics.\n",
      "    In this routine the quadrature points NEED to be ordered in an array\n",
      "    of two dimensions, given by the function\n",
      "    from_sphere_s_cartesian_to_j_spherical_2d\n",
      "    of the module biosspheres.quadratures.spheres.\n",
      "\n",
      "    Notes\n",
      "    -----\n",
      "    The only operator computed directly with the numerical quadrature is\n",
      "    V_{s,j}^0, which follows the same steps as v_0_sj_semi_analytic_v2d.\n",
      "    The others are computed with the same properties used in:\n",
      "    v_0_js_from_v_0_sj\n",
      "    k_0_sj_from_v_0_sj\n",
      "    ka_0_sj_from_v_sj\n",
      "    w_0_sj_from_v_sj\n",
      "\n",
      "    Parameters\n",
      "    ----------\n",
      "    big_l : int\n",
      "        >= 0, max degree of spherical harmonics used.\n",
      "    r_j : float\n",
      "        > 0, radius of the sphere j.\n",
      "    r_s : float\n",
      "        > 0, radius of the sphere s.\n",
      "    r_coord : np.ndarray\n",
      "        Two dimensional array of floats with the spherical coordinate r\n",
      "        of the quadrature points in the coordinate system s. Shape\n",
      "        equals to (quantity_theta_points, quantity_phi_points).\n",
      "        Comes from biosspheres.quadratures.spheres.\n",
      "        from_sphere_s_cartesian_to_j_spherical_and_spherical_vectors_2d\n",
      "    phi_coord : np.ndarray\n",
      "        Two dimensional array of floats with the phi coordinate r of the\n",
      "        quadrature points in the coordinate system s. Shape equals to\n",
      "        (quantity_theta_points, quantity_phi_points).\n",
      "        Comes from biosspheres.quadratures.spheres.\n",
      "        from_sphere_s_cartesian_to_j_spherical_and_spherical_vectors_2d\n",
      "    cos_theta_coord : np.ndarray\n",
      "        Two dimensional array of floats with the cosine of the spherical\n",
      "        coordinate theta of the quadrature points in the coordinate\n",
      "        system s. Shape equals to\n",
      "        (quantity_theta_points, quantity_phi_points).\n",
      "        Comes from biosspheres.quadratures.spheres.\n",
      "        from_sphere_s_cartesian_to_j_spherical_and_spherical_vectors_2d\n",
      "    weights : np.ndarray\n",
      "        of floats. Weights for the integral quadrature in the theta\n",
      "        variable. Comes from the function\n",
      "        gauss_legendre_trapezoidal_shtools_2d\n",
      "        from the module biosspheres.quadratures.spheres.\n",
      "    zeros : np.ndarray\n",
      "        of floats. Zeros of the integral quadrature in the theta\n",
      "        variable. Comes from the function\n",
      "        gauss_legendre_trapezoidal_shtools_2d\n",
      "        from the module biosspheres.quadratures.spheres.\n",
      "    quantity_theta_points : int\n",
      "        how many points for the integral in theta.\n",
      "        Can come from the function\n",
      "        gauss_legendre_trapezoidal_shtools_2d\n",
      "        from the module biosspheres.quadratures.spheres.\n",
      "    quantity_phi_points : int\n",
      "        how many points for the integral in phi.\n",
      "        Comes from the function\n",
      "        gauss_legendre_trapezoidal_shtools_2d\n",
      "        from the module biosspheres.quadratures.spheres.\n",
      "    pesykus : np.ndarray\n",
      "        dtype int, shape ((big_l+1) * big_l // 2, 2).\n",
      "        Used for the vectorization of some computations.\n",
      "        Comes from the function\n",
      "        biosspheres.miscella.auxindexes.pes_y_kus(big_l)\n",
      "    p2_plus_p_plus_q : np.ndarray\n",
      "        dtype int, length (big_l+1) * big_l // 2.\n",
      "        Used for the vectorization of some computations.\n",
      "        Comes from the function\n",
      "        biosspheres.miscella.auxindexes.pes_y_kus(big_l)\n",
      "    p2_plus_p_minus_q : np.ndarray\n",
      "        dtype int, length (big_l+1) * big_l // 2.\n",
      "        Used for the vectorization of some computations.\n",
      "        Comes from the function\n",
      "        biosspheres.miscella.auxindexes.pes_y_kus(big_l)\n",
      "    diagonal : np.ndarray\n",
      "        from diagonal_l_dense\n",
      "\n",
      "    Returns\n",
      "    -------\n",
      "    a_sj : numpy array\n",
      "        Shape (2 * (big_l+1)**2, 2 * (big_l+1)**2).\n",
      "    a_js : numpy array\n",
      "        Shape (2 * (big_l+1)**2, 2 * (big_l+1)**2).\n",
      "\n",
      "    See Also\n",
      "    --------\n",
      "    a_0_sj_and_js_v1d\n",
      "    v_0_sj_semi_analytic_v2d\n",
      "    v_0_js_from_v_0_sj\n",
      "    k_0_sj_from_v_0_sj\n",
      "    ka_0_sj_from_v_sj\n",
      "    w_0_sj_from_v_sj\n",
      "\n",
      "    \n"
     ]
    }
   ],
   "source": [
    "print(cross.a_0_sj_and_js_v2d.__doc__)"
   ]
  },
  {
   "cell_type": "markdown",
   "id": "3be3fd2c-fb84-45a2-bd0d-db22c18b161e",
   "metadata": {},
   "source": [
    "### Example"
   ]
  },
  {
   "cell_type": "code",
   "execution_count": 108,
   "id": "5d708882-c3e3-410c-b498-1a85a855a3ba",
   "metadata": {},
   "outputs": [],
   "source": [
    "radio_1 = 3.\n",
    "radio_2 = 2.\n",
    "\n",
    "p_1 = np.asarray([2., 3., 4.])\n",
    "p_2 = -p_1\n",
    "\n",
    "big_l = 3\n",
    "big_l_c = 50"
   ]
  },
  {
   "cell_type": "code",
   "execution_count": 109,
   "id": "a1c3813a-3ada-4708-b653-3837261d94af",
   "metadata": {},
   "outputs": [],
   "source": [
    "quantity_theta_points, quantity_phi_points, weights, pre_vector_t_2d = \\\n",
    "    quadratures.gauss_legendre_trapezoidal_2d(big_l_c)\n",
    "r_coord_1tf_2d, phi_coord_1tf_2d, cos_theta_coord_1tf_2d = \\\n",
    "    (quadratures.\n",
    "     from_sphere_s_cartesian_to_j_spherical_2d(\n",
    "        radio_2, p_1, p_2, quantity_theta_points, quantity_phi_points,\n",
    "        pre_vector_t_2d))\n",
    "pesykus, p2_plus_p_plus_q, p2_plus_p_minus_q = auxindexes.pes_y_kus(big_l)"
   ]
  },
  {
   "cell_type": "code",
   "execution_count": 110,
   "id": "d60852dd-3e1b-47dc-8c15-e0f8a5bd3563",
   "metadata": {},
   "outputs": [],
   "source": [
    "diagonal = auxindexes.diagonal_l_dense(big_l)"
   ]
  },
  {
   "cell_type": "code",
   "execution_count": 111,
   "id": "b3de7a7a-31f1-4692-8753-1e98d9263808",
   "metadata": {},
   "outputs": [],
   "source": [
    "a_21_2d, a_12_2d = cross.a_0_sj_and_js_v2d(\n",
    "    big_l, radio_1, radio_2, r_coord_1tf_2d, phi_coord_1tf_2d,\n",
    "    cos_theta_coord_1tf_2d, weights, pre_vector_t_2d[2, :, 0],\n",
    "    quantity_theta_points, quantity_phi_points, pesykus, p2_plus_p_plus_q,\n",
    "    p2_plus_p_minus_q, diagonal)"
   ]
  },
  {
   "cell_type": "markdown",
   "id": "8d21f4b1-6d22-429d-aa54-6886710a8f11",
   "metadata": {},
   "source": [
    "To compare"
   ]
  },
  {
   "cell_type": "code",
   "execution_count": 112,
   "id": "9f2b49a4-1880-403e-99d1-f5a943dabf1f",
   "metadata": {},
   "outputs": [],
   "source": [
    "final_length, pre_vector_t, transform = \\\n",
    "    quadratures.real_spherical_harmonic_transform_1d(big_l, big_l_c)\n",
    "r_coord_1tf, phi_coord_1tf, cos_theta_coord_1tf = (\n",
    "    quadratures.\n",
    "    from_sphere_s_cartesian_to_j_spherical_1d(\n",
    "        radio_2, p_1, p_2, final_length, pre_vector_t))"
   ]
  },
  {
   "cell_type": "code",
   "execution_count": 113,
   "id": "93b1c9b6-c866-4f1a-9f5b-e94ca836388f",
   "metadata": {},
   "outputs": [],
   "source": [
    "a_21, a_12 = cross.a_0_sj_and_js_v1d(\n",
    "    big_l, radio_1, radio_2, r_coord_1tf, phi_coord_1tf,\n",
    "    cos_theta_coord_1tf, final_length, transform, diagonal)"
   ]
  },
  {
   "cell_type": "code",
   "execution_count": 114,
   "id": "8324a850-6277-4020-a42b-f29e74327ac9",
   "metadata": {},
   "outputs": [
    {
     "data": {
      "image/png": "[encoded data removed]",
      "text/plain": [
       "<Figure size 640x480 with 2 Axes>"
      ]
     },
     "metadata": {},
     "output_type": "display_data"
    }
   ],
   "source": [
    "aux = np.abs(a_21 - a_21_2d)\n",
    "plt.figure()\n",
    "plt.imshow(aux, cmap='RdBu',\n",
    "           norm=colors.SymLogNorm(linthresh=10**(-8)))\n",
    "plt.colorbar()\n",
    "plt.title('Checking routine A_sj.')\n",
    "plt.show()"
   ]
  },
  {
   "cell_type": "code",
   "execution_count": 115,
   "id": "6336de1c-459a-4bb8-8641-1016753cc7c1",
   "metadata": {},
   "outputs": [
    {
     "data": {
      "image/png": "[encoded data removed]",
      "text/plain": [
       "<Figure size 640x480 with 2 Axes>"
      ]
     },
     "metadata": {},
     "output_type": "display_data"
    }
   ],
   "source": [
    "aux = np.abs(a_12 - a_12_2d)\n",
    "plt.figure()\n",
    "plt.imshow(aux, cmap='RdBu',\n",
    "           norm=colors.SymLogNorm(linthresh=10**(-8)))\n",
    "plt.colorbar()\n",
    "plt.title('Checking routine A_sj.')\n",
    "plt.show()"
   ]
  },
  {
   "cell_type": "markdown",
   "id": "6d589c42-d1f1-4d23-9244-6ea1d91885b6",
   "metadata": {},
   "source": [
    "## `all_cross_interactions_n_spheres_v1d`"
   ]
  },
  {
   "cell_type": "markdown",
   "id": "4f9efd3b-77a8-4753-8dea-336b8c5c527f",
   "metadata": {},
   "source": [
    "The `1d` on the name of the routine references the type of input it needs. See the following sections for details."
   ]
  },
  {
   "cell_type": "markdown",
   "id": "a78186e3-15b5-40fb-abd2-2e8eda642978",
   "metadata": {},
   "source": [
    "### Docstring"
   ]
  },
  {
   "cell_type": "code",
   "execution_count": 116,
   "id": "3e978398-96f9-4479-869a-1f1e1c7b6fe6",
   "metadata": {},
   "outputs": [
    {
     "name": "stdout",
     "output_type": "stream",
     "text": [
      "\n",
      "    Returns an array with all the cross interactions for the given n\n",
      "    spheres.\n",
      "    It is a SLOW routine.\n",
      "\n",
      "    Notes\n",
      "    -----\n",
      "    Uses the following:\n",
      "    quadratures.real_spherical_harmonic_transform_1d(big_l, big_l_c)\n",
      "    auxindexes.diagonal_l_dense(big_l)\n",
      "    quadratures.from_sphere_s_cartesian_to_j_spherical_1d\n",
      "    a_0_sj_and_js_v1d\n",
      "\n",
      "    Parameters\n",
      "    ----------\n",
      "    n : int\n",
      "        >= 2. Number of spheres.\n",
      "    big_l : int\n",
      "        >= 0, max degree.\n",
      "    big_l_c : int\n",
      "        >= 0. It's the parameter used to compute the points of the\n",
      "        quadrature.\n",
      "    radii : np.ndarray\n",
      "        Array with the radii of the spheres.\n",
      "    center_positions :\n",
      "        List or arrays with the center position of the spheres\n",
      "\n",
      "    Returns\n",
      "    -------\n",
      "    almost_big_a_0 : np.ndarray\n",
      "        Shape ( 2 * n * (big_l + 1) ** 2, 2 * n * (big_l + 1) ** 2).\n",
      "\n",
      "    See Also\n",
      "    --------\n",
      "    all_cross_interactions_n_spheres_v2d\n",
      "\n",
      "    \n"
     ]
    }
   ],
   "source": [
    "print(cross.all_cross_interactions_n_spheres_v1d.__doc__)"
   ]
  },
  {
   "cell_type": "markdown",
   "id": "b5ab990e-d77b-4c04-9407-08dc29e5b937",
   "metadata": {},
   "source": [
    "### Example"
   ]
  },
  {
   "cell_type": "code",
   "execution_count": 117,
   "id": "5d6094f4-b392-4bea-83ff-fe2847bb9360",
   "metadata": {},
   "outputs": [],
   "source": [
    "radio_1 = 3.\n",
    "radio_2 = 2.\n",
    "rs = np.asarray([radio_1, radio_2])\n",
    "\n",
    "p_1 = np.asarray([2., 3., 4.])\n",
    "p_2 = -p_1\n",
    "\n",
    "big_l = 3\n",
    "big_l_c = 50\n",
    "\n",
    "n = 2\n",
    "p = [p_1, p_2]"
   ]
  },
  {
   "cell_type": "code",
   "execution_count": 118,
   "id": "75de898f-a46a-4623-bcdb-4264f1496c5e",
   "metadata": {},
   "outputs": [],
   "source": [
    "cross_1 = cross.all_cross_interactions_n_spheres_v1d(\n",
    "    n, big_l, big_l_c, rs, p)"
   ]
  },
  {
   "cell_type": "markdown",
   "id": "c3cfb4e0-2e47-4bc2-83bb-df2f501878c2",
   "metadata": {},
   "source": [
    "## `all_cross_interactions_n_spheres_v2d`"
   ]
  },
  {
   "cell_type": "markdown",
   "id": "17a0e9f1-650d-4f2f-91f9-b3280a56412c",
   "metadata": {},
   "source": [
    "### Docstring"
   ]
  },
  {
   "cell_type": "code",
   "execution_count": 119,
   "id": "af03959b-5a96-45b9-a72f-cd4118c323c0",
   "metadata": {},
   "outputs": [
    {
     "name": "stdout",
     "output_type": "stream",
     "text": [
      "\n",
      "    Returns an array with all the cross interactions for the given n\n",
      "    spheres.\n",
      "\n",
      "    Notes\n",
      "    -----\n",
      "    Uses the following:\n",
      "    auxindexes.pes_y_kus\n",
      "    quadratures.quadrature_points_sphere_shtools_version_2d\n",
      "    auxindexes.diagonal_l_dense\n",
      "    quadratures.from_sphere_s_cartesian_to_j_spherical_2d\n",
      "    a_0_sj_and_js_v2d\n",
      "\n",
      "    Parameters\n",
      "    ----------\n",
      "    n : int\n",
      "        >= 2. Number of spheres.\n",
      "    big_l : int\n",
      "        >= 0, max degree.\n",
      "    big_l_c : int\n",
      "        >= 0. It's the parameter used to compute the points of the\n",
      "        quadrature.\n",
      "    radii : np.ndarray\n",
      "        Array with the radii of the spheres.\n",
      "    center_positions : array_like\n",
      "        List or array with the center position of the spheres\n",
      "\n",
      "    Returns\n",
      "    -------\n",
      "    almost_big_a_0 : np.ndarray\n",
      "        Shape ( 2 * n * (big_l + 1) ** 2, 2 * n * (big_l + 1) ** 2).\n",
      "\n",
      "    See Also\n",
      "    --------\n",
      "    all_cross_interactions_n_spheres_v1d\n",
      "\n",
      "    \n"
     ]
    }
   ],
   "source": [
    "print(cross.all_cross_interactions_n_spheres_v2d.__doc__)"
   ]
  },
  {
   "cell_type": "markdown",
   "id": "d62cd9bb-8210-4271-9ebd-ad86597707fc",
   "metadata": {},
   "source": [
    "### Example "
   ]
  },
  {
   "cell_type": "code",
   "execution_count": 120,
   "id": "711af0f9-d5b2-4b86-91dc-f80783698676",
   "metadata": {},
   "outputs": [],
   "source": [
    "radio_1 = 3.\n",
    "radio_2 = 2.\n",
    "rs = np.asarray([radio_1, radio_2])\n",
    "\n",
    "p_1 = np.asarray([2., 3., 4.])\n",
    "p_2 = -p_1\n",
    "\n",
    "big_l = 3\n",
    "big_l_c = 50\n",
    "\n",
    "n = 2\n",
    "p = [p_1, p_2]"
   ]
  },
  {
   "cell_type": "code",
   "execution_count": 121,
   "id": "11150a78-159e-4557-b0d1-a5155c933549",
   "metadata": {},
   "outputs": [],
   "source": [
    "cross_2 = cross.all_cross_interactions_n_spheres_v2d(\n",
    "    n, big_l, big_l_c, rs, p)"
   ]
  },
  {
   "cell_type": "markdown",
   "id": "b97895d6-6549-4932-a848-f38e101c131e",
   "metadata": {},
   "source": [
    "To compare"
   ]
  },
  {
   "cell_type": "code",
   "execution_count": 122,
   "id": "06547779-fc92-432b-ae84-ca2198138e3e",
   "metadata": {},
   "outputs": [],
   "source": [
    "cross_1 = cross.all_cross_interactions_n_spheres_v1d(\n",
    "    n, big_l, big_l_c, rs, p)"
   ]
  },
  {
   "cell_type": "code",
   "execution_count": 123,
   "id": "d113de2c-8850-4f30-9c33-2be57e01d0ac",
   "metadata": {},
   "outputs": [
    {
     "name": "stdout",
     "output_type": "stream",
     "text": [
      "3.575151838646758e-15\n"
     ]
    }
   ],
   "source": [
    "print(np.linalg.norm(cross_2 - cross_1))"
   ]
  },
  {
   "cell_type": "code",
   "execution_count": null,
   "id": "a74dd5de-dd67-44c3-9bf3-719287008dc3",
   "metadata": {},
   "outputs": [],
   "source": []
  }
 ],
 "metadata": {
  "kernelspec": {
   "display_name": "Python 3 (ipykernel)",
   "language": "python",
   "name": "python3"
  },
  "language_info": {
   "codemirror_mode": {
    "name": "ipython",
    "version": 3
   },
   "file_extension": ".py",
   "mimetype": "text/x-python",
   "name": "python",
   "nbconvert_exporter": "python",
   "pygments_lexer": "ipython3",
   "version": "3.9.18"
  }
 },
 "nbformat": 4,
 "nbformat_minor": 5
}
