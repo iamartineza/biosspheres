{
 "cells": [
  {
   "cell_type": "markdown",
   "metadata": {},
   "source": [
    "# Package biossphere overview"
   ]
  },
  {
   "cell_type": "markdown",
   "metadata": {},
   "source": [
    "biosspheres is a python-based solver for Laplace and Helmholtz scattering by multiple disjoint spheres, utilizing spherical harmonic decomposition and local multiple trace formulations."
   ]
  },
  {
   "cell_type": "markdown",
   "metadata": {},
   "source": [
    "It is divided into six main modules, which are further subdivided:\n",
    "- formulations\n",
    "- helmholtz\n",
    "- laplace\n",
    "- miscella\n",
    "- quadratures\n",
    "- utils"
   ]
  },
  {
   "cell_type": "markdown",
   "metadata": {},
   "source": [
    "In the following, a general background is given and after it, a small overview of the modules is made. The order of the sections are alphabetical with respect of the name of each module."
   ]
  },
  {
   "cell_type": "markdown",
   "metadata": {},
   "source": [
    "## Geometry"
   ]
  },
  {
   "cell_type": "markdown",
   "metadata": {},
   "source": [
    "In most settings, we consider $N$ disjoint spheres in $\\mathbb{R}^3$, with the following notation:\n",
    "- Position vectors of the sphere centers: $\\mathbf{p_j} \\in \\mathbb{R}^3$, with $j \\in \\{1, ..., N\\}$.\n",
    "- Radii: $\\tilde{r}_j \\in \\mathbb{R}^+$, with $j \\in \\{1, ..., N\\}$.\n",
    "- Interior of sphere $j$: $\\Omega_j$, with $j \\in \\{1, ..., N\\}$.\n",
    "- Boundary of sphere $j$: $\\Gamma_j := \\partial \\Omega_j$.\n",
    "- Exterior medium: $\\Omega_0$, defined as $\\mathbb{R}^3$ without the spheres and their boundaries."
   ]
  },
  {
   "cell_type": "markdown",
   "metadata": {},
   "source": [
    "When using $N=1$, we sometimes use the sub-indexes $e$ for exterior and $i$ for interior."
   ]
  },
  {
   "cell_type": "markdown",
   "metadata": {},
   "source": [
    "## Problems that can be solved"
   ]
  },
  {
   "cell_type": "markdown",
   "metadata": {},
   "source": [
    "The code was written thinking in solving Helmholtz or Laplace problems with transmission conditions, that can be posed as a system of boundary integral equations. However, the routines can be used to solve problems with other boundary conditions. Further details are given in the overviews of the modules `laplace`, `helmoholtz`and `formulations`."
   ]
  },
  {
   "cell_type": "markdown",
   "metadata": {},
   "source": [
    "An example volume problem that can be posed as a boundary integral system is:"
   ]
  },
  {
   "cell_type": "markdown",
   "metadata": {},
   "source": [
    "We want to find $u_j \\in H^1_{loc}(\\Omega_j)$, $j \\{0, ..., N \\}$, such that they solve:\n",
    "$$\\text{div} (\\sigma_j \\nabla u_j) = 0 \\quad \\text{ in } \\Omega_j, \\text{ with } j \\in \\{0, ..., N \\},$$\n",
    "$$-\\gamma_d^{0j} u_0 + \\gamma_d^{j} u_j = \\gamma_d^{0j} \\phi_e \\quad \\text{ on } \\Gamma_j, \\text{ with } j \\in \\{1, ..., N \\},$$\n",
    "$$\\sigma_0 \\gamma_n^{0j} u_0 + \\sigma_j \\gamma_n^{j} u_j = - \\sigma_0\\gamma_n^{0j} \\phi_e \\quad \\text{ on } \\Gamma_j, \\text{ with } j \\in \\{1, ..., N \\},$$\n",
    "$$\\lim_{||\\mathbf{x}||_2 \\rightarrow \\infty} u_0(\\mathbf{x}) = \\mathcal{O}\\left(\\frac{1}{||\\mathbf{x}||_2}\\right),$$"
   ]
  },
  {
   "cell_type": "markdown",
   "metadata": {},
   "source": [
    "with\n",
    "$$\\gamma_d^{0j} u_0 := u_0|_{\\Gamma_j},$$\n",
    "$$\\gamma_d^{j} u_j := u_0|_{\\Gamma_j},$$\n",
    "$$\\gamma_n^{0j} u_0 := \\nabla u_0|_{\\Gamma_j} \\cdot \\widehat{n}_{0j},$$\n",
    "$$\\gamma_n^{j} u_j := \\nabla u_0|_{\\Gamma_j}\\cdot \\widehat{n}_{j},$$\n",
    "where $\\widehat{n}_{j}$ is the exterior normal of $\\Omega_j$, with $j\\in \\{ 1, ..., N\\}$ and $\\widehat{n}_{0j}=-\\widehat{n}_{j}$."
   ]
  },
  {
   "cell_type": "markdown",
   "metadata": {},
   "source": [
    "$\\sigma_j$, with $j\\in \\{ 1, ..., N\\}$, are positive parameters and\n",
    "$\\phi_e$ a given harmonic function, with domain in $\\Omega_0$."
   ]
  },
  {
   "cell_type": "markdown",
   "metadata": {},
   "source": [
    "## Coordinate systems used"
   ]
  },
  {
   "cell_type": "markdown",
   "metadata": {},
   "source": [
    "### Spherical coordinate system"
   ]
  },
  {
   "cell_type": "markdown",
   "metadata": {},
   "source": [
    "A vector is written as $\\mathbf{r}=\\left(r,\\varphi,\\theta\\right)^t$, with $r \\in [0,\\infty)$, $\\varphi \\in [0,2\\pi)$ and $\\theta \\in [0,\\pi]$, which in Cartesian coordinates is equivalent to $\\mathbf{r}=r\\left(\\sin \\theta \\cos \\varphi,\\sin \\theta \\sin \\varphi,\\cos \\theta\\right)^t$. The unitary vectors of the spherical coordinate system can be written in Cartesian coordinates as\n",
    "$$\\begin{align*}\n",
    "    &\\widehat{\\mathbf{e}}_r= (\\sin \\theta \\cos \\varphi , \\sin \\theta \\sin \\varphi , \\cos \\theta )^t, \\\\\n",
    "    &\\widehat{\\mathbf{e}}_\\theta=(\\cos \\theta \\cos \\varphi , \\cos \\theta \\sin \\varphi , -\\sin \\theta  )^t, \\\\\n",
    "    &\\widehat{\\mathbf{e}}_{\\varphi}=(-\\sin \\varphi , \\cos \\varphi , 0 )^t.\n",
    "\\end{align*}$$\n",
    "Also, the gradient operator in spherical coordinates:\n",
    "$$\\begin{align*}\n",
    "    \\nabla f&=\\frac{\\partial f}{\\partial r} \\widehat{\\mathbf{e}}_r+\\frac{1}{r} \\frac{\\partial f}{\\partial \\theta} \\widehat{\\mathbf{e}}_\\theta+\\frac{1}{r \\sin \\theta} \\frac{\\partial f}{\\partial \\varphi} \\widehat{\\mathbf{e}}_{\\varphi}\n",
    "\\end{align*}$$"
   ]
  },
  {
   "cell_type": "markdown",
   "metadata": {},
   "source": [
    "## Discretization"
   ]
  },
  {
   "cell_type": "markdown",
   "metadata": {},
   "source": [
    "### Preliminaries"
   ]
  },
  {
   "cell_type": "markdown",
   "metadata": {},
   "source": [
    "First, we introduce the functions that form the trial and test functions that are assumed when computing the discretized versions of the boundary integral operators.\n"
   ]
  },
  {
   "cell_type": "markdown",
   "metadata": {},
   "source": [
    "#### Associated Legendre functions"
   ]
  },
  {
   "cell_type": "markdown",
   "metadata": {},
   "source": [
    "$P_l^m$ are the associated Legendre functions of degree $l$ and  order $m$ defined as:\n",
    "$$P_{l}^m\\left(x\\right) := (-1)^m \\left( 1- x^2\\right)^{\\frac{m}{2}} \\frac{d^m}{dx^m}P_l(x), \\quad \\text{with} \\quad P_{l}\\left(x\\right) := \\frac{1}{2^ll!}\\frac{d^l}{dx^l}(x^2-1)^l.$$\n",
    "\n",
    "Here, the term $(-1)^m$ is the Condon-Shortley phase factor."
   ]
  },
  {
   "cell_type": "markdown",
   "metadata": {},
   "source": [
    "#### Real spherical harmonics"
   ]
  },
  {
   "cell_type": "markdown",
   "metadata": {},
   "source": [
    "Real spherical harmonics of degree $l$ and order $m$ are defined using spherical coordinates:\n",
    "$$\\begin{align}\n",
    "\t\t Y_{l,m}\\left(\\theta,\\varphi\\right) &:= \\sqrt{ (2-\\delta_{m,0}) \\frac{\\left(2l+1\\right)\\left(l-m\\right)!}{4 \\pi \\left(l+m\\right)!}} P_l^{m} \\left(\\cos\\theta\\right) \\cos m \\varphi , \\text{ and}\\\\\n",
    "\t\tY_{l,-m}\\left(\\theta,\\varphi\\right) &:= \\sqrt{ (2-\\delta_{m,0})\\frac{\\left(2l+1\\right)\\left(l-m\\right)!}{4 \\pi \\left(l+m\\right)!}} P_l^{m} \\left(\\cos\\theta\\right) \\sin m \\varphi ,\n",
    "\\end{align}$$\n",
    "with $l\\in \\mathbb{N}_0$, $m\\in \\mathbb{Z}$ such that $0\\leq m\\leq l$. If $m=0$, then $\\delta_{m,0}=1$, and it is zero otherwise."
   ]
  },
  {
   "cell_type": "markdown",
   "metadata": {},
   "source": [
    "#### Complex spherical harmonics"
   ]
  },
  {
   "cell_type": "markdown",
   "metadata": {},
   "source": [
    "Complex spherical harmonics of degree $l$ and order $m$ are defined using spherical coordinates:\n",
    "$$Y_{l,m}\\left(\\theta,\\varphi\\right) := \\sqrt{ \\frac{\\left(2l+1\\right)\\left(l-m\\right)!}{4 \\pi \\left(l+m\\right)!}} P_l^{m} \\left(\\cos\\left(\\theta\\right)\\right) e^{i m \\varphi},$$\n",
    "$$Y_{l,-m}\\left(\\theta,\\varphi\\right) := (-1)^m\\overline{Y}_{l,m}\\left(\\theta,\\varphi\\right),$$\n",
    "with $l\\in \\mathbb{N}_0$, $m\\in \\mathbb{Z}$ such that $0\\leq m\\leq l$. If $m=0$, then $\\delta_{m,0}=1$, and it is zero otherwise."
   ]
  },
  {
   "cell_type": "markdown",
   "metadata": {},
   "source": [
    "#### Orthonormality of spherical harmonics"
   ]
  },
  {
   "cell_type": "markdown",
   "metadata": {},
   "source": [
    "Spherical harmonics are dense in $C(\\mathbb{S}^2)$, with $\\mathbb{S}^2$ the surface of the unit sphere, and form a complete orthonormal system in $L^2(\\mathbb{S}^2)$ with respect to the internal product defined by:\n",
    "$$\\left( \\psi , \\xi \\right)_{L^2(\\mathbb{S}^2)} = \\int_{0}^{2\\pi}\\int_{0}^{\\pi} \\psi\\left(\\theta,\\varphi\\right) \\overline{\\xi\\left(\\theta,\\varphi\\right) }\\sin\\left(\\theta\\right) d\\theta d\\varphi,$$\n",
    "with $\\overline{\\xi\\left(\\theta,\\varphi\\right)}$ the conjugate of $\\xi\\left(\\theta,\\varphi\\right)$.\n",
    "\n",
    "They also are orthogonal in $H^1(\\mathbb{S}^2)$."
   ]
  },
  {
   "cell_type": "markdown",
   "metadata": {},
   "source": [
    "### Spherical harmonic discretization"
   ]
  },
  {
   "cell_type": "markdown",
   "metadata": {},
   "source": [
    "Let be $j\\in \\{1,...,N\\}$. We define the reference system $j$ as the one centered at $\\mathbf{p_j}$ with the same orientation that the reference system centered in the origin. Furthermore, we denote by $Y_{l,m,j}$ the spherical harmonic $Y_{l,m}$ centered in the origin of the reference system $j$. Thus, if $\\left( r_j, \\varphi_j, \\theta_j \\right) $ are the vector spherical coordinates of $\\mathbf{r_j}$ in the reference system $j$, we have that $Y_{l,m,j}\\left(\\mathbf{r}_j\\right)=Y_{l,m}\\left(\\theta_j, \\varphi_j\\right)$."
   ]
  },
  {
   "cell_type": "markdown",
   "metadata": {},
   "source": [
    "For $L \\in \\mathbb{N}_0$ and $j\\in \\{1,...,N\\}$, we define subspaces \n",
    "$$\\mathcal{Y}_L\\left(\\Gamma_j \\right):= \\text{span}\\left\\lbrace Y_{l,m,j}: l \\in \\mathbb{N}_0, m \\in \\mathbb{Z}, l \\leq L, |m|\\leq l \\right\\rbrace,$$\n",
    "equipped with the $L^2(\\Gamma_j)$-norm. Notice that the dimension of each subspace is $(L+1)^2$, and that the sequence of subspaces $\\lbrace \\mathcal{Y}_L \\left(\\Gamma_j \\right) \\rbrace_{L \\in \\mathbb{N}_0} $ is dense in $H^{\\frac{1}{2}}(\\Gamma_j)$ and in $H^{-\\frac{1}{2}}(\\Gamma_j)$. This result justifies the discretization of all boundary Dirichlet and Neumann unknowns with spherical harmonics."
   ]
  },
  {
   "cell_type": "markdown",
   "metadata": {},
   "source": [
    "In the example given in the section \"Problems that can be solved\", we can discretize all the traces:\n",
    "\n",
    "For $j \\in \\lbrace 1, ..., N \\rbrace$, we write $u^L_{d,0j}$, $u^L_{n,0j}$, $u^L_{d,j}$ and $u^L_{n,j}$ in $\\mathcal{Y}_L(\\Gamma_j)$ for the approximations of $\\gamma_d^{0j} u_0 $, $\\gamma_n^{0j} u_0 $, $\\gamma_d^{j} u_j$ and $\\gamma_n^{j} u_j $, respectively. They can be written as the following series expansions:\n",
    "$$\\begin{align}\n",
    "    u^L_{d,0j}&=\\sum_{l=0}^{L}  \\sum_{m=-l}^l u^{l,m}_{d,0j}  Y_{l,m,j}, & u^L_{n,0j} &=\\sum_{l=0}^{L}  \\sum_{m=-l}^l u^{l,m}_{n,0j}  Y_{l,m,j},\\\\\n",
    "    u^L_{d,j}&=\\sum_{l=0}^{L}  \\sum_{m=-l}^l u^{l,m}_{d,j}  Y_{l,m,j},& u^L_{d,j} &=\\sum_{l=0}^{L}  \\sum_{m=-l}^l u^{l,m}_{n,j}  Y_{l,m,j},\n",
    "\\end{align}$$\n",
    "with $u^{l,m}_{d,0j}$, $u^{l,m}_{n,0j}$, $u^{l,m}_{d,j}$, and $u^{l,m}_{n,j}$ being constants."
   ]
  },
  {
   "cell_type": "markdown",
   "metadata": {},
   "source": [
    "### Computational comment"
   ]
  },
  {
   "cell_type": "markdown",
   "metadata": {},
   "source": [
    "We mostly use the package `pyshtools` when computing the Associated Legendre Functions and when obtaining the coefficients of the expansion in spherical harmonics of a function when a mapping in a sphere is given."
   ]
  },
  {
   "cell_type": "markdown",
   "metadata": {},
   "source": [
    "## 1. formulations module"
   ]
  },
  {
   "cell_type": "markdown",
   "metadata": {},
   "source": [
    "The formulations module has the following submodules:\n",
    "- massmatrices: python script with routines to obtain mass matrices for one or several spheres.\n",
    "\n",
    "- mtf: module that is further subdivided. It has routines for solving Laplace and Helmholtz problems using the multiple traces formulation, also for coupling Laplace problems with ODEs in time.\n",
    "\n",
    "This structure was designed like this to allow the addition of other formulations by incorporating new modules. Since massmatrices can be used across several formulations it was placed in that position for easier import by the rest of the modules."
   ]
  },
  {
   "cell_type": "markdown",
   "metadata": {},
   "source": [
    "### 1.1 massmatrices"
   ]
  },
  {
   "cell_type": "markdown",
   "metadata": {},
   "source": [
    "### 1.2 mtf module"
   ]
  },
  {
   "cell_type": "markdown",
   "metadata": {},
   "source": [
    "The `mtf`folder has the following submodules:\n",
    "- timecouplings: submodule with routines for coupling ODEs with a multitraces formulation.\n",
    "- mtf: python script with routines to obtain discretized versions of the mtf operator.\n",
    "- propertieschecks: python script with routines for checking properties that hold in a mtf setting. This helps the used to check the correctness of the obtained solutions.\n",
    "- reconstructions: python script with routines that use the representation formula to retrieve the values of the solution in volume points.\n",
    "- righthands: python script with routines for building righthand side of a mtf problem for some given external functions.\n",
    "- solvertemplates: python script with routines that take the parameters of a problem and return the solution. They build the discretization matrices, righthand sides and solve."
   ]
  },
  {
   "cell_type": "markdown",
   "metadata": {},
   "source": [
    "In the jupyter notebook `1_2_e1_laplace_transmission_mtf` is presented how to solve a Laplace transmission problem with the multiple traces formulation, along with the small explanation of the formulation used."
   ]
  },
  {
   "cell_type": "markdown",
   "metadata": {},
   "source": [
    "## 2. helmholtz module"
   ]
  },
  {
   "cell_type": "markdown",
   "metadata": {},
   "source": [
    "The helmholtz module has two submodules:\n",
    "- selfinteractions: python script with routines to obtain the evaluation and testing of boundary integral operators with complex spherical harmonics in one sphere. The boundary integral operators have Helmholtz kernel. There are routines for the four operators needed for the Calderón projector. For details see the Jupyter notebook called `2_1_selfinteractions_helmholtz_overview.ipynb`.\n",
    "\n",
    "- crossinteractions: python script with routines to obtain the evaluation and testing of boundary integral operators with complex spherical harmonics between two different spheres. The boundary integral operators have Helmholtz kernel. There are routines for the four operators needed for the Calderón projector. For details see the Jupyter notebook called `2_2_crossinteractions_helmholtz_overview.ipynb`."
   ]
  },
  {
   "cell_type": "markdown",
   "metadata": {},
   "source": [
    "## 3. laplace module"
   ]
  },
  {
   "cell_type": "markdown",
   "metadata": {},
   "source": [
    "The laplace module has three submodules:\n",
    "- selfinteractions: python script with routines to obtain the evaluation and testing of boundary integral operators with real spherical harmonics in one sphere. The boundary integral operators have Laplace kernel. There are routines for the four operators needed for the Calderón projector. For details see the Jupyter notebook called `3_1_selfinteractions_laplace_overview.ipynb`.\n",
    "\n",
    "- crossinteractions: python script with routines to obtain the evaluation and testing of boundary integral operators with real spherical harmonics between two different spheres. The boundary integral operators have Laplace kernel. There are routines for the four operators needed for the Calderón projector. For details see the Jupyter notebook called `3_2_crossinteractions_laplace_overview.ipynb`.\n",
    "\n",
    "- drawings"
   ]
  }
 ],
 "metadata": {
  "kernelspec": {
   "display_name": "reqbiosspheresnotebooks",
   "language": "python",
   "name": "python3"
  },
  "language_info": {
   "name": "python",
   "version": "3.9.18"
  }
 },
 "nbformat": 4,
 "nbformat_minor": 2
}
