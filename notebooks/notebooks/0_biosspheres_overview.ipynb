{
 "cells": [
  {
   "cell_type": "markdown",
   "metadata": {},
   "source": [
    "# Package biossphere overview"
   ]
  },
  {
   "cell_type": "markdown",
   "metadata": {},
   "source": [
    "biosspheres is a python-based solver for Laplace and Helmholtz scattering by multiple disjoint spheres, utilizing spherical harmonic decomposition and local multiple trace formulations."
   ]
  },
  {
   "cell_type": "markdown",
   "metadata": {},
   "source": [
    "It is divided into six main modules, which are further subdivided:\n",
    "- formulations\n",
    "- helmholtz\n",
    "- laplace\n",
    "- miscella\n",
    "- quadratures\n",
    "- utils"
   ]
  },
  {
   "cell_type": "markdown",
   "metadata": {},
   "source": [
    "In the following, a small overview of the modules are given."
   ]
  },
  {
   "cell_type": "markdown",
   "metadata": {},
   "source": [
    "## 1. formulations module"
   ]
  },
  {
   "cell_type": "markdown",
   "metadata": {},
   "source": [
    "The formulations module has the following submodules:\n",
    "- massmatrices: python script with routines to obtain mass matrices for one or several spheres.\n",
    "\n",
    "- mtf: module that is further subdivided. It has routines for solving Laplace and Helmholtz problems using the multiple traces formulation, also for coupling Laplace problems with ODEs in time.\n",
    "\n",
    "This structure was designed like this to allow the addition of other formulations by incorporating new modules. Since massmatrices can be used across several formulations it was placed in that position for easier import by the rest of the modules."
   ]
  },
  {
   "cell_type": "markdown",
   "metadata": {},
   "source": [
    "### 1.1 massmatrices"
   ]
  },
  {
   "cell_type": "markdown",
   "metadata": {},
   "source": [
    "### 1.2 mtf module"
   ]
  },
  {
   "cell_type": "markdown",
   "metadata": {},
   "source": [
    "## 2. helmholtz module"
   ]
  },
  {
   "cell_type": "markdown",
   "metadata": {},
   "source": [
    "The helmholtz module has two submodules:\n",
    "- selfinteractions: python script with routines to obtain the evaluation and testing of boundary integral operators with complex spherical harmonics in one sphere. The boundary integral operators have Helmholtz kernel. There are routines for the four operators needed for the Calderón projector. For details see the Jupyter notebook called `2_1_selfinteractions_helmholtz_overview.ipynb`.\n",
    "\n",
    "- crossinteractions: python script with routines to obtain the evaluation and testing of boundary integral operators with complex spherical harmonics between two different spheres. The boundary integral operators have Helmholtz kernel. There are routines for the four operators needed for the Calderón projector. For details see the Jupyter notebook called `2_2_crossinteractions_helmholtz_overview.ipynb`."
   ]
  },
  {
   "cell_type": "markdown",
   "metadata": {},
   "source": [
    "## 3. laplace module"
   ]
  },
  {
   "cell_type": "markdown",
   "metadata": {},
   "source": [
    "The laplace module has three submodules:\n",
    "- selfinteractions: python script with routines to obtain the evaluation and testing of boundary integral operators with real spherical harmonics in one sphere. The boundary integral operators have Laplace kernel. There are routines for the four operators needed for the Calderón projector. For details see the Jupyter notebook called `3_1_selfinteractions_laplace_overview.ipynb`.\n",
    "\n",
    "- crossinteractions: python script with routines to obtain the evaluation and testing of boundary integral operators with real spherical harmonics between two different spheres. The boundary integral operators have Laplace kernel. There are routines for the four operators needed for the Calderón projector. For details see the Jupyter notebook called `3_2_crossinteractions_laplace_overview.ipynb`.\n",
    "\n",
    "- drawings"
   ]
  }
 ],
 "metadata": {
  "kernelspec": {
   "display_name": "reqbiosspheresnotebooks",
   "language": "python",
   "name": "python3"
  },
  "language_info": {
   "name": "python",
   "version": "3.9.18"
  }
 },
 "nbformat": 4,
 "nbformat_minor": 2
}
