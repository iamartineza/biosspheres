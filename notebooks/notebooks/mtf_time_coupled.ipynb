{
 "cells": [
  {
   "cell_type": "markdown",
   "metadata": {},
   "source": [
    "# Solving a multitraces formulation problem coupled with ordinary differential equations"
   ]
  },
  {
   "cell_type": "markdown",
   "metadata": {},
   "source": [
    "Code considerations:\n",
    "- We try to use numpy arrays for faster computations whenever it is possible (lists are very slow)."
   ]
  },
  {
   "cell_type": "markdown",
   "metadata": {},
   "source": [
    "Import of the numpy library:"
   ]
  },
  {
   "cell_type": "code",
   "execution_count": 1,
   "metadata": {},
   "outputs": [],
   "source": [
    "import numpy as np"
   ]
  },
  {
   "cell_type": "markdown",
   "metadata": {},
   "source": [
    "Here we solve an example associated with the electropermeabilization problem. See article [Cell Electropermeabilization Modeling via Multiple Traces Formulation and Time Semi-Implicit Coupling](https://arxiv.org/abs/2403.19371) where the model and formulation are described. In this notebook we present other coupled models too."
   ]
  },
  {
   "cell_type": "markdown",
   "metadata": {},
   "source": [
    "## One sphere"
   ]
  },
  {
   "cell_type": "markdown",
   "metadata": {},
   "source": [
    "We assume that the center of the sphere is in the origin."
   ]
  },
  {
   "cell_type": "markdown",
   "metadata": {},
   "source": [
    "### Parameters set up."
   ]
  },
  {
   "cell_type": "markdown",
   "metadata": {},
   "source": [
    "First, we set up the parameters of the problem:"
   ]
  },
  {
   "cell_type": "markdown",
   "metadata": {},
   "source": [
    "Maximum degree of the spherical harmonics to be used for discretize ($L$). It has to be an integer:"
   ]
  },
  {
   "cell_type": "code",
   "execution_count": 2,
   "metadata": {},
   "outputs": [],
   "source": [
    "big_l = 10"
   ]
  },
  {
   "cell_type": "markdown",
   "metadata": {},
   "source": [
    "Maximum degree of the spherical harmonics to be used for quadratures ($L_c$). It has to be an integer:"
   ]
  },
  {
   "cell_type": "code",
   "execution_count": 3,
   "metadata": {},
   "outputs": [],
   "source": [
    "big_l_c = 30"
   ]
  },
  {
   "cell_type": "markdown",
   "metadata": {},
   "source": [
    "Radius of the sphere. It has to be a float number:"
   ]
  },
  {
   "cell_type": "code",
   "execution_count": 4,
   "metadata": {},
   "outputs": [],
   "source": [
    "radius = 1."
   ]
  },
  {
   "cell_type": "markdown",
   "metadata": {},
   "source": [
    "The variable `sigmas` is a numpy array with the medium conductivities in the order $\\sigma_0$, $\\sigma_1$. The numbers have to be floats:"
   ]
  },
  {
   "cell_type": "code",
   "execution_count": 5,
   "metadata": {},
   "outputs": [],
   "source": [
    "sigma_e = 15.  # 5 # extracellular conductivity, [microS / micro m]\n",
    "sigma_i = 1.5  # 0.455  # intracellular conductivity, [microS / micro m]\n",
    "sigmas = np.asarray([sigma_e, sigma_i])"
   ]
  },
  {
   "cell_type": "markdown",
   "metadata": {},
   "source": [
    "Capacitance of the membrane (needs to be a float):"
   ]
  },
  {
   "cell_type": "code",
   "execution_count": 6,
   "metadata": {},
   "outputs": [],
   "source": [
    "c_m = 1.#9.5*10**(-3)  # [p F / (micro m) ** 2] (This unit is for the Kavian et al. problem)"
   ]
  },
  {
   "cell_type": "markdown",
   "metadata": {},
   "source": [
    "Parameters for the time scheme used:"
   ]
  },
  {
   "cell_type": "code",
   "execution_count": 7,
   "metadata": {},
   "outputs": [],
   "source": [
    "initial_time = 0.\n",
    "final_time = 10.\n",
    "number_steps = 2**14"
   ]
  },
  {
   "cell_type": "markdown",
   "metadata": {},
   "source": [
    "Set up of initial conditions, for this model we need two arrays of length `(big_l + 1)**2`. Each array has the coefficients of the spherical harmonic expansion of each initial condition.\n",
    "In the following we give a couple of examples for building one of the arrays:"
   ]
  },
  {
   "cell_type": "code",
   "execution_count": 8,
   "metadata": {},
   "outputs": [],
   "source": [
    "# Initial condition equal to zero\n",
    "v_0_zero = np.zeros(((big_l+1)**2))\n",
    "# Intial condition equal to a cte value\n",
    "cte = 4.\n",
    "v_0_cte_value = np.zeros(((big_l+1)**2))\n",
    "v_0_cte_value[0] = cte * 2* np.sqrt(np.pi) * radius**2"
   ]
  },
  {
   "cell_type": "markdown",
   "metadata": {},
   "source": [
    "In this example we use initial conditions equal to zero. We need to set up both arrays in one:"
   ]
  },
  {
   "cell_type": "code",
   "execution_count": 9,
   "metadata": {},
   "outputs": [],
   "source": [
    "initial_conditions = np.zeros((2, (big_l+1)**2))"
   ]
  },
  {
   "cell_type": "markdown",
   "metadata": {},
   "source": [
    "#### Set up of the external excitation"
   ]
  },
  {
   "cell_type": "markdown",
   "metadata": {},
   "source": [
    "Set up the contributions to the right hand side made by $\\phi_e$. For this, we set up a function only dependent on time, to account for changes in time. In the module `biosspheres.formulations.mtf.timecouplings.righthands` there are implementations on how to do this, we use one of the pre-defined functions:"
   ]
  },
  {
   "cell_type": "code",
   "execution_count": 10,
   "metadata": {},
   "outputs": [],
   "source": [
    "# Import of the module where pre-defined right hand sides are.\n",
    "import biosspheres.formulations.mtf.timecouplings.righthands as righthands\n",
    "# phi_e cte in time and space\n",
    "phi_cte_space_time = righthands.phi_part_of_b_cte_space_and_time(\n",
    "\tbig_l, n=1, radii=np.asarray([radius]), cte=cte\n",
    ")\n",
    "# phi_e point source in space, cte in time\n",
    "phi_point_source_space_cte_time = righthands.phi_part_of_b_point_source_space_and_cte_time(\n",
    "  big_l, n=1, radii=np.asarray([radius]), center_positions=[np.zeros((3))], p0 = 25.*np.ones((3)),\n",
    "  sigma_e = sigmas[0], pii = np.asarray([sigmas[1]/sigmas[0]]), amplitude = 1.\n",
    ")\n",
    "b_phi_part_time_function = phi_point_source_space_cte_time"
   ]
  },
  {
   "cell_type": "markdown",
   "metadata": {},
   "source": [
    "#### Parameters for the coupled currents and ordinary differential equations:"
   ]
  },
  {
   "cell_type": "markdown",
   "metadata": {},
   "source": [
    "For a non-linear current following FitzHugh-Nagumo dynamics:"
   ]
  },
  {
   "cell_type": "code",
   "execution_count": 11,
   "metadata": {},
   "outputs": [],
   "source": [
    "parameter_theta = 0.8 # must be a float, adimensional parameter\n",
    "parameter_b = 0.7     # must be a float, adimensional parameter\n",
    "parameter_a = 0.3     # must be a float, adimensional parameter"
   ]
  },
  {
   "cell_type": "markdown",
   "metadata": {},
   "source": [
    "For Kavian et al. dynamics:"
   ]
  },
  {
   "cell_type": "code",
   "execution_count": 12,
   "metadata": {},
   "outputs": [],
   "source": [
    "s_l = 1.9*10**(-6)  # [micro S / (micro m) ** 2]\n",
    "s_ir = 2.5*10**2  # [micro S / (micro m) ** 2]\n",
    "tau_ep = 1.  # [micro s]\n",
    "tau_res = 10.**3  # [micro s]\n",
    "k_ep = 40.  # [V ** -1]\n",
    "v_rev = 1.5  # [V]"
   ]
  },
  {
   "cell_type": "markdown",
   "metadata": {},
   "source": [
    "### Set up of internals"
   ]
  },
  {
   "cell_type": "markdown",
   "metadata": {},
   "source": [
    "Set up of the time steps:"
   ]
  },
  {
   "cell_type": "code",
   "execution_count": 13,
   "metadata": {},
   "outputs": [],
   "source": [
    "import biosspheres.formulations.mtf.timecouplings.solvertemplates as solve\n",
    "tau, times, medium_times = solve.tau_times_medium(\n",
    "\tinitial_time, final_time, number_steps\n",
    ")"
   ]
  },
  {
   "cell_type": "markdown",
   "metadata": {},
   "source": [
    "### Set up of the coupled problem"
   ]
  },
  {
   "cell_type": "markdown",
   "metadata": {},
   "source": [
    "Set up of the non linear current. Different models for the current can be used, there are models ready to use in the module `biosspheres.miscella.forcouplings.currents`. See the internals of the module for making custom made currents."
   ]
  },
  {
   "cell_type": "code",
   "execution_count": 14,
   "metadata": {},
   "outputs": [],
   "source": [
    "import biosspheres.miscella.forcouplings.currents as currents"
   ]
  },
  {
   "cell_type": "markdown",
   "metadata": {},
   "source": [
    "Some of the models that are in the module `import biosspheres.miscella.forcouplings.currents as currents` are presented now:"
   ]
  },
  {
   "cell_type": "markdown",
   "metadata": {},
   "source": [
    "FitzHugh-Nagumo current:"
   ]
  },
  {
   "cell_type": "code",
   "execution_count": 15,
   "metadata": {},
   "outputs": [],
   "source": [
    "i_current_fitzhughnagumo = currents.i_fitzhughnagumo_one_sphere_function_creation(\n",
    "\tbig_l,\n",
    "  big_l_c,\n",
    "  radius\n",
    ")"
   ]
  },
  {
   "cell_type": "markdown",
   "metadata": {},
   "source": [
    "Set up of the semi-implicit scheme for the \"gating\" variables (or similar)"
   ]
  },
  {
   "cell_type": "code",
   "execution_count": 16,
   "metadata": {},
   "outputs": [],
   "source": [
    "import biosspheres.miscella.forcouplings.oderesolutions as oderesolutions\n",
    "ode_next_sol_fitzhugh = (\n",
    "\toderesolutions.semi_implicit_fitzhughnagumo_one_sphere_next_step(\n",
    "\t\ttau, parameter_theta, parameter_b, parameter_a\n",
    "\t)\n",
    ")"
   ]
  },
  {
   "cell_type": "markdown",
   "metadata": {},
   "source": [
    "Kavian et al. current:"
   ]
  },
  {
   "cell_type": "code",
   "execution_count": 17,
   "metadata": {},
   "outputs": [],
   "source": [
    "i_current_kavian = currents.i_kavian_leguebe_ea_2014_1_sphere_2d(big_l, big_l_c, radius, s_l, s_ir)"
   ]
  },
  {
   "cell_type": "code",
   "execution_count": 18,
   "metadata": {},
   "outputs": [],
   "source": [
    "ode_next_sol_kavian = oderesolutions.next_step_z_kavian_leguebe_ea_2014_2d(big_l, big_l_c, tau, tau_ep, tau_res, k_ep, v_rev)"
   ]
  },
  {
   "cell_type": "markdown",
   "metadata": {},
   "source": [
    "Here we choose the model to be used:"
   ]
  },
  {
   "cell_type": "code",
   "execution_count": 19,
   "metadata": {},
   "outputs": [],
   "source": [
    "i_current = i_current_fitzhughnagumo\n",
    "ode_next_sol = ode_next_sol_fitzhugh\n",
    "# i_current = i_current_kavian\n",
    "# ode_next_sol = ode_next_sol_kavian"
   ]
  },
  {
   "cell_type": "markdown",
   "metadata": {},
   "source": [
    "### Solving"
   ]
  },
  {
   "cell_type": "markdown",
   "metadata": {},
   "source": [
    "First, we set up internal parameters used for requirements of numpy for threading:"
   ]
  },
  {
   "cell_type": "code",
   "execution_count": 20,
   "metadata": {},
   "outputs": [],
   "source": [
    "import os\n",
    "number = \"7\" # Maximum of threads\n",
    "os.environ[\"OMP_NUM_THREADS\"] = number\n",
    "os.environ[\"OPENBLAS_NUM_THREADS\"] = number\n",
    "os.environ[\"MKL_NUM_THREADS\"] = number\n",
    "os.environ[\"VECLIB_MAXIMUM_THREADS\"] = number\n",
    "os.environ[\"NUMEXPR_NUM_THREADS\"] = number"
   ]
  },
  {
   "cell_type": "markdown",
   "metadata": {},
   "source": [
    "We implemented a direct solver (LU decomposition) that takes as parameters what we previously defined, including the current and the coupled ODE system. The complete list can be seen in the following:"
   ]
  },
  {
   "cell_type": "code",
   "execution_count": 21,
   "metadata": {},
   "outputs": [],
   "source": [
    "solutions = solve.mtf_time_coupling_one_sphere(\n",
    "\tbig_l,\n",
    "\tradius,\n",
    "\tsigmas,\n",
    "\tc_m,\n",
    "\tinitial_time,\n",
    "\tfinal_time,\n",
    "\tnumber_steps,\n",
    "\tinitial_conditions,\n",
    "\tb_phi_part_time_function,\n",
    "\ti_current,\n",
    "\tode_next_sol,\n",
    ")"
   ]
  },
  {
   "cell_type": "markdown",
   "metadata": {},
   "source": [
    "Notice that the functions is defined in the module `biosspheres.formulations.mtf.timecouplings.solvertemplates` shortened in `solve`"
   ]
  },
  {
   "cell_type": "markdown",
   "metadata": {},
   "source": [
    "EXPLICAR EL FORMATO DE LA SOLUCION"
   ]
  },
  {
   "cell_type": "markdown",
   "metadata": {},
   "source": [
    "### Saving the results"
   ]
  },
  {
   "cell_type": "markdown",
   "metadata": {},
   "source": [
    "The following saves all solutions, i.e. traces, transmembrane potential, and recovery variables, in numpy format. We have commented the line for the saving."
   ]
  },
  {
   "cell_type": "code",
   "execution_count": 22,
   "metadata": {},
   "outputs": [],
   "source": [
    "filename=\"example.npy\"\n",
    "directory=\"\"\n",
    "# np.save(directory+filename, solutions)"
   ]
  },
  {
   "cell_type": "markdown",
   "metadata": {},
   "source": [
    "To load the solutions:"
   ]
  },
  {
   "cell_type": "code",
   "execution_count": 23,
   "metadata": {},
   "outputs": [],
   "source": [
    "# solutions = np.load(directory+filename)"
   ]
  },
  {
   "cell_type": "markdown",
   "metadata": {},
   "source": [
    "To save in `txt` format:"
   ]
  },
  {
   "cell_type": "code",
   "execution_count": 24,
   "metadata": {},
   "outputs": [],
   "source": [
    "filename=\"example.txt\"\n",
    "directory=\"\"\n",
    "# np.savetxt(directory+filename, solutions)"
   ]
  },
  {
   "cell_type": "markdown",
   "metadata": {},
   "source": [
    "To load the solutions:"
   ]
  },
  {
   "cell_type": "code",
   "execution_count": 25,
   "metadata": {},
   "outputs": [],
   "source": [
    "# solutions = np.loadtxt(directory+filename)"
   ]
  },
  {
   "cell_type": "markdown",
   "metadata": {},
   "source": [
    "### Plotting the results"
   ]
  },
  {
   "cell_type": "markdown",
   "metadata": {},
   "source": [
    "For plotting the evolution of time of the solutions evaluated in the north pole of the sphere:"
   ]
  },
  {
   "cell_type": "code",
   "execution_count": 26,
   "metadata": {},
   "outputs": [
    {
     "data": {
      "text/plain": [
       "Text(0.5, 1.0, 'v')"
      ]
     },
     "execution_count": 26,
     "metadata": {},
     "output_type": "execute_result"
    },
    {
     "data": {
      "image/png": "[encoded data removed]",
      "text/plain": [
       "<Figure size 640x480 with 1 Axes>"
      ]
     },
     "metadata": {},
     "output_type": "display_data"
    }
   ],
   "source": [
    "import matplotlib.pyplot as plt\n",
    "# Auxiliary arrays for plotting\n",
    "import biosspheres.utils.auxindexes as auxindexes\n",
    "num = (big_l + 1)**2\n",
    "eles, l_square_plus_l, el_square_plus_el_divided_by_two = (\n",
    "        auxindexes.eles_combination(big_l)\n",
    "    )\n",
    "little_partial_spherical = np.sqrt((2 * eles + 1))\n",
    "plt.figure()\n",
    "plt.plot(\n",
    "\ttimes,\n",
    "\tnp.sum(\n",
    "\t\tsolutions[:, (4 * num + l_square_plus_l[0 : big_l + 1])]\n",
    "\t\t* little_partial_spherical[0 : big_l + 1],\n",
    "\t\taxis=1,\n",
    "\t)\n",
    "\t/ (2.0 * np.sqrt(np.pi)),\n",
    "\tlabel=\"Numerical solution\",\n",
    "\tmarker=\".\",\n",
    ")\n",
    "plt.title(\"v\")"
   ]
  },
  {
   "cell_type": "code",
   "execution_count": 27,
   "metadata": {},
   "outputs": [
    {
     "data": {
      "text/plain": [
       "Text(0.5, 1.0, 'Additional variable')"
      ]
     },
     "execution_count": 27,
     "metadata": {},
     "output_type": "execute_result"
    },
    {
     "data": {
      "image/png": "[encoded data removed]",
      "text/plain": [
       "<Figure size 640x480 with 1 Axes>"
      ]
     },
     "metadata": {},
     "output_type": "display_data"
    }
   ],
   "source": [
    "plt.figure()\n",
    "little_partial_spherical = np.sqrt((2 * eles + 1))\n",
    "plt.plot(\n",
    "\ttimes,\n",
    "\tnp.sum(\n",
    "\t\tsolutions[:, (5 * num + l_square_plus_l[0 : big_l + 1])]\n",
    "\t\t* little_partial_spherical[0 : big_l + 1],\n",
    "\t\taxis=1,\n",
    "\t)\n",
    "\t/ (2.0 * np.sqrt(np.pi)),\n",
    "\tlabel=\"Numerical solution\",\n",
    "\tmarker=\".\",\n",
    ")\n",
    "plt.title(\"Additional variable\")"
   ]
  },
  {
   "cell_type": "markdown",
   "metadata": {},
   "source": [
    "For plotting the transmembrane potential on the surface of the sphere at a given time:"
   ]
  },
  {
   "cell_type": "code",
   "execution_count": 28,
   "metadata": {},
   "outputs": [],
   "source": [
    "# Auxiliary arrays\n",
    "import biosspheres.quadratures.sphere as quadratures\n",
    "(\n",
    "\tquantity_theta_points,\n",
    "\tquantity_phi_points,\n",
    "\tweights,\n",
    "\tpre_vector,\n",
    "\tspherical_harmonics,\n",
    ") = quadratures.gauss_legendre_trapezoidal_real_sh_mapping_2d(\n",
    "\tbig_l, big_l_c\n",
    ")"
   ]
  },
  {
   "cell_type": "code",
   "execution_count": 29,
   "metadata": {},
   "outputs": [
    {
     "data": {
      "text/plain": [
       "<matplotlib.colorbar.Colorbar at 0x28d49e347f0>"
      ]
     },
     "execution_count": 29,
     "metadata": {},
     "output_type": "execute_result"
    },
    {
     "data": {
      "image/png": "[encoded data removed]",
      "text/plain": [
       "<Figure size 640x480 with 2 Axes>"
      ]
     },
     "metadata": {},
     "output_type": "display_data"
    }
   ],
   "source": [
    "time_index = number_steps // 2  # half of the simulation \n",
    "vector = pre_vector * radius\n",
    "surface_v = np.zeros((quantity_theta_points, quantity_phi_points))\n",
    "surface_v[:, :] = np.sum(\n",
    "\tsolutions[time_index, 4 * num:5*num, np.newaxis, np.newaxis]\n",
    "\t* spherical_harmonics, axis=0)\n",
    "surface_v_max = np.max(np.abs(surface_v))\n",
    "surface_v = (surface_v + surface_v_max) / (2. * surface_v_max)\n",
    "\n",
    "from matplotlib import cm, colors\n",
    "fig = plt.figure()\n",
    "ax_1 = fig.add_subplot(111, projection='3d')\n",
    "ax_1.plot_surface(\n",
    "\tvector[0, :, :],\n",
    "\tvector[1, :, :],\n",
    "\tvector[2, :, :],\n",
    "\trstride=1, cstride=1, \n",
    "\tfacecolors=cm.coolwarm(surface_v[:, :]))\n",
    "ax_1.set_xlabel('$x$')\n",
    "ax_1.set_ylabel('$y$')\n",
    "ax_1.set_zlabel('$z$')\n",
    "ax_1.set_aspect('equal')\n",
    "fig.colorbar(cm.ScalarMappable(\n",
    "    norm=colors.CenteredNorm(halfrange=surface_v_max), cmap=cm.coolwarm),\n",
    "    ax=ax_1)"
   ]
  },
  {
   "cell_type": "markdown",
   "metadata": {},
   "source": [
    "That can be made a video too."
   ]
  },
  {
   "cell_type": "markdown",
   "metadata": {},
   "source": [
    "For plotting a plane cut without $\\phi_e$:"
   ]
  },
  {
   "cell_type": "code",
   "execution_count": 30,
   "metadata": {},
   "outputs": [
    {
     "data": {
      "text/plain": [
       "<matplotlib.colorbar.Colorbar at 0x28d4a0f2f40>"
      ]
     },
     "execution_count": 30,
     "metadata": {},
     "output_type": "execute_result"
    },
    {
     "data": {
      "image/png": "[encoded data removed]",
      "text/plain": [
       "<Figure size 640x480 with 2 Axes>"
      ]
     },
     "metadata": {},
     "output_type": "display_data"
    }
   ],
   "source": [
    "import biosspheres.laplace.drawing as draw\n",
    "from matplotlib import cm, colors\n",
    "cut = 1\n",
    "# Size of the window to be plotted\n",
    "horizontal = 5.\n",
    "vertical = 5.\n",
    "# For the resolution of the plot\n",
    "inter_horizontal = 100\n",
    "inter_vertical = 100\n",
    "# For plotting without the external function we make the following function\n",
    "def zero(x: np.ndarray) -> float:\n",
    "    return 0.\n",
    "\n",
    "x1, y1, data = draw.draw_cut_representation_formula_one_sphere_azimuthal_symmetry(\n",
    "    cut, np.zeros((3)), horizontal, vertical, inter_horizontal, inter_vertical, solutions[time_index, 0 : 4 * num], radius, big_l, zero)\n",
    "plt.figure()\n",
    "plt.imshow(data, origin='lower',\n",
    "           extent=[-horizontal / 2, horizontal / 2,\n",
    "                   -vertical / 2, vertical / 2],\n",
    "           norm=colors.CenteredNorm()\n",
    "           )\n",
    "plt.xlabel('$y$')\n",
    "plt.ylabel('$z$')\n",
    "plt.title('$x = 0.$')\n",
    "plt.colorbar()"
   ]
  }
 ],
 "metadata": {
  "kernelspec": {
   "display_name": "reqbiosspheresnotebooks",
   "language": "python",
   "name": "python3"
  },
  "language_info": {
   "codemirror_mode": {
    "name": "ipython",
    "version": 3
   },
   "file_extension": ".py",
   "mimetype": "text/x-python",
   "name": "python",
   "nbconvert_exporter": "python",
   "pygments_lexer": "ipython3",
   "version": "3.9.18"
  }
 },
 "nbformat": 4,
 "nbformat_minor": 2
}
