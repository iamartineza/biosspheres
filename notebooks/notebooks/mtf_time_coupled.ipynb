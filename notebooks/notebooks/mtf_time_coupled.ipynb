{
 "cells": [
  {
   "cell_type": "markdown",
   "metadata": {},
   "source": [
    "# Solving a multitraces formulation problem coupled with ordinary differential equations"
   ]
  },
  {
   "cell_type": "markdown",
   "metadata": {},
   "source": [
    "Code considerations:\n",
    "- We try to use numpy arrays for faster computations whenever it is posible (lists are very slow)."
   ]
  },
  {
   "cell_type": "markdown",
   "metadata": {},
   "source": [
    "Import of the numpy library:"
   ]
  },
  {
   "cell_type": "code",
   "execution_count": 69,
   "metadata": {},
   "outputs": [],
   "source": [
    "import numpy as np"
   ]
  },
  {
   "cell_type": "markdown",
   "metadata": {},
   "source": [
    "Here we solve an example associated with the electropermeabilization problem. See article [Cell Electropermeabilization Modeling via Multiple Traces Formulation and Time Semi-Implicit Coupling](https://arxiv.org/abs/2403.19371) where the model and formulation are described."
   ]
  },
  {
   "cell_type": "markdown",
   "metadata": {},
   "source": [
    "## One sphere"
   ]
  },
  {
   "cell_type": "markdown",
   "metadata": {},
   "source": [
    "We assume that the center of the sphere is in the origin."
   ]
  },
  {
   "cell_type": "markdown",
   "metadata": {},
   "source": [
    "### Parameters set up."
   ]
  },
  {
   "cell_type": "markdown",
   "metadata": {},
   "source": [
    "First, we set up the parameters of the problem:"
   ]
  },
  {
   "cell_type": "markdown",
   "metadata": {},
   "source": [
    "Maximum degree of the spherical harmonics to be used for discretize ($L$). It has to be an integer:"
   ]
  },
  {
   "cell_type": "code",
   "execution_count": 70,
   "metadata": {},
   "outputs": [],
   "source": [
    "big_l = 10"
   ]
  },
  {
   "cell_type": "markdown",
   "metadata": {},
   "source": [
    "Maximum degree of the spherical harmonics to be used for quadratures ($L_c$). It has to be an integer:"
   ]
  },
  {
   "cell_type": "code",
   "execution_count": 71,
   "metadata": {},
   "outputs": [],
   "source": [
    "big_l_c = 30"
   ]
  },
  {
   "cell_type": "markdown",
   "metadata": {},
   "source": [
    "Radius of the sphere. It has to be a float number:"
   ]
  },
  {
   "cell_type": "code",
   "execution_count": 72,
   "metadata": {},
   "outputs": [],
   "source": [
    "radius = 1."
   ]
  },
  {
   "cell_type": "markdown",
   "metadata": {},
   "source": [
    "The variable `sigmas` is a numpy array with the medium conductivities in the order $\\sigma_0$, $\\sigma_1$. The numbers have to be floats:"
   ]
  },
  {
   "cell_type": "code",
   "execution_count": 73,
   "metadata": {},
   "outputs": [],
   "source": [
    "sigmas = np.asarray([1.5, 0.7])"
   ]
  },
  {
   "cell_type": "markdown",
   "metadata": {},
   "source": [
    "Capacitance of the membrane (needs to be a float):"
   ]
  },
  {
   "cell_type": "code",
   "execution_count": 74,
   "metadata": {},
   "outputs": [],
   "source": [
    "c_m = 1."
   ]
  },
  {
   "cell_type": "markdown",
   "metadata": {},
   "source": [
    "Parameters for the time scheme used:"
   ]
  },
  {
   "cell_type": "code",
   "execution_count": 75,
   "metadata": {},
   "outputs": [],
   "source": [
    "initial_time = 0.\n",
    "final_time = 10.\n",
    "number_steps = 10**3"
   ]
  },
  {
   "cell_type": "markdown",
   "metadata": {},
   "source": [
    "Set up of initial conditions, for this model we need two arrays of length `(big_l + 1)**2`. Each array has the coefficients of the spherical harmonic expansion of each initial condition.\n",
    "In the following we give a couple of examples for building one of the arrays:"
   ]
  },
  {
   "cell_type": "code",
   "execution_count": 76,
   "metadata": {},
   "outputs": [],
   "source": [
    "# Initial condition equal to zero\n",
    "v_0_zero = np.zeros(((big_l+1)**2))\n",
    "# Intial condition equal to a cte value\n",
    "cte = 4.\n",
    "v_0_cte_value = np.zeros(((big_l+1)**2))\n",
    "v_0_cte_value[0] = cte * 2* np.sqrt(np.pi) * radius**2"
   ]
  },
  {
   "cell_type": "markdown",
   "metadata": {},
   "source": [
    "In this example we use initial conditions equal to zero. We need to set up both arrays in one:"
   ]
  },
  {
   "cell_type": "code",
   "execution_count": 77,
   "metadata": {},
   "outputs": [],
   "source": [
    "initial_conditions = np.zeros((2, (big_l+1)**2))"
   ]
  },
  {
   "cell_type": "markdown",
   "metadata": {},
   "source": [
    "Set up the contributions to the right hand side made by $\\phi_e$. For this, we set up a function only dependent on time, to account for changes in time. In the module `biosspheres.formulations.mtf.timecouplings.righthands` there are implementations on how to do this, we use one of the pre-defined functions:"
   ]
  },
  {
   "cell_type": "code",
   "execution_count": 78,
   "metadata": {},
   "outputs": [],
   "source": [
    "# Import of the module where pre-defined right hand sides are.\n",
    "import biosspheres.formulations.mtf.timecouplings.righthands as righthands\n",
    "# phi_e cte in time and space\n",
    "b_phi_part_time_function = righthands.phi_part_of_b_cte_space_and_time(\n",
    "\tbig_l, 1, np.asarray([radius]), cte\n",
    ")"
   ]
  },
  {
   "cell_type": "markdown",
   "metadata": {},
   "source": [
    "Parameters for the coupled currents and ordinary differential equations:"
   ]
  },
  {
   "cell_type": "markdown",
   "metadata": {},
   "source": [
    "For a non-linear current following FitzHugh-Nagumo dinamics:"
   ]
  },
  {
   "cell_type": "code",
   "execution_count": 79,
   "metadata": {},
   "outputs": [],
   "source": [
    "parameter_theta = 0.8 # must be a float\n",
    "parameter_b = 0.7     # must be a float\n",
    "parameter_a = 0.3     # must be a float"
   ]
  },
  {
   "cell_type": "markdown",
   "metadata": {},
   "source": [
    "### Set up of internals"
   ]
  },
  {
   "cell_type": "markdown",
   "metadata": {},
   "source": [
    "Now, we set up auxiliary arrays and constants that are needed for some routines:"
   ]
  },
  {
   "cell_type": "code",
   "execution_count": 80,
   "metadata": {},
   "outputs": [],
   "source": [
    "# Import of the module with the auxiliary arrays routines\n",
    "num = (big_l+1)**2\n",
    "import biosspheres.utils.auxindexes as auxindexes\n",
    "pesykus, p2_plus_p_plus_q, p2_plus_p_minus_q = auxindexes.pes_y_kus(big_l)\n",
    "eles = np.arange(0, big_l + 1)\n",
    "l_square_plus_l = (eles + 1) * eles"
   ]
  },
  {
   "cell_type": "markdown",
   "metadata": {},
   "source": [
    "Set up of the quadrature:"
   ]
  },
  {
   "cell_type": "code",
   "execution_count": 81,
   "metadata": {},
   "outputs": [],
   "source": [
    "# Import of the module with the quadratures routines\n",
    "import biosspheres.quadratures.sphere as quadratures\n",
    "(\n",
    "\tquantity_theta_points,\n",
    "\tquantity_phi_points,\n",
    "\tweights,\n",
    "\tpre_vector,\n",
    "\tspherical_harmonics,\n",
    ") = quadratures.gauss_legendre_trapezoidal_real_sh_mapping_2d(\n",
    "\tbig_l, big_l_c\n",
    ")"
   ]
  },
  {
   "cell_type": "markdown",
   "metadata": {},
   "source": [
    "Set up of the time steps:"
   ]
  },
  {
   "cell_type": "code",
   "execution_count": 82,
   "metadata": {},
   "outputs": [],
   "source": [
    "import biosspheres.formulations.mtf.timecouplings.solvertemplates as solve\n",
    "tau, times, medium_times = solve.tau_times_medium(\n",
    "\tinitial_time, final_time, number_steps\n",
    ")"
   ]
  },
  {
   "cell_type": "markdown",
   "metadata": {},
   "source": [
    "### Set up of the coupled problem"
   ]
  },
  {
   "cell_type": "markdown",
   "metadata": {},
   "source": [
    "Set up of the non linear current. Different models for the current can be used, there are models ready to use in the module `biosspheres.miscella.forcouplings.currents`. See the internals of the module for making custom made currents."
   ]
  },
  {
   "cell_type": "code",
   "execution_count": 83,
   "metadata": {},
   "outputs": [],
   "source": [
    "import biosspheres.miscella.forcouplings.currents as currents"
   ]
  },
  {
   "cell_type": "markdown",
   "metadata": {},
   "source": [
    "Some of the models that are in the module `import biosspheres.miscella.forcouplings.currents as currents` are presented now:"
   ]
  },
  {
   "cell_type": "markdown",
   "metadata": {},
   "source": [
    "FitzHugh-Nagumo current:"
   ]
  },
  {
   "cell_type": "code",
   "execution_count": 84,
   "metadata": {},
   "outputs": [],
   "source": [
    "i_current_fitzhughnagumo = currents.i_fitzhughnagumo_one_sphere_function_creation(\n",
    "\tbig_l,\n",
    "\tspherical_harmonics,\n",
    "\tweights,\n",
    "\tpre_vector[2, :, 0],\n",
    "\tpesykus,\n",
    "\tp2_plus_p_plus_q,\n",
    "\tp2_plus_p_minus_q,\n",
    "\tl_square_plus_l,\n",
    "\teles,\n",
    ")"
   ]
  },
  {
   "cell_type": "markdown",
   "metadata": {},
   "source": [
    "Set up of the semi-implicit scheme for the \"gating\" variables (or similar)"
   ]
  },
  {
   "cell_type": "code",
   "execution_count": 85,
   "metadata": {},
   "outputs": [],
   "source": [
    "import biosspheres.miscella.forcouplings.oderesolutions as oderesolutions\n",
    "ode_next_sol_fitzhugh = (\n",
    "\toderesolutions.semi_implicit_fitzhughnagumo_one_sphere_next_creation(\n",
    "\t\tradius, tau, parameter_theta, parameter_b, parameter_a\n",
    "\t)\n",
    ")"
   ]
  },
  {
   "cell_type": "markdown",
   "metadata": {},
   "source": [
    "Here we choose the model to be used:"
   ]
  },
  {
   "cell_type": "code",
   "execution_count": 86,
   "metadata": {},
   "outputs": [],
   "source": [
    "i_current = i_current_fitzhughnagumo\n",
    "ode_next_sol = ode_next_sol_fitzhugh"
   ]
  },
  {
   "cell_type": "markdown",
   "metadata": {},
   "source": [
    "### Solving"
   ]
  },
  {
   "cell_type": "markdown",
   "metadata": {},
   "source": [
    "We implemented a direct solver (LU decomposition) that takes as parameters what we previously defined, including the current and the coupled ODE system. The complete list can be seen in the following:"
   ]
  },
  {
   "cell_type": "code",
   "execution_count": 87,
   "metadata": {},
   "outputs": [],
   "source": [
    "solutions = solve.mtf_time_coupling_one_sphere(\n",
    "\tbig_l,\n",
    "\tradius,\n",
    "\tsigmas,\n",
    "\tc_m,\n",
    "\tinitial_time,\n",
    "\tfinal_time,\n",
    "\tnumber_steps,\n",
    "\tinitial_conditions,\n",
    "\tb_phi_part_time_function,\n",
    "\ti_current,\n",
    "\tode_next_sol,\n",
    ")"
   ]
  },
  {
   "cell_type": "markdown",
   "metadata": {},
   "source": [
    "Notice that the functions is defined in the module `biosspheres.formulations.mtf.timecouplings.solvertemplates` shortened in `solve`"
   ]
  },
  {
   "cell_type": "markdown",
   "metadata": {},
   "source": [
    "### Saving the results"
   ]
  },
  {
   "cell_type": "markdown",
   "metadata": {},
   "source": [
    "The following saves all solutions, i.e. traces, transmembrane potential, and recovery variables, in numpy format. We have commented the line for the saving."
   ]
  },
  {
   "cell_type": "code",
   "execution_count": 88,
   "metadata": {},
   "outputs": [],
   "source": [
    "filename=\"example.npy\"\n",
    "directory=\"\"\n",
    "# np.save(directory+filename, solutions)"
   ]
  },
  {
   "cell_type": "markdown",
   "metadata": {},
   "source": [
    "To load the solutions:"
   ]
  },
  {
   "cell_type": "code",
   "execution_count": 89,
   "metadata": {},
   "outputs": [],
   "source": [
    "# solutions = np.load(directory+filename)"
   ]
  },
  {
   "cell_type": "markdown",
   "metadata": {},
   "source": [
    "To save in `txt` format:"
   ]
  },
  {
   "cell_type": "code",
   "execution_count": 90,
   "metadata": {},
   "outputs": [],
   "source": [
    "filename=\"example.txt\"\n",
    "directory=\"\"\n",
    "# np.savetxt(directory+filename, solutions)"
   ]
  },
  {
   "cell_type": "markdown",
   "metadata": {},
   "source": [
    "To load the solutions:"
   ]
  },
  {
   "cell_type": "code",
   "execution_count": 91,
   "metadata": {},
   "outputs": [],
   "source": [
    "# solutions = np.loadtxt(directory+filename)"
   ]
  },
  {
   "cell_type": "markdown",
   "metadata": {},
   "source": [
    "### Plotting the results"
   ]
  },
  {
   "cell_type": "markdown",
   "metadata": {},
   "source": [
    "For plotting the evolution of time of the solutions evaluated in the north pole of the sphere:"
   ]
  },
  {
   "cell_type": "code",
   "execution_count": 92,
   "metadata": {},
   "outputs": [
    {
     "data": {
      "text/plain": [
       "Text(0.5, 1.0, 'v')"
      ]
     },
     "execution_count": 92,
     "metadata": {},
     "output_type": "execute_result"
    },
    {
     "data": {
      "image/png": "[encoded data removed]",
      "text/plain": [
       "<Figure size 640x480 with 1 Axes>"
      ]
     },
     "metadata": {},
     "output_type": "display_data"
    }
   ],
   "source": [
    "import matplotlib.pyplot as plt\n",
    "plt.figure()\n",
    "little_partial_spherical = np.sqrt((2 * eles + 1))\n",
    "plt.plot(\n",
    "\ttimes,\n",
    "\tnp.sum(\n",
    "\t\tsolutions[:, (4 * num + l_square_plus_l[0 : big_l + 1])]\n",
    "\t\t* little_partial_spherical[0 : big_l + 1],\n",
    "\t\taxis=1,\n",
    "\t)\n",
    "\t/ (2.0 * np.sqrt(np.pi)),\n",
    "\tlabel=\"Numerical solution\",\n",
    "\tmarker=\".\",\n",
    ")\n",
    "plt.title(\"v\")"
   ]
  },
  {
   "cell_type": "code",
   "execution_count": 93,
   "metadata": {},
   "outputs": [
    {
     "data": {
      "text/plain": [
       "Text(0.5, 1.0, 'g')"
      ]
     },
     "execution_count": 93,
     "metadata": {},
     "output_type": "execute_result"
    },
    {
     "data": {
      "image/png": "[encoded data removed]",
      "text/plain": [
       "<Figure size 640x480 with 1 Axes>"
      ]
     },
     "metadata": {},
     "output_type": "display_data"
    }
   ],
   "source": [
    "plt.figure()\n",
    "little_partial_spherical = np.sqrt((2 * eles + 1))\n",
    "plt.plot(\n",
    "\ttimes,\n",
    "\tnp.sum(\n",
    "\t\tsolutions[:, (5 * num + l_square_plus_l[0 : big_l + 1])]\n",
    "\t\t* little_partial_spherical[0 : big_l + 1],\n",
    "\t\taxis=1,\n",
    "\t)\n",
    "\t/ (2.0 * np.sqrt(np.pi)),\n",
    "\tlabel=\"Numerical solution\",\n",
    "\tmarker=\".\",\n",
    ")\n",
    "plt.title(\"g\")"
   ]
  },
  {
   "cell_type": "markdown",
   "metadata": {},
   "source": [
    "For plotting the transmembrane potential on the surface of the sphere at a given time:"
   ]
  },
  {
   "cell_type": "code",
   "execution_count": 94,
   "metadata": {},
   "outputs": [],
   "source": [
    "# Auxiliary arrays\n",
    "(\n",
    "\tquantity_theta_points,\n",
    "\tquantity_phi_points,\n",
    "\tweights,\n",
    "\tpre_vector,\n",
    "\tspherical_harmonics,\n",
    ") = quadratures.gauss_legendre_trapezoidal_real_sh_mapping_2d(\n",
    "\tbig_l, big_l_c\n",
    ")"
   ]
  },
  {
   "cell_type": "code",
   "execution_count": 95,
   "metadata": {},
   "outputs": [
    {
     "data": {
      "text/plain": [
       "<matplotlib.colorbar.Colorbar at 0x143c1d7ba30>"
      ]
     },
     "execution_count": 95,
     "metadata": {},
     "output_type": "execute_result"
    },
    {
     "data": {
      "image/png": "[encoded data removed]",
      "text/plain": [
       "<Figure size 640x480 with 2 Axes>"
      ]
     },
     "metadata": {},
     "output_type": "display_data"
    }
   ],
   "source": [
    "time_index = number_steps // 2  # half of the simulation \n",
    "vector = pre_vector * radius\n",
    "surface_v = np.zeros((quantity_theta_points, quantity_phi_points))\n",
    "surface_v[:, :] = np.sum(\n",
    "\tsolutions[time_index, 4 * num:5*num, np.newaxis, np.newaxis]\n",
    "\t* spherical_harmonics, axis=0)\n",
    "surface_v_max = np.max(np.abs(surface_v))\n",
    "surface_v = (surface_v + surface_v_max) / (2. * surface_v_max)\n",
    "\n",
    "from matplotlib import cm, colors\n",
    "fig = plt.figure()\n",
    "ax_1 = fig.add_subplot(111, projection='3d')\n",
    "ax_1.plot_surface(\n",
    "\tvector[0, :, :],\n",
    "\tvector[1, :, :],\n",
    "\tvector[2, :, :],\n",
    "\trstride=1, cstride=1, \n",
    "\tfacecolors=cm.coolwarm(surface_v[:, :]))\n",
    "ax_1.set_xlabel('$x$')\n",
    "ax_1.set_ylabel('$y$')\n",
    "ax_1.set_zlabel('$z$')\n",
    "ax_1.set_aspect('equal')\n",
    "fig.colorbar(cm.ScalarMappable(\n",
    "    norm=colors.CenteredNorm(halfrange=surface_v_max), cmap=cm.coolwarm),\n",
    "    ax=ax_1)"
   ]
  },
  {
   "cell_type": "markdown",
   "metadata": {},
   "source": [
    "That can be made a video too."
   ]
  },
  {
   "cell_type": "markdown",
   "metadata": {},
   "source": [
    "For plotting a plane cut without $\\phi_e$:"
   ]
  },
  {
   "cell_type": "code",
   "execution_count": 96,
   "metadata": {},
   "outputs": [
    {
     "data": {
      "text/plain": [
       "<matplotlib.colorbar.Colorbar at 0x143c1658820>"
      ]
     },
     "execution_count": 96,
     "metadata": {},
     "output_type": "execute_result"
    },
    {
     "data": {
      "image/png": "[encoded data removed]",
      "text/plain": [
       "<Figure size 640x480 with 2 Axes>"
      ]
     },
     "metadata": {},
     "output_type": "display_data"
    }
   ],
   "source": [
    "import biosspheres.laplace.drawing as draw\n",
    "from matplotlib import cm, colors\n",
    "cut = 1\n",
    "# Size of the window to be plotted\n",
    "horizontal = 5.\n",
    "vertical = 5.\n",
    "# For the resolution of the plot\n",
    "inter_horizontal = 100\n",
    "inter_vertical = 100\n",
    "# For plotting without the external function we make the following function\n",
    "def zero(x: np.ndarray) -> float:\n",
    "    return 0.\n",
    "\n",
    "x1, y1, data = draw.draw_cut_representation_formula_one_sphere_azimuthal_symmetry(\n",
    "    cut, np.zeros((3)), horizontal, vertical, inter_horizontal, inter_vertical, solutions[time_index, 0 : 4 * num], radius, big_l, zero)\n",
    "plt.figure()\n",
    "plt.imshow(data, origin='lower',\n",
    "           extent=[-horizontal / 2, horizontal / 2,\n",
    "                   -vertical / 2, vertical / 2],\n",
    "           norm=colors.CenteredNorm()\n",
    "           )\n",
    "plt.xlabel('$y$')\n",
    "plt.ylabel('$z$')\n",
    "plt.title('$x = 0.$')\n",
    "plt.colorbar()"
   ]
  }
 ],
 "metadata": {
  "kernelspec": {
   "display_name": "reqbiosspheresnotebooks",
   "language": "python",
   "name": "python3"
  },
  "language_info": {
   "codemirror_mode": {
    "name": "ipython",
    "version": 3
   },
   "file_extension": ".py",
   "mimetype": "text/x-python",
   "name": "python",
   "nbconvert_exporter": "python",
   "pygments_lexer": "ipython3",
   "version": "3.9.18"
  }
 },
 "nbformat": 4,
 "nbformat_minor": 2
}
