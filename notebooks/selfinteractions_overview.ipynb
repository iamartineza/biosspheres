{
 "cells": [
  {
   "cell_type": "markdown",
   "id": "4fde2871-5b1c-4688-a33d-dcaa05f11be8",
   "metadata": {},
   "source": [
    "# Overview of python functions from selfinteractions"
   ]
  },
  {
   "cell_type": "markdown",
   "id": "a9e0379a-bc38-4ac4-a94c-e500c04ff67f",
   "metadata": {},
   "source": [
    "Overview of python functions from `biosspheres.laplace.selfinteractions` and `biosspheres.helmholtz.selfinteractions`."
   ]
  },
  {
   "cell_type": "code",
   "execution_count": 1,
   "id": "5697bae2-4e3e-4125-a379-cbc08d7a9c15",
   "metadata": {},
   "outputs": [],
   "source": [
    "import matplotlib.pyplot as plt\n",
    "import biosspheres.laplace.selfinteractions as laself"
   ]
  },
  {
   "cell_type": "markdown",
   "id": "1ca34bb6-8bbc-42c0-98a7-db55bc11c726",
   "metadata": {
    "jp-MarkdownHeadingCollapsed": true
   },
   "source": [
    "## Preliminaries"
   ]
  },
  {
   "cell_type": "markdown",
   "id": "6678dd5e-3a41-484d-9c2f-71697935f913",
   "metadata": {},
   "source": [
    "### Geometry"
   ]
  },
  {
   "cell_type": "markdown",
   "id": "0fcaf5ee-5ff5-46ce-bc8b-41e0e148712d",
   "metadata": {},
   "source": [
    "$N$ disjoint spheres in $\\mathbb{R}^3$:\n",
    "- Position vectors of the sphere centers: $\\mathbf{p_j} \\in \\mathbb{R}^3$, with $j \\in \\{1,...,N\\}$.  \n",
    "- Radii: $\\tilde{r}_j\\in \\mathbb{R}^+$, with $j \\in \\{1,...,N\\}$.\n",
    "- Interior of sphere $j$: $\\Omega_j:=\\{ \\mathbf{x} \\in \\mathbb{R}^3:||\\mathbf{x}-\\mathbf{p_j}||_2<\\tilde{r}_j \\}$.\n",
    "- Boundary of sphere $j$: $\\Gamma_j:=\\partial \\Omega_j$.\n",
    "- Exterior medium, $\\Omega_0$: defined as $\\mathbb{R}^3$ without the spheres and their boundaries.  "
   ]
  },
  {
   "cell_type": "markdown",
   "id": "d3343d4d-0051-4014-8758-24ca956a1a57",
   "metadata": {
    "jp-MarkdownHeadingCollapsed": true
   },
   "source": [
    "### Free space fundamental solution for the Laplace equation"
   ]
  },
  {
   "cell_type": "markdown",
   "id": "01b2f83f-3a12-417b-be62-309257a8108a",
   "metadata": {},
   "source": [
    "The free space fundamental solution of the Laplace equation, which satisfies the radiation condition is:\n",
    "$$g\\left(\\mathbf{r},\\mathbf{r'}\\right):= \\frac{1}{4\\pi ||\\mathbf{r}-\\mathbf{r}'||_2}, \\quad \\mbox{with } \\mathbf{r}\\not = \\mathbf{r'}, \\quad \\mbox{and } -\\Delta g \\left(\\mathbf{r},\\mathbf{r'}\\right)=\\delta \\left(\\mathbf{r}-\\mathbf{r'}\\right).$$"
   ]
  },
  {
   "cell_type": "markdown",
   "id": "b4c59961-49df-4d1f-9b6d-059e5649980d",
   "metadata": {
    "jp-MarkdownHeadingCollapsed": true
   },
   "source": [
    "### Free space fundamental solution for the Helmholtz equation"
   ]
  },
  {
   "cell_type": "markdown",
   "id": "ae31a336-9c01-4fba-b72d-8c879d1e3aa5",
   "metadata": {},
   "source": [
    "The free space fundamental solution of the Helmholtz equation with $k>0$, which satisfies the **radiation condition** is:\n",
    "$$g_j\\left(\\mathbf{r},\\mathbf{r'}\\right):= \\frac{e^{ik_j||\\mathbf{r}-\\mathbf{r}'||}}{4\\pi ||\\mathbf{r}-\\mathbf{r}'||}, \\quad \\mbox{with } \\mathbf{r}\\not = \\mathbf{r'}, \\quad \\mbox{and } -\\left( \\Delta + k_j^2 \\right) g_j \\left(\\mathbf{r},\\mathbf{r'}\\right)=\\delta \\left(\\mathbf{r}-\\mathbf{r'}\\right).$$"
   ]
  },
  {
   "cell_type": "markdown",
   "id": "e115f064-4c82-43dd-88bf-60fca4498076",
   "metadata": {},
   "source": [
    "### Layer operators"
   ]
  },
  {
   "cell_type": "markdown",
   "id": "07d9cc0d-3d3a-4516-95e6-af3388a2e62b",
   "metadata": {},
   "source": [
    "Single and double layer operators defined for smooth densities:\n",
    "$$DL_{0j} \\left(\\psi\\right)\\left(\\mathbf{r}\\right):=\\int_{\\Gamma_j}  \\psi\\left(\\mathbf{r}'\\right) \\nabla g_0\\left(\\mathbf{r},\\mathbf{r'}\\right) \\cdot \\widehat{\\mathbf{n}}_{0j} \\ dS',$$\n",
    "$$SL_{0j} \\left(\\psi\\right)\\left(\\mathbf{r}\\right):=\\int_{\\Gamma_j}  {\\psi\\left(\\mathbf{r}'\\right) g_0\\left(\\mathbf{r},\\mathbf{r'}\\right) dS'},$$\n",
    "$$DL_j \\left(\\psi\\right)\\left(\\mathbf{r}\\right):=\\int_{\\Gamma_j}  {\\psi\\left(\\mathbf{r}'\\right) \\nabla g_j\\left(\\mathbf{r},\\mathbf{r'}\\right) \\cdot \\widehat{\\mathbf{n}}_{j} \\ dS'},$$\n",
    "$$SL_j \\left(\\psi\\right)\\left(\\mathbf{r}\\right):=\\int_{\\Gamma_j}  {\\psi\\left(\\mathbf{r}' \\right) g_j\\left(\\mathbf{r},\\mathbf{r'}\\right) dS'}$$\n",
    "\n",
    "with the gradient being taken with respect to $\\mathbf{r}'$, $\\widehat{\\mathbf{n}}_j$ being the exterior normal vector of $\\Omega_j$, and $\\widehat{\\mathbf{n}}_j=-\\widehat{\\mathbf{n}}_{0j}$.\n",
    "\n",
    "These operators are linear and continuous in the following Sobolev spaces:\n",
    "$$DL_{0j}: H^{\\frac{1}{2}}(\\Gamma_j) \\rightarrow H^1_{loc} \\left(\\mathbb{R}^3 \\setminus \\cup_{j=1}^{N}\\Gamma_j\\right),$$\n",
    "$$SL_{0j}: H^{-\\frac{1}{2}}(\\Gamma_j) \\rightarrow H^1_{loc}  \\left(\\mathbb{R}^3 \\setminus \\cup_{j=1}^{N}\\Gamma_j\\right)  , $$\n",
    "$$DL_{j}: H^{\\frac{1}{2}}(\\Gamma_j)\\rightarrow H^1_{loc} \\left(\\mathbb{R}^3 \\setminus \\cup_{j=1}^{N}\\Gamma_j\\right),$$\n",
    "$$SL_{j}: H^{-\\frac{1}{2}}(\\Gamma_j) \\rightarrow H^1_{loc}\\left(\\mathbb{R}^3 \\setminus \\cup_{j=1}^{N}\\Gamma_j\\right).$$"
   ]
  },
  {
   "cell_type": "markdown",
   "id": "248c240c-6d9c-426a-9de9-8842648dacd8",
   "metadata": {},
   "source": [
    "### Boundary integral operators"
   ]
  },
  {
   "cell_type": "markdown",
   "id": "9efc74e7-4a08-4906-919b-dbcfdc7e9aa4",
   "metadata": {},
   "source": [
    "For $u\\in C^\\infty(\\overline\\Omega)$, Dirichlet and Neumann traces operators are defined as \n",
    "$$\\gamma_d u := u|_{\\Gamma},\\qquad \\gamma_n u := \\nabla  u|_{\\Gamma} \\cdot \\widehat{n},$$\n",
    "where $\\widehat{n}$ is the exterior unit normal.\n",
    "\n",
    "By density arguments, the definition of Dirichlet and Neumann traces operator can be extended to $u_j \\in H^1_{loc}(\\Omega_j)$, with $j \\{0, ..., N \\}$. We extend the notation as follows\n",
    "\n",
    "$$\\gamma_d^{0j} u_0 := u_0|_{\\Gamma_j},$$\n",
    "$$\\gamma_d^{j} u_j := u_0|_{\\Gamma_j},$$\n",
    "$$\\gamma_n^{0j} u_0 := \\nabla u_0|_{\\Gamma_j} \\cdot \\widehat{n}_{0j},$$\n",
    "$$\\gamma_n^{j} u_j := \\nabla u_0|_{\\Gamma_j}\\cdot \\widehat{n}_{j},$$\n",
    "where $\\widehat{n}_{j}$ is the exterior normal of $\\Omega_j$, with $j\\in \\{ 1, ..., N\\}$ and $\\widehat{n}_{0j}=-\\widehat{n}_{j}$.\n",
    "\n",
    "Now, we recall the definition of the boundary integral operators:\n",
    "$$\\begin{align*}\n",
    "\tV_{i,j}^0 &:=  \\frac{1}{2} \\left( \\gamma_d^{i} SL_{0j} + \\gamma_d^{0i} SL_{0j} \\right) ,\n",
    "\t& V_{j}&:= \\frac{1}{2} \\left(  \\gamma_d^{0j} SL_{j} + \\gamma_d^{j} SL_{j} \\right) ,\\\\\n",
    "\tK_{i,j}^0&:= \\frac{1}{2} \\left(\\gamma_d^{i} DL_{0j} + \\gamma_d^{0i} DL_{0j} \\right) ,\n",
    "\t&K_{j}&:= \\frac{1}{2} \\left(\\gamma_d^{0j} DL_{j} + \\gamma_d^{j} DL_{j} \\right),\\\\\n",
    "\tK^{*0}_{i,j}&:= \\frac{1}{2} \\left( - \\gamma_n ^{i} SL_{0j} + \\gamma_n ^{0i} SL_{0j}  \\right),\n",
    "\t & K^{*}_{j} &:= \\frac{1}{2} \\left( -\\gamma_n ^{0j} SL_{j}  + \\gamma_n ^{j} SL_{j} \\right), \\\\\n",
    "\tW_{i,j}^0 &:= -\\frac{1}{2} \\left( - \\gamma_n^{i} DL_{0j}  + \\gamma_n^{0i} DL_{0j} \\right) ,\n",
    "\t& W_{j} &:=- \\frac{1}{2} \\left( -\\gamma_n^{0j} DL_{j} + \\gamma_n^{j} DL_{j} \\right).\n",
    "\\end{align*}$$\n",
    "\n",
    "These operators are linear and continuous in the following Sobolev spaces: \n",
    "$$\\begin{align*}\n",
    "\tV_{{i},j}^0 &: H^{-\\frac{1}{2}}(\\Gamma_j) \\rightarrow H^{\\frac{1}{2}}(\\Gamma_i),\n",
    "\t&V_{j}&: H^{-\\frac{1}{2}}(\\Gamma_j) \\rightarrow H^{\\frac{1}{2}}(\\Gamma_j),\\\\\n",
    "\tW_{{i},j}^0&: H^{\\frac{1}{2}}(\\Gamma_j) \\rightarrow H^{-\\frac{1}{2}}(\\Gamma_i),\n",
    "\t&W_{j}&: H^{\\frac{1}{2}}(\\Gamma_j) \\rightarrow H^{-\\frac{1}{2}}(\\Gamma_j) ,\\\\\n",
    "\tK_{{i},j}^0&: H^{\\frac{1}{2}}(\\Gamma_j) \\rightarrow H^{\\frac{1}{2}}(\\Gamma_i),\n",
    "\t&K_{j}&: H^{\\frac{1}{2}}(\\Gamma_j) \\rightarrow H^{\\frac{1}{2}}(\\Gamma_j) ,\\\\\n",
    "\tK^{*0}_{{i},j}&: H^{-\\frac{1}{2}}(\\Gamma_j) \\rightarrow H^{-\\frac{1}{2}}(\\Gamma_i),\n",
    "\t&K^*_{j}&: H^{-\\frac{1}{2}}(\\Gamma_j) \\rightarrow H^{-\\frac{1}{2}}(\\Gamma_j).\n",
    "\\end{align*}$$\n",
    "\n",
    "Since the domains are smooth, the jump relations for the potentials across a closed boundary yield\n",
    "$$\\begin{align*}\n",
    "\tV_{{i},j}^0 &=   \\gamma_d^{0{i}} SL_{0j},\n",
    "\t& V_{j}&=  \\gamma_d^{j} SL_{j},\\\\\n",
    "\tW_{{i},j}^0 &=-  \\gamma_n^{0{i}} DL_{0j},\n",
    "\t& W_{j} &=- \\gamma_n^{j} DL_{j}, \\\\\n",
    "\t  K_{{i},j}^0&= \\gamma_d^{0{i}} DL_{0j}\\mbox{ with } {i} \\not=j,\n",
    "\t & K^{*0}_{{i},j} &= \\gamma_n ^{0{i}} SL_{0j}\\mbox{ with } {i}  \\not=j,\n",
    "\\end{align*}$$\n",
    "and\n",
    "$$\\begin{align*}\n",
    "\tK_{j,j}^0(\\psi) &= \\frac{1}{2}\\psi +\\gamma_d^{0j} {DL_{0j}(\\psi)} ,\n",
    "\t&K_{j}(\\psi) &= \\frac{1}{2} \\psi +\\gamma_d^{j} {DL_{j}(\\psi)} ,\\\\\n",
    "\t K^{*0}_{j,j}(\\psi) &= -\\frac{1}{2} \\psi + \\gamma_n^{0j} {SL_{0j}(\\psi)},\n",
    "\t&K^*_{j}(\\psi) &= -\\frac{1}{2} \\psi + \\gamma_n^j {SL_{j}(\\psi)}.\n",
    "\\end{align*}$$"
   ]
  },
  {
   "cell_type": "markdown",
   "id": "3838f4e9-fd30-4f1b-9bc7-6584652d8656",
   "metadata": {},
   "source": [
    "### Spherical coordinate system"
   ]
  },
  {
   "cell_type": "markdown",
   "id": "d4c26fbe-38b3-4e8d-83e1-4cbb363a6332",
   "metadata": {},
   "source": [
    "A vector is written as $\\mathbf{r}=\\left(r,\\varphi,\\theta\\right)^t$, with $r \\in [0,\\infty)$, $\\varphi \\in [0,2\\pi)$ and $\\theta \\in [0,\\pi]$, which in Cartesian coordinates is equivalent to $\\mathbf{r}=r\\left(\\sin \\theta \\cos \\varphi,\\sin \\theta \\sin \\varphi,\\cos \\theta\\right)^t$. The unitary vectors of the spherical coordinate system can be written in Cartesian coordinates as\n",
    "$$\\begin{align*}\n",
    "    &\\widehat{\\mathbf{e}}_r= (\\sin \\theta \\cos \\varphi , \\sin \\theta \\sin \\varphi , \\cos \\theta )^t, \\\\\n",
    "    &\\widehat{\\mathbf{e}}_\\theta=(\\cos \\theta \\cos \\varphi , \\cos \\theta \\sin \\varphi , -\\sin \\theta  )^t, \\\\\n",
    "    &\\widehat{\\mathbf{e}}_{\\varphi}=(-\\sin \\varphi , \\cos \\varphi , 0 )^t.\n",
    "\\end{align*}$$\n",
    "\n",
    "Also, the gradient operator in spherical coordinates:\n",
    "$$\\begin{align*}\n",
    "    \\nabla f&=\\frac{\\partial f}{\\partial r} \\widehat{\\mathbf{e}}_r+\\frac{1}{r} \\frac{\\partial f}{\\partial \\theta} \\widehat{\\mathbf{e}}_\\theta+\\frac{1}{r \\sin \\theta} \\frac{\\partial f}{\\partial \\varphi} \\widehat{\\mathbf{e}}_{\\varphi}\n",
    "\\end{align*}$$"
   ]
  },
  {
   "cell_type": "markdown",
   "id": "db7aaba4-7856-4a26-9414-15bf1a05a999",
   "metadata": {},
   "source": [
    "### Legendre functions"
   ]
  },
  {
   "cell_type": "markdown",
   "id": "a3fbf1d7-4e84-49c8-b066-ecdba7389cf9",
   "metadata": {},
   "source": [
    " $P_l^m$ are the associated Legendre functions of degree $l$ and  order $m$ defined as:\n",
    "$$P_{l}^m\\left(x\\right) := (-1)^m \\left( 1- x^2\\right)^{\\frac{m}{2}} \\frac{d^m}{dx^m}P_l(x), \\quad \\mbox{with} \\quad P_{l}\\left(x\\right) := \\frac{1}{2^ll!}\\frac{d^l}{dx^l}(x^2-1)^l.$$\n",
    "\n",
    "Here, the term $(-1)^m$ is the Condon-Shortley phase factor."
   ]
  },
  {
   "cell_type": "markdown",
   "id": "6cea7d7b-ee08-4e93-aa39-b30feab6bfe4",
   "metadata": {},
   "source": [
    "### Real spherical harmonics"
   ]
  },
  {
   "cell_type": "markdown",
   "id": "30ecf257-6f8c-4ee0-8ec8-e545c4cf06cf",
   "metadata": {},
   "source": [
    "Real spherical harmonics of degree $l$ and order $m$ are defined using spherical coordinates:\n",
    "$$\\begin{align}\n",
    "\t\t Y_{l,m}\\left(\\theta,\\varphi\\right) &:= \\sqrt{ (2-\\delta_{m,0}) \\frac{\\left(2l+1\\right)\\left(l-m\\right)!}{4 \\pi \\left(l+m\\right)!}} P_l^{m} \\left(\\cos\\theta\\right) \\cos m \\varphi , \\mbox{ and}\\\\\n",
    "\t\tY_{l,-m}\\left(\\theta,\\varphi\\right) &:= \\sqrt{ (2-\\delta_{m,0})\\frac{\\left(2l+1\\right)\\left(l-m\\right)!}{4 \\pi \\left(l+m\\right)!}} P_l^{m} \\left(\\cos\\theta\\right) \\sin m \\varphi ,\n",
    "\\end{align}$$\n",
    "with $l\\in \\mathbb{N}_0$, $m\\in \\mathbb{Z}$ such that $0\\leq m\\leq l$. If $m=0$, then $\\delta_{m,0}=1$, and it is zero otherwise."
   ]
  },
  {
   "cell_type": "markdown",
   "id": "23923b33-ce25-460f-bc7b-501a3c9d4c2d",
   "metadata": {},
   "source": [
    "### Complex spherical harmonics"
   ]
  },
  {
   "cell_type": "markdown",
   "id": "38173a70-ce9b-4217-9ffb-d4dcebb81a47",
   "metadata": {},
   "source": [
    "Complex spherical harmonics of degree $l$ and order $m$ are defined using spherical coordinates:\n",
    "$$Y_{l,m}\\left(\\theta,\\varphi\\right) := \\sqrt{ \\frac{\\left(2l+1\\right)\\left(l-m\\right)!}{4 \\pi \\left(l+m\\right)!}} P_l^{m} \\left(\\cos\\left(\\theta\\right)\\right) e^{i m \\varphi}, \\mbox{ and}$$\n",
    "$$Y_{l,-m}\\left(\\theta,\\varphi\\right) := (-1)^m\\overline{Y}_{l,m}\\left(\\theta,\\varphi\\right),$$\n",
    "with $l\\in \\mathbb{N}_0$, $m\\in \\mathbb{Z}$ such that $0\\leq m\\leq l$. If $m=0$, then $\\delta_{m,0}=1$, and it is zero otherwise."
   ]
  },
  {
   "cell_type": "markdown",
   "id": "e4ecaddf-7dc0-40c5-bc57-de4979760df0",
   "metadata": {},
   "source": [
    "### Orthonormality of spherical harmonics"
   ]
  },
  {
   "cell_type": "markdown",
   "id": "fa2c911b-0f48-43a9-ab7b-219954bdff5d",
   "metadata": {},
   "source": [
    "Spherical harmonics are dense in $C(\\mathbb{S}^2)$, with $\\mathbb{S}^2$ the surface of the unit sphere, and form a complete orthonormal system in $L^2(\\mathbb{S}^2)$ with respect to the internal product defined by:\r\n",
    "$$\\left( \\psi , \\xi \\right)_{L^2(\\mathbb{S}^2)} = \\int_{0}^{2\\pi}\\int_{0}^{\\pi} \\psi\\left(\\theta,\\varphi\\right) \\overline{\\xi\\left(\\theta,\\varphi\\right) }\\sin\\left(\\theta\\right) d\\theta d\\varphi,$$\r\n",
    "with $\\overline{\\xi\\left(\\theta,\\varphi\\right)}$ the conjugate of $\\xi\\left(\\theta,\\varphi\\right)$.\r\n",
    "\r\n",
    "They also are orthogonal in $H^1(\\mathbb{S}^2)$."
   ]
  },
  {
   "cell_type": "markdown",
   "id": "7dbaaa65-3dcc-4c82-b34a-4c3ce4e7f865",
   "metadata": {},
   "source": [
    "### Reference systems"
   ]
  },
  {
   "cell_type": "markdown",
   "id": "15aace8a-b256-4647-a74a-1e05447ede88",
   "metadata": {},
   "source": [
    "Let be $j\\in \\{1,...,N\\}$. We define the reference system $j$ as the one centered at $\\mathbf{p_j}$ with the same orientation that the reference system centered in the origin. Furthermore, we denote by $Y_{l,m,j}$ the spherical harmonic $Y_{l,m}$ centered in the origin of the reference system $j$. Thus, if $\\left( r_j, \\varphi_j, \\theta_j \\right) $ are the vector spherical coordinates of $\\mathbf{r_j}$ in the reference system $j$, we have that $Y_{l,m,j}\\left(\\mathbf{r}_j\\right)=Y_{l,m}\\left(\\theta_j, \\varphi_j\\right)$."
   ]
  },
  {
   "cell_type": "markdown",
   "id": "63127c13-b6a9-46e0-8ff2-f72d8d73be25",
   "metadata": {},
   "source": [
    "### Some spherical harmonics expansions"
   ]
  },
  {
   "cell_type": "markdown",
   "id": "d17bcf45-f106-4552-9262-acdc9da1f6b4",
   "metadata": {},
   "source": [
    "#### Real spherical harmonics and Laplace free space fundamental solution"
   ]
  },
  {
   "cell_type": "markdown",
   "id": "4a23d645-1df2-41ed-9111-29fd6543b0ba",
   "metadata": {},
   "source": [
    "Let $\\mathbf{r}$, $\\mathbf{r}'$ be vectors, whose spherical coordinates in the reference system $j$ are $\\left(r_j,\\theta_j, \\varphi_j \\right)$ and $\\left(r_j',\\theta_j', \\varphi_j' \\right)$, respectively. For $r_j>r_j'$ we have\n",
    "$$g\\left(\\mathbf{r}, \\mathbf{r}'\\right) = \\sum_{l=0}^{\\infty}  \\frac{1}{2l+1} \\frac{r_j^{'l}}{r_j^{l+1}}\\sum_{m=-l}^l Y_{l,m,j}\\left(\\mathbf{r}\\right)  Y_{l,m,j}\\left(\\mathbf{r}'\\right).$$\n",
    "This series  and its term by term first derivatives with respect to $r_j$ or $r_j'$ are absolutely and uniformly convergent on compact subsets with $r_j>r_j'$."
   ]
  },
  {
   "cell_type": "markdown",
   "id": "2055b9f7-b351-4d90-a8be-a5c9fe46f300",
   "metadata": {},
   "source": [
    "Let be $j\\in \\{1,\\ldots,N\\}$, and $\\tilde{r}_j$ the radius of $\\Omega_j$.\r\n",
    "- Let $\\mathbf{r} \\in \\Omega_0$ and $\\mathbf{r}=(r,\\theta,\\varphi )$ be expressed in the $j$th spherical coordinate system, then\r\n",
    "$$\\begin{align*}\r\n",
    "    DL_{0j} ( Y_{l,m,j}) (\\mathbf{r}) &= -\\frac{l}{2l+1} \\left( \\frac{\\tilde{r}_j}{r} \\right)^{l+1} Y_{l,m}(\\theta, \\varphi ),\\\\\r\n",
    "    SL_{0j} ( Y_{l,m,j}) (\\mathbf{r}) &= \\frac{\\tilde{r}_j}{2l+1} \\left( \\frac{\\tilde{r}_j}{r} \\right)^{l+1} Y_{l,m}(\\theta, \\varphi ).\r\n",
    "\\end{align*}$$\r\n",
    "- Let $\\mathbf{r} \\in \\Omega_j$ and $\\mathbf{r}=(r,\\theta,\\varphi )$ expressed in the $j$th spherical coordinate system, then\r\n",
    "$$\\begin{align*}\r\n",
    "    DL_{j} ( Y_{l,m,j}) (\\mathbf{r}) &= -\\frac{l+1}{2l+1} \\left( \\frac{r}{\\tilde{r}_j} \\right)^{l} Y_{l,m}(\\theta, \\varphi ),\\\\\r\n",
    "    SL_{j} ( Y_{l,m,j}) (\\mathbf{r}) &= \\frac{\\tilde{r}_j}{2l+1} \\left( \\frac{r}{\\tilde{r}_j} \\right)^{l} Y_{l,m}(\\theta, \\varphi ).\r\n",
    "\\end{align*}$$"
   ]
  },
  {
   "cell_type": "markdown",
   "id": "2613b768-fe71-4147-a574-1d2233d0b16c",
   "metadata": {},
   "source": [
    "The diagonal forms of the BIOs are:\n",
    "$$\\begin{align*}\n",
    "\tV_{j,j}^0\\left( Y_{l,m,j} \\right) &= \\frac{1}{2l+1} \\tilde{r}_j Y_{l,m,j}, & V_{j}\\left( Y_{l,m,j} \\right)&=  \\frac{1}{2l+1} \\tilde{r}_j Y_{l,m,j},  \\\\\n",
    "\tK_{j,j}^0\\left( Y_{l,m,j} \\right) &= \\frac{1}{2(2l+1)}Y_{l,m,j}, &\tK_{j}\\left( Y_{l,m,j} \\right) &= -\\frac{1}{2(2l+1)} Y_{l,m,j},\\\\\n",
    "\tK^{*0}_{j,j}\\left( Y_{l,m,j} \\right) &= \\frac{1}{2l+1} Y_{l,m,j}, & K^*_{j}\\left( Y_{l,m,j} \\right) &= -\\frac{1}{2(2l+1)} Y_{l,m,j},\\\\\n",
    "\tW_{j,j}^0\\left( Y_{l,m,j} \\right) &=  \\frac{l(l+1)}{2l+1} \\frac{1}{\\tilde{r}_j} Y_{l,m,j}, & \tW_{j}\\left( Y_{l,m,j} \\right)&=  \\frac{l(l+1)}{2l+1} \\frac{1}{\\tilde{r}_j}  Y_{l,m,j}.\n",
    "\\end{align*}$$"
   ]
  },
  {
   "cell_type": "markdown",
   "id": "02e39017-e51a-443c-8882-fd7250ccfbca",
   "metadata": {},
   "source": [
    "#### Complex spherical harmonics and Helmholtz free space fundamental solution"
   ]
  },
  {
   "cell_type": "markdown",
   "id": "3fda1e3b-cc2b-4ef9-8cf3-d1bb7c98e296",
   "metadata": {},
   "source": [
    "Let $\\mathbf{r}$, $\\mathbf{r}'$ be vectors, whose spherical coordinates in the reference system $j$ are $\\left(r_j,\\theta_j, \\varphi_j \\right)$ and $\\left(r_j',\\theta_j', \\varphi_j' \\right)$, respectively. For $r_j>r_j'$ we have\n",
    "$$g_j\\left(\\mathbf{r}, \\mathbf{r}'\\right) = i k_j \\sum_{l=0}^{\\infty}  j_l(k_j r_j') h_l^{(1)}(k_j r_j) \\sum_{m=-l}^l Y_{l,m,j}\\left(\\mathbf{r}\\right)  \\overline{Y_{l,m,j}}\\left(\\mathbf{r}'\\right),$$\n",
    "with $j_l$ and $h_l^{(1)}$ the spherical Bessel function and the spherical Hankel function of first kind. This series  and its term by term first derivatives with respect to $r_j$ or $r_j'$ are absolutely and uniformly convergent on compact subsets with $r_j>r_j'$."
   ]
  },
  {
   "cell_type": "markdown",
   "id": "52721f33-6093-4d4b-b39d-0a51c4da2ce3",
   "metadata": {},
   "source": [
    "Let be $j\\in \\{1,\\ldots,N\\}$, and $\\tilde{r}_j$ the radius of $\\Omega_j$.\n",
    "- Let $\\mathbf{r} \\in \\Omega_0$ and $\\mathbf{r}=(r,\\theta,\\varphi )$ be expressed in the $j$th spherical coordinate system, then\n",
    "$$\\begin{align*}\n",
    "    DL_{0j} ( Y_{l,m,j}) (\\mathbf{r}) &= -i \\left( k_0 \\tilde{r}_j \\right)^2 j_l' (k_0 \\tilde{r}_j) h_l^{(1)}(k_0 r) Y_{l,m}(\\theta, \\varphi ),\\\\\n",
    "    SL_{0j} ( Y_{l,m,j}) (\\mathbf{r}) &=  i k_0 \\tilde{r}_j^2 j_l (k_0 \\tilde{r}_j) h_l^{(1)}(k_0 r) Y_{l,m}(\\theta, \\varphi ).\n",
    "\\end{align*}$$\n",
    "- Let $\\mathbf{r} \\in \\Omega_j$ and $\\mathbf{r}=(r,\\theta,\\varphi )$ expressed in the $j$th spherical coordinate system, then\n",
    "$$\\begin{align*}\n",
    "    DL_{j} ( Y_{l,m,j}) (\\mathbf{r}) &= i \\left( k_j \\tilde{r}_j \\right)^2 h_l^{(1)'}(k_j \\tilde{r}_j) j_l (k_j r)  Y_{l,m}(\\theta, \\varphi ),\\\\\n",
    "    SL_{j} ( Y_{l,m,j}) (\\mathbf{r}) &= i k_j \\tilde{r}_j^2 h_l^{(1)}(k_j \\tilde{r}_j) j_l (k_j r) Y_{l,m}(\\theta, \\varphi ).\n",
    "\\end{align*}$$"
   ]
  },
  {
   "cell_type": "markdown",
   "id": "ff9a0d7f-a3fd-422f-9a03-31f41f64a5eb",
   "metadata": {},
   "source": [
    "## `laplace.v_jj_azimuthal_symmetry`"
   ]
  },
  {
   "cell_type": "markdown",
   "id": "7c2fb851-85e1-4840-a7c9-419e89d6f666",
   "metadata": {},
   "source": [
    "Its signature is\n",
    "`v_jj_azimuthal_symmetry(big_l: int, r: float) -> np.ndarray`"
   ]
  },
  {
   "cell_type": "markdown",
   "id": "a475410c-b013-4ecc-9456-e2a78bb40ba9",
   "metadata": {},
   "source": [
    "This function returns a numpy array, which we will call `v`. Its length is `big_l + 1`. Each entry contains\n",
    "$$v[l] = ( V_{j,j} Y_{l,0} , Y_{l,0} )_{L^2(\\mathbb{S_j})} = \\frac{r_j^3}{2 l + 1}$$\n",
    "where $\\mathbb{S_j}$ is the surface of the sphere $j$ and $r_j$ its radius."
   ]
  },
  {
   "cell_type": "markdown",
   "id": "b2efa2ee-6ff8-45d0-889d-17e841015825",
   "metadata": {},
   "source": [
    "Let us plot the result for an example."
   ]
  },
  {
   "cell_type": "code",
   "execution_count": 3,
   "id": "414edb2b-1012-4b81-8329-9e7950ea27e8",
   "metadata": {},
   "outputs": [],
   "source": [
    "big_l = 5\n",
    "r = 1.3"
   ]
  },
  {
   "cell_type": "code",
   "execution_count": 4,
   "id": "fd3b5c7f-bca2-4358-8aaa-2eecd018e6f5",
   "metadata": {},
   "outputs": [],
   "source": [
    "v = laself.v_jj_azimuthal_symmetry(big_l, r)"
   ]
  },
  {
   "cell_type": "code",
   "execution_count": 6,
   "id": "92517904-a6e4-4967-b593-0a23d75ff61c",
   "metadata": {},
   "outputs": [
    {
     "data": {
      "text/plain": [
       "Text(0.5, 0, 'l')"
      ]
     },
     "execution_count": 6,
     "metadata": {},
     "output_type": "execute_result"
    },
    {
     "data": {
      "image/png": "[encoded data removed]",
      "text/plain": [
       "<Figure size 640x480 with 1 Axes>"
      ]
     },
     "metadata": {},
     "output_type": "display_data"
    }
   ],
   "source": [
    "plt.figure()\n",
    "plt.plot(\n",
    "    v,\n",
    "    marker='x'\n",
    ")\n",
    "plt.title('V')\n",
    "plt.xlabel('l')"
   ]
  },
  {
   "cell_type": "code",
   "execution_count": null,
   "id": "94a3e747-44be-4c4d-b466-db8c5f09065b",
   "metadata": {},
   "outputs": [],
   "source": []
  }
 ],
 "metadata": {
  "kernelspec": {
   "display_name": "Python 3 (ipykernel)",
   "language": "python",
   "name": "python3"
  },
  "language_info": {
   "codemirror_mode": {
    "name": "ipython",
    "version": 3
   },
   "file_extension": ".py",
   "mimetype": "text/x-python",
   "name": "python",
   "nbconvert_exporter": "python",
   "pygments_lexer": "ipython3",
   "version": "3.9.18"
  }
 },
 "nbformat": 4,
 "nbformat_minor": 5
}
