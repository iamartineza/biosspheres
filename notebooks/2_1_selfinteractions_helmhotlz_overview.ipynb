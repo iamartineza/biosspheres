{
 "cells": [
  {
   "cell_type": "markdown",
   "id": "4fde2871-5b1c-4688-a33d-dcaa05f11be8",
   "metadata": {},
   "source": [
    "# Overview of python functions from helmholtz.selfinteractions"
   ]
  },
  {
   "cell_type": "markdown",
   "id": "a9e0379a-bc38-4ac4-a94c-e500c04ff67f",
   "metadata": {},
   "source": [
    "Overview of python functions from `biosspheres.helmholtz.selfinteractions`."
   ]
  },
  {
   "cell_type": "code",
   "execution_count": 1,
   "id": "1bc0f84e-fa6e-4813-97b3-19dbd2ff491b",
   "metadata": {},
   "outputs": [],
   "source": [
    "import biosspheres.helmholtz.selfinteractions as selfinteractions"
   ]
  },
  {
   "cell_type": "code",
   "execution_count": 2,
   "id": "5697bae2-4e3e-4125-a379-cbc08d7a9c15",
   "metadata": {},
   "outputs": [],
   "source": [
    "import numpy as np\n",
    "import scipy.sparse as sparse\n",
    "import matplotlib.pyplot as plt\n",
    "from matplotlib import cm, colors"
   ]
  },
  {
   "cell_type": "markdown",
   "id": "1ca34bb6-8bbc-42c0-98a7-db55bc11c726",
   "metadata": {
    "jp-MarkdownHeadingCollapsed": true
   },
   "source": [
    "## Preliminaries"
   ]
  },
  {
   "cell_type": "markdown",
   "id": "6678dd5e-3a41-484d-9c2f-71697935f913",
   "metadata": {
    "jp-MarkdownHeadingCollapsed": true
   },
   "source": [
    "### Geometry"
   ]
  },
  {
   "cell_type": "markdown",
   "id": "0fcaf5ee-5ff5-46ce-bc8b-41e0e148712d",
   "metadata": {},
   "source": [
    "$N$ disjoint spheres in $\\mathbb{R}^3$:\n",
    "- Position vectors of the sphere centers: $\\mathbf{p_j} \\in \\mathbb{R}^3$, with $j \\in \\{1,...,N\\}$.  \n",
    "- Radii: $\\tilde{r}_j\\in \\mathbb{R}^+$, with $j \\in \\{1,...,N\\}$.\n",
    "- Interior of sphere $j$: $\\Omega_j:=\\{ \\mathbf{x} \\in \\mathbb{R}^3:||\\mathbf{x}-\\mathbf{p_j}||_2<\\tilde{r}_j \\}$.\n",
    "- Boundary of sphere $j$: $\\Gamma_j:=\\partial \\Omega_j$.\n",
    "- Exterior medium, $\\Omega_0$: defined as $\\mathbb{R}^3$ without the spheres and their boundaries.  "
   ]
  },
  {
   "cell_type": "markdown",
   "id": "b4c59961-49df-4d1f-9b6d-059e5649980d",
   "metadata": {
    "jp-MarkdownHeadingCollapsed": true
   },
   "source": [
    "### Free space fundamental solution for the Helmholtz equation"
   ]
  },
  {
   "cell_type": "markdown",
   "id": "ae31a336-9c01-4fba-b72d-8c879d1e3aa5",
   "metadata": {},
   "source": [
    "The free space fundamental solution of the Helmholtz equation with $k>0$, which satisfies the **radiation condition** is:\n",
    "$$g_j\\left(\\mathbf{r},\\mathbf{r'}\\right):= \\frac{e^{ik_j||\\mathbf{r}-\\mathbf{r}'||}}{4\\pi ||\\mathbf{r}-\\mathbf{r}'||}, \\quad \\text{with }  \\mathbf{r}\\not = \\mathbf{r'}, \\quad \\text{and } -\\left( \\Delta + k_j^2 \\right) g_j \\left(\\mathbf{r},\\mathbf{r'}\\right)=\\delta \\left(\\mathbf{r}-\\mathbf{r'}\\right).$$"
   ]
  },
  {
   "cell_type": "markdown",
   "id": "e115f064-4c82-43dd-88bf-60fca4498076",
   "metadata": {
    "jp-MarkdownHeadingCollapsed": true
   },
   "source": [
    "### Layer operators"
   ]
  },
  {
   "cell_type": "markdown",
   "id": "07d9cc0d-3d3a-4516-95e6-af3388a2e62b",
   "metadata": {},
   "source": [
    "Single and double layer operators defined for smooth densities:\n",
    "$$DL_{0j} \\left(\\psi\\right)\\left(\\mathbf{r}\\right):=\\int_{\\Gamma_j}  \\psi\\left(\\mathbf{r}'\\right) \\nabla g_0\\left(\\mathbf{r},\\mathbf{r'}\\right) \\cdot \\widehat{\\mathbf{n}}_{0j} \\ dS',$$\n",
    "$$SL_{0j} \\left(\\psi\\right)\\left(\\mathbf{r}\\right):=\\int_{\\Gamma_j}  {\\psi\\left(\\mathbf{r}'\\right) g_0\\left(\\mathbf{r},\\mathbf{r'}\\right) dS'},$$\n",
    "$$DL_j \\left(\\psi\\right)\\left(\\mathbf{r}\\right):=\\int_{\\Gamma_j}  {\\psi\\left(\\mathbf{r}'\\right) \\nabla g_j\\left(\\mathbf{r},\\mathbf{r'}\\right) \\cdot \\widehat{\\mathbf{n}}_{j} \\ dS'},$$\n",
    "$$SL_j \\left(\\psi\\right)\\left(\\mathbf{r}\\right):=\\int_{\\Gamma_j}  {\\psi\\left(\\mathbf{r}' \\right) g_j\\left(\\mathbf{r},\\mathbf{r'}\\right) dS'}$$\n",
    "\n",
    "with the gradient being taken with respect to $\\mathbf{r}'$, $\\widehat{\\mathbf{n}}_j$ being the exterior normal vector of $\\Omega_j$, and $\\widehat{\\mathbf{n}}_j=-\\widehat{\\mathbf{n}}_{0j}$.\n",
    "\n",
    "These operators are linear and continuous in the following Sobolev spaces:\n",
    "$$DL_{0j}: H^{\\frac{1}{2}}(\\Gamma_j) \\rightarrow H^1_{loc} \\left(\\mathbb{R}^3 \\setminus \\cup_{j=1}^{N}\\Gamma_j\\right),$$\n",
    "$$SL_{0j}: H^{-\\frac{1}{2}}(\\Gamma_j) \\rightarrow H^1_{loc}  \\left(\\mathbb{R}^3 \\setminus \\cup_{j=1}^{N}\\Gamma_j\\right)  , $$\n",
    "$$DL_{j}: H^{\\frac{1}{2}}(\\Gamma_j)\\rightarrow H^1_{loc} \\left(\\mathbb{R}^3 \\setminus \\cup_{j=1}^{N}\\Gamma_j\\right),$$\n",
    "$$SL_{j}: H^{-\\frac{1}{2}}(\\Gamma_j) \\rightarrow H^1_{loc}\\left(\\mathbb{R}^3 \\setminus \\cup_{j=1}^{N}\\Gamma_j\\right).$$"
   ]
  },
  {
   "cell_type": "markdown",
   "id": "248c240c-6d9c-426a-9de9-8842648dacd8",
   "metadata": {
    "jp-MarkdownHeadingCollapsed": true
   },
   "source": [
    "### Boundary integral operators"
   ]
  },
  {
   "cell_type": "markdown",
   "id": "9efc74e7-4a08-4906-919b-dbcfdc7e9aa4",
   "metadata": {},
   "source": [
    "For $u\\in C^\\infty(\\overline\\Omega)$, Dirichlet and Neumann traces operators are defined as \n",
    "$$\\gamma_d u := u|_{\\Gamma},\\qquad \\gamma_n u := \\nabla  u|_{\\Gamma} \\cdot \\widehat{n},$$\n",
    "where $\\widehat{n}$ is the exterior unit normal.\n",
    "\n",
    "By density arguments, the definition of Dirichlet and Neumann traces operator can be extended to $u_j \\in H^1_{loc}(\\Omega_j)$, with $j \\{0, ..., N \\}$. We extend the notation as follows\n",
    "\n",
    "$$\\gamma_d^{0j} u_0 := u_0|_{\\Gamma_j},$$\n",
    "$$\\gamma_d^{j} u_j := u_0|_{\\Gamma_j},$$\n",
    "$$\\gamma_n^{0j} u_0 := \\nabla u_0|_{\\Gamma_j} \\cdot \\widehat{n}_{0j},$$\n",
    "$$\\gamma_n^{j} u_j := \\nabla u_0|_{\\Gamma_j}\\cdot \\widehat{n}_{j},$$\n",
    "where $\\widehat{n}_{j}$ is the exterior normal of $\\Omega_j$, with $j\\in \\{ 1, ..., N\\}$ and $\\widehat{n}_{0j}=-\\widehat{n}_{j}$.\n",
    "\n",
    "Now, we recall the definition of the boundary integral operators:\n",
    "$$\\begin{align*}\n",
    "\tV_{s,j}^0 &:=  \\frac{1}{2} \\left( \\gamma_d^{s} SL_{0j} + \\gamma_d^{0s} SL_{0j} \\right) ,\n",
    "\t& V_{j}&:= \\frac{1}{2} \\left(  \\gamma_d^{0j} SL_{j} + \\gamma_d^{j} SL_{j} \\right) ,\\\\\n",
    "\tK_{s,j}^0&:= \\frac{1}{2} \\left(\\gamma_d^{s} DL_{0j} + \\gamma_d^{0s} DL_{0j} \\right) ,\n",
    "\t&K_{j}&:= \\frac{1}{2} \\left(\\gamma_d^{0j} DL_{j} + \\gamma_d^{j} DL_{j} \\right),\\\\\n",
    "\tK^{*0}_{s,j}&:= \\frac{1}{2} \\left( - \\gamma_n ^{s} SL_{0j} + \\gamma_n ^{0s} SL_{0j}  \\right),\n",
    "\t & K^{*}_{j} &:= \\frac{1}{2} \\left( -\\gamma_n ^{0j} SL_{j}  + \\gamma_n ^{j} SL_{j} \\right), \\\\\n",
    "\tW_{s,j}^0 &:= -\\frac{1}{2} \\left( - \\gamma_n^{s} DL_{0j}  + \\gamma_n^{0s} DL_{0j} \\right) ,\n",
    "\t& W_{j} &:=- \\frac{1}{2} \\left( -\\gamma_n^{0j} DL_{j} + \\gamma_n^{j} DL_{j} \\right).\n",
    "\\end{align*}$$\n",
    "\n",
    "These operators are linear and continuous in the following Sobolev spaces: \n",
    "$$\\begin{align*}\n",
    "\tV_{s,j}^0 &: H^{-\\frac{1}{2}}(\\Gamma_j) \\rightarrow H^{\\frac{1}{2}}(\\Gamma_s),\n",
    "\t&V_{j}&: H^{-\\frac{1}{2}}(\\Gamma_j) \\rightarrow H^{\\frac{1}{2}}(\\Gamma_j),\\\\\n",
    "\tW_{s,j}^0&: H^{\\frac{1}{2}}(\\Gamma_j) \\rightarrow H^{-\\frac{1}{2}}(\\Gamma_s),\n",
    "\t&W_{j}&: H^{\\frac{1}{2}}(\\Gamma_j) \\rightarrow H^{-\\frac{1}{2}}(\\Gamma_j) ,\\\\\n",
    "\tK_{s,j}^0&: H^{\\frac{1}{2}}(\\Gamma_j) \\rightarrow H^{\\frac{1}{2}}(\\Gamma_s),\n",
    "\t&K_{j}&: H^{\\frac{1}{2}}(\\Gamma_j) \\rightarrow H^{\\frac{1}{2}}(\\Gamma_j) ,\\\\\n",
    "\tK^{*0}_{s,j}&: H^{-\\frac{1}{2}}(\\Gamma_j) \\rightarrow H^{-\\frac{1}{2}}(\\Gamma_s),\n",
    "\t&K^*_{j}&: H^{-\\frac{1}{2}}(\\Gamma_j) \\rightarrow H^{-\\frac{1}{2}}(\\Gamma_j).\n",
    "\\end{align*}$$\n",
    "\n",
    "Since the domains are smooth, the jump relations for the potentials across a closed boundary yield\n",
    "$$\\begin{align*}\n",
    "\tV_{s,j}^0 &=   \\gamma_d^{0{s}} SL_{0j},\n",
    "\t& V_{j}&=  \\gamma_d^{j} SL_{j},\\\\\n",
    "\tW_{s,j}^0 &=-  \\gamma_n^{0s} DL_{0j},\n",
    "\t& W_{j} &=- \\gamma_n^{j} DL_{j}, \\\\\n",
    "\t  K_{s,j}^0&= \\gamma_d^{0s} DL_{0j},  s \\not=j,\n",
    "\t & K^{*0}_{s,j} &= \\gamma_n ^{0s} SL_{0j},  s  \\not=j,\n",
    "\\end{align*}$$\n",
    "and\n",
    "$$\\begin{align*}\n",
    "\tK_{j,j}^0(\\psi) &= \\frac{1}{2}\\psi +\\gamma_d^{0j} {DL_{0j}(\\psi)} ,\n",
    "\t&K_{j}(\\psi) &= \\frac{1}{2} \\psi +\\gamma_d^{j} {DL_{j}(\\psi)} ,\\\\\n",
    "\t K^{*0}_{j,j}(\\psi) &= -\\frac{1}{2} \\psi + \\gamma_n^{0j} {SL_{0j}(\\psi)},\n",
    "\t&K^*_{j}(\\psi) &= -\\frac{1}{2} \\psi + \\gamma_n^j {SL_{j}(\\psi)}.\n",
    "\\end{align*}$$"
   ]
  },
  {
   "cell_type": "markdown",
   "id": "bd2157b7-2941-4b98-a3d3-1b9086b05702",
   "metadata": {
    "jp-MarkdownHeadingCollapsed": true
   },
   "source": [
    "### Calderón operator"
   ]
  },
  {
   "cell_type": "markdown",
   "id": "a7c741a9-5d4a-4d1f-a42c-874746213b65",
   "metadata": {},
   "source": [
    "$$A_{s,j}^0 = \\begin{bmatrix} - K^0_{s,j} & V^0_{s,j} \\\\\n",
    "W^0_{s,j} & K^{*0}_{s,j}\\end{bmatrix}, \\quad A_{j,j}= \\begin{bmatrix} - K_{j,j} & V_{j,j} \\\\\n",
    "W_{j,j} & K^{*0}_{j,j}\\end{bmatrix}. $$"
   ]
  },
  {
   "cell_type": "markdown",
   "id": "3838f4e9-fd30-4f1b-9bc7-6584652d8656",
   "metadata": {
    "jp-MarkdownHeadingCollapsed": true
   },
   "source": [
    "### Spherical coordinate system"
   ]
  },
  {
   "cell_type": "markdown",
   "id": "d4c26fbe-38b3-4e8d-83e1-4cbb363a6332",
   "metadata": {},
   "source": [
    "A vector is written as $\\mathbf{r}=\\left(r,\\varphi,\\theta\\right)^t$, with $r \\in [0,\\infty)$, $\\varphi \\in [0,2\\pi)$ and $\\theta \\in [0,\\pi]$, which in Cartesian coordinates is equivalent to $\\mathbf{r}=r\\left(\\sin \\theta \\cos \\varphi,\\sin \\theta \\sin \\varphi,\\cos \\theta\\right)^t$. The unitary vectors of the spherical coordinate system can be written in Cartesian coordinates as\n",
    "$$\\begin{align*}\n",
    "    &\\widehat{\\mathbf{e}}_r= (\\sin \\theta \\cos \\varphi , \\sin \\theta \\sin \\varphi , \\cos \\theta )^t, \\\\\n",
    "    &\\widehat{\\mathbf{e}}_\\theta=(\\cos \\theta \\cos \\varphi , \\cos \\theta \\sin \\varphi , -\\sin \\theta  )^t, \\\\\n",
    "    &\\widehat{\\mathbf{e}}_{\\varphi}=(-\\sin \\varphi , \\cos \\varphi , 0 )^t.\n",
    "\\end{align*}$$\n",
    "\n",
    "Also, the gradient operator in spherical coordinates:\n",
    "$$\\begin{align*}\n",
    "    \\nabla f&=\\frac{\\partial f}{\\partial r} \\widehat{\\mathbf{e}}_r+\\frac{1}{r} \\frac{\\partial f}{\\partial \\theta} \\widehat{\\mathbf{e}}_\\theta+\\frac{1}{r \\sin \\theta} \\frac{\\partial f}{\\partial \\varphi} \\widehat{\\mathbf{e}}_{\\varphi}\n",
    "\\end{align*}$$"
   ]
  },
  {
   "cell_type": "markdown",
   "id": "db7aaba4-7856-4a26-9414-15bf1a05a999",
   "metadata": {
    "jp-MarkdownHeadingCollapsed": true
   },
   "source": [
    "### Legendre functions"
   ]
  },
  {
   "cell_type": "markdown",
   "id": "a3fbf1d7-4e84-49c8-b066-ecdba7389cf9",
   "metadata": {},
   "source": [
    " $P_l^m$ are the associated Legendre functions of degree $l$ and  order $m$ defined as:\n",
    "$$P_{l}^m\\left(x\\right) := (-1)^m \\left( 1- x^2\\right)^{\\frac{m}{2}} \\frac{d^m}{dx^m}P_l(x), \\quad P_{l}\\left(x\\right) := \\frac{1}{2^ll!}\\frac{d^l}{dx^l}(x^2-1)^l.$$\n",
    "\n",
    "Here, the term $(-1)^m$ is the Condon-Shortley phase factor."
   ]
  },
  {
   "cell_type": "markdown",
   "id": "23923b33-ce25-460f-bc7b-501a3c9d4c2d",
   "metadata": {
    "jp-MarkdownHeadingCollapsed": true
   },
   "source": [
    "### Complex spherical harmonics"
   ]
  },
  {
   "cell_type": "markdown",
   "id": "38173a70-ce9b-4217-9ffb-d4dcebb81a47",
   "metadata": {},
   "source": [
    "Complex spherical harmonics of degree $l$ and order $m$ are defined using spherical coordinates:\n",
    "$$Y_{l,m}\\left(\\theta,\\varphi\\right) := \\sqrt{ \\frac{\\left(2l+1\\right)\\left(l-m\\right)!}{4 \\pi \\left(l+m\\right)!}} P_l^{m} \\left(\\cos\\left(\\theta\\right)\\right) e^{i m \\varphi},$$\n",
    "$$Y_{l,-m}\\left(\\theta,\\varphi\\right) := (-1)^m\\overline{Y}_{l,m}\\left(\\theta,\\varphi\\right),$$\n",
    "with $l\\in \\mathbb{N}_0$, $m\\in \\mathbb{Z}$ such that $0\\leq m\\leq l$. If $m=0$, then $\\delta_{m,0}=1$, and it is zero otherwise."
   ]
  },
  {
   "cell_type": "markdown",
   "id": "e4ecaddf-7dc0-40c5-bc57-de4979760df0",
   "metadata": {
    "jp-MarkdownHeadingCollapsed": true
   },
   "source": [
    "### Orthonormality of spherical harmonics"
   ]
  },
  {
   "cell_type": "markdown",
   "id": "fa2c911b-0f48-43a9-ab7b-219954bdff5d",
   "metadata": {},
   "source": [
    "Spherical harmonics are dense in $C(\\mathbb{S}^2)$, with $\\mathbb{S}^2$ the surface of the unit sphere, and form a complete orthonormal system in $L^2(\\mathbb{S}^2)$ with respect to the internal product defined by:\n",
    "$$\\left( \\psi , \\xi \\right)_{L^2(\\mathbb{S}^2)} = \\int_{0}^{2\\pi}\\int_{0}^{\\pi} \\psi\\left(\\theta,\\varphi\\right) \\overline{\\xi\\left(\\theta,\\varphi\\right) }\\sin\\left(\\theta\\right) d\\theta d\\varphi,$$\n",
    "with $\\overline{\\xi\\left(\\theta,\\varphi\\right)}$ the conjugate of $\\xi\\left(\\theta,\\varphi\\right)$.\n",
    "\n",
    "They also are orthogonal in $H^1(\\mathbb{S}^2)$."
   ]
  },
  {
   "cell_type": "markdown",
   "id": "7dbaaa65-3dcc-4c82-b34a-4c3ce4e7f865",
   "metadata": {
    "jp-MarkdownHeadingCollapsed": true
   },
   "source": [
    "### Reference systems"
   ]
  },
  {
   "cell_type": "markdown",
   "id": "15aace8a-b256-4647-a74a-1e05447ede88",
   "metadata": {},
   "source": [
    "Let be $j\\in \\{1,...,N\\}$. We define the reference system $j$ as the one centered at $\\mathbf{p_j}$ with the same orientation that the reference system centered in the origin. Furthermore, we denote by $Y_{l,m,j}$ the spherical harmonic $Y_{l,m}$ centered in the origin of the reference system $j$. Thus, if $\\left( r_j, \\varphi_j, \\theta_j \\right) $ are the vector spherical coordinates of $\\mathbf{r_j}$ in the reference system $j$, we have that $Y_{l,m,j}\\left(\\mathbf{r}_j\\right)=Y_{l,m}\\left(\\theta_j, \\varphi_j\\right)$."
   ]
  },
  {
   "cell_type": "markdown",
   "id": "02e39017-e51a-443c-8882-fd7250ccfbca",
   "metadata": {},
   "source": [
    "#### Complex spherical harmonics and Helmholtz free space fundamental solution"
   ]
  },
  {
   "cell_type": "markdown",
   "id": "3fda1e3b-cc2b-4ef9-8cf3-d1bb7c98e296",
   "metadata": {},
   "source": [
    "Let $\\mathbf{r}$, $\\mathbf{r}'$ be vectors, whose spherical coordinates in the reference system $j$ are $\\left(r_j,\\theta_j, \\varphi_j \\right)$ and $\\left(r_j',\\theta_j', \\varphi_j' \\right)$, respectively. For $r_j>r_j'$ we have\n",
    "$$g_j\\left(\\mathbf{r}, \\mathbf{r}'\\right) = i k_j \\sum_{l=0}^{\\infty}  j_l(k_j r_j') h_l^{(1)}(k_j r_j) \\sum_{m=-l}^l Y_{l,m,j}\\left(\\mathbf{r}\\right)  \\overline{Y_{l,m,j}}\\left(\\mathbf{r}'\\right),$$\n",
    "with $j_l$ and $h_l^{(1)}$ the spherical Bessel function and the spherical Hankel function of first kind. This series  and its term by term first derivatives with respect to $r_j$ or $r_j'$ are absolutely and uniformly convergent on compact subsets with $r_j>r_j'$."
   ]
  },
  {
   "cell_type": "markdown",
   "id": "52721f33-6093-4d4b-b39d-0a51c4da2ce3",
   "metadata": {},
   "source": [
    "Let be $j\\in \\{1,\\ldots,N\\}$, and $\\tilde{r}_j$ the radius of $\\Omega_j$.\n",
    "- Let $\\mathbf{r} \\in \\Omega_0$ and $\\mathbf{r}=(r,\\theta,\\varphi )$ be expressed in the $j$th spherical coordinate system, then\n",
    "$$\\begin{align*}\n",
    "    DL_{0j} ( Y_{l,m,j}) (\\mathbf{r}) &= -i \\left( k_0 \\tilde{r}_j \\right)^2 j_l' (k_0 \\tilde{r}_j) h_l^{(1)}(k_0 r) Y_{l,m}(\\theta, \\varphi ),\\\\\n",
    "    SL_{0j} ( Y_{l,m,j}) (\\mathbf{r}) &=  i k_0 \\tilde{r}_j^2 j_l (k_0 \\tilde{r}_j) h_l^{(1)}(k_0 r) Y_{l,m}(\\theta, \\varphi ).\n",
    "\\end{align*}$$\n",
    "- Let $\\mathbf{r} \\in \\Omega_j$ and $\\mathbf{r}=(r,\\theta,\\varphi )$ expressed in the $j$th spherical coordinate system, then\n",
    "$$\\begin{align*}\n",
    "    DL_{j} ( Y_{l,m,j}) (\\mathbf{r}) &= i \\left( k_j \\tilde{r}_j \\right)^2 h_l^{(1)'}(k_j \\tilde{r}_j) j_l (k_j r)  Y_{l,m}(\\theta, \\varphi ),\\\\\n",
    "    SL_{j} ( Y_{l,m,j}) (\\mathbf{r}) &= i k_j \\tilde{r}_j^2 h_l^{(1)}(k_j \\tilde{r}_j) j_l (k_j r) Y_{l,m}(\\theta, \\varphi ).\n",
    "\\end{align*}$$"
   ]
  },
  {
   "cell_type": "markdown",
   "id": "e01b399f-ec58-4aa3-a872-c2568a3357d8",
   "metadata": {},
   "source": [
    "The diagonal forms of the BIOs are:\n",
    "$$\\begin{align*}\n",
    "\tV_{j,j}^0\\left( Y_{l,m,j} \\right) &=  i k_0 \\tilde{r}_j^2 j_l (k_0 \\tilde{r}_j) h_l^{(1)}(k_0 k_0 \\tilde{r}_j) Y_{l,m,j}, & V_{j}\\left( Y_{l,m,j} \\right)&=  i k_0 \\tilde{r}_j^2 j_l (k_0 \\tilde{r}_j) h_l^{(1)}(k_0 \\tilde{r}_j) Y_{l,m,j},  \\\\\n",
    "\tK_{j,j}^0\\left( Y_{l,m,j} \\right) &= -\\frac{i}{2} (k_0 \\tilde{r}_j)^2 (j_l' (k_0 \\tilde{r}_j) h_l^{(1)}(k_0 \\tilde{r}_j) + j_l (k_0 \\tilde{r}_j) h_l^{(1)'}(k_0  \\tilde{r}_j)) Y_{l,m,j} , &\tK_{j}\\left( Y_{l,m,j} \\right) &= \\frac{i}{2} (k_0 \\tilde{r}_j)^2 (j_l' (k_0 \\tilde{r}_j) h_l^{(1)}(k_0 \\tilde{r}_j) + j_l (k_0 \\tilde{r}_j) h_l^{(1)'}(k_0  \\tilde{r}_j)) Y_{l,m,j},\\\\\n",
    "\tK^{*0}_{j,j}\\left( Y_{l,m,j} \\right) &= -\\frac{i}{2} (k_0 \\tilde{r}_j)^2 (j_l' (k_0 \\tilde{r}_j) h_l^{(1)}(k_0 \\tilde{r}_j) + j_l (k_0 \\tilde{r}_j) h_l^{(1)'}(k_0 \\tilde{r}_j))Y_{l,m,j}, & K^*_{j}\\left( Y_{l,m,j} \\right) &=  \\frac{i}{2} (k_0 \\tilde{r}_j)^2 (j_l' (k_0 \\tilde{r}_j) h_l^{(1)}(k_0 \\tilde{r}_j) + j_l (k_0 \\tilde{r}_j) h_l^{(1)'}(k_0 \\tilde{r}_j))Y_{l,m,j},\\\\\n",
    "\tW_{j,j}^0\\left( Y_{l,m,j} \\right) &= i k_0^3 \\tilde{r}_j^2 j_l' (k_0 \\tilde{r}_j) h_l^{(1)'}(k_0 \\tilde{r}_j)  Y_{l,m,j}, & \tW_{j}\\left( Y_{l,m,j} \\right)&=   i k_0^3 \\tilde{r}_j^2 j_l' (k_0 \\tilde{r}_j) h_l^{(1)'}(k_0 \\tilde{r}_j)  Y_{l,m,j}.\n",
    "\\end{align*}$$"
   ]
  },
  {
   "cell_type": "markdown",
   "id": "ff9a0d7f-a3fd-422f-9a03-31f41f64a5eb",
   "metadata": {
    "jp-MarkdownHeadingCollapsed": true
   },
   "source": [
    "## `v_jj_azimuthal_symmetry`"
   ]
  },
  {
   "cell_type": "markdown",
   "id": "aa5054b7",
   "metadata": {},
   "source": [
    "This function returns a numpy array, which we will call `v`. Its length is `big_l + 1`. Each entry contains\n",
    "$$v[l] = ( V_{j,j}^0 Y_{l,0} , Y_{l,0} )_{L^2(\\mathbb{S_j})} = ( V_{j,j} Y_{l,0} , Y_{l,0} )_{L^2(\\mathbb{S_j})} = i \\tilde{r}_j^4 k_0 j_l(k_0\\tilde{r}_j) h_l^{(1)}(k_0\\tilde{r}_j).$$"
   ]
  },
  {
   "cell_type": "markdown",
   "id": "f0604595-f6d2-4b39-85eb-2f0fd2d714bd",
   "metadata": {
    "jp-MarkdownHeadingCollapsed": true
   },
   "source": [
    "### Docstring"
   ]
  },
  {
   "cell_type": "code",
   "execution_count": 3,
   "id": "217b1fa1-1c6d-4922-be19-9c92a89e6994",
   "metadata": {},
   "outputs": [
    {
     "name": "stdout",
     "output_type": "stream",
     "text": [
      "\n",
      "    Returns a numpy array with the boundary integral operator V_{j,j}\n",
      "    with Helmholtz kernel evaluated and tested with spherical harmonics\n",
      "    of order 0 in a sphere of radius r.\n",
      "\n",
      "    Notes\n",
      "    -----\n",
      "    v[l] = ( V_{j,j} Y_l,0 ; Y_l,0 )_L^2(surface sphere radius r).\n",
      "    = i r**4 k j_l(kr) h_l(kr)\n",
      "    for each l such that 0 <= l <= big_l, and with\n",
      "    ( ., .)_L^2(surface sphere radius r): inner product where indicated.\n",
      "    Y_l,0: spherical harmonic degree l, order 0.\n",
      "    j_l: spherical Bessel function.\n",
      "    h_l: spherical Hanckel function of first kind.\n",
      "\n",
      "    Notice that the expression could also be computed as:\n",
      "    0.5 i r pi J_{l+0.5}(k r) H_{l+0.5}(k r)\n",
      "    with J_{nu} the Bessel function and\n",
      "    H_{nu} the Hanckel function of first kind.\n",
      "\n",
      "    Parameters\n",
      "    ----------\n",
      "    big_l : int\n",
      "        >= 0, max degree.\n",
      "    r : float\n",
      "        > 0, radius.\n",
      "    k : float\n",
      "        wave number.\n",
      "\n",
      "    Returns\n",
      "    -------\n",
      "    v : np.ndarray\n",
      "        with complex values. Length (big_l+1). See the section notes for\n",
      "        the ordering of the array.\n",
      "\n",
      "    \n"
     ]
    }
   ],
   "source": [
    "print(selfinteractions.v_jj_azimuthal_symmetry.__doc__)"
   ]
  },
  {
   "cell_type": "markdown",
   "id": "9f954f50-161b-486a-b08e-aec8629d302a",
   "metadata": {
    "jp-MarkdownHeadingCollapsed": true
   },
   "source": [
    "### Example"
   ]
  },
  {
   "cell_type": "markdown",
   "id": "733b1b69",
   "metadata": {},
   "source": [
    "Definition of parameters:"
   ]
  },
  {
   "cell_type": "code",
   "execution_count": 4,
   "id": "9ccd1cf2-7f81-432b-b4fe-0072d18200e0",
   "metadata": {},
   "outputs": [],
   "source": [
    "r = 2.5\n",
    "big_l = 50\n",
    "k = 7."
   ]
  },
  {
   "cell_type": "markdown",
   "id": "4b701430",
   "metadata": {},
   "source": [
    "Calling of the function:"
   ]
  },
  {
   "cell_type": "code",
   "execution_count": 5,
   "id": "a8882564-d134-4223-94c8-fef01042e018",
   "metadata": {},
   "outputs": [],
   "source": [
    "v = selfinteractions.v_jj_azimuthal_symmetry(big_l, r, k)"
   ]
  },
  {
   "cell_type": "markdown",
   "id": "7ec6466a",
   "metadata": {},
   "source": [
    "Plot of the values:"
   ]
  },
  {
   "cell_type": "code",
   "execution_count": 6,
   "id": "4147a5a8-c6fc-4bac-bdc5-f20d985d3a4a",
   "metadata": {},
   "outputs": [
    {
     "data": {
      "image/png": "[encoded data removed]",
      "text/plain": [
       "<Figure size 640x480 with 1 Axes>"
      ]
     },
     "metadata": {},
     "output_type": "display_data"
    }
   ],
   "source": [
    "plt.figure()\n",
    "plt.plot(\n",
    "    np.real(v),\n",
    "    marker='x',\n",
    "    label='Real part of V'\n",
    ")\n",
    "plt.plot(\n",
    "    np.imag(v),\n",
    "    marker='x',\n",
    "    label='Imaginary part of V'\n",
    ")\n",
    "plt.title('V')\n",
    "plt.xlabel('l')\n",
    "plt.legend()\n",
    "plt.show()"
   ]
  },
  {
   "cell_type": "markdown",
   "id": "afe48352-f95b-4776-a456-28755039028b",
   "metadata": {
    "jp-MarkdownHeadingCollapsed": true
   },
   "source": [
    "## `k_0_jj_azimuthal_symmetry`"
   ]
  },
  {
   "cell_type": "markdown",
   "id": "e218901f",
   "metadata": {},
   "source": [
    "This function returns a numpy array, which we will call `data_k`. Its length is `big_l + 1`. Each entry contains\n",
    "$$\\begin{align*}\n",
    "data_k[l] &= ( K_{j,j}^0 Y_{l,0} , Y_{l,0} )_{L^2(\\mathbb{S_j})} = ( K_{j,j}^{0*} Y_{l,0} , Y_{l,0} )_{L^2(\\mathbb{S_j})}\\\\\n",
    "&= -\\frac{i}{2} (k_0 \\tilde{r}_j)^2 (j_l' (k_0 \\tilde{r}_j) h_l^{(1)}(k_0 \\tilde{r}_j) + j_l (k_0 \\tilde{r}_j) h_l^{(1)'}(k_0  \\tilde{r}_j)) Y_{l,0}\n",
    "\\end{align*}$$\n",
    "where $\\mathbb{S_j}$ is the surface of the sphere $j$ and $r_j$ its radius."
   ]
  },
  {
   "cell_type": "markdown",
   "id": "ba6f9dfe-babb-45a7-ad3e-3f5bf5571526",
   "metadata": {
    "jp-MarkdownHeadingCollapsed": true
   },
   "source": [
    "### Docstring"
   ]
  },
  {
   "cell_type": "code",
   "execution_count": 7,
   "id": "c6dc8092-f4b9-4ecb-ba56-bfd9b7e07d17",
   "metadata": {},
   "outputs": [
    {
     "name": "stdout",
     "output_type": "stream",
     "text": [
      "\n",
      "    Returns a numpy array with the boundary integral operator K_{j,j}^0,\n",
      "    with normals from out to in of the sphere, with Helmholtz kernel\n",
      "    evaluated and tested with spherical harmonics of order 0.\n",
      "\n",
      "    Notes\n",
      "    -----\n",
      "    k_0_jj[l] = (K_{j,j}^0 Y_l,0 ; Y_l,0)_L^2(surface sphere radius r).\n",
      "    = -1j * k**2 * r**4 * 0.5\n",
      "      * (j_l(r k) * h_l_d(r k) + j_l_d(r k) * h_l(r k))\n",
      "    for each l such that 0 <= l <= big_l, and with\n",
      "    ( ., .)_L^2(surface sphere radius r): inner product where indicated.\n",
      "    Y_l,0: spherical harmonic degree l, order 0.\n",
      "    j_l: spherical Bessel function, and j_l_d its derivative.\n",
      "    h_l: spherical Hanckel function of first kind, and j_l_d its\n",
      "         derivative.\n",
      "\n",
      "    Notice that in this specific case\n",
      "    ( K_{j,j}^0 Y_l,0 ; Y_l,0 )_L^2(surface sphere radius r)\n",
      "    = ( K_{j,j}^{*0} Y_l,0 ; Y_l,0 )_L^2(surface sphere radius r)\n",
      "    where K_{j,j}^{*0} has normals from out to in of the sphere, and\n",
      "    with Helmholtz kernel.\n",
      "\n",
      "    Parameters\n",
      "    ----------\n",
      "    big_l : int\n",
      "        >= 0, max degree.\n",
      "    r : float\n",
      "        > 0, radius.\n",
      "    k : float\n",
      "        wave number.\n",
      "\n",
      "    Returns\n",
      "    -------\n",
      "    k_0 : np.ndarray\n",
      "        with complex values. Length (big_l+1). See the section notes for\n",
      "        the ordering of the array.\n",
      "\n",
      "    \n"
     ]
    }
   ],
   "source": [
    "print(selfinteractions.k_0_jj_azimuthal_symmetry.__doc__)"
   ]
  },
  {
   "cell_type": "markdown",
   "id": "a6f6d05f-3435-4977-b04e-f40855ccf281",
   "metadata": {},
   "source": [
    "### Example"
   ]
  },
  {
   "cell_type": "markdown",
   "id": "7eef6fe4",
   "metadata": {},
   "source": [
    "Definition of parameters:"
   ]
  },
  {
   "cell_type": "code",
   "execution_count": 8,
   "id": "6cd5e720-4890-48ef-8dce-679f18b323db",
   "metadata": {},
   "outputs": [],
   "source": [
    "r = 2.5\n",
    "big_l = 50\n",
    "k = 7."
   ]
  },
  {
   "cell_type": "markdown",
   "id": "aed9b52d",
   "metadata": {},
   "source": [
    "Calling of the function:"
   ]
  },
  {
   "cell_type": "code",
   "execution_count": 9,
   "id": "46a1efab-fc44-4c41-b56e-cbb31de35799",
   "metadata": {},
   "outputs": [],
   "source": [
    "k_0_jj = selfinteractions.k_0_jj_azimuthal_symmetry(big_l, r, k)"
   ]
  },
  {
   "cell_type": "markdown",
   "id": "bf00c62c",
   "metadata": {},
   "source": [
    "Plotting the values:"
   ]
  },
  {
   "cell_type": "code",
   "execution_count": 10,
   "id": "5fa243ea-0991-49d2-91fd-a43970a7abb3",
   "metadata": {},
   "outputs": [
    {
     "data": {
      "image/png": "[encoded data removed]",
      "text/plain": [
       "<Figure size 640x480 with 1 Axes>"
      ]
     },
     "metadata": {},
     "output_type": "display_data"
    }
   ],
   "source": [
    "plt.figure()\n",
    "plt.plot(\n",
    "    np.real(k_0_jj),\n",
    "    marker='x',\n",
    "    label='Real part of K'\n",
    ")\n",
    "plt.plot(\n",
    "    np.imag(k_0_jj),\n",
    "    marker='x',\n",
    "    label='Imaginary part of K'\n",
    ")\n",
    "plt.title('K')\n",
    "plt.xlabel('l')\n",
    "plt.legend()\n",
    "plt.show()"
   ]
  },
  {
   "cell_type": "markdown",
   "id": "7238c09e-0aa4-46e0-b44b-782c298f56e0",
   "metadata": {
    "jp-MarkdownHeadingCollapsed": true
   },
   "source": [
    "## `k_1_jj_azimuthal_symmetry`"
   ]
  },
  {
   "cell_type": "markdown",
   "id": "b3e73f61",
   "metadata": {},
   "source": [
    "This function returns a numpy array, which we will call `k_j`. Its length is `big_l + 1`. Each entry contains\n",
    "$$\\begin{align*}\n",
    "k_j[l] &= ( K_{j,j} Y_{l,0} , Y_{l,0} )_{L^2(\\mathbb{S_j})} = ( K_{j,j}^* Y_{l,0} , Y_{l,0} )_{L^2(\\mathbb{S_j})}\\\\ &= \\frac{i}{2} (k_0 \\tilde{r}_j)^2 (j_l' (k_0 \\tilde{r}_j) h_l^{(1)}(k_0 \\tilde{r}_j) + j_l (k_0 \\tilde{r}_j) h_l^{(1)'}(k_0  \\tilde{r}_j)) Y_{l,0}\n",
    "\\end{align*}$$\n",
    "where $\\mathbb{S_j}$ is the surface of the sphere $j$ and $r_j$ its radius."
   ]
  },
  {
   "cell_type": "markdown",
   "id": "dd029cc7-d953-4e9b-969f-249c1f1b1725",
   "metadata": {
    "jp-MarkdownHeadingCollapsed": true
   },
   "source": [
    "### Docstring"
   ]
  },
  {
   "cell_type": "code",
   "execution_count": 11,
   "id": "7de87fb8-bd36-4f91-90f5-9ea6ab1a181a",
   "metadata": {},
   "outputs": [
    {
     "name": "stdout",
     "output_type": "stream",
     "text": [
      "\n",
      "    Returns a numpy array with the boundary integral operator K_{j,j},\n",
      "    with normals from in to out of the sphere, with Helmholtz kernel\n",
      "    evaluated and tested with spherical harmonics of order 0.\n",
      "\n",
      "    Notes\n",
      "    -----\n",
      "    k_jj[l] = ( K_{j,j} Y_l,0 ; Y_l,0 )_L^2(surface sphere radius r).\n",
      "    = 1j * k**2 * r**4 * 0.5\n",
      "      * (j_l(r k) * h_l_d(r k) + j_l_d(r k) * h_l(r k))\n",
      "    for each l such that 0 <= l <= big_l, and with\n",
      "    ( ., .)_L^2(surface sphere radius r): inner product where indicated.\n",
      "    Y_l,0: spherical harmonic degree l, order 0.\n",
      "    j_l: spherical Bessel function, and j_l_d its derivative.\n",
      "    h_l: spherical Hanckel function of first kind, and j_l_d its\n",
      "         derivative.\n",
      "\n",
      "    Notice that in this specific case\n",
      "    ( K_{j,j} Y_l,0 ; Y_l,0 )_L^2(surface sphere radius r)\n",
      "    = ( K_{j,j}^{*} Y_l,0 ; Y_l,0 )_L^2(surface sphere radius r)\n",
      "    where K_{j,j}^{*} has normals from in to out of the sphere, and with\n",
      "    Helmholtz kernel.\n",
      "\n",
      "    Parameters\n",
      "    ----------\n",
      "    big_l : int\n",
      "        >= 0, max degree.\n",
      "    r : float\n",
      "        > 0, radius.\n",
      "    k : float\n",
      "        wave number.\n",
      "\n",
      "    Returns\n",
      "    -------\n",
      "    k_jj : np.ndarray\n",
      "        with complex values, length (big_l+1). See the section notes for\n",
      "        the ordering of the array.\n",
      "\n",
      "    \n"
     ]
    }
   ],
   "source": [
    "print(selfinteractions.k_1_jj_azimuthal_symmetry.__doc__)"
   ]
  },
  {
   "cell_type": "markdown",
   "id": "6fa91571-ad72-4cc7-b136-61887f126a1a",
   "metadata": {
    "jp-MarkdownHeadingCollapsed": true
   },
   "source": [
    "### Example"
   ]
  },
  {
   "cell_type": "markdown",
   "id": "7da8b1b6",
   "metadata": {},
   "source": [
    "Definition of parameters:"
   ]
  },
  {
   "cell_type": "code",
   "execution_count": 12,
   "id": "d1f8729f-66ef-4979-ac9a-d601bb77a724",
   "metadata": {},
   "outputs": [],
   "source": [
    "r = 2.5\n",
    "big_l = 50\n",
    "k = 7."
   ]
  },
  {
   "cell_type": "markdown",
   "id": "124e18ba",
   "metadata": {},
   "source": [
    "Calling of the function:"
   ]
  },
  {
   "cell_type": "code",
   "execution_count": 13,
   "id": "9f243486-8ca6-45e1-adb3-7bd247227358",
   "metadata": {},
   "outputs": [],
   "source": [
    "k_1_jj = selfinteractions.k_1_jj_azimuthal_symmetry(big_l, r, k)"
   ]
  },
  {
   "cell_type": "markdown",
   "id": "ae9b6024",
   "metadata": {},
   "source": [
    "Plotting the values:"
   ]
  },
  {
   "cell_type": "code",
   "execution_count": 14,
   "id": "8731be42-e4b9-463e-9895-9d4134b7efd8",
   "metadata": {},
   "outputs": [
    {
     "data": {
      "image/png": "[encoded data removed]",
      "text/plain": [
       "<Figure size 640x480 with 1 Axes>"
      ]
     },
     "metadata": {},
     "output_type": "display_data"
    }
   ],
   "source": [
    "plt.figure()\n",
    "plt.plot(\n",
    "    np.real(k_1_jj),\n",
    "    marker='x',\n",
    "    label='Real part of K'\n",
    ")\n",
    "plt.plot(\n",
    "    np.imag(k_1_jj),\n",
    "    marker='x',\n",
    "    label='Imaginary part of K'\n",
    ")\n",
    "plt.title('K')\n",
    "plt.xlabel('l')\n",
    "plt.legend()\n",
    "plt.show()"
   ]
  },
  {
   "cell_type": "markdown",
   "id": "5576dd05-d209-4d3b-91cd-5dca89292fb7",
   "metadata": {
    "jp-MarkdownHeadingCollapsed": true
   },
   "source": [
    "## `w_jj_azimuthal_symmetry`"
   ]
  },
  {
   "cell_type": "markdown",
   "id": "ca99f112",
   "metadata": {},
   "source": [
    "This function returns a numpy array, which we will call `w`. Its length is `big_l + 1`. Each entry contains\n",
    "$$w[l] = ( W_{j,j}^0 Y_{l,0} , Y_{l,0} )_{L^2(\\mathbb{S_j})} = ( W_{j,j} Y_{l,0} , Y_{l,0} )_{L^2(\\mathbb{S_j})} = i \\tilde{r}_j^4 k_0 j_l(k_0\\tilde{r}_j) h_l^{(1)}(k_0\\tilde{r}_j).$$"
   ]
  },
  {
   "cell_type": "markdown",
   "id": "3058f002-4af4-4ca8-a4b6-8ee658b4241d",
   "metadata": {
    "jp-MarkdownHeadingCollapsed": true
   },
   "source": [
    "### Docstring"
   ]
  },
  {
   "cell_type": "code",
   "execution_count": 15,
   "id": "7b894a08-7126-43d6-8c10-5d48bf4239da",
   "metadata": {},
   "outputs": [
    {
     "name": "stdout",
     "output_type": "stream",
     "text": [
      "\n",
      "    Returns a numpy array with the boundary integral operator W_{j,j}\n",
      "    with Helmholtz kernel evaluated and tested with spherical harmonics\n",
      "    of order 0.\n",
      "\n",
      "    Notes\n",
      "    -----\n",
      "    w[l] = ( W_{j,j} Y_l,0 ; Y_l,0 )_L^2(surface sphere radius r).\n",
      "    = -1j k**3 * r**4 * j_l_d(k r) h_l_d(k r)\n",
      "    for each l such that 0 <= l <= big_l, and with\n",
      "    ( ., .)_L^2(surface sphere radius r): inner product where indicated.\n",
      "    Y_l,0: spherical harmonic degree l, order 0.\n",
      "    j_l_d: derivative of the spherical Bessel function.\n",
      "    h_l_d: derivative of the spherical Hanckel function of first kind.\n",
      "\n",
      "    Parameters\n",
      "    ----------\n",
      "    big_l : int\n",
      "        >= 0, max degree.\n",
      "    r : float\n",
      "        > 0, radius.\n",
      "    k : float\n",
      "        wave number.\n",
      "\n",
      "    Returns\n",
      "    -------\n",
      "    w: np.ndarray\n",
      "        with complex values, length (big_l+1). See the section notes for\n",
      "        the ordering of the array.\n",
      "\n",
      "    \n"
     ]
    }
   ],
   "source": [
    "print(selfinteractions.w_jj_azimuthal_symmetry.__doc__)"
   ]
  },
  {
   "cell_type": "markdown",
   "id": "05f93433-a986-4ca0-adbd-4d046b5fce12",
   "metadata": {
    "jp-MarkdownHeadingCollapsed": true
   },
   "source": [
    "### Example"
   ]
  },
  {
   "cell_type": "markdown",
   "id": "a0c598cd",
   "metadata": {},
   "source": [
    "Definition of parameters:"
   ]
  },
  {
   "cell_type": "code",
   "execution_count": 16,
   "id": "58bc8c62-c2b2-4969-9ccd-4c2722244b07",
   "metadata": {},
   "outputs": [],
   "source": [
    "r = 2.5\n",
    "big_l = 50\n",
    "k = 7."
   ]
  },
  {
   "cell_type": "markdown",
   "id": "46817013",
   "metadata": {},
   "source": [
    "Calling of the function:"
   ]
  },
  {
   "cell_type": "code",
   "execution_count": 17,
   "id": "6ba494a1-b4d7-46f0-9dfc-52b3025ef2e5",
   "metadata": {},
   "outputs": [],
   "source": [
    "w = selfinteractions.w_jj_azimuthal_symmetry(big_l, r, k)"
   ]
  },
  {
   "cell_type": "markdown",
   "id": "1e6f91ec",
   "metadata": {},
   "source": [
    "Plotting of the values:"
   ]
  },
  {
   "cell_type": "code",
   "execution_count": 18,
   "id": "6b3237a0-b403-470a-bba0-7350553fb2b1",
   "metadata": {},
   "outputs": [
    {
     "data": {
      "image/png": "[encoded data removed]",
      "text/plain": [
       "<Figure size 640x480 with 1 Axes>"
      ]
     },
     "metadata": {},
     "output_type": "display_data"
    }
   ],
   "source": [
    "plt.figure()\n",
    "plt.plot(\n",
    "    np.real(w),\n",
    "    marker='x',\n",
    "    label='Real part of W'\n",
    ")\n",
    "plt.plot(\n",
    "    np.imag(w),\n",
    "    marker='x',\n",
    "    label='Imaginary part of W'\n",
    ")\n",
    "plt.title('W')\n",
    "plt.xlabel('l')\n",
    "plt.legend()\n",
    "plt.show()"
   ]
  },
  {
   "cell_type": "markdown",
   "id": "2506f0b0-7999-4f2d-a518-6fa524e6d36a",
   "metadata": {
    "jp-MarkdownHeadingCollapsed": true
   },
   "source": [
    "## `bio_jj`"
   ]
  },
  {
   "cell_type": "markdown",
   "id": "b94b55e5-4a0a-4546-a9e1-bddc917fcb3e",
   "metadata": {
    "jp-MarkdownHeadingCollapsed": true
   },
   "source": [
    "### Docstring"
   ]
  },
  {
   "cell_type": "code",
   "execution_count": 19,
   "id": "69c93056-b429-4f38-afdf-929daa595ca3",
   "metadata": {},
   "outputs": [
    {
     "name": "stdout",
     "output_type": "stream",
     "text": [
      "\n",
      "    Returns a numpy array with the corresponding boundary integral\n",
      "    operator from the function bio_azimuthal with Helmholtz kernel\n",
      "    evaluated and tested with spherical harmonics of all orders.\n",
      "\n",
      "    Notes\n",
      "    -----\n",
      "    D[l*(2l+1) + m] = (D_{j,j}Y_l,m;Y_l,m)_L^2(surface sphere radius r).\n",
      "    which in this case is equal to\n",
      "    = D[l*(2l+1)]\n",
      "    for each l such that 0 <= l <= big_l, and with\n",
      "    ( ., .)_L^2(surface sphere radius r): inner product where indicated.\n",
      "    D: boundary integral operator corresponding to the function\n",
      "       bio_azimuthal\n",
      "    Y_l,m: spherical harmonic degree l, order m.\n",
      "\n",
      "    Parameters\n",
      "    ----------\n",
      "    big_l : int\n",
      "        >= 0, max degree.\n",
      "    r : float\n",
      "        > 0, radius.\n",
      "    k : float\n",
      "        wave number.\n",
      "    bio_azimuthal : Callable[[int, float, float]\n",
      "        python function for computing the operator for m = 0. Must be\n",
      "        one of the functions written before this one.\n",
      "\n",
      "    Returns\n",
      "    -------\n",
      "    np.ndarray\n",
      "        with complex values, length (big_l+1)**2. See the section notes\n",
      "        for the ordering of the array.\n",
      "\n",
      "    \n"
     ]
    }
   ],
   "source": [
    "print(selfinteractions.bio_jj.__doc__)"
   ]
  },
  {
   "cell_type": "markdown",
   "id": "10639492-7b74-4372-8dcf-dee6e41a62ac",
   "metadata": {
    "jp-MarkdownHeadingCollapsed": true
   },
   "source": [
    "### Example"
   ]
  },
  {
   "cell_type": "markdown",
   "id": "0c7952a0",
   "metadata": {},
   "source": [
    "Definition of the parameters:"
   ]
  },
  {
   "cell_type": "code",
   "execution_count": 20,
   "id": "e3bb07d7-fb53-452f-ae34-e51c76a16bd4",
   "metadata": {},
   "outputs": [],
   "source": [
    "r = 2.5\n",
    "big_l = 3\n",
    "k = 7.\n",
    "operator = selfinteractions.w_jj_azimuthal_symmetry"
   ]
  },
  {
   "cell_type": "markdown",
   "id": "c40ce5a7",
   "metadata": {},
   "source": [
    "Calling of the function:"
   ]
  },
  {
   "cell_type": "code",
   "execution_count": 21,
   "id": "3b2e6864-80b3-4385-b3d3-c725afbd46fc",
   "metadata": {},
   "outputs": [],
   "source": [
    "full = selfinteractions.bio_jj(big_l, r, k, operator)"
   ]
  },
  {
   "cell_type": "code",
   "execution_count": 22,
   "id": "4c82cadb-fba9-4941-90a7-80d20b25fae6",
   "metadata": {},
   "outputs": [
    {
     "name": "stdout",
     "output_type": "stream",
     "text": [
      "[-11.59514193 -3.3131677j   13.61117226-39.00171561j\n",
      "  13.61117226-39.00171561j  13.61117226-39.00171561j\n",
      " -17.04878169 -8.25398472j -17.04878169 -8.25398472j\n",
      " -17.04878169 -8.25398472j -17.04878169 -8.25398472j\n",
      " -17.04878169 -8.25398472j  20.40932274-28.34521185j\n",
      "  20.40932274-28.34521185j  20.40932274-28.34521185j\n",
      "  20.40932274-28.34521185j  20.40932274-28.34521185j\n",
      "  20.40932274-28.34521185j  20.40932274-28.34521185j]\n"
     ]
    }
   ],
   "source": [
    "print(full)"
   ]
  },
  {
   "cell_type": "markdown",
   "id": "4939646f-fad4-47fb-af82-ce68d228befd",
   "metadata": {
    "jp-MarkdownHeadingCollapsed": true
   },
   "source": [
    "## `a_0j_matrix`"
   ]
  },
  {
   "cell_type": "markdown",
   "id": "d9359b04-e322-4673-845f-9346fd8b1286",
   "metadata": {
    "jp-MarkdownHeadingCollapsed": true
   },
   "source": [
    "### Docstring"
   ]
  },
  {
   "cell_type": "code",
   "execution_count": 23,
   "id": "9783fb36-b886-41ae-a0d1-35c4e228d855",
   "metadata": {},
   "outputs": [
    {
     "name": "stdout",
     "output_type": "stream",
     "text": [
      "\n",
      "    Returns a numpy array that represents the following matrix boundary\n",
      "    integral operator\n",
      "    A_{j,j}^0 = [ -K_{j,j}^0 , V_{j,j}^0  ]\n",
      "                [  W_{j,j}^0 , K*_{j,j}^0 ]\n",
      "    with Helmholtz kernel evaluated and tested with spherical harmonics\n",
      "    of order 0 if azimuthal = True, or all orders if azimuthal = False.\n",
      "\n",
      "    Each block is a diagonal matrix.\n",
      "\n",
      "    Parameters\n",
      "    ----------\n",
      "    big_l : int\n",
      "        >= 0, max degree.\n",
      "    r : float\n",
      "        > 0, radius.\n",
      "    k : float\n",
      "        wave number.\n",
      "    azimuthal : bool\n",
      "        Default True.\n",
      "\n",
      "    Returns\n",
      "    -------\n",
      "    matrix_0j : np.ndarray\n",
      "        with complex values.\n",
      "        If azimuthal = True\n",
      "            Shape (2*(big_l+1), 2*(big_l+1))\n",
      "        Else\n",
      "            Shape (2*(big_l+1)**2, 2*(big_l+1)**2)\n",
      "\n",
      "    See Also\n",
      "    --------\n",
      "    a_0j_linear_operator\n",
      "    v_jj_azimuthal_symmetry\n",
      "    k_0_jj_azimuthal_symmetry\n",
      "    w_jj_azimuthal_symmetry\n",
      "    bio_jj\n",
      "\n",
      "    \n"
     ]
    }
   ],
   "source": [
    "print(selfinteractions.a_0j_matrix.__doc__)"
   ]
  },
  {
   "cell_type": "markdown",
   "id": "0493810d-8eb9-4f80-91c1-be2c797bbaac",
   "metadata": {
    "jp-MarkdownHeadingCollapsed": true
   },
   "source": [
    "### Example"
   ]
  },
  {
   "cell_type": "markdown",
   "id": "704d2506",
   "metadata": {},
   "source": [
    "Definition of the parameters:"
   ]
  },
  {
   "cell_type": "code",
   "execution_count": 24,
   "id": "273d7cc4-b753-425d-ae1f-77541c88570a",
   "metadata": {},
   "outputs": [],
   "source": [
    "r = 2.5\n",
    "big_l = 2\n",
    "k = 7."
   ]
  },
  {
   "cell_type": "markdown",
   "id": "6414a768",
   "metadata": {},
   "source": [
    "Calling of the function with `azimuthal = True`:"
   ]
  },
  {
   "cell_type": "code",
   "execution_count": 25,
   "id": "1ac1c466-314a-4faa-bd97-aac018eed5be",
   "metadata": {},
   "outputs": [],
   "source": [
    "a_0j = selfinteractions.a_0j_matrix(big_l, r, k) # azimuthal = True"
   ]
  },
  {
   "cell_type": "markdown",
   "id": "2b6457e6",
   "metadata": {},
   "source": [
    "Plotting of the values:"
   ]
  },
  {
   "cell_type": "code",
   "execution_count": 26,
   "id": "ddb000d0-e54c-40ef-b7d6-233e03ffb04f",
   "metadata": {},
   "outputs": [
    {
     "data": {
      "text/plain": [
       "<matplotlib.colorbar.Colorbar at 0x1cb59c95100>"
      ]
     },
     "execution_count": 26,
     "metadata": {},
     "output_type": "execute_result"
    },
    {
     "data": {
      "image/png": "[encoded data removed]",
      "text/plain": [
       "<Figure size 652.8x326.4 with 4 Axes>"
      ]
     },
     "metadata": {},
     "output_type": "display_data"
    }
   ],
   "source": [
    "fig = plt.figure(figsize=plt.figaspect(.5), dpi=68., layout='constrained')\n",
    "ax_1 = fig.add_subplot(121)\n",
    "ax_1.set_title(\"Real part of a_0j\")\n",
    "ax_1.imshow(np.real(a_0j), vmin=np.min(np.real(a_0j)), vmax=np.max(np.real(a_0j)))\n",
    "fig.colorbar(cm.ScalarMappable(norm=colors.Normalize(vmin=np.min(np.real(a_0j)), vmax=np.max(np.real(a_0j)))), ax=ax_1, orientation=\"horizontal\", shrink=0.75)\n",
    "ax_1 = fig.add_subplot(122)\n",
    "ax_1.imshow(np.imag(a_0j), vmin=np.min(np.imag(a_0j)), vmax=np.max(np.imag(a_0j)))\n",
    "ax_1.set_title(\"Imaginary part of a_0j\")\n",
    "fig.colorbar(cm.ScalarMappable(norm=colors.Normalize(vmin=np.min(np.imag(a_0j)), vmax=np.max(np.imag(a_0j)))), ax=ax_1, orientation=\"horizontal\", shrink=0.75)"
   ]
  },
  {
   "cell_type": "markdown",
   "id": "8a46ccb0",
   "metadata": {},
   "source": [
    "Calling of the function with `azimuthal = False`:"
   ]
  },
  {
   "cell_type": "code",
   "execution_count": 27,
   "id": "3c6a823c-f28b-4295-98cb-b5d62288f369",
   "metadata": {},
   "outputs": [],
   "source": [
    "a_0j = selfinteractions.a_0j_matrix(big_l, r, k, azimuthal=False)"
   ]
  },
  {
   "cell_type": "markdown",
   "id": "31a5625f",
   "metadata": {},
   "source": [
    "Plotting of the values:"
   ]
  },
  {
   "cell_type": "code",
   "execution_count": 28,
   "id": "d3b5afde-c314-4eb8-a4a9-06f32b093e20",
   "metadata": {
    "scrolled": true
   },
   "outputs": [
    {
     "data": {
      "text/plain": [
       "<matplotlib.colorbar.Colorbar at 0x1cb5c67a0d0>"
      ]
     },
     "execution_count": 28,
     "metadata": {},
     "output_type": "execute_result"
    },
    {
     "data": {
      "image/png": "[encoded data removed]",
      "text/plain": [
       "<Figure size 652.8x326.4 with 4 Axes>"
      ]
     },
     "metadata": {},
     "output_type": "display_data"
    }
   ],
   "source": [
    "fig = plt.figure(figsize=plt.figaspect(.5), dpi=68., layout='constrained')\n",
    "ax_1 = fig.add_subplot(121)\n",
    "ax_1.set_title(\"Real part of a_0j\")\n",
    "ax_1.imshow(np.real(a_0j), vmin=np.min(np.real(a_0j)), vmax=np.max(np.real(a_0j)))\n",
    "fig.colorbar(cm.ScalarMappable(norm=colors.Normalize(vmin=np.min(np.real(a_0j)), vmax=np.max(np.real(a_0j)))), ax=ax_1, orientation=\"horizontal\", shrink=0.75)\n",
    "ax_1 = fig.add_subplot(122)\n",
    "ax_1.imshow(np.imag(a_0j), vmin=np.min(np.imag(a_0j)), vmax=np.max(np.imag(a_0j)))\n",
    "ax_1.set_title(\"Imaginary part of a_0j\")\n",
    "fig.colorbar(cm.ScalarMappable(norm=colors.Normalize(vmin=np.min(np.imag(a_0j)), vmax=np.max(np.imag(a_0j)))), ax=ax_1, orientation=\"horizontal\", shrink=0.75)"
   ]
  },
  {
   "cell_type": "markdown",
   "id": "74758bd0-1325-4cd8-aaea-25ce678ea667",
   "metadata": {
    "jp-MarkdownHeadingCollapsed": true
   },
   "source": [
    "## `a_j_matrix`"
   ]
  },
  {
   "cell_type": "markdown",
   "id": "0c4d8ff5-97f4-4c65-ba65-3dc19b7b5356",
   "metadata": {
    "jp-MarkdownHeadingCollapsed": true
   },
   "source": [
    "### Docstring"
   ]
  },
  {
   "cell_type": "code",
   "execution_count": 29,
   "id": "56708e7d-8fad-46d8-a5d1-8c9047aec9f3",
   "metadata": {},
   "outputs": [
    {
     "name": "stdout",
     "output_type": "stream",
     "text": [
      "\n",
      "    Returns a numpy array that represents the following matrix boundary\n",
      "    integral operator\n",
      "    A_{j,j}^0 = [ -K_{j,j} , V_{j,j}  ]\n",
      "                [  W_{j,j} , K*_{j,j} ]\n",
      "    with Helmholtz kernel evaluated and tested with spherical harmonics\n",
      "    of order 0 if azimuthal = True, or all orders if azimuthal = False.\n",
      "\n",
      "    Each block is a diagonal matrix.\n",
      "\n",
      "    Parameters\n",
      "    ----------\n",
      "    big_l : int\n",
      "        >= 0, max degree.\n",
      "    r : float\n",
      "        > 0, radius.\n",
      "    k : float\n",
      "        wave number.\n",
      "    azimuthal : bool\n",
      "        Default True.\n",
      "\n",
      "    Returns\n",
      "    -------\n",
      "    matrix_j : np.ndarray\n",
      "        with complex values.\n",
      "        If azimuthal = True\n",
      "            Shape (2*(big_l+1), 2*(big_l+1))\n",
      "        Else\n",
      "            Shape (2*(big_l+1)**2, 2*(big_l+1)**2)\n",
      "\n",
      "    See Also\n",
      "    --------\n",
      "    a_j_linear_operator\n",
      "    v_jj_azimuthal_symmetry\n",
      "    k_1_jj_azimuthal_symmetry\n",
      "    w_jj_azimuthal_symmetry\n",
      "    bio_jj\n",
      "\n",
      "    \n"
     ]
    }
   ],
   "source": [
    "print(selfinteractions.a_j_matrix.__doc__)"
   ]
  },
  {
   "cell_type": "markdown",
   "id": "f256b53d-77c6-4e7b-b61b-f0364c2b5b52",
   "metadata": {
    "jp-MarkdownHeadingCollapsed": true
   },
   "source": [
    "### Example"
   ]
  },
  {
   "cell_type": "markdown",
   "id": "55c7f201",
   "metadata": {},
   "source": [
    "Definition of the parameters:"
   ]
  },
  {
   "cell_type": "code",
   "execution_count": 30,
   "id": "49954cfc-0a98-484d-a538-2c46a154570e",
   "metadata": {},
   "outputs": [],
   "source": [
    "r = 2.5\n",
    "big_l = 2\n",
    "k = 7."
   ]
  },
  {
   "cell_type": "markdown",
   "id": "ed5b004e",
   "metadata": {},
   "source": [
    "Calling of the function with `azimuthal = True`:"
   ]
  },
  {
   "cell_type": "code",
   "execution_count": 31,
   "id": "bc1b8810-ef05-4c6a-afbe-1755e71f3470",
   "metadata": {},
   "outputs": [],
   "source": [
    "a_j = selfinteractions.a_j_matrix(big_l, r, k) # azimuthal = True"
   ]
  },
  {
   "cell_type": "markdown",
   "id": "97aeaa6d",
   "metadata": {},
   "source": [
    "Plotting of the values:"
   ]
  },
  {
   "cell_type": "code",
   "execution_count": 32,
   "id": "ac675f20-5fd1-4655-923c-8494cd76d242",
   "metadata": {},
   "outputs": [
    {
     "data": {
      "text/plain": [
       "<matplotlib.colorbar.Colorbar at 0x1cb5d7edfa0>"
      ]
     },
     "execution_count": 32,
     "metadata": {},
     "output_type": "execute_result"
    },
    {
     "data": {
      "image/png": "[encoded data removed]",
      "text/plain": [
       "<Figure size 652.8x326.4 with 4 Axes>"
      ]
     },
     "metadata": {},
     "output_type": "display_data"
    }
   ],
   "source": [
    "fig = plt.figure(figsize=plt.figaspect(.5), dpi=68., layout='constrained')\n",
    "ax_1 = fig.add_subplot(121)\n",
    "ax_1.set_title(\"Real part of a_j\")\n",
    "ax_1.imshow(np.real(a_j), vmin=np.min(np.real(a_j)), vmax=np.max(np.real(a_j)))\n",
    "fig.colorbar(cm.ScalarMappable(norm=colors.Normalize(vmin=np.min(np.real(a_j)), vmax=np.max(np.real(a_j)))), ax=ax_1, orientation=\"horizontal\", shrink=0.75)\n",
    "ax_1 = fig.add_subplot(122)\n",
    "ax_1.imshow(np.imag(a_j), vmin=np.min(np.imag(a_j)), vmax=np.max(np.imag(a_j)))\n",
    "ax_1.set_title(\"Imaginary part of a_j\")\n",
    "fig.colorbar(cm.ScalarMappable(norm=colors.Normalize(vmin=np.min(np.imag(a_j)), vmax=np.max(np.imag(a_j)))), ax=ax_1, orientation=\"horizontal\", shrink=0.75)"
   ]
  },
  {
   "cell_type": "markdown",
   "id": "a6ff4ba0",
   "metadata": {},
   "source": [
    "Calling of the function with `azimuthal = False`:"
   ]
  },
  {
   "cell_type": "code",
   "execution_count": 33,
   "id": "41caa6dd-02e0-4171-b51f-ee0906b5b871",
   "metadata": {},
   "outputs": [],
   "source": [
    "a_j = selfinteractions.a_j_matrix(big_l, r, k, azimuthal=False)"
   ]
  },
  {
   "cell_type": "markdown",
   "id": "312603e1",
   "metadata": {},
   "source": [
    "Plotting of the values:"
   ]
  },
  {
   "cell_type": "code",
   "execution_count": 34,
   "id": "e5971046-5cfe-4124-b3a7-79804c0f862e",
   "metadata": {},
   "outputs": [
    {
     "data": {
      "text/plain": [
       "<matplotlib.colorbar.Colorbar at 0x1cb5d9a5700>"
      ]
     },
     "execution_count": 34,
     "metadata": {},
     "output_type": "execute_result"
    },
    {
     "data": {
      "image/png": "[encoded data removed]",
      "text/plain": [
       "<Figure size 652.8x326.4 with 4 Axes>"
      ]
     },
     "metadata": {},
     "output_type": "display_data"
    }
   ],
   "source": [
    "fig = plt.figure(figsize=plt.figaspect(.5), dpi=68., layout='constrained')\n",
    "ax_1 = fig.add_subplot(121)\n",
    "ax_1.set_title(\"Real part of a_j\")\n",
    "ax_1.imshow(np.real(a_j), vmin=np.min(np.real(a_j)), vmax=np.max(np.real(a_j)))\n",
    "fig.colorbar(cm.ScalarMappable(norm=colors.Normalize(vmin=np.min(np.real(a_j)), vmax=np.max(np.real(a_j)))), ax=ax_1, orientation=\"horizontal\", shrink=0.75)\n",
    "ax_1 = fig.add_subplot(122)\n",
    "ax_1.imshow(np.imag(a_j), vmin=np.min(np.imag(a_j)), vmax=np.max(np.imag(a_j)))\n",
    "ax_1.set_title(\"Imaginary part of a_j\")\n",
    "fig.colorbar(cm.ScalarMappable(norm=colors.Normalize(vmin=np.min(np.imag(a_j)), vmax=np.max(np.imag(a_j)))), ax=ax_1, orientation=\"horizontal\", shrink=0.75)"
   ]
  },
  {
   "cell_type": "markdown",
   "id": "38f6dfd0-92a8-45c1-bade-e6ba89483de7",
   "metadata": {
    "jp-MarkdownHeadingCollapsed": true
   },
   "source": [
    "## `a_0j_linear_operator`"
   ]
  },
  {
   "cell_type": "markdown",
   "id": "728d207e-6cef-4af8-b41b-7fa2f6d44338",
   "metadata": {
    "jp-MarkdownHeadingCollapsed": true
   },
   "source": [
    "### Docstring"
   ]
  },
  {
   "cell_type": "code",
   "execution_count": 35,
   "id": "b5eb0142-9d7d-4ae3-8ba3-0ece2abca37f",
   "metadata": {},
   "outputs": [
    {
     "name": "stdout",
     "output_type": "stream",
     "text": [
      "\n",
      "    Returns a scipy linear operator equivalent to the given by\n",
      "    a_0j_matrix.\n",
      "\n",
      "    Parameters\n",
      "    ----------\n",
      "    big_l : int\n",
      "        >= 0, max degree.\n",
      "    r : float\n",
      "        > 0, radius.\n",
      "    k : float\n",
      "        wave number.\n",
      "    azimuthal : bool\n",
      "        Default True\n",
      "\n",
      "    Returns\n",
      "    -------\n",
      "    linear_operator : sparse.linalg.LinearOperator\n",
      "        a scipy linear operator.\n",
      "\n",
      "    See Also\n",
      "    --------\n",
      "    a_0j_matrix\n",
      "\n",
      "    \n"
     ]
    }
   ],
   "source": [
    "print(selfinteractions.a_0j_linear_operator.__doc__)"
   ]
  },
  {
   "cell_type": "markdown",
   "id": "f9883998-59bc-43de-bc4a-45392c8f3793",
   "metadata": {
    "jp-MarkdownHeadingCollapsed": true
   },
   "source": [
    "### Examples"
   ]
  },
  {
   "cell_type": "markdown",
   "id": "ac6e11e9-7bfe-482a-87c1-87840581b9ee",
   "metadata": {
    "jp-MarkdownHeadingCollapsed": true
   },
   "source": [
    "#### Simpler example"
   ]
  },
  {
   "cell_type": "markdown",
   "id": "53d10aca",
   "metadata": {},
   "source": [
    "Definition of parameters:"
   ]
  },
  {
   "cell_type": "code",
   "execution_count": 36,
   "id": "86fe76cb-4ead-4166-819d-bbb33a3b7baa",
   "metadata": {},
   "outputs": [],
   "source": [
    "r = 2.5\n",
    "big_l = 2\n",
    "k = 7."
   ]
  },
  {
   "cell_type": "markdown",
   "id": "1e53be94",
   "metadata": {},
   "source": [
    "Calling of the function with `azimuthal = True`:"
   ]
  },
  {
   "cell_type": "code",
   "execution_count": 37,
   "id": "cb52571e-700e-4596-9eb4-9e53bd10ee33",
   "metadata": {},
   "outputs": [],
   "source": [
    "a_0j = selfinteractions.a_0j_linear_operator(big_l, r, k) # azimuthal = True"
   ]
  },
  {
   "cell_type": "markdown",
   "id": "9cedc3f1",
   "metadata": {},
   "source": [
    "Calling of the function with `azimuthal = False`:"
   ]
  },
  {
   "cell_type": "code",
   "execution_count": 38,
   "id": "43ef8434-2d89-41d5-805d-cb6d964271b0",
   "metadata": {},
   "outputs": [],
   "source": [
    "a_0j = selfinteractions.a_0j_matrix(big_l, r, k, azimuthal = False)"
   ]
  },
  {
   "cell_type": "markdown",
   "id": "a5368475-9f96-4456-932c-eb7a7bbb1acb",
   "metadata": {
    "jp-MarkdownHeadingCollapsed": true
   },
   "source": [
    "#### Comparing with the matrix version"
   ]
  },
  {
   "cell_type": "markdown",
   "id": "02097680",
   "metadata": {},
   "source": [
    "Definition of parameters:"
   ]
  },
  {
   "cell_type": "code",
   "execution_count": 39,
   "id": "94f99b4c-5f85-469c-9931-ce2722c334c3",
   "metadata": {},
   "outputs": [],
   "source": [
    "big_l = 10\n",
    "r = 0.3\n",
    "k = 1.3\n",
    "tole = 10.**-10"
   ]
  },
  {
   "cell_type": "markdown",
   "id": "afd3dbb8",
   "metadata": {},
   "source": [
    "Initialization of a random vector as right hand side:"
   ]
  },
  {
   "cell_type": "code",
   "execution_count": 40,
   "id": "4922b5de-212d-4907-b3cb-c079d5972bbf",
   "metadata": {},
   "outputs": [],
   "source": [
    "num = big_l + 1\n",
    "b = np.random.random((2 * num)) + 1j * np.random.random((2 * num))"
   ]
  },
  {
   "cell_type": "markdown",
   "id": "4a68044b",
   "metadata": {},
   "source": [
    "Calling of the functions to be compared"
   ]
  },
  {
   "cell_type": "code",
   "execution_count": 41,
   "id": "afb66816-9cc1-4ec1-b5f9-de871199ad11",
   "metadata": {},
   "outputs": [],
   "source": [
    "linear_operator = selfinteractions.a_0j_linear_operator(big_l, r, k) # azimuthal = True\n",
    "matrix = selfinteractions.a_0j_matrix(big_l, r, k) # azimuthal = True"
   ]
  },
  {
   "cell_type": "markdown",
   "id": "4f266511",
   "metadata": {},
   "source": [
    "Solving of the iterative system:"
   ]
  },
  {
   "cell_type": "code",
   "execution_count": 42,
   "id": "f957674a-c03a-4159-abb4-2607871c1b07",
   "metadata": {},
   "outputs": [
    {
     "name": "stdout",
     "output_type": "stream",
     "text": [
      "0\n"
     ]
    }
   ],
   "source": [
    "norms = []\n",
    "    \n",
    "def callback_function(pr_norm):\n",
    "    norms.append(pr_norm)\n",
    "    return 0.\n",
    "\n",
    "solution, info = sparse.linalg.gmres(\n",
    "    linear_operator, b,\n",
    "    tol=tole,\n",
    "    restart=(2 * num)**3,\n",
    "    callback=callback_function,\n",
    "    callback_type='pr_norm')\n",
    "print(info)"
   ]
  },
  {
   "cell_type": "markdown",
   "id": "8d9c4ca0",
   "metadata": {},
   "source": [
    "Solving of the direct system:"
   ]
  },
  {
   "cell_type": "code",
   "execution_count": 43,
   "id": "d0949395-ff13-49a8-81f0-49a4f5773bba",
   "metadata": {},
   "outputs": [],
   "source": [
    "solution2 = np.linalg.solve(matrix, b)"
   ]
  },
  {
   "cell_type": "markdown",
   "id": "f27b66dd",
   "metadata": {},
   "source": [
    "Difference between solutions:"
   ]
  },
  {
   "cell_type": "code",
   "execution_count": 44,
   "id": "a200c0a5-e5e9-41e8-bb73-e0c407a7feda",
   "metadata": {},
   "outputs": [
    {
     "name": "stdout",
     "output_type": "stream",
     "text": [
      "1.9089281166897614e-10\n"
     ]
    }
   ],
   "source": [
    "print(np.linalg.norm(solution2 - solution))"
   ]
  },
  {
   "cell_type": "markdown",
   "id": "81e129b2-be9d-4679-a0bc-37be81293f44",
   "metadata": {},
   "source": [
    "Which means that solving the numpy array from `a_0j_matrix` and the linear operator from `a_0j_linear_operator` can be used to solve the same linear system."
   ]
  },
  {
   "cell_type": "markdown",
   "id": "fce0a18a-d364-4f3a-af31-3baea4800491",
   "metadata": {},
   "source": [
    "Let us see what happens with `azimuthal=False`."
   ]
  },
  {
   "cell_type": "markdown",
   "id": "d54feeca",
   "metadata": {},
   "source": [
    "Definition of parameters:"
   ]
  },
  {
   "cell_type": "code",
   "execution_count": 45,
   "id": "3175dc25-caa1-48c3-a800-56a80aadb4b1",
   "metadata": {},
   "outputs": [],
   "source": [
    "big_l = 10\n",
    "r = 0.3\n",
    "k = 1.3\n",
    "tole = 10.**-5"
   ]
  },
  {
   "cell_type": "markdown",
   "id": "f683ec33",
   "metadata": {},
   "source": [
    "Initialization of a random vector as right hand side:"
   ]
  },
  {
   "cell_type": "code",
   "execution_count": 46,
   "id": "6c3e67fa-1426-4bf1-8486-49b7056acf16",
   "metadata": {},
   "outputs": [],
   "source": [
    "num = (big_l + 1)**2\n",
    "b = np.random.random((2 * num)) + 1j * np.random.random((2 * num))"
   ]
  },
  {
   "cell_type": "markdown",
   "id": "9d310f96",
   "metadata": {},
   "source": [
    "Calling of the functions to be compared"
   ]
  },
  {
   "cell_type": "code",
   "execution_count": 47,
   "id": "cb09e660-55ec-4052-a33c-aca4b959fce9",
   "metadata": {},
   "outputs": [],
   "source": [
    "linear_operator = selfinteractions.a_0j_linear_operator(big_l, r, k, False)\n",
    "matrix = selfinteractions.a_0j_matrix(big_l, r, k, False)"
   ]
  },
  {
   "cell_type": "markdown",
   "id": "072e839c",
   "metadata": {},
   "source": [
    "Solving of the iterative system:"
   ]
  },
  {
   "cell_type": "code",
   "execution_count": 48,
   "id": "a3e2939d-61b9-4db1-b7de-e95727657336",
   "metadata": {},
   "outputs": [
    {
     "name": "stdout",
     "output_type": "stream",
     "text": [
      "0\n"
     ]
    }
   ],
   "source": [
    "norms = []\n",
    "    \n",
    "def callback_function(pr_norm):\n",
    "    norms.append(pr_norm)\n",
    "    return 0.\n",
    "\n",
    "solution, info = sparse.linalg.gmres(\n",
    "    linear_operator, b,\n",
    "    tol=tole,\n",
    "    restart=(2 * num)**3,\n",
    "    callback=callback_function,\n",
    "    callback_type='pr_norm')\n",
    "print(info)"
   ]
  },
  {
   "cell_type": "markdown",
   "id": "64f13dda",
   "metadata": {},
   "source": [
    "Solving of the direct system:"
   ]
  },
  {
   "cell_type": "code",
   "execution_count": 49,
   "id": "041dea07-cbca-4868-aba1-4b9894eb2d97",
   "metadata": {},
   "outputs": [],
   "source": [
    "solution2 = np.linalg.solve(matrix, b)"
   ]
  },
  {
   "cell_type": "markdown",
   "id": "60c8fd2f",
   "metadata": {},
   "source": [
    "Difference between solutions:"
   ]
  },
  {
   "cell_type": "code",
   "execution_count": 50,
   "id": "e4b9ad7f-4d5e-476f-a034-8dc88d8a6867",
   "metadata": {},
   "outputs": [
    {
     "name": "stdout",
     "output_type": "stream",
     "text": [
      "9.780390677489698e-12\n"
     ]
    }
   ],
   "source": [
    "print(np.linalg.norm(solution2 - solution))"
   ]
  },
  {
   "cell_type": "markdown",
   "id": "476cc369-1177-4ab7-9ccd-a6c4db1f8553",
   "metadata": {
    "jp-MarkdownHeadingCollapsed": true
   },
   "source": [
    "#### Comparing the azimuthal version against the no azimuthal"
   ]
  },
  {
   "cell_type": "markdown",
   "id": "b844251f-5306-4a8e-8cb8-e141d55c8b5f",
   "metadata": {},
   "source": [
    "For a right hand with azimuthal symmetry when extended by 0 to  explicitly compute the result without considering the symmetry, the result should be the same with the azimuthal and the not azimuth versions."
   ]
  },
  {
   "cell_type": "markdown",
   "id": "bdcf0c0d",
   "metadata": {},
   "source": [
    "Definition of parameters:"
   ]
  },
  {
   "cell_type": "code",
   "execution_count": 51,
   "id": "7d867590-2dce-4492-a8a8-4f2c665a7fa5",
   "metadata": {},
   "outputs": [],
   "source": [
    "big_l = 10\n",
    "r = 1.3\n",
    "k = 2\n",
    "tole = 10.**-7"
   ]
  },
  {
   "cell_type": "markdown",
   "id": "2c52259d",
   "metadata": {},
   "source": [
    "Initialization of a random vector as right hand side, and its extension by zero:"
   ]
  },
  {
   "cell_type": "code",
   "execution_count": 52,
   "id": "fafd2c29-1d5b-4f51-a0f0-cbb8f405462a",
   "metadata": {},
   "outputs": [],
   "source": [
    "import biosspheres.miscella.extensions as righthandsextensions\n",
    "num = big_l + 1\n",
    "b = np.random.random((2 * num)) + 1j * np.random.random((2 * num))\n",
    "b_2_1 = righthandsextensions.azimuthal_trace_to_general_with_zeros(\n",
    "    big_l, b[0:num])\n",
    "b_2_2 = righthandsextensions.azimuthal_trace_to_general_with_zeros(\n",
    "    big_l, b[num:2 * num])\n",
    "b2 = np.concatenate((b_2_1, b_2_2))"
   ]
  },
  {
   "cell_type": "markdown",
   "id": "a196874c",
   "metadata": {},
   "source": [
    "Calling of the function with `azimuthal=False`:"
   ]
  },
  {
   "cell_type": "code",
   "execution_count": 53,
   "id": "5f7b93d9-1a9c-4324-ad69-66c11947eb43",
   "metadata": {},
   "outputs": [],
   "source": [
    "linear_operator = selfinteractions.a_0j_linear_operator(big_l, r, k, False)"
   ]
  },
  {
   "cell_type": "markdown",
   "id": "4de8fac5",
   "metadata": {},
   "source": [
    "Solving of the iterative system:"
   ]
  },
  {
   "cell_type": "code",
   "execution_count": 54,
   "id": "85ac05a7-9d93-4094-88cf-8b55c29ef513",
   "metadata": {},
   "outputs": [
    {
     "name": "stdout",
     "output_type": "stream",
     "text": [
      "0\n"
     ]
    }
   ],
   "source": [
    "num = (big_l + 1)**2\n",
    "\n",
    "norms = []\n",
    "    \n",
    "def callback_function(pr_norm):\n",
    "    norms.append(pr_norm)\n",
    "    return 0.\n",
    "\n",
    "solution, info = sparse.linalg.gmres(\n",
    "    linear_operator, b2,\n",
    "    tol=tole,\n",
    "    restart=(2 * num)**2,\n",
    "    callback=callback_function,\n",
    "    callback_type='pr_norm')\n",
    "print(info)"
   ]
  },
  {
   "cell_type": "markdown",
   "id": "9f38d1a2",
   "metadata": {},
   "source": [
    "Calling of the function with `azimuthal=True`:"
   ]
  },
  {
   "cell_type": "code",
   "execution_count": 55,
   "id": "c3033d19-4f34-4834-9625-2b72412a4537",
   "metadata": {},
   "outputs": [],
   "source": [
    "linear_operator = selfinteractions.a_0j_linear_operator(big_l, r, k) # azimuthal = True"
   ]
  },
  {
   "cell_type": "markdown",
   "id": "ffadf7e5",
   "metadata": {},
   "source": [
    "Solving of the iterative system:"
   ]
  },
  {
   "cell_type": "code",
   "execution_count": 56,
   "id": "d743fb4a-fa42-4145-98b7-816863aa8572",
   "metadata": {},
   "outputs": [
    {
     "name": "stdout",
     "output_type": "stream",
     "text": [
      "0\n"
     ]
    }
   ],
   "source": [
    "num = big_l + 1\n",
    "\n",
    "norms = []\n",
    "    \n",
    "def callback_function(pr_norm):\n",
    "    norms.append(pr_norm)\n",
    "    return 0.\n",
    "\n",
    "solution2, info = sparse.linalg.gmres(\n",
    "    linear_operator, b,\n",
    "    tol=tole,\n",
    "    restart=(2 * num)**2,\n",
    "    callback=callback_function,\n",
    "    callback_type='pr_norm',\n",
    ")\n",
    "print(info)"
   ]
  },
  {
   "cell_type": "markdown",
   "id": "21af9dbe",
   "metadata": {},
   "source": [
    "Comparison of the solutions:"
   ]
  },
  {
   "cell_type": "code",
   "execution_count": 57,
   "id": "edcf3798-2ff3-4343-ad29-51ffb9db4060",
   "metadata": {},
   "outputs": [],
   "source": [
    "solution2_1 = \\\n",
    "    righthandsextensions.azimuthal_trace_to_general_with_zeros(\n",
    "        big_l, solution2[0:num])\n",
    "solution2_2 = \\\n",
    "    righthandsextensions.azimuthal_trace_to_general_with_zeros(\n",
    "        big_l, solution2[num:2 * num])\n",
    "solution2 = np.concatenate((solution2_1, solution2_2))"
   ]
  },
  {
   "cell_type": "code",
   "execution_count": 58,
   "id": "e454d8b0-fa88-4065-9e42-1dbadee576e2",
   "metadata": {},
   "outputs": [
    {
     "name": "stdout",
     "output_type": "stream",
     "text": [
      "2.1811817277164032e-10\n"
     ]
    }
   ],
   "source": [
    "print(np.linalg.norm(solution2 - solution))"
   ]
  },
  {
   "cell_type": "markdown",
   "id": "f924affa-8d97-4862-8e39-a25fe4c46b2c",
   "metadata": {
    "jp-MarkdownHeadingCollapsed": true
   },
   "source": [
    "## `a_j_linear_operator`"
   ]
  },
  {
   "cell_type": "markdown",
   "id": "ef350f4d-5ea5-43fb-b7f2-0c97885b2295",
   "metadata": {
    "jp-MarkdownHeadingCollapsed": true
   },
   "source": [
    "### Docstring"
   ]
  },
  {
   "cell_type": "code",
   "execution_count": 59,
   "id": "2ba06b69-45d8-4f79-b2df-0ffda47130e9",
   "metadata": {},
   "outputs": [
    {
     "name": "stdout",
     "output_type": "stream",
     "text": [
      "\n",
      "    Returns a scipy linear operator equivalent to the given by\n",
      "    a_j_matrix.\n",
      "\n",
      "    Parameters\n",
      "    ----------\n",
      "    big_l : int\n",
      "        >= 0, max degree.\n",
      "    r : float\n",
      "        > 0, radius.\n",
      "    k : float\n",
      "        wave number.\n",
      "    azimuthal : bool\n",
      "        Default True.\n",
      "\n",
      "    Returns\n",
      "    -------\n",
      "    linear_operator : sparse.linalg.LinearOperator\n",
      "        a scipy linear operator.\n",
      "\n",
      "    See Also\n",
      "    --------\n",
      "    a_j_matrix\n",
      "\n",
      "    \n"
     ]
    }
   ],
   "source": [
    "print(selfinteractions.a_j_linear_operator.__doc__)"
   ]
  },
  {
   "cell_type": "markdown",
   "id": "cb7659fa-c797-41e8-9548-0cfee59f85f1",
   "metadata": {
    "jp-MarkdownHeadingCollapsed": true
   },
   "source": [
    "### Examples"
   ]
  },
  {
   "cell_type": "markdown",
   "id": "cd66a185-2715-4421-b20c-6f4911da89db",
   "metadata": {
    "jp-MarkdownHeadingCollapsed": true
   },
   "source": [
    "#### Simple example"
   ]
  },
  {
   "cell_type": "markdown",
   "id": "1c6a6536",
   "metadata": {},
   "source": [
    "Definition of parameters:"
   ]
  },
  {
   "cell_type": "code",
   "execution_count": 60,
   "id": "4b82db0a-2d0b-4a37-bbd8-94f2dddecc11",
   "metadata": {},
   "outputs": [],
   "source": [
    "r = 2.5\n",
    "big_l = 2\n",
    "k = 7."
   ]
  },
  {
   "cell_type": "markdown",
   "id": "42f53579",
   "metadata": {},
   "source": [
    "Calling of the function with `azimuthal=True`:"
   ]
  },
  {
   "cell_type": "code",
   "execution_count": 61,
   "id": "5a8e71d4-fcdc-4016-a7f5-322256a96e75",
   "metadata": {},
   "outputs": [],
   "source": [
    "a_0j = selfinteractions.a_0j_linear_operator(big_l, r, k) # azimuthal = True"
   ]
  },
  {
   "cell_type": "markdown",
   "id": "dbf23342",
   "metadata": {},
   "source": [
    "Calling of the function with `azimuthal=False`:"
   ]
  },
  {
   "cell_type": "code",
   "execution_count": 62,
   "id": "2ed032dc-1a74-41df-8d5d-a8553cd53ce8",
   "metadata": {},
   "outputs": [],
   "source": [
    "a_0j = selfinteractions.a_0j_matrix(big_l, r, k, azimuthal = False)"
   ]
  },
  {
   "cell_type": "markdown",
   "id": "5d60e4fa-7ad8-4593-97a2-c24f73cf787c",
   "metadata": {
    "jp-MarkdownHeadingCollapsed": true
   },
   "source": [
    "#### Comparing with the matrix version"
   ]
  },
  {
   "cell_type": "markdown",
   "id": "9b8c312b",
   "metadata": {},
   "source": [
    "Definition of parameters:"
   ]
  },
  {
   "cell_type": "code",
   "execution_count": 63,
   "id": "c66275f1-354d-4ba3-b9a8-b9eff5cdd0ca",
   "metadata": {},
   "outputs": [],
   "source": [
    "big_l = 10\n",
    "r = 0.3\n",
    "k = 1.3\n",
    "tole = 10.**-10"
   ]
  },
  {
   "cell_type": "markdown",
   "id": "98531456",
   "metadata": {},
   "source": [
    "Initialization of a random vector as right hand side:"
   ]
  },
  {
   "cell_type": "code",
   "execution_count": 64,
   "id": "f64c9aca-ee81-4551-808f-83471b3ddb04",
   "metadata": {},
   "outputs": [],
   "source": [
    "num = big_l + 1\n",
    "b = np.random.random((2 * num)) + 1j * np.random.random((2 * num))"
   ]
  },
  {
   "cell_type": "markdown",
   "id": "e4a6d3d5",
   "metadata": {},
   "source": [
    "Calling of the functions to be compared"
   ]
  },
  {
   "cell_type": "code",
   "execution_count": 65,
   "id": "50fe964e-7462-4604-8af0-8f436d02f97f",
   "metadata": {},
   "outputs": [],
   "source": [
    "linear_operator = selfinteractions.a_j_linear_operator(big_l, r, k) # azimuthal = True\n",
    "matrix = selfinteractions.a_j_matrix(big_l, r, k) # azimuthal = True"
   ]
  },
  {
   "cell_type": "markdown",
   "id": "5cdee700",
   "metadata": {},
   "source": [
    "Solving of the iterative system:"
   ]
  },
  {
   "cell_type": "code",
   "execution_count": 66,
   "id": "45330a0d-23fe-4109-935e-5cded160833e",
   "metadata": {},
   "outputs": [
    {
     "name": "stdout",
     "output_type": "stream",
     "text": [
      "0\n"
     ]
    }
   ],
   "source": [
    "norms = []\n",
    "    \n",
    "def callback_function(pr_norm):\n",
    "    norms.append(pr_norm)\n",
    "    return 0.\n",
    "\n",
    "solution, info = sparse.linalg.gmres(\n",
    "    linear_operator, b,\n",
    "    tol=tole,\n",
    "    restart=(2 * num)**3,\n",
    "    callback=callback_function,\n",
    "    callback_type='pr_norm')\n",
    "print(info)"
   ]
  },
  {
   "cell_type": "markdown",
   "id": "65e65e76",
   "metadata": {},
   "source": [
    "Solving of the direct system:"
   ]
  },
  {
   "cell_type": "code",
   "execution_count": 67,
   "id": "c33504c5-b9cf-41a1-a357-1ebdbaa652e8",
   "metadata": {},
   "outputs": [],
   "source": [
    "solution2 = np.linalg.solve(matrix, b)"
   ]
  },
  {
   "cell_type": "markdown",
   "id": "1ac8c715",
   "metadata": {},
   "source": [
    "Difference between solutions:"
   ]
  },
  {
   "cell_type": "code",
   "execution_count": 68,
   "id": "8e3f3207-ef89-44eb-848b-3ee3c3b72455",
   "metadata": {},
   "outputs": [
    {
     "name": "stdout",
     "output_type": "stream",
     "text": [
      "7.48327595654713e-10\n"
     ]
    }
   ],
   "source": [
    "print(np.linalg.norm(solution2 - solution))"
   ]
  },
  {
   "cell_type": "markdown",
   "id": "ebfff067-554a-4281-a2be-2c523895cbbc",
   "metadata": {},
   "source": [
    "Which means that solving the numpy array from `a_0j_matrix` and the linear operator from `a_0j_linear_operator` can be used to solve the same linear system."
   ]
  },
  {
   "cell_type": "markdown",
   "id": "67da43de-5616-4b60-9ad8-448b6b53f137",
   "metadata": {},
   "source": [
    "Let us see what happens with `azimuthal=False`."
   ]
  },
  {
   "cell_type": "markdown",
   "id": "e679cb20",
   "metadata": {},
   "source": [
    "Definition of parameters:"
   ]
  },
  {
   "cell_type": "code",
   "execution_count": 69,
   "id": "4e469b0b-a611-4aeb-aa06-f459b9b2a732",
   "metadata": {},
   "outputs": [],
   "source": [
    "big_l = 10\n",
    "r = 0.3\n",
    "k = 1.3\n",
    "tole = 10.**-5"
   ]
  },
  {
   "cell_type": "markdown",
   "id": "9093ed34",
   "metadata": {},
   "source": [
    "Initialization of a random vector as right hand side:"
   ]
  },
  {
   "cell_type": "code",
   "execution_count": 70,
   "id": "c23fd576-2fdb-4503-b500-5e9cb54eda58",
   "metadata": {},
   "outputs": [],
   "source": [
    "num = (big_l + 1)**2\n",
    "b = np.random.random((2 * num)) + 1j * np.random.random((2 * num))"
   ]
  },
  {
   "cell_type": "markdown",
   "id": "e7093053",
   "metadata": {},
   "source": [
    "Calling of the functions to be compared"
   ]
  },
  {
   "cell_type": "code",
   "execution_count": 71,
   "id": "6905d201-8b4c-482b-be41-47f3e06b5e8c",
   "metadata": {},
   "outputs": [],
   "source": [
    "linear_operator = selfinteractions.a_j_linear_operator(big_l, r, k, False)\n",
    "matrix = selfinteractions.a_j_matrix(big_l, r, k, False)"
   ]
  },
  {
   "cell_type": "markdown",
   "id": "e52664fc",
   "metadata": {},
   "source": [
    "Solving of the iterative system:"
   ]
  },
  {
   "cell_type": "code",
   "execution_count": 72,
   "id": "11480570-c1eb-448c-9d90-a998b5bb899f",
   "metadata": {},
   "outputs": [
    {
     "name": "stdout",
     "output_type": "stream",
     "text": [
      "0\n"
     ]
    }
   ],
   "source": [
    "norms = []\n",
    "    \n",
    "def callback_function(pr_norm):\n",
    "    norms.append(pr_norm)\n",
    "    return 0.\n",
    "\n",
    "solution, info = sparse.linalg.gmres(\n",
    "    linear_operator, b,\n",
    "    tol=tole,\n",
    "    restart=(2 * num)**3,\n",
    "    callback=callback_function,\n",
    "    callback_type='pr_norm')\n",
    "print(info)"
   ]
  },
  {
   "cell_type": "markdown",
   "id": "22f027b7",
   "metadata": {},
   "source": [
    "Solving of the direct system:"
   ]
  },
  {
   "cell_type": "code",
   "execution_count": 73,
   "id": "cde1d9c4-da70-4e8b-894a-95fe86c090df",
   "metadata": {},
   "outputs": [],
   "source": [
    "solution2 = np.linalg.solve(matrix, b)"
   ]
  },
  {
   "cell_type": "markdown",
   "id": "562034cd",
   "metadata": {},
   "source": [
    "Difference between solutions:"
   ]
  },
  {
   "cell_type": "code",
   "execution_count": 74,
   "id": "271af7b2-6540-4d9d-8050-ebc0422865a4",
   "metadata": {},
   "outputs": [
    {
     "name": "stdout",
     "output_type": "stream",
     "text": [
      "6.794942266487363e-12\n"
     ]
    }
   ],
   "source": [
    "print(np.linalg.norm(solution2 - solution))"
   ]
  },
  {
   "cell_type": "markdown",
   "id": "2121ff69-c493-4bd4-a9e0-9adbcb115ee4",
   "metadata": {
    "jp-MarkdownHeadingCollapsed": true
   },
   "source": [
    "#### Comparing the azimuthal version against the no azimuthal"
   ]
  },
  {
   "cell_type": "markdown",
   "id": "e0373a8e-7733-4fc3-8ba3-9053869c8681",
   "metadata": {},
   "source": [
    "For a right hand with azimuthal symmetry when extended by 0 to  explicitly compute the result without considering the symmetry, the result should be the same with the azimuthal and the not azimuth versions."
   ]
  },
  {
   "cell_type": "markdown",
   "id": "7ec72164",
   "metadata": {},
   "source": [
    "Definition of parameters:"
   ]
  },
  {
   "cell_type": "code",
   "execution_count": 75,
   "id": "37cf4c30-b35c-4756-8d0e-4e4ecbc7ee49",
   "metadata": {},
   "outputs": [],
   "source": [
    "big_l = 10\n",
    "r = 1.3\n",
    "k = 2\n",
    "tole = 10.**-7"
   ]
  },
  {
   "cell_type": "markdown",
   "id": "ff6713f9",
   "metadata": {},
   "source": [
    "Initialization of a random vector as right hand side, and its extension by zero:"
   ]
  },
  {
   "cell_type": "code",
   "execution_count": 76,
   "id": "865f0420-2fe4-49db-be9d-2971315f5965",
   "metadata": {},
   "outputs": [],
   "source": [
    "import biosspheres.miscella.extensions as righthandsextensions\n",
    "num = big_l + 1\n",
    "b = np.random.random((2 * num)) + 1j * np.random.random((2 * num))\n",
    "b_2_1 = righthandsextensions.azimuthal_trace_to_general_with_zeros(\n",
    "    big_l, b[0:num])\n",
    "b_2_2 = righthandsextensions.azimuthal_trace_to_general_with_zeros(\n",
    "    big_l, b[num:2 * num])\n",
    "b2 = np.concatenate((b_2_1, b_2_2))"
   ]
  },
  {
   "cell_type": "markdown",
   "id": "358171ed",
   "metadata": {},
   "source": [
    "Calling of the function with `azimuthal=False`:"
   ]
  },
  {
   "cell_type": "code",
   "execution_count": 77,
   "id": "e45257b3-d73d-4236-80e4-85d6b1ba1bcc",
   "metadata": {},
   "outputs": [],
   "source": [
    "linear_operator = selfinteractions.a_j_linear_operator(big_l, r, k, False)"
   ]
  },
  {
   "cell_type": "markdown",
   "id": "0b6f9886",
   "metadata": {},
   "source": [
    "Solving of the iterative system:"
   ]
  },
  {
   "cell_type": "code",
   "execution_count": 78,
   "id": "31d90403-c719-4c94-9ae0-b1eabc0e75df",
   "metadata": {},
   "outputs": [
    {
     "name": "stdout",
     "output_type": "stream",
     "text": [
      "0\n"
     ]
    }
   ],
   "source": [
    "num = (big_l + 1)**2\n",
    "\n",
    "norms = []\n",
    "    \n",
    "def callback_function(pr_norm):\n",
    "    norms.append(pr_norm)\n",
    "    return 0.\n",
    "\n",
    "solution, info = sparse.linalg.gmres(\n",
    "    linear_operator, b2,\n",
    "    tol=tole,\n",
    "    restart=(2 * num)**2,\n",
    "    callback=callback_function,\n",
    "    callback_type='pr_norm')\n",
    "print(info)"
   ]
  },
  {
   "cell_type": "markdown",
   "id": "c0697c38",
   "metadata": {},
   "source": [
    "Calling of the function with `azimuthal=True`:"
   ]
  },
  {
   "cell_type": "code",
   "execution_count": 79,
   "id": "3a67e6c1-6469-4aa1-b406-b37a1de7761d",
   "metadata": {},
   "outputs": [],
   "source": [
    "linear_operator = selfinteractions.a_j_linear_operator(big_l, r, k) # azimuthal = True"
   ]
  },
  {
   "cell_type": "markdown",
   "id": "a1468c58",
   "metadata": {},
   "source": [
    "Solving of the iterative system:"
   ]
  },
  {
   "cell_type": "code",
   "execution_count": 80,
   "id": "aa5bcbc9-adea-4dd0-8b1c-339b31018e5c",
   "metadata": {},
   "outputs": [
    {
     "name": "stdout",
     "output_type": "stream",
     "text": [
      "0\n"
     ]
    }
   ],
   "source": [
    "num = big_l + 1\n",
    "\n",
    "norms = []\n",
    "    \n",
    "def callback_function(pr_norm):\n",
    "    norms.append(pr_norm)\n",
    "    return 0.\n",
    "\n",
    "solution2, info = sparse.linalg.gmres(\n",
    "    linear_operator, b,\n",
    "    tol=tole,\n",
    "    restart=(2 * num)**2,\n",
    "    callback=callback_function,\n",
    "    callback_type='pr_norm')\n",
    "print(info)"
   ]
  },
  {
   "cell_type": "markdown",
   "id": "bfdab748",
   "metadata": {},
   "source": [
    "Comparison of the solutions:"
   ]
  },
  {
   "cell_type": "code",
   "execution_count": 81,
   "id": "36613b02-8624-4318-8d89-d93fc32a5dfc",
   "metadata": {},
   "outputs": [],
   "source": [
    "solution2_1 = \\\n",
    "    righthandsextensions.azimuthal_trace_to_general_with_zeros(\n",
    "        big_l, solution2[0:num])\n",
    "solution2_2 = \\\n",
    "    righthandsextensions.azimuthal_trace_to_general_with_zeros(\n",
    "        big_l, solution2[num:2 * num])\n",
    "solution2 = np.concatenate((solution2_1, solution2_2))"
   ]
  },
  {
   "cell_type": "code",
   "execution_count": 82,
   "id": "952f7a25-25df-466e-bfdb-f23149267aa1",
   "metadata": {},
   "outputs": [
    {
     "name": "stdout",
     "output_type": "stream",
     "text": [
      "7.977948490432711e-10\n"
     ]
    }
   ],
   "source": [
    "print(np.linalg.norm(solution2 - solution))"
   ]
  },
  {
   "cell_type": "markdown",
   "id": "a7d66d08-aad8-47d4-89ae-4088e4f85064",
   "metadata": {
    "jp-MarkdownHeadingCollapsed": true
   },
   "source": [
    "## `a_0_a_n_sparse_matrices`"
   ]
  },
  {
   "cell_type": "markdown",
   "id": "ff03cfc0-b8bf-4049-b4b2-c0801bcc9cfb",
   "metadata": {
    "jp-MarkdownHeadingCollapsed": true
   },
   "source": [
    "### Example"
   ]
  },
  {
   "cell_type": "markdown",
   "id": "538f9769",
   "metadata": {},
   "source": [
    "Definition of parameters:"
   ]
  },
  {
   "cell_type": "code",
   "execution_count": 83,
   "id": "ba48cd01-614a-4c7d-bddb-2d6ce2a0ad1d",
   "metadata": {},
   "outputs": [],
   "source": [
    "n = 2\n",
    "big_l = 5\n",
    "r = 1.3\n",
    "radii = np.ones(n) * r\n",
    "kii = np.ones(n+1)\n",
    "k = 7.\n",
    "kii[0] = k"
   ]
  },
  {
   "cell_type": "markdown",
   "id": "2de22335",
   "metadata": {},
   "source": [
    "Calling of the function with `azimuthal = True`:"
   ]
  },
  {
   "cell_type": "code",
   "execution_count": 84,
   "id": "b0096a62-fe6f-4920-a3d4-a18caeeeec50",
   "metadata": {},
   "outputs": [],
   "source": [
    "sparse_big_a_0_self, sparse_big_a_n = selfinteractions.a_0_a_n_sparse_matrices(n, big_l, radii, kii) # azimuthal = False"
   ]
  },
  {
   "cell_type": "markdown",
   "id": "2ce67f2c",
   "metadata": {},
   "source": [
    "Calling of the function with `azimuthal = False`:"
   ]
  },
  {
   "cell_type": "code",
   "execution_count": 85,
   "id": "dc2f52e3-dc70-48e8-9cff-05d7bde9b873",
   "metadata": {},
   "outputs": [],
   "source": [
    "sparse_big_a_0_self, sparse_big_a_n = selfinteractions.a_0_a_n_sparse_matrices(n, big_l, radii, kii, azimuthal = True)"
   ]
  },
  {
   "cell_type": "markdown",
   "id": "2233611c-8cc1-4408-acf7-18b125fb99da",
   "metadata": {
    "jp-MarkdownHeadingCollapsed": true
   },
   "source": [
    "## `reduced_a_sparse_matrix`"
   ]
  },
  {
   "cell_type": "markdown",
   "id": "f23a7271-0cbb-4d7e-b7bf-7133e152d3a2",
   "metadata": {
    "jp-MarkdownHeadingCollapsed": true
   },
   "source": [
    "### Example "
   ]
  },
  {
   "cell_type": "markdown",
   "id": "f7e20c3d",
   "metadata": {},
   "source": [
    "Definition of parameters:"
   ]
  },
  {
   "cell_type": "code",
   "execution_count": 86,
   "id": "5088eab3-38f8-41d0-8296-852c5e9b1abc",
   "metadata": {},
   "outputs": [],
   "source": [
    "n = 2\n",
    "big_l = 5\n",
    "r = 1.3\n",
    "radii = np.ones(n) * r\n",
    "kii = np.ones(n+1)\n",
    "k = 7.\n",
    "kii[0] = k\n",
    "pi0 = 0.5\n",
    "pii = np.ones(n) * pi0"
   ]
  },
  {
   "cell_type": "markdown",
   "id": "4f2244c5",
   "metadata": {},
   "source": [
    "Calling of the function with `azimuthal = True`:"
   ]
  },
  {
   "cell_type": "code",
   "execution_count": 87,
   "id": "89bb4390-56f7-4f87-be71-6bcfb01567a8",
   "metadata": {},
   "outputs": [],
   "source": [
    "reduced_a = selfinteractions.reduced_a_sparse_matrix(n, big_l, radii, kii, pii) # azimuthal = False"
   ]
  },
  {
   "cell_type": "markdown",
   "id": "18b305b5",
   "metadata": {},
   "source": [
    "Calling of the function with `azimuthal = False`:"
   ]
  },
  {
   "cell_type": "code",
   "execution_count": 88,
   "id": "e6a9ccbe-261e-4791-ae58-7c7dd6facf6b",
   "metadata": {},
   "outputs": [],
   "source": [
    "reduced_a = selfinteractions.reduced_a_sparse_matrix(n, big_l, radii, kii, pii, azimuthal=True)"
   ]
  },
  {
   "cell_type": "code",
   "execution_count": null,
   "id": "ac2f026b-d420-42af-b3af-79ade7699ccf",
   "metadata": {},
   "outputs": [],
   "source": []
  }
 ],
 "metadata": {
  "kernelspec": {
   "display_name": "Python 3 (ipykernel)",
   "language": "python",
   "name": "python3"
  },
  "language_info": {
   "codemirror_mode": {
    "name": "ipython",
    "version": 3
   },
   "file_extension": ".py",
   "mimetype": "text/x-python",
   "name": "python",
   "nbconvert_exporter": "python",
   "pygments_lexer": "ipython3",
   "version": "3.9.18"
  }
 },
 "nbformat": 4,
 "nbformat_minor": 5
}
